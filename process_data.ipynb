{
 "cells": [
  {
   "cell_type": "code",
   "execution_count": 4,
   "id": "initial_id",
   "metadata": {
    "collapsed": true,
    "ExecuteTime": {
     "end_time": "2024-03-12T16:11:00.469006Z",
     "start_time": "2024-03-12T16:10:59.716029Z"
    }
   },
   "outputs": [],
   "source": [
    "import pandas as pd\n",
    "import ijson\n",
    "import json\n",
    "import os"
   ]
  },
  {
   "cell_type": "markdown",
   "source": [
    "Trying to extract sample out of 28 GB JSON file by parsing with ijson.\n",
    "\n",
    "JSON structure:\n",
    "\n",
    "{\"articles\": [\n",
    "\t{\"abstractText\":\"text..\", \"journal\":\"journal..\", \"meshMajor\":[\"mesh1\",...,\"meshN\"], \"pmid\":\"PMID\", \"title\":\"title..\", \"year\":\"YYYY\"},\n",
    "\t..., \n",
    "\t{..}\n",
    "]}"
   ],
   "metadata": {
    "collapsed": false
   },
   "id": "b3325ce7361c256b"
  },
  {
   "cell_type": "markdown",
   "source": [
    "Wegen ***IncompleteJSONError*** muss File umcodiert werden. Die Funktion liest die Datei in Chunks und versucht, jeden Chunk als UTF-8 zu dekodieren. Ungültige Byte-Sequenzen werden durch das Unicode-Ersatzzeichen ersetzt."
   ],
   "metadata": {
    "collapsed": false
   },
   "id": "4a2150f6c35893e9"
  },
  {
   "cell_type": "code",
   "outputs": [
    {
     "name": "stdout",
     "output_type": "stream",
     "text": [
      "Fortschritt: 100.00%\n",
      "Bereinigung abgeschlossen.\n"
     ]
    }
   ],
   "source": [
    "filename = \"data/allMeSH_2022/allMeSH_2022.json\"\n",
    "\n",
    "def clean_json_file(input_filename, output_filename):\n",
    "    total_size = os.path.getsize(input_filename)\n",
    "    processed_size = 0\n",
    "\n",
    "    with open(input_filename, 'rb') as input_file, open(output_filename, 'wb') as output_file:\n",
    "        while True:\n",
    "            chunk = input_file.read(1024 * 1024)  # Lese die Datei in 1MB Chunks\n",
    "            if not chunk:\n",
    "                break  # Beende, wenn das Ende der Datei erreicht ist\n",
    "\n",
    "            clean_chunk = chunk.decode('utf-8', errors='replace').encode('utf-8')\n",
    "            output_file.write(clean_chunk)\n",
    "\n",
    "            processed_size += len(chunk)\n",
    "            progress = (processed_size / total_size) * 100\n",
    "            print(f\"\\rFortschritt: {progress:.2f}%\", end='')\n",
    "\n",
    "    print(\"\\nBereinigung abgeschlossen.\")\n",
    "\n",
    "clean_json_file(filename, 'bereinigte_datei.json')"
   ],
   "metadata": {
    "collapsed": false,
    "ExecuteTime": {
     "end_time": "2024-03-11T18:59:08.385320Z",
     "start_time": "2024-03-11T18:58:05.781552Z"
    }
   },
   "id": "5d2b6d197ddb7924",
   "execution_count": 11
  },
  {
   "cell_type": "markdown",
   "source": [
    "Extrahieren eines Sample-Chunks aus der 28 GB JSON Datei"
   ],
   "metadata": {
    "collapsed": false
   },
   "id": "f4031e6e1799e946"
  },
  {
   "cell_type": "code",
   "outputs": [
    {
     "name": "stdout",
     "output_type": "stream",
     "text": [
      "1000 Artikel wurden in '10k_sample_article.json' gespeichert.\n"
     ]
    }
   ],
   "source": [
    "filename = \"data/bereinigte_datei.json\"\n",
    "articles = []\n",
    "max_articles = 1000\n",
    "\n",
    "with open(filename, 'rb') as input_file:\n",
    "    # Hier passen wir den Pfad an, um die Artikel direkt zu erreichen\n",
    "    parser = ijson.items(input_file, 'articles.item')\n",
    "    for article in parser:\n",
    "        articles.append(article)\n",
    "        if len(articles) >= max_articles:\n",
    "            break\n",
    "\n",
    "# speichern des samples\n",
    "\n",
    "# Speichere die extrahierten Artikel in einer neuen JSON-Datei\n",
    "with open('data/10k_sample_article.json', 'w', encoding='utf-8') as output_file:\n",
    "    json.dump(articles, output_file, ensure_ascii=False, indent=4)\n",
    "    \n",
    "print(f\"{len(articles)} Artikel wurden in '10k_sample_article.json' gespeichert.\")"
   ],
   "metadata": {
    "collapsed": false,
    "ExecuteTime": {
     "end_time": "2024-03-11T19:21:39.652358Z",
     "start_time": "2024-03-11T19:21:39.593974Z"
    }
   },
   "id": "23773d2f0967949f",
   "execution_count": 24
  },
  {
   "cell_type": "code",
   "outputs": [
    {
     "data": {
      "text/plain": "{'journal': 'Biosensors',\n 'meshMajor': ['Cell Separation',\n  'Lab-On-A-Chip Devices',\n  'Leukocytes',\n  'Microfluidic Analytical Techniques',\n  'Microfluidics'],\n 'year': '2021',\n 'abstractText': 'Rapid isolation of white blood cells (WBCs) from whole blood is an essential part of any WBC examination platform. However, most conventional cell separation techniques are labor-intensive and low throughput, require large volumes of samples, need extensive cell manipulation, and have low purity. To address these challenges, we report the design and fabrication of a passive, label-free microfluidic device with a unique U-shaped cross-section to separate WBCs from whole blood using hydrodynamic forces that exist in a microchannel with curvilinear geometry. It is shown that the spiral microchannel with a U-shaped cross-section concentrates larger blood cells (e.g., WBCs) in the inner cross-section of the microchannel by moving smaller blood cells (e.g., RBCs and platelets) to the outer microchannel section and preventing them from returning to the inner microchannel section. Therefore, it overcomes the major limitation of a rectangular cross-section where secondary Dean vortices constantly enforce particles throughout the entire cross-section and decrease its isolation efficiency. Under optimal settings, we managed to isolate more than 95% of WBCs from whole blood under high-throughput (6 mL/min), high-purity (88%), and high-capacity (360 mL of sample in 1 h) conditions. High efficiency, fast processing time, and non-invasive WBC isolation from large blood samples without centrifugation, RBC lysis, cell biomarkers, and chemical pre-treatments make this method an ideal choice for downstream cell study platforms.',\n 'pmid': '34821622',\n 'title': 'High-Throughput, Label-Free Isolation of White Blood Cells from Whole Blood Using Parallel Spiral Microchannels with U-Shaped Cross-Section.'}"
     },
     "execution_count": 38,
     "metadata": {},
     "output_type": "execute_result"
    }
   ],
   "source": [
    "articles[1]"
   ],
   "metadata": {
    "collapsed": false,
    "ExecuteTime": {
     "end_time": "2024-03-11T19:46:19.713082Z",
     "start_time": "2024-03-11T19:46:19.705940Z"
    }
   },
   "id": "ffc8ccba9aa9d43c",
   "execution_count": 38
  },
  {
   "cell_type": "markdown",
   "source": [
    "#### MeSH\n",
    "\n",
    "Durch MeSH sollen Beziehungen bzw. Kanten im Graphen Modelliert werden.\n",
    "\n",
    "- MeSH (Medical Subject Headings) ist der NLM-kontrollierte Vokabelthesaurus, der zur Indexierung von Artikeln für PubMed verwendet wird.\n",
    "\n",
    "- Zusätzlich wären Citations von Papers als Kanten interessant. "
   ],
   "metadata": {
    "collapsed": false
   },
   "id": "68bab50d9b34c29"
  },
  {
   "cell_type": "markdown",
   "source": [
    "Überprüfung ob alle Artikel ein Attribut \"meshMajor\" mit mindestens 1 Eintrag haben."
   ],
   "metadata": {
    "collapsed": false
   },
   "id": "ed3cdc593ff9d948"
  },
  {
   "cell_type": "code",
   "outputs": [
    {
     "name": "stdout",
     "output_type": "stream",
     "text": [
      "Alle Artikel haben das 'meshMajor'-Attribut mit mindestens einem Eintrag.\n"
     ]
    }
   ],
   "source": [
    "# Datei laden, die die extrahierten Artikel enthält\n",
    "filename = 'data/10k_sample_article.json'\n",
    "\n",
    "with open(filename, 'r', encoding='utf-8') as file:\n",
    "    articles = json.load(file)\n",
    "\n",
    "# Überprüfe jedes Artikelobjekt auf das Vorhandensein und den Inhalt des \"meshMajor\"-Attributs\n",
    "missing_or_empty_meshMajor = [article for article in articles if not article.get('meshMajor')]\n",
    "\n",
    "# Ausgabe der Ergebnisse\n",
    "if missing_or_empty_meshMajor:\n",
    "    print(f\"{len(missing_or_empty_meshMajor)} von {len(articles)} Artikeln haben kein 'meshMajor'-Attribut oder es ist leer.\")\n",
    "else:\n",
    "    print(\"Alle Artikel haben das 'meshMajor'-Attribut mit mindestens einem Eintrag.\")"
   ],
   "metadata": {
    "collapsed": false,
    "ExecuteTime": {
     "end_time": "2024-03-11T19:16:22.668566Z",
     "start_time": "2024-03-11T19:16:22.637640Z"
    }
   },
   "id": "a9c3d68798b5a6d0",
   "execution_count": 20
  },
  {
   "cell_type": "markdown",
   "source": [
    "Zählen der Artikel, und jener die nicht älter als 2020 sind."
   ],
   "metadata": {
    "collapsed": false
   },
   "id": "5366d27d3951232c"
  },
  {
   "cell_type": "code",
   "outputs": [
    {
     "name": "stdout",
     "output_type": "stream",
     "text": [
      "Gesamtanzahl der Artikel: 16218838\n"
     ]
    }
   ],
   "source": [
    "filename = 'data/bereinigte_datei.json'\n",
    "\n",
    "total_count = 0\n",
    "\n",
    "with open(filename, 'rb') as file:\n",
    "    articles = ijson.items(file, 'articles.item')\n",
    "    for article in articles:\n",
    "        total_count += 1\n",
    "\n",
    "print(f\"Gesamtanzahl der Artikel: {total_count}\")"
   ],
   "metadata": {
    "collapsed": false,
    "ExecuteTime": {
     "end_time": "2024-03-12T07:48:43.951792Z",
     "start_time": "2024-03-12T07:46:14.220950Z"
    }
   },
   "id": "20e0fbe098fdcf52",
   "execution_count": 6
  },
  {
   "cell_type": "code",
   "outputs": [
    {
     "name": "stdout",
     "output_type": "stream",
     "text": [
      "Anzahl der Artikel, die nicht älter als 2020 sind: 862121\n"
     ]
    }
   ],
   "source": [
    "count = 0\n",
    "\n",
    "with open(filename, 'rb') as file:\n",
    "    articles = ijson.items(file, 'articles.item')\n",
    "    for article in articles:\n",
    "        if 'year' in article and article['year'] and int(article['year']) >= 2020:\n",
    "            count += 1\n",
    "\n",
    "print(f\"Anzahl der Artikel, die nicht älter als 2020 sind: {count}\")"
   ],
   "metadata": {
    "collapsed": false,
    "ExecuteTime": {
     "end_time": "2024-03-12T07:43:16.758461Z",
     "start_time": "2024-03-12T07:40:26.881229Z"
    }
   },
   "id": "e5a0bd51c91948e7",
   "execution_count": 5
  },
  {
   "cell_type": "code",
   "outputs": [
    {
     "name": "stdout",
     "output_type": "stream",
     "text": [
      "862121 Artikel wurden in 'data/article_2020.json' gespeichert.\n"
     ]
    }
   ],
   "source": [
    "filename = \"data/bereinigte_datei.json\"\n",
    "articles = []\n",
    "\n",
    "with open(filename, 'rb') as input_file:\n",
    "    parser = ijson.items(input_file, 'articles.item')\n",
    "    for article in parser:  # Iteriere über parser\n",
    "        if 'year' in article and article['year'] and int(article['year']) >= 2020:\n",
    "            articles.append(article)\n",
    "\n",
    "# Speichere die extrahierten Artikel in einer neuen JSON-Datei\n",
    "with open('data/article_2020.json', 'w', encoding='utf-8') as output_file:\n",
    "    json.dump(articles, output_file, ensure_ascii=False, indent=4)\n",
    "\n",
    "print(f\"{len(articles)} Artikel wurden in 'data/article_2020.json' gespeichert.\")"
   ],
   "metadata": {
    "collapsed": false,
    "ExecuteTime": {
     "end_time": "2024-03-12T12:17:38.564957Z",
     "start_time": "2024-03-12T12:15:13.229578Z"
    }
   },
   "id": "eb8abcea5d2a3971",
   "execution_count": 5
  },
  {
   "cell_type": "markdown",
   "source": [
    "Überprüfung, ob alle es Attribute gibt die keinen Wert enthalten, was zu Fehler beim Datenbankimport führt"
   ],
   "metadata": {
    "collapsed": false
   },
   "id": "3dd579d8acc8c25"
  },
  {
   "cell_type": "code",
   "outputs": [
    {
     "name": "stdout",
     "output_type": "stream",
     "text": [
      "18 Einträge fehlen im Attribut 'year'.\n",
      "Einige Artikel haben fehlende oder leere Attribute.\n"
     ]
    }
   ],
   "source": [
    "# Definiere die erwarteten Attribute jedes Artikels\n",
    "erwartete_attribute = [\"pmid\", \"title\", \"abstractText\", \"year\", \"journal\", \"meshMajor\"]\n",
    "\n",
    "# Lade die JSON-Datei\n",
    "filename = 'data/10k_sample_article.json'\n",
    "with open(filename, 'r', encoding='utf-8') as file:\n",
    "    articles = json.load(file)\n",
    "\n",
    "# Initialisiere ein Dictionary, um die fehlenden Einträge zu zählen\n",
    "fehlende_eintrage = {attribut: 0 for attribut in erwartete_attribute}\n",
    "\n",
    "# Überprüfe jedes Attribut in jedem Artikel\n",
    "for article in articles:\n",
    "    for attribut in erwartete_attribute:\n",
    "        if attribut not in article or not article[attribut]:\n",
    "            fehlende_eintrage[attribut] += 1\n",
    "\n",
    "# Gib die Anzahl der fehlenden Einträge für jedes Attribut aus\n",
    "for attribut, anzahl in fehlende_eintrage.items():\n",
    "    if anzahl > 0:\n",
    "        print(f\"{anzahl} Einträge fehlen im Attribut '{attribut}'.\")\n",
    "    else:\n",
    "        pass\n",
    "\n",
    "# Prüfe, ob überhaupt fehlende Einträge existieren\n",
    "if all(anzahl == 0 for anzahl in fehlende_eintrage.values()):\n",
    "    print(\"Alle Artikel haben alle erwarteten Attribute mit Einträgen.\")\n",
    "else:\n",
    "    print(\"Einige Artikel haben fehlende oder leere Attribute.\")\n"
   ],
   "metadata": {
    "collapsed": false,
    "ExecuteTime": {
     "end_time": "2024-03-11T19:37:35.883817Z",
     "start_time": "2024-03-11T19:37:35.854595Z"
    }
   },
   "id": "3396df3a1b060470",
   "execution_count": 35
  },
  {
   "cell_type": "markdown",
   "source": [
    "#### First Import in Neo4j"
   ],
   "metadata": {
    "collapsed": false
   },
   "id": "d324fc8bd997fbc0"
  },
  {
   "cell_type": "code",
   "outputs": [],
   "source": [
    "from neo4j import GraphDatabase"
   ],
   "metadata": {
    "collapsed": false,
    "ExecuteTime": {
     "end_time": "2024-03-11T19:20:05.153018Z",
     "start_time": "2024-03-11T19:20:04.946826Z"
    }
   },
   "id": "524c6fcfa9f8fe9f",
   "execution_count": 22
  },
  {
   "cell_type": "code",
   "outputs": [],
   "source": [
    "uri = \"bolt://localhost:7687\" \n",
    "user = \"graph1\" \n",
    "password = \"pubmedgraph\" \n",
    "\n",
    "driver = GraphDatabase.driver(uri, auth=(user, password))"
   ],
   "metadata": {
    "collapsed": false,
    "ExecuteTime": {
     "end_time": "2024-03-11T19:20:49.203371Z",
     "start_time": "2024-03-11T19:20:49.199269Z"
    }
   },
   "id": "21071fb34f2bbee6",
   "execution_count": 23
  },
  {
   "cell_type": "code",
   "outputs": [
    {
     "name": "stdout",
     "output_type": "stream",
     "text": [
      "Warnung: Artikel 34818923 hat kein Jahr. Überspringe 'year'.\n",
      "Warnung: Artikel 34786969 hat kein Jahr. Überspringe 'year'.\n",
      "Warnung: Artikel 34785528 hat kein Jahr. Überspringe 'year'.\n",
      "Warnung: Artikel 34785529 hat kein Jahr. Überspringe 'year'.\n",
      "Warnung: Artikel 34785531 hat kein Jahr. Überspringe 'year'.\n",
      "Warnung: Artikel 34777382 hat kein Jahr. Überspringe 'year'.\n",
      "Warnung: Artikel 34761633 hat kein Jahr. Überspringe 'year'.\n",
      "Warnung: Artikel 34759044 hat kein Jahr. Überspringe 'year'.\n",
      "Warnung: Artikel 34759045 hat kein Jahr. Überspringe 'year'.\n",
      "Warnung: Artikel 34759046 hat kein Jahr. Überspringe 'year'.\n",
      "Warnung: Artikel 34759047 hat kein Jahr. Überspringe 'year'.\n",
      "Warnung: Artikel 34757857 hat kein Jahr. Überspringe 'year'.\n",
      "Warnung: Artikel 34755562 hat kein Jahr. Überspringe 'year'.\n",
      "Warnung: Artikel 34728520 hat kein Jahr. Überspringe 'year'.\n",
      "Warnung: Artikel 34728522 hat kein Jahr. Überspringe 'year'.\n",
      "Warnung: Artikel 34728523 hat kein Jahr. Überspringe 'year'.\n",
      "Warnung: Artikel 34728524 hat kein Jahr. Überspringe 'year'.\n",
      "Warnung: Artikel 34726974 hat kein Jahr. Überspringe 'year'.\n"
     ]
    }
   ],
   "source": [
    "def import_data(driver, articles):\n",
    "    with driver.session() as session:\n",
    "        for article in articles:\n",
    "            # Prüfe, ob 'year' null ist und ersetze es ggf. durch einen Standardwert oder lasse es weg\n",
    "            if article['year'] is None:\n",
    "                print(f\"Warnung: Artikel {article['pmid']} hat kein Jahr. Überspringe 'year'.\")\n",
    "                year_to_insert = \"Unknown\"  # Oder wähle einen anderen passenden Standardwert\n",
    "            else:\n",
    "                year_to_insert = article['year']\n",
    "            \n",
    "            # Erstelle einen Knoten für den Artikel, wobei 'year' ggf. durch einen Standardwert ersetzt wird\n",
    "            session.run(\"MERGE (a:Article {pmid: $pmid, title: $title, abstractText: $abstractText, year: $year, journal: $journal})\", \n",
    "                        pmid=article['pmid'], title=article['title'], abstractText=article['abstractText'], year=year_to_insert, journal=article['journal'])\n",
    "            \n",
    "            # Erstelle Knoten für MeSH-Begriffe und Kanten zu Artikeln\n",
    "            for mesh in article.get('meshMajor', []):  # Verwende get, um einen leeren Standardwert zu liefern, falls 'meshMajor' nicht existiert\n",
    "                session.run(\"MERGE (m:MeSH {term: $term}) MERGE (a:Article {pmid: $pmid}) MERGE (a)-[:TAGGED_WITH]->(m)\", term=mesh, pmid=article['pmid'])\n",
    "\n",
    "\n",
    "# Lese die JSON-Daten ein\n",
    "with open('data/10k_sample_article.json', 'r', encoding='utf-8') as file:\n",
    "    articles = json.load(file)\n",
    "\n",
    "# Importiere die Daten in Neo4j\n",
    "import_data(driver, articles)\n",
    "\n",
    "driver.close()"
   ],
   "metadata": {
    "collapsed": false,
    "ExecuteTime": {
     "end_time": "2024-03-11T19:39:13.609203Z",
     "start_time": "2024-03-11T19:38:23.768536Z"
    }
   },
   "id": "22aec4d1bd3370f7",
   "execution_count": 36
  },
  {
   "cell_type": "code",
   "outputs": [
    {
     "name": "stdout",
     "output_type": "stream",
     "text": [
      "A novel candidate for treating COVID-19 via heme oxygenase-1 induction is heme arginate. This compound has shown potential in studies for inducing heme oxygenase-1, which is believed to have a protective effect against lung injury and inflammation in COVID-19 patients. Heme arginate has been proposed as a therapy to mitigate the severe respiratory symptoms associated with COVID-19 by targeting the heme oxygenase-1 pathway.\n"
     ]
    }
   ],
   "source": [
    "from code.chat import Chat\n",
    "\n",
    "chat = Chat()\n",
    "user_message = \"what is as a novel candidate for treating COVID-19 via heme oxygenase-1 induction.\"\n",
    "response = chat.create_chat(user_message)\n",
    "print(response)"
   ],
   "metadata": {
    "collapsed": false,
    "ExecuteTime": {
     "end_time": "2024-03-12T16:02:52.575240Z",
     "start_time": "2024-03-12T16:02:49.111640Z"
    }
   },
   "id": "8b0f8f7ef3211fcc",
   "execution_count": 2
  },
  {
   "cell_type": "code",
   "outputs": [],
   "source": [
    "filename = 'data/BioASQ-training11b/training11b.json'\n",
    "qas = []\n",
    "max_articles = 10\n",
    "\n",
    "with open(filename, 'rb') as input_file:\n",
    "    # Hier passen wir den Pfad an, um die Artikel direkt zu erreichen\n",
    "    parser = ijson.items(input_file, 'questions.item')\n",
    "    for article in parser:\n",
    "        qas.append(article)\n",
    "        if len(qas) >= max_articles:\n",
    "            break"
   ],
   "metadata": {
    "collapsed": false,
    "ExecuteTime": {
     "end_time": "2024-03-12T16:14:34.867761Z",
     "start_time": "2024-03-12T16:14:34.861438Z"
    }
   },
   "id": "602ff27e7483f992",
   "execution_count": 9
  },
  {
   "cell_type": "code",
   "outputs": [
    {
     "data": {
      "text/plain": "{'body': 'Is Hirschsprung disease a mendelian or a multifactorial disorder?',\n 'documents': ['http://www.ncbi.nlm.nih.gov/pubmed/15858239',\n  'http://www.ncbi.nlm.nih.gov/pubmed/15829955',\n  'http://www.ncbi.nlm.nih.gov/pubmed/6650562',\n  'http://www.ncbi.nlm.nih.gov/pubmed/12239580',\n  'http://www.ncbi.nlm.nih.gov/pubmed/21995290',\n  'http://www.ncbi.nlm.nih.gov/pubmed/23001136',\n  'http://www.ncbi.nlm.nih.gov/pubmed/15617541',\n  'http://www.ncbi.nlm.nih.gov/pubmed/8896569',\n  'http://www.ncbi.nlm.nih.gov/pubmed/20598273'],\n 'ideal_answer': [\"Coding sequence mutations in RET, GDNF, EDNRB, EDN3, and SOX10 are involved in the development of Hirschsprung disease. The majority of these genes was shown to be related to Mendelian syndromic forms of Hirschsprung's disease, whereas the non-Mendelian inheritance of sporadic non-syndromic Hirschsprung disease proved to be complex; involvement of multiple loci was demonstrated in a multiplicative model.\"],\n 'concepts': ['http://www.disease-ontology.org/api/metadata/DOID:10487',\n  'http://www.nlm.nih.gov/cgi/mesh/2015/MB_cgi?field=uid&exact=Find+Exact+Term&term=D006627',\n  'http://www.nlm.nih.gov/cgi/mesh/2015/MB_cgi?field=uid&exact=Find+Exact+Term&term=D020412',\n  'http://www.disease-ontology.org/api/metadata/DOID:11372'],\n 'type': 'summary',\n 'id': '55031181e9bde69634000014',\n 'snippets': [{'offsetInBeginSection': 131,\n   'offsetInEndSection': 358,\n   'text': 'Hirschsprung disease (HSCR) is a multifactorial, non-mendelian disorder in which rare high-penetrance coding sequence mutations in the receptor tyrosine kinase RET contribute to risk in combination with mutations at other genes',\n   'beginSection': 'abstract',\n   'document': 'http://www.ncbi.nlm.nih.gov/pubmed/15829955',\n   'endSection': 'abstract'},\n  {'offsetInBeginSection': 554,\n   'offsetInEndSection': 992,\n   'text': \"In this study, we review the identification of genes and loci involved in the non-syndromic common form and syndromic Mendelian forms of Hirschsprung's disease. The majority of the identified genes are related to Mendelian syndromic forms of Hirschsprung's disease. The non-Mendelian inheritance of sporadic non-syndromic Hirschsprung's disease proved to be complex; involvement of multiple loci was demonstrated in a multiplicative model\",\n   'beginSection': 'abstract',\n   'document': 'http://www.ncbi.nlm.nih.gov/pubmed/15617541',\n   'endSection': 'abstract'},\n  {'offsetInBeginSection': 397,\n   'offsetInEndSection': 939,\n   'text': 'Coding sequence mutations in e.g. RET, GDNF, EDNRB, EDN3, and SOX10 lead to long-segment (L-HSCR) as well as syndromic HSCR but fail to explain the transmission of the much more common short-segment form (S-HSCR). Furthermore, mutations in the RET gene are responsible for approximately half of the familial and some sporadic cases, strongly suggesting, on the one hand, the importance of non-coding variations and, on the other hand, that additional genes involved in the development of the enteric nervous system still await their discovery',\n   'beginSection': 'abstract',\n   'document': 'http://www.ncbi.nlm.nih.gov/pubmed/12239580',\n   'endSection': 'abstract'},\n  {'offsetInBeginSection': 941,\n   'offsetInEndSection': 1279,\n   'text': 'For almost all of the identified HSCR genes incomplete penetrance of the HSCR phenotype has been reported, probably due to modifier loci. Therefore, HSCR has become a model for a complex oligo-/polygenic disorder in which the relationship between different genes creating a non-mendelian inheritance pattern still remains to be elucidated',\n   'beginSection': 'abstract',\n   'document': 'http://www.ncbi.nlm.nih.gov/pubmed/12239580',\n   'endSection': 'abstract'},\n  {'offsetInBeginSection': 129,\n   'offsetInEndSection': 358,\n   'text': ' Hirschsprung disease (HSCR) is a multifactorial, non-mendelian disorder in which rare high-penetrance coding sequence mutations in the receptor tyrosine kinase RET contribute to risk in combination with mutations at other genes.',\n   'beginSection': 'abstract',\n   'document': 'http://www.ncbi.nlm.nih.gov/pubmed/15829955',\n   'endSection': 'abstract'},\n  {'offsetInBeginSection': 851,\n   'offsetInEndSection': 1007,\n   'text': ' The inheritance of Hirschsprung disease is generally consistent with sex-modified multifactorial inheritance with a lower threshold of expression in males.',\n   'beginSection': 'abstract',\n   'document': 'http://www.ncbi.nlm.nih.gov/pubmed/6650562',\n   'endSection': 'abstract'},\n  {'offsetInBeginSection': 131,\n   'offsetInEndSection': 359,\n   'text': 'Hirschsprung disease (HSCR) is a multifactorial, non-mendelian disorder in which rare high-penetrance coding sequence mutations in the receptor tyrosine kinase RET contribute to risk in combination with mutations at other genes.',\n   'beginSection': 'abstract',\n   'document': 'http://www.ncbi.nlm.nih.gov/pubmed/15829955',\n   'endSection': 'abstract'},\n  {'offsetInBeginSection': 0,\n   'offsetInEndSection': 131,\n   'text': 'Differential contributions of rare and common, coding and noncoding Ret mutations to multifactorial Hirschsprung disease liability.',\n   'beginSection': 'title',\n   'document': 'http://www.ncbi.nlm.nih.gov/pubmed/20598273',\n   'endSection': 'title'},\n  {'offsetInBeginSection': 0,\n   'offsetInEndSection': 210,\n   'text': 'BACKGROUND: RET is the major gene associated to Hirschsprung disease (HSCR) with differential contributions of its rare and common, coding and noncoding mutations to the multifactorial nature of this pathology.',\n   'beginSection': 'abstract',\n   'document': 'http://www.ncbi.nlm.nih.gov/pubmed/21995290',\n   'endSection': 'abstract'},\n  {'offsetInBeginSection': 151,\n   'offsetInEndSection': 376,\n   'text': 'In the etiology of Hirschsprung disease various genes play a role; these are: RET, EDNRB, GDNF, EDN3 and SOX10, NTN3, ECE1, Mutations in these genes may result in dominant, recessive or multifactorial patterns of inheritance.',\n   'beginSection': 'abstract',\n   'document': 'http://www.ncbi.nlm.nih.gov/pubmed/15858239',\n   'endSection': 'abstract'},\n  {'offsetInBeginSection': 0,\n   'offsetInEndSection': 83,\n   'text': \"Chromosomal and related Mendelian syndromes associated with Hirschsprung's disease.\",\n   'beginSection': 'title',\n   'document': 'http://www.ncbi.nlm.nih.gov/pubmed/23001136',\n   'endSection': 'title'},\n  {'offsetInBeginSection': 715,\n   'offsetInEndSection': 818,\n   'text': \"The majority of the identified genes are related to Mendelian syndromic forms of Hirschsprung's disease\",\n   'beginSection': 'abstract',\n   'document': 'http://www.ncbi.nlm.nih.gov/pubmed/15617541',\n   'endSection': 'abstract'},\n  {'offsetInBeginSection': 151,\n   'offsetInEndSection': 375,\n   'text': 'In the etiology of Hirschsprung disease various genes play a role; these are: RET, EDNRB, GDNF, EDN3 and SOX10, NTN3, ECE1, Mutations in these genes may result in dominant, recessive or multifactorial patterns of inheritance',\n   'beginSection': 'abstract',\n   'document': 'http://www.ncbi.nlm.nih.gov/pubmed/15858239',\n   'endSection': 'abstract'},\n  {'offsetInBeginSection': 417,\n   'offsetInEndSection': 615,\n   'text': 'On the basis of a skewed sex-ratio (M/F = 4/1) and a risk to relatives much higher than the incidence in the general population, HSCR has long been regarded as a sex-modified multifactorial disorder',\n   'beginSection': 'abstract',\n   'document': 'http://www.ncbi.nlm.nih.gov/pubmed/8896569',\n   'endSection': 'abstract'},\n  {'offsetInBeginSection': 858,\n   'offsetInEndSection': 1012,\n   'text': 'The inheritance of Hirschsprung disease is generally consistent with sex-modified multifactorial inheritance with a lower threshold of expression in males',\n   'beginSection': 'abstract',\n   'document': 'http://www.ncbi.nlm.nih.gov/pubmed/6650562',\n   'endSection': 'abstract'},\n  {'offsetInBeginSection': 820,\n   'offsetInEndSection': 992,\n   'text': \"The non-Mendelian inheritance of sporadic non-syndromic Hirschsprung's disease proved to be complex; involvement of multiple loci was demonstrated in a multiplicative model\",\n   'beginSection': 'abstract',\n   'document': 'http://www.ncbi.nlm.nih.gov/pubmed/15617541',\n   'endSection': 'abstract'}]}"
     },
     "execution_count": 40,
     "metadata": {},
     "output_type": "execute_result"
    }
   ],
   "source": [
    "qas[0]"
   ],
   "metadata": {
    "collapsed": false,
    "ExecuteTime": {
     "end_time": "2024-03-12T18:14:36.090277Z",
     "start_time": "2024-03-12T18:14:36.002875Z"
    }
   },
   "id": "f8e74c356c0d4b2a",
   "execution_count": 40
  },
  {
   "cell_type": "code",
   "outputs": [],
   "source": [
    "question = qas[0]['body']\n",
    "optimal_answer = qas[0]['ideal_answer']"
   ],
   "metadata": {
    "collapsed": false,
    "ExecuteTime": {
     "end_time": "2024-03-12T16:48:29.562106Z",
     "start_time": "2024-03-12T16:48:29.558464Z"
    }
   },
   "id": "9b47d02280924309",
   "execution_count": 32
  },
  {
   "cell_type": "code",
   "outputs": [
    {
     "data": {
      "text/plain": "'Is Hirschsprung disease a mendelian or a multifactorial disorder?'"
     },
     "execution_count": 29,
     "metadata": {},
     "output_type": "execute_result"
    }
   ],
   "source": [
    "question"
   ],
   "metadata": {
    "collapsed": false,
    "ExecuteTime": {
     "end_time": "2024-03-12T16:47:16.558248Z",
     "start_time": "2024-03-12T16:47:16.553964Z"
    }
   },
   "id": "a80958424f8b2158",
   "execution_count": 29
  },
  {
   "cell_type": "code",
   "outputs": [
    {
     "name": "stdout",
     "output_type": "stream",
     "text": [
      "Hirschsprung disease is a genetic disorder that is considered a Mendelian disorder. It is typically caused by mutations in specific genes, such as the RET gene, which play a crucial role in the development of nerve cells in the digestive system. These mutations are usually inherited in an autosomal dominant pattern.\n"
     ]
    }
   ],
   "source": [
    "response = chat.create_chat(question)\n",
    "print(response)"
   ],
   "metadata": {
    "collapsed": false,
    "ExecuteTime": {
     "end_time": "2024-03-12T16:49:36.095200Z",
     "start_time": "2024-03-12T16:49:34.251502Z"
    }
   },
   "id": "aebd4ceb3e316433",
   "execution_count": 35
  },
  {
   "cell_type": "code",
   "outputs": [
    {
     "data": {
      "text/plain": "[\"Coding sequence mutations in RET, GDNF, EDNRB, EDN3, and SOX10 are involved in the development of Hirschsprung disease. The majority of these genes was shown to be related to Mendelian syndromic forms of Hirschsprung's disease, whereas the non-Mendelian inheritance of sporadic non-syndromic Hirschsprung disease proved to be complex; involvement of multiple loci was demonstrated in a multiplicative model.\"]"
     },
     "execution_count": 17,
     "metadata": {},
     "output_type": "execute_result"
    }
   ],
   "source": [
    "optimal_answer"
   ],
   "metadata": {
    "collapsed": false,
    "ExecuteTime": {
     "end_time": "2024-03-12T16:16:20.152842Z",
     "start_time": "2024-03-12T16:16:20.147359Z"
    }
   },
   "id": "d0e80e1e881ac50b",
   "execution_count": 17
  },
  {
   "cell_type": "code",
   "outputs": [],
   "source": [
    "chatgpt_answer = \"Hirschsprung disease can be considered both a Mendelian and multifactorial disorder, depending on the underlying genetic factors involved. Mendelian inheritance refers to patterns of inheritance that follow the principles established by Gregor Mendel, involving single gene mutations. In some cases of Hirschsprung disease, particularly those with a strong familial pattern, specific mutations in genes such as RET, EDNRB, or other related genes have been identified. These mutations follow a Mendelian inheritance pattern, such as autosomal dominant or recessive inheritance. However, Hirschsprung disease can also have multifactorial inheritance, meaning that both genetic and environmental factors play a role in its development. In multifactorial disorders, multiple genetic variations across different genes, as well as environmental factors, contribute to the risk of developing the condition. The interplay between genetic predisposition and environmental factors like maternal smoking during pregnancy or certain medications can increase the likelihood of Hirschsprung disease in some individuals. Overall, while specific genetic mutations associated with Hirschsprung disease can follow Mendelian patterns of inheritance, the condition's development is often influenced by a combination of genetic and environmental factors, making it multifactorial in nature.\""
   ],
   "metadata": {
    "collapsed": false,
    "ExecuteTime": {
     "end_time": "2024-03-12T16:48:10.141958Z",
     "start_time": "2024-03-12T16:48:10.138479Z"
    }
   },
   "id": "fedc1217d747c65d",
   "execution_count": 30
  },
  {
   "cell_type": "code",
   "outputs": [],
   "source": [
    "import spacy\n",
    "nlp = spacy.load('en_core_web_lg')  # Lädt das große englische Modell\n",
    "from rouge import Rouge\n",
    "from nltk.translate.bleu_score import sentence_bleu"
   ],
   "metadata": {
    "collapsed": false,
    "ExecuteTime": {
     "end_time": "2024-03-12T21:46:25.126783Z",
     "start_time": "2024-03-12T21:46:22.430302Z"
    }
   },
   "id": "eb6f77fbcea473d2",
   "execution_count": 48
  },
  {
   "cell_type": "code",
   "outputs": [
    {
     "name": "stdout",
     "output_type": "stream",
     "text": [
      "Ähnlichkeit (SpaCy): 0.937321929610183\n",
      "ROUGE-L Score: 0.20930232060573295\n",
      "BLEU Score: 0.059481569177480854\n",
      "Kombinierte Metrik: 0.38276197787859234\n"
     ]
    }
   ],
   "source": [
    "# Berechnung der Ähnlichkeit mit SpaCy\n",
    "def calculate_similarity(response, optimal_answer):\n",
    "    return nlp(response).similarity(nlp(optimal_answer))\n",
    "\n",
    "# ROUGE-L Score berechnen\n",
    "def calculate_rouge(response, optimal_answer):\n",
    "    rouge = Rouge()\n",
    "    scores = rouge.get_scores(response, optimal_answer)\n",
    "    return scores[0]['rouge-l']['f']\n",
    "\n",
    "# Berechnung des BLEU-Scores\n",
    "def calculate_bleu(response, optimal_answer):\n",
    "    return sentence_bleu([optimal_answer.split()], response.split())\n",
    "\n",
    "def calculate_combined_metric(response, optimal_answer):\n",
    "    # Berechnung der Cosinus-Ähnlichkeit mit SpaCy\n",
    "    similarity = calculate_similarity(response, optimal_answer)\n",
    "    \n",
    "    # ROUGE-L Score berechnen\n",
    "    rouge_l_score = calculate_rouge(response, optimal_answer)\n",
    "    \n",
    "    # Berechnung des BLEU-Scores\n",
    "    bleu_score = calculate_bleu(response, optimal_answer)\n",
    "    \n",
    "    # Gewichtete Berechnung der kombinierten Metrik\n",
    "    weight_similarity = 0.3  # Gewicht für die Cosinus-Ähnlichkeit\n",
    "    weight_rouge = 0.4  # Gewicht für den ROUGE-L-Score\n",
    "    weight_bleu = 0.3  # Gewicht für den BLEU-Score (n-gram-Übereinstimmung)\n",
    "    \n",
    "    combined_metric = (weight_similarity * similarity) + (weight_rouge * rouge_l_score) + (weight_bleu * bleu_score)\n",
    "    \n",
    "    print(\"Ähnlichkeit (SpaCy):\", similarity)\n",
    "    print(\"ROUGE-L Score:\", rouge_l_score)\n",
    "    print(\"BLEU Score:\", bleu_score)\n",
    "    print(\"Kombinierte Metrik:\", combined_metric)\n",
    "    \n",
    "\n",
    "calculate_combined_metric(response, str(optimal_answer))"
   ],
   "metadata": {
    "collapsed": false,
    "ExecuteTime": {
     "end_time": "2024-03-12T21:49:32.086452Z",
     "start_time": "2024-03-12T21:49:32.043029Z"
    }
   },
   "id": "2778d89fc130ff15",
   "execution_count": 52
  },
  {
   "cell_type": "code",
   "outputs": [
    {
     "name": "stdout",
     "output_type": "stream",
     "text": [
      "Ähnlichkeit (SpaCy): 0.959681800666453\n",
      "ROUGE-L Score: 0.20915032259216546\n",
      "BLEU Score: 3.3815400709792592e-155\n",
      "Kombinierte Metrik: 0.3715646692368021\n"
     ]
    }
   ],
   "source": [
    "calculate_combined_metric(chatgpt_answer, str(optimal_answer))"
   ],
   "metadata": {
    "collapsed": false,
    "ExecuteTime": {
     "end_time": "2024-03-12T21:49:53.064493Z",
     "start_time": "2024-03-12T21:49:52.973278Z"
    }
   },
   "id": "6671dcaa7533eda8",
   "execution_count": 53
  }
 ],
 "metadata": {
  "kernelspec": {
   "display_name": "Python 3",
   "language": "python",
   "name": "python3"
  },
  "language_info": {
   "codemirror_mode": {
    "name": "ipython",
    "version": 2
   },
   "file_extension": ".py",
   "mimetype": "text/x-python",
   "name": "python",
   "nbconvert_exporter": "python",
   "pygments_lexer": "ipython2",
   "version": "2.7.6"
  }
 },
 "nbformat": 4,
 "nbformat_minor": 5
}
