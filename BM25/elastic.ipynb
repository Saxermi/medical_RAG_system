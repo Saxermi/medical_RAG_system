{
 "cells": [
  {
   "cell_type": "code",
   "outputs": [
    {
     "name": "stderr",
     "output_type": "stream",
     "text": [
      "C:\\Users\\linus\\anaconda3\\Lib\\site-packages\\elasticsearch\\_sync\\client\\__init__.py:399: SecurityWarning: Connecting to 'https://localhost:9200' using TLS with verify_certs=False is insecure\n",
      "  _transport = transport_class(\n"
     ]
    }
   ],
   "source": [
    "import json\n",
    "from elasticsearch import Elasticsearch\n",
    "import urllib3\n",
    "import os\n",
    "\n",
    "\n",
    "elstic_password = os.getenv('ELASTIC_PASSWORD')\n",
    "\n",
    "es = Elasticsearch(\n",
    "    ['https://localhost:9200'],\n",
    "    basic_auth=('elastic', elstic_password),  #\"T0DK*rhRoeIBBmxiD=vX\"\n",
    "    verify_certs=False\n",
    ")\n",
    "\n",
    "urllib3.disable_warnings()"
   ],
   "metadata": {
    "collapsed": false,
    "ExecuteTime": {
     "end_time": "2024-04-03T08:23:37.771836Z",
     "start_time": "2024-04-03T08:23:36.854797Z"
    }
   },
   "id": "c730151aee91dee3",
   "execution_count": 1
  },
  {
   "cell_type": "markdown",
   "source": [
    "### Indexing Documents into Elasticsearch for BM25 Search"
   ],
   "metadata": {
    "collapsed": false
   },
   "id": "10fce807d038bfdc"
  },
  {
   "cell_type": "code",
   "outputs": [
    {
     "name": "stdout",
     "output_type": "stream",
     "text": [
      "Indexing complete\n"
     ]
    }
   ],
   "source": [
    "from pathlib import Path\n",
    "import os\n",
    "\n",
    "# Define the path for the source directory\n",
    "source_directory = Path('C:/Users/linus/big_data/pubmed/test_chunk/')\n",
    "\n",
    "# Iterate through each file in the source directory\n",
    "for file_name in os.listdir(source_directory):\n",
    "    if file_name.endswith('.jsonl'):\n",
    "        source_file = source_directory / file_name\n",
    "        \n",
    "        # Open and read the JSONL file containing the PubMed documents\n",
    "        with open(source_file, 'r') as json_file:\n",
    "            for line in json_file:\n",
    "                doc = json.loads(line)\n",
    "                # Index the document into Elasticsearch\n",
    "                res = es.index(index=\"pubmed_index\", document=doc)\n",
    "                # Uncomment the next line if you want to see the indexing result for each document\n",
    "                # print(res['result'])\n",
    "    \n",
    "print('Indexing complete')"
   ],
   "metadata": {
    "collapsed": false,
    "ExecuteTime": {
     "end_time": "2024-04-02T21:04:25.866410Z",
     "start_time": "2024-04-02T19:06:53.940644Z"
    }
   },
   "id": "dbe985bf2a2daf4",
   "execution_count": 28
  },
  {
   "cell_type": "code",
   "outputs": [
    {
     "name": "stdout",
     "output_type": "stream",
     "text": [
      "133379\n"
     ]
    }
   ],
   "source": [
    "count_result = es.count(index='pubmed_emb_index')\n",
    "\n",
    "# Print the count\n",
    "print(count_result['count'])"
   ],
   "metadata": {
    "collapsed": false,
    "ExecuteTime": {
     "end_time": "2024-04-03T06:31:03.323879Z",
     "start_time": "2024-04-03T06:31:03.295375Z"
    }
   },
   "id": "30f73281bec8ed96",
   "execution_count": 54
  },
  {
   "cell_type": "code",
   "outputs": [
    {
     "name": "stdout",
     "output_type": "stream",
     "text": [
      "Score: 25.100676, Title: Colchicine, a plant alkaloid, is a potent inhibitor of mitosis and other physiological processes that involve microtubules. These effects are mediated by the specific binding of colchicine to a high-affinity receptor site on tubulin, the major protein of microtubules. It seemed possible that the colchicine site on tubulin might also be the receptor for endogenous cellular molecules. We now report that mammalian brain does, in fact, contain a class of molecules that interact with the colchicine site on tubulin. Tubulin-agarose affinity chromatography has been used to isolate factors from soluble extracts of bovine brain that interact with tubulin. Certain of these factors inhibit the binding of [3H]colchicine to tubulin. Using the inhibition of colchicine binding as an assay, I have partially resolved at least two species. One is a protein and another may be a heat-stable peptide. In parallel to the action of colchicine, the smaller species inhibits the assembly of isolated microtubules. This class of molecules may include the endogenous ligands for which the colchicine site on tubulin is the receptor. They may have a significant role in the regulation of cellular microtubule function and assembly.\n",
      "Score: 17.860699, Title: Interaction of various substituted phenolsulphonphthalein dyes to rabbit plasma and rabbit serum albumin has been studied by ultrafiltration, equilibrium dialysis and spectrophotometry. The results obtained by ultrafiltration and equilibrium dialysis showed that the degree of binding of these dyes to protein increases in the following order: Phenol red less than bromophenol blue less than bromocresol green less than bromothymol blue. Analysis of binding results revealed that five molecules of bromothymol blue bound very strongly to a molecule of rabbit albumin, whereas only two and three molecules of bromophenol blue and bromocresol green strongly interact with the protein, respectively. It is suggested that strong binding of these substances to protein may be related to the hydrophobicity of these compounds. Finally, an attempt has been made to evaluate the possibility, whether the spectral changes occurred during interaction of dyes to albumin can be utilized for the determination of binding of these ligands to proteins.\n",
      "Score: 17.588778, Title: (-)-Norepinephrine and other catecholamines inhibit basal and prostaglandin E1-stimulated adenylate cyclase activities by 35 to 60% in homogenates of NG108-15 neuroblastoma x gloma hybrid cells and markedly reduce adenosine 3'35:'-monophosphate levels of intact cells, but do not affect guanosine 3':5'-monophosphate levels. The specificity of the NG108-15 receptor for ligands is that of an alpha receptor, possibly a presynaptic alpha 2 receptor. The inhibition of adenylate cyclase by norepinephrine is reversed by alpha receptor antagonists such as dihydroergotamine or phentolamine, but not by the beta receptor antagonist propranolol. The effect of norepinephrine on adenylate cyclase activity initially is dependent on GTP; half-maximal inhibition of enzyme activity by norepinephrine is obtained with 0.2 micron GTP. The inhibition of adenylate cyclase activity by norepinephrine is reduced by 10 mM NaF and is abolished by 0.05 mM guanyl-5'-yl imidodiphosphate. Inhibitions of NG108-15 adenylate cyclase mediated by alpha receptors, opiate receptors, and muscarinic acetylcholine receptors are not additive; this suggests that the three species of receptors can be functionally coupled to the same adenylate cyclase molecules or molecules regulating the enzyme.\n",
      "Score: 16.900421, Title: A signaling device was given to adult patients to reduce stress in the dental chair. Galvanic skin response during the dental procedures indicated that patients with the signaling device showed more arousal during high stress conditions when compared with a control group. A personality variable was also investigated.\n",
      "Score: 16.361063, Title: The effect of a class of ligands on the catalytic activity of acetylcholinesterase (acetylcholine hydrolase, EC 3.1.1.7) from Torpedo californica electroplax tissue has been studied via the transient reaction of a fluorophoric acetylcholine analog, 7-(N,N-dimethyl)carbamoxy-N-methylquinolinium iodide (M7C). These \"peripheral\" ligands inhibit the formation of a metastable carbamyl-enzyme intermediate from M7C. They induce slow isomerization to a new conformational state that shows little or no reaction with M7C. At saturating ligand concentration, the unimolecular isomerization rate constant is 0.03 +/- 0.01 sec-1, a slow rate compared to the rate of carbamylation of the active conformation. Peripheral ligands alter the distribution between reactive and unreactive conformations, thus inducing biphasic rates and amplitudes of carbamylation. The amplitudes, but not the two specific rates, are affected by the concentration of ligand. Zn2+ and d-tubocurarine are two ligands that induce the same slow isomerization rate. On the basis of this identity of function by ligands of disparate structure, we postulate the existence of only a single active conformation and a single inactive conformation (stabilized by interaction with both ligands). In the absence of ligands, the active conformation predominates. Peripheral ligands bind specifically to the inactive conformation. Alkaline earth cations such as Ca2+ and Mg2+ interact strongly and preferentially with the active conformation and drive the conformational equilibrium toward the active state. Ligand-induced inactivation is observed both with highly purified trypsin-solubilized enzyme and with enzyme bound to unfractionated membrane fragments.\n",
      "Score: 16.233095, Title: A theoretical model is developed for cell-to-cell binding by bivalent ligands that can bind to mobile receptors on the cell surfaces. Monovalent inhibitors that can bind either to receptors or ligands are also included. For symmetrical ligands, that is, ligands in which both binding sites are the same, it is shown that crosslinking of receptors on each cell will interfere with intercellular bridge formation. At equilibrium, such interference is not drastic, but if the crosslinks can form before the cells are brought into contact, crosslinking may greatly impede the rate of intercellular binding. Comparison is made with experiments, and the importance of receptor mobility is discussed. It is noted that ligands can also bind a cell to itself or to a surface.\n",
      "Score: 15.64755, Title: Extrapituitary corticotropin-like peptides have been found in central nerves and in gastrointestinal and pancreatic endocrine cells. Previous biological and immunological data strongly indicate that the immunoreactivity present in the central nerves represents corticotropin (A.C.T.H.) or a closely related peptide. In some areas of the brain, the distribution of A.C.T.H. nerves parallels that of nerves containing the endogenous opioid ligand, enkephalin. Since A.C.T.H. fragments bind to the opioid receptor the two neuronal peptides may interact. The antiserum used demonstrates the COOH-terminus of the A.C.T.H. molecule, which is devoid of adrenocortical stimulatory activity. A COOH-terminal A.C.T.H.-peptide, corticotropin-like intermediate peptide (C.L.I.P.), originally isolated from the pars intermedia, has been shown to stimulate release of pancreatic insulin. The presence of C.L.I.P.-like molecules in gut and pancreatic endocrine cells may indicate that C.L.I.P.'s insulin-releasing activity is physiologically important. Further, the occurrence of A.C.T.H.-related molecules in such cells may account for the ectopic A.C.T.H. syndrome associated with some tumours of gut and pancreas.\n",
      "Score: 15.407414, Title: Binding sites for the dipeptide L-carnosine (beta-alanyl-L-histidine) have been detected in membranes prepared from mouse olfactory bulbs. The binding of L-[3H]-carnosine was saturable, reversible and stereospecific and had a Kd of about 770 nM. The stereospecific binding of L-carnosine represented about 30% of the total binding at pH 6.8, and decreased markedly with increasing pH. Binding was stimulated by calcium, unaffected by zinc, magnesium or manganese and inhibited by sodium and potassium. Carnosine binding was sensitive to trypsin and phospholipases A and C, but not to neuraminidase. Nystatin and filipin, which interact with membrane lipids, also interferred with binding. Some peptide analogues of carnosine were potent inhibitors of binding, but a variety of drugs serving as potent inhibitors in other binding systems had no effect on carnosine binding. Carnosine binding to mouse olfactory bulb membranes was 15-fold higher than that seen in membranes prepared from cerebral hemispheres, 5-fold higher than that seen in membranes prepared from cerebral hemispheres, 5-fold higher than in cerebellum membranes and 3-fold higher than in membranes from spinal medulla and the olfactory tubercle-lateral olfactory tract area. Binding sites for 6 other radiolabeled receptor ligands were also detected in bulb membranes. Peripheral deafferentation of the olfactory bulbs by intranasal irrigation with ZnSO4 led to a loss greater than 90% of the L-[3H]carnosine binding in 4--5 days with much smaller losses in binding of the other 6 ligands over a 180-day observation period. This initial loss of carnosine binding after denervation was due to a loss of binding site stereo-specificity followed by a loss of binding sites. The characteristics of the carnosine binding site in olfactory bulb fulfil 6 of the 7 criteria considered relevant for a functional receptor.\n",
      "Score: 15.32152, Title: An aggregation receptor from the siliceous sponge Geodia cydonium has been isolated and purified in an almost pure form. It sediments at about 2-6s, has a buoyant density of 1-51 g/ml in CsCl and elutes from Sephadex G-50 at a Ve/V0 value of 1-311. Chemical analysis revealed that the receptor consists of 81% neutral carbohydrate and 7-5% protein. The activity of the receptor is rapidly destroyed by Na-periodate. The receptor is released from the cell surface after removal of Ca2+ from the medium or after incubation of the cells with trypsin. The depleted cells can be charged again with isolated receptor molecules. The binding of the receptor molecules on the cell surface is prevented in the presence of trypsin. For optimal binding, physiological salt concentrations with respect to NaCl (540 mM NaCl) and Ca2+ ions are necessary. The receptor whose isolation is described in this report, is involved in secondary aggregation processes, which are initiated by a soluble aggregation factor. The primary aggregation of the cells is not influenced by the receptor. Time-course studies with receptor-depleted cells revealed that new aggregation receptor molecules are formed during the aggregation process. By competition experiments it could be shown that high concentrations of soluble aggregation receptor molecules inhibit secondary aggregation. The soluble receptor molecules can complete with surface-bound receptor molecules only if these are not linked with the aggregation factor.\n",
      "Score: 15.284029, Title: To investigate the dynamics of membrane processes that may be integral components of specific transmembrane signaling events we have synthesized several novel paramagnetic probes and their photoreactive counterparts. The structure of these probes was designed to (1) restrict \"flipping\" across the membrane bilayer; (2) contain paramagnetic or photoreactive moieties that could be placed at specific depths within the bilayer; (3) provide information about membrane structure as well as dynamics of protein movement; and (4) in the case of the photoreactive probes, be of high specific radioactivity. The molecules described in this paper consist of amino acid, dipeptide, or carbohydrate groups attached to arylazide- or nitroxide-bearing fatty acids. The synthesis and initial characterization of these membrane probes is described.\n"
     ]
    }
   ],
   "source": [
    "# Define a search query\n",
    "def bm25_search(query: str, k: int = 5):\n",
    "    query = {\n",
    "        \"size\": k,\n",
    "        \"query\": {\n",
    "            \"match\": {\n",
    "                \"content\": f\"{query}\"\n",
    "            }\n",
    "        }\n",
    "    }\n",
    "    # Elasticsearch nutzt standardmässig das BM25-Modell, um die Relevanz der Dokumente zu berechnen\n",
    "    return es.search(index='pubmed_index', body=query)\n",
    "    \n",
    "# Perform a search\n",
    "results = bm25_search(\"List signaling molecules (ligands) that interact with the receptor EGFR?\", k=10)\n",
    "\n",
    "# Print the results\n",
    "for hit in results['hits']['hits']:\n",
    "    print(f\"Score: {hit['_score']}, Title: {hit['_source']['content']}\")"
   ],
   "metadata": {
    "collapsed": false,
    "ExecuteTime": {
     "end_time": "2024-04-03T08:33:37.234783Z",
     "start_time": "2024-04-03T08:33:37.052991Z"
    }
   },
   "id": "4cd8a3bd9ceb8c01",
   "execution_count": 8
  },
  {
   "cell_type": "markdown",
   "source": [
    "### Indexing Documents with Embeddings into Elasticsearch for Vector Similarity Search"
   ],
   "metadata": {
    "collapsed": false
   },
   "id": "a2769980d775a70d"
  },
  {
   "cell_type": "markdown",
   "source": [
    "initialize the index with the appropriate mapping for the dense vector field."
   ],
   "metadata": {
    "collapsed": false
   },
   "id": "d35e8d0e15557047"
  },
  {
   "cell_type": "code",
   "outputs": [],
   "source": [
    "# Define the index name\n",
    "index_name = \"pubmed_emb_index\"\n",
    "\n",
    "# Check if the index already exists\n",
    "if not es.indices.exists(index=index_name):\n",
    "    # Define the mapping\n",
    "    mapping = {\n",
    "        \"mappings\": {\n",
    "            \"properties\": {\n",
    "                \"embeddings\": {\"type\": \"dense_vector\", \"dims\": 768}  # Adjust the dimension size as needed\n",
    "                # Add other field mappings as necessary\n",
    "            }\n",
    "        }\n",
    "    }\n",
    "    \n",
    "    # Create the index with the defined mapping\n",
    "    es.indices.create(index=index_name, body=mapping)"
   ],
   "metadata": {
    "collapsed": false,
    "ExecuteTime": {
     "end_time": "2024-04-02T21:40:37.207239Z",
     "start_time": "2024-04-02T21:40:36.940055Z"
    }
   },
   "id": "e950a01927be6bdd",
   "execution_count": 31
  },
  {
   "cell_type": "markdown",
   "source": [
    "load the JSONL files containing the PubMed documents, extract the embeddings, and index the documents into Elasticsearch."
   ],
   "metadata": {
    "collapsed": false
   },
   "id": "d299505c678d88c3"
  },
  {
   "cell_type": "code",
   "outputs": [
    {
     "name": "stderr",
     "output_type": "stream",
     "text": [
      " 50%|█████     | 5/10 [1:08:00<1:09:29, 833.83s/it]"
     ]
    },
    {
     "name": "stdout",
     "output_type": "stream",
     "text": [
      "An error occurred: Connection timed out\n"
     ]
    }
   ],
   "source": [
    "from pathlib import Path\n",
    "import os\n",
    "import json\n",
    "from tqdm import tqdm\n",
    "\n",
    "# Define the path for the source directory\n",
    "source_directory = Path('C:/Users/linus/big_data/pubmed/chunk_embedded/')\n",
    "\n",
    "# Check if the source directory exists\n",
    "if not source_directory.exists():\n",
    "    print(\"The source directory does not exist.\")\n",
    "else:\n",
    "    # Iterate through each file in the source directory\n",
    "    for file_name in tqdm(os.listdir(source_directory)):\n",
    "        if file_name.endswith('.jsonl'):\n",
    "            source_file = source_directory / file_name\n",
    "            \n",
    "            # Open and read the JSONL file containing the PubMed documents\n",
    "            with open(source_file, 'r') as json_file:\n",
    "                for line in json_file:\n",
    "                    try:\n",
    "                        doc = json.loads(line)\n",
    "                        # Ensure the document includes an 'embeddings' field with the vector data\n",
    "                        # Index the document into Elasticsearch\n",
    "                        res = es.index(index=index_name, document=doc)\n",
    "                        # Uncomment the next line to see the indexing result for each document\n",
    "                        # print(res['result'])\n",
    "                    except json.JSONDecodeError as e:\n",
    "                        print(f\"Error decoding JSON: {e}\")\n",
    "                    except Exception as e:\n",
    "                        print(f\"An error occurred: {e}\")\n",
    "\n",
    "    print('Indexing complete')"
   ],
   "metadata": {
    "collapsed": false,
    "is_executing": true,
    "ExecuteTime": {
     "start_time": "2024-04-03T13:20:43.021103Z"
    }
   },
   "id": "7a60983235cd1e2b",
   "execution_count": null
  },
  {
   "cell_type": "markdown",
   "source": [
    "perform a vector similarity search using the cosine similarity between the query vector and the embeddings in the indexed documents."
   ],
   "metadata": {
    "collapsed": false
   },
   "id": "9a62e36cc0abb119"
  },
  {
   "cell_type": "code",
   "outputs": [],
   "source": [
    "from Embedding import TextEmbedder\n",
    "embedder = TextEmbedder()"
   ],
   "metadata": {
    "collapsed": false,
    "ExecuteTime": {
     "end_time": "2024-04-03T08:26:12.708426Z",
     "start_time": "2024-04-03T08:26:11.297375Z"
    }
   },
   "id": "80056f1d5cc203c7",
   "execution_count": 5
  },
  {
   "cell_type": "code",
   "outputs": [
    {
     "name": "stdout",
     "output_type": "stream",
     "text": [
      "Score: 1.9132408,  PMID: 233264, Abstract: Hormonal regulation of peptide receptors and target cell responses.\n",
      "Score: 1.9074038,  PMID: 219362, Abstract: Mouse lymphoma cells with mutations of cyclic AMP-dependent protein kinase.\n",
      "Score: 1.9039831,  PMID: 200850, Abstract: [Molecular biology of tumor viruses].\n",
      "Score: 1.9023585,  PMID: 179753, Abstract: Diseases associated with herpesviruses.\n",
      "Score: 1.9007919,  PMID: 208416, Abstract: Receptor dysfunction and hormone resistance in human diseases--a review.\n",
      "Score: 1.9004114,  PMID: 187763, Abstract: Elevated adenosine 3',5'-cyclic monophosphate levels in human and animal tumors in vivo.\n",
      "Score: 1.8994532,  PMID: 91568, Abstract: [Clinical valence of alpha-fetoprotein (author's transl)].\n",
      "Score: 1.899434,  PMID: 204384, Abstract: [Hormonal factors in the prediction of hormonedependency of breast cancer].\n",
      "Score: 1.899276,  PMID: 220539, Abstract: Local aggregation of hormone-receptor complexes is required for activation by epidermal growth factor.\n",
      "Score: 1.8992685,  PMID: 233024, Abstract: Hormone-induced modification of EGF receptor proteolysis in the induction of EGF action.\n"
     ]
    }
   ],
   "source": [
    "# Define the index name\n",
    "index_name = \"pubmed_emb_index\"\n",
    "\n",
    "\n",
    "def query_to_vector(text, embedder):\n",
    "    embedding = embedder.embed(text)\n",
    "    return embedding\n",
    "\n",
    "\n",
    "def cosine_similarity(index, query: str, k: int = 5):\n",
    "    query_vector = query_to_vector(query, embedder)\n",
    "    \n",
    "    query = {\n",
    "        \"size\": k,  # Anzahl der zurückzugebenden Ergebnisse\n",
    "        \"query\": {\n",
    "            \"script_score\": {\n",
    "                \"query\": {\"match_all\": {}},  # Sie können dies durch eine spezifischere Abfrage ersetzen\n",
    "                \"script\": {\n",
    "                    \"source\": \"cosineSimilarity(params.query_vector, 'embeddings') + 1.0\",\n",
    "                    # +1.0, um sicherzustellen, dass alle Werte positiv sind\n",
    "                    \"params\": {\"query_vector\": query_vector}\n",
    "                }\n",
    "            }\n",
    "        }\n",
    "    }\n",
    "    # Elasticsearch nutzt standardmässig das BM25-Modell, um die Relevanz der Dokumente zu berechnen\n",
    "    return es.search(index=index, body=query)\n",
    "\n",
    "\n",
    "# Führen Sie die Abfrage aus\n",
    "results = cosine_similarity(index_name, \"List signaling molecules (ligands) that interact with the receptor EGFR?\", k=10)\n",
    "\n",
    "for hit in results['hits']['hits']:\n",
    "    print(f\"Score: {hit['_score']},  PMID: {hit['_source']['PMID']}, Abstract: {hit['_source']['title']}\")"
   ],
   "metadata": {
    "collapsed": false,
    "ExecuteTime": {
     "end_time": "2024-04-03T12:36:22.268582Z",
     "start_time": "2024-04-03T12:36:22.092650Z"
    }
   },
   "id": "350cfdd0e35007ac",
   "execution_count": 10
  },
  {
   "cell_type": "code",
   "outputs": [
    {
     "name": "stdout",
     "output_type": "stream",
     "text": [
      "Die Größe des Indexes ist 2.239613243 Bytes.\n"
     ]
    }
   ],
   "source": [
    "response = es.indices.stats(index='pubmed_emb_index')\n",
    "\n",
    "index_size = response['_all']['total']['store']['size_in_bytes']\n",
    "\n",
    "print(f\"Die Größe des Indexes ist {index_size/1000000000} Bytes.\")"
   ],
   "metadata": {
    "collapsed": false,
    "ExecuteTime": {
     "end_time": "2024-04-03T12:40:25.285250Z",
     "start_time": "2024-04-03T12:40:25.272972Z"
    }
   },
   "id": "6980954f4300fb66",
   "execution_count": 15
  }
 ],
 "metadata": {
  "kernelspec": {
   "display_name": "Python 3",
   "language": "python",
   "name": "python3"
  },
  "language_info": {
   "codemirror_mode": {
    "name": "ipython",
    "version": 2
   },
   "file_extension": ".py",
   "mimetype": "text/x-python",
   "name": "python",
   "nbconvert_exporter": "python",
   "pygments_lexer": "ipython2",
   "version": "2.7.6"
  }
 },
 "nbformat": 4,
 "nbformat_minor": 5
}
