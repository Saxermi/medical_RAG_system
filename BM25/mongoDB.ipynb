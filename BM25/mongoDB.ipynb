{
 "cells": [
  {
   "cell_type": "code",
   "execution_count": 1,
   "id": "initial_id",
   "metadata": {
    "collapsed": true,
    "ExecuteTime": {
     "end_time": "2024-04-03T08:50:13.436932Z",
     "start_time": "2024-04-03T08:50:12.160210Z"
    }
   },
   "outputs": [],
   "source": [
    "from pymongo import MongoClient\n",
    "import json\n",
    "from tqdm import tqdm"
   ]
  },
  {
   "cell_type": "markdown",
   "source": [
    "Load data into MongoDB"
   ],
   "metadata": {
    "collapsed": false
   },
   "id": "41bf4d903fe9fe87"
  },
  {
   "cell_type": "code",
   "outputs": [
    {
     "name": "stderr",
     "output_type": "stream",
     "text": [
      "100%|██████████| 10/10 [02:01<00:00, 12.19s/it]\n"
     ]
    }
   ],
   "source": [
    "from pathlib import Path\n",
    "import os\n",
    "import json\n",
    "\n",
    "\n",
    "# Connect to MongoDB\n",
    "client = MongoClient('localhost', 27017)\n",
    "db = client['RAG']\n",
    "collection = db['PubMedEmbedded']\n",
    "# Define the path for the source directory\n",
    "source_directory = Path('C:/Users/linus/big_data/pubmed/test_chunk_embedded/')\n",
    "\n",
    "# Check if the source directory exists\n",
    "if not source_directory.exists():\n",
    "    print(\"The source directory does not exist.\")\n",
    "else:\n",
    "    # Iterate through each file in the source directory\n",
    "    for file_name in tqdm(os.listdir(source_directory)):\n",
    "        if file_name.endswith('.jsonl'):\n",
    "            source_file = source_directory / file_name\n",
    "            \n",
    "            # Open and read the JSONL file containing the PubMed documents\n",
    "            with open(source_file, 'r') as json_file:\n",
    "                for line in json_file:\n",
    "                    data = json.loads(line)\n",
    "                    collection.insert_one(data)"
   ],
   "metadata": {
    "collapsed": false,
    "ExecuteTime": {
     "end_time": "2024-04-03T08:43:41.420342Z",
     "start_time": "2024-04-03T08:41:39.466511Z"
    }
   },
   "id": "6bad61c2e39234fc",
   "execution_count": 10
  },
  {
   "cell_type": "code",
   "outputs": [
    {
     "name": "stdout",
     "output_type": "stream",
     "text": [
      "1309297\n",
      "1389099\n",
      "1880949\n",
      "2458073\n",
      "1851518\n",
      "3015394\n",
      "2576295\n",
      "1370492\n",
      "1314448\n",
      "2926839\n",
      "1845982\n",
      "1716463\n",
      "2810532\n",
      "1447576\n",
      "1832907\n",
      "1383230\n",
      "1538276\n",
      "1369801\n",
      "1522533\n",
      "1678600\n",
      "2755700\n",
      "1772304\n",
      "2553748\n",
      "1320909\n",
      "1717146\n",
      "2464868\n",
      "2884496\n",
      "1459725\n",
      "2849039\n",
      "2106751\n",
      "2214281\n",
      "2154210\n",
      "2572319\n",
      "2083199\n",
      "1445750\n",
      "1730638\n",
      "2645219\n",
      "1347529\n",
      "2065272\n",
      "2396042\n",
      "2690971\n",
      "2482148\n",
      "2372767\n",
      "1973074\n",
      "1357997\n",
      "2915986\n",
      "2367059\n",
      "1349015\n",
      "1391697\n",
      "2022478\n",
      "2848004\n",
      "1394216\n",
      "2021959\n",
      "1375794\n",
      "2004618\n",
      "2031413\n",
      "1584765\n",
      "1503407\n",
      "2014751\n",
      "2380256\n",
      "2162688\n",
      "2285594\n",
      "1980602\n",
      "1360720\n",
      "2009534\n",
      "2675297\n",
      "1718587\n",
      "2626045\n",
      "1419645\n",
      "1457340\n",
      "2025065\n",
      "1846551\n",
      "2253244\n",
      "2803944\n",
      "1739615\n",
      "1484435\n",
      "1808202\n",
      "2162976\n",
      "1728365\n",
      "1751401\n",
      "1696918\n",
      "1627426\n",
      "1873798\n",
      "2024456\n",
      "1672440\n",
      "2626279\n",
      "2624856\n",
      "1904421\n",
      "2161199\n",
      "1320666\n",
      "2790793\n",
      "2463445\n",
      "2701167\n",
      "2570489\n",
      "2606569\n",
      "2659165\n",
      "2311071\n",
      "2508310\n",
      "1867098\n",
      "1503912\n"
     ]
    }
   ],
   "source": [
    "from pathlib import Path\n",
    "import os\n",
    "import json\n",
    "\n",
    "# Connect to MongoDB\n",
    "client = MongoClient('localhost', 27017)\n",
    "db = client['RAG']\n",
    "collection = db['PubMed']\n",
    "# Define the path for the source directory\n",
    "source_directory = Path('C:/Users/linus/big_data/pubmed/test_chunk_embedded/')\n",
    "\n",
    "\n",
    "def search_TF_IDF(query):\n",
    "    results = collection.find({\"$text\": {\"$search\": query}}).limit(100)\n",
    "    return results\n",
    "\n",
    "pmid_liste = search_TF_IDF(\"List signaling molecules (ligands) that interact with the receptor EGFR?\")\n",
    "for i in pmid_liste:\n",
    "    print(i['PMID'])"
   ],
   "metadata": {
    "collapsed": false,
    "ExecuteTime": {
     "end_time": "2024-04-03T08:59:06.066546Z",
     "start_time": "2024-04-03T08:59:06.017466Z"
    }
   },
   "id": "73a75e119e1e6281",
   "execution_count": 8
  },
  {
   "cell_type": "code",
   "outputs": [],
   "source": [
    "from Embedding import TextEmbedder\n",
    "embedder = TextEmbedder()"
   ],
   "metadata": {
    "collapsed": false,
    "ExecuteTime": {
     "end_time": "2024-04-03T08:50:27.026777Z",
     "start_time": "2024-04-03T08:50:16.979785Z"
    }
   },
   "id": "e8f66c0a228dc184",
   "execution_count": 2
  },
  {
   "cell_type": "code",
   "outputs": [
    {
     "name": "stdout",
     "output_type": "stream",
     "text": [
      "1: PMID = 219769, Distanz = 4.967927935519385\n",
      "2: PMID = 1813, Distanz = 4.968760284334843\n",
      "3: PMID = 233131, Distanz = 4.979666667735479\n",
      "4: PMID = 200939, Distanz = 4.981703585378111\n",
      "5: PMID = 168935, Distanz = 4.984101335649784\n",
      "6: PMID = 268625, Distanz = 4.987606585279695\n",
      "7: PMID = 189643, Distanz = 5.0054406655705765\n",
      "8: PMID = 200712, Distanz = 5.01118222034559\n",
      "9: PMID = 95806, Distanz = 5.036777312349309\n",
      "10: PMID = 175945, Distanz = 5.0384221205776685\n"
     ]
    }
   ],
   "source": [
    "from sklearn.neighbors import NearestNeighbors\n",
    "import numpy as np\n",
    "\n",
    "collection2 = db['PubMedEmbedded']\n",
    "\n",
    "\n",
    "def find_nearest_embeddings(query_embedding, embeddings, n=10):\n",
    "    # Initialisieren Sie NearestNeighbors\n",
    "    nearest_neighbors = NearestNeighbors(n_neighbors=n, algorithm='auto').fit(embeddings)\n",
    "    # Finden Sie die n nächsten Nachbarn des Suchtext-Embeddings\n",
    "    distances, indices = nearest_neighbors.kneighbors([query_embedding])\n",
    "    return indices[0], distances[0]\n",
    "\n",
    "def search_and_retrieve_embeddings(query):\n",
    "    # Textsuche durchführen und gleichzeitig die Embeddings abrufen\n",
    "    results = collection2.find(\n",
    "        {\"$text\": {\"$search\": query}},\n",
    "        {'PMID': 1, 'embeddings': 1, '_id': 0}\n",
    "    ).limit(1000)\n",
    "    \n",
    "    # Extrahieren Sie PMIDs und Embeddings aus den Ergebnissen\n",
    "    pmids = []\n",
    "    embeddings = []\n",
    "    for doc in results:\n",
    "        pmids.append(doc['PMID'])\n",
    "        embeddings.append(doc['embeddings'])\n",
    "\n",
    "    # Konvertieren Sie die Embeddings-Liste in ein NumPy-Array\n",
    "    embeddings_array = np.array(embeddings)\n",
    "\n",
    "    return pmids, embeddings_array\n",
    "\n",
    "# Suchtext-Embedding generieren\n",
    "such_text = \"List signaling molecules (ligands) that interact with the receptor EGFR?\"\n",
    "pmids, embedding_matrix = search_and_retrieve_embeddings(such_text)\n",
    "suchtext_embedding = embedder.embed(such_text)\n",
    "\n",
    "# Finde die nächsten 10 Embeddings\n",
    "indices, distances = find_nearest_embeddings(suchtext_embedding, embedding_matrix)\n",
    "\n",
    "# Ergebnisse anzeigen\n",
    "for i, index in enumerate(indices):\n",
    "    print(f\"{i + 1}: PMID = {pmids[index]}, Distanz = {distances[i]}\")"
   ],
   "metadata": {
    "collapsed": false,
    "ExecuteTime": {
     "end_time": "2024-04-03T09:22:39.310073Z",
     "start_time": "2024-04-03T09:22:38.584570Z"
    }
   },
   "id": "6b443e3ee25a219c",
   "execution_count": 28
  }
 ],
 "metadata": {
  "kernelspec": {
   "display_name": "Python 3",
   "language": "python",
   "name": "python3"
  },
  "language_info": {
   "codemirror_mode": {
    "name": "ipython",
    "version": 2
   },
   "file_extension": ".py",
   "mimetype": "text/x-python",
   "name": "python",
   "nbconvert_exporter": "python",
   "pygments_lexer": "ipython2",
   "version": "2.7.6"
  }
 },
 "nbformat": 4,
 "nbformat_minor": 5
}
