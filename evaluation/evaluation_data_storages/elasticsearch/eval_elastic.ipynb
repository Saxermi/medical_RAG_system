{
 "cells": [
  {
   "cell_type": "code",
   "execution_count": 1,
   "id": "initial_id",
   "metadata": {
    "ExecuteTime": {
     "end_time": "2024-04-11T15:24:33.998287Z",
     "start_time": "2024-04-11T15:24:33.902535Z"
    },
    "collapsed": true
   },
   "outputs": [
    {
     "name": "stdout",
     "output_type": "stream",
     "text": [
      "{'name': '6c4d8312349c', 'cluster_name': 'docker-cluster', 'cluster_uuid': 'JIOcJVSbToiJAWP2y6W5jQ', 'version': {'number': '8.13.2', 'build_flavor': 'default', 'build_type': 'docker', 'build_hash': '16cc90cd2d08a3147ce02b07e50894bc060a4cbf', 'build_date': '2024-04-05T14:45:26.420424304Z', 'build_snapshot': False, 'lucene_version': '9.10.0', 'minimum_wire_compatibility_version': '7.17.0', 'minimum_index_compatibility_version': '7.0.0'}, 'tagline': 'You Know, for Search'}\n"
     ]
    }
   ],
   "source": [
    "from elasticsearch import Elasticsearch\n",
    "import urllib3\n",
    "import os\n",
    "\n",
    "\n",
    "elastic_password = os.getenv('ELASTIC_PASSWORD')\n",
    "\n",
    "es = Elasticsearch(\n",
    "            ['https://localhost:9200'],\n",
    "            basic_auth=('elastic', elastic_password),\n",
    "            verify_certs=True,\n",
    "            ca_certs=\"/home/rag/.crt/http_ca.crt\",\n",
    "            request_timeout=60\n",
    "        )\n",
    "\n",
    "index_name = \"pubmed_index\"\n",
    "\n",
    "urllib3.disable_warnings()\n",
    "\n",
    "print(es.info())"
   ]
  },
  {
   "cell_type": "code",
   "execution_count": 2,
   "id": "68205f492c85d24b",
   "metadata": {
    "ExecuteTime": {
     "end_time": "2024-04-11T15:27:03.643225Z",
     "start_time": "2024-04-11T15:27:03.607945Z"
    },
    "collapsed": false
   },
   "outputs": [
    {
     "data": {
      "text/plain": [
       "ObjectApiResponse({'count': 10269126, '_shards': {'total': 1, 'successful': 1, 'skipped': 0, 'failed': 0}})"
      ]
     },
     "execution_count": 2,
     "metadata": {},
     "output_type": "execute_result"
    }
   ],
   "source": [
    "# checking number of documents in the index\n",
    "es.count(index=index_name)"
   ]
  },
  {
   "cell_type": "markdown",
   "id": "cb477e6f0b7178d4",
   "metadata": {
    "collapsed": false
   },
   "source": [
    "### Define query functions for BM25 and Vector Similarity Search\n",
    "\n",
    "Define a function to perform a BM25 search using the match query."
   ]
  },
  {
   "cell_type": "code",
   "execution_count": 10,
   "id": "f78167d428f06529",
   "metadata": {
    "ExecuteTime": {
     "end_time": "2024-04-11T15:27:07.474197Z",
     "start_time": "2024-04-11T15:27:07.468939Z"
    },
    "collapsed": false
   },
   "outputs": [],
   "source": [
    "# Define a search query\n",
    "def bm25_search(query: str, k: int = 5):\n",
    "    query = {\n",
    "        \"size\": k,\n",
    "        \"query\": {\n",
    "            \"match\": {\n",
    "                \"content\": f\"{query}\"\n",
    "            }\n",
    "        },\n",
    "        \"_source\": [\"PMID\", \"title\"]\n",
    "    }\n",
    "    # Elasticsearch nutzt standardmässig das BM25-Modell, um die Relevanz der Dokumente zu berechnen\n",
    "    return es.search(index='pubmed_index', body=query)"
   ]
  },
  {
   "cell_type": "markdown",
   "id": "d079c4d6618d3b38",
   "metadata": {
    "collapsed": false
   },
   "source": [
    "Initialize the text embedder and define a function to convert a query to a vector using the bioBERT embeddings."
   ]
  },
  {
   "cell_type": "code",
   "execution_count": 14,
   "id": "ed4ac4f757e7680d",
   "metadata": {
    "ExecuteTime": {
     "end_time": "2024-04-11T15:27:23.549841Z",
     "start_time": "2024-04-11T15:27:14.558573Z"
    },
    "collapsed": false
   },
   "outputs": [],
   "source": [
    "from Embedding import TextEmbedder\n",
    "embedder = TextEmbedder()\n",
    "\n",
    "def query_to_vector(text, embedder):\n",
    "    embedding = embedder.embed(text)\n",
    "    return embedding"
   ]
  },
  {
   "cell_type": "markdown",
   "id": "e6015236b12040cb",
   "metadata": {
    "collapsed": false
   },
   "source": [
    "Define a function to perform a vector similarity search using the cosine similarity between the query vector and the embeddings in the indexed documents."
   ]
  },
  {
   "cell_type": "code",
   "execution_count": 4,
   "id": "caccaaa64018caea",
   "metadata": {
    "ExecuteTime": {
     "end_time": "2024-04-10T11:14:40.480125Z",
     "start_time": "2024-04-10T11:14:40.474963Z"
    },
    "collapsed": false
   },
   "outputs": [],
   "source": [
    "def cosine_similarity(index, query: str, k: int = 5):\n",
    "    query_vector = query_to_vector(query, embedder)\n",
    "    \n",
    "    query = {\n",
    "        \"size\": k,  # Anzahl der zurückzugebenden Ergebnisse\n",
    "        \"query\": {\n",
    "            \"script_score\": {\n",
    "                \"query\": {\"match_all\": {}},\n",
    "                \"script\": {\n",
    "                    \"source\": \"cosineSimilarity(params.query_vector, 'embeddings') + 1.0\",\n",
    "                    # +1.0, um sicherzustellen, dass alle Werte positiv sind\n",
    "                    \"params\": {\"query_vector\": query_vector}\n",
    "                }\n",
    "            }\n",
    "        }\n",
    "    }\n",
    "    return es.search(index=index, body=query)"
   ]
  },
  {
   "cell_type": "raw",
   "id": "6101062777191904",
   "metadata": {
    "collapsed": false
   },
   "source": [
    "trying to use the knn search instead of the cosine similarity search"
   ]
  },
  {
   "cell_type": "code",
   "execution_count": 5,
   "id": "89ecbbd9451faf5f",
   "metadata": {
    "ExecuteTime": {
     "end_time": "2024-04-10T11:14:41.556397Z",
     "start_time": "2024-04-10T11:14:41.551909Z"
    },
    "collapsed": false
   },
   "outputs": [],
   "source": [
    "def knn_search(index, query: str, k: int = 10):\n",
    "    # Wandeln Sie die Abfrage in einen Vektor um\n",
    "    query_vector = query_to_vector(query, embedder)\n",
    "    \n",
    "    # Konstruieren Sie die k-NN-Suche\n",
    "    knn_query = { \n",
    "        \"knn\": {\n",
    "            \"field\": \"embeddings\",  # Das Feld, das die Vektoren enthält\n",
    "            \"query_vector\": query_vector,\n",
    "            \"k\": k,\n",
    "            \"num_candidates\": 100 \n",
    "        }\n",
    "    }\n",
    "    \n",
    "    # Führen Sie die k-NN-Suche aus\n",
    "    return es.search(index=index, body=knn_query)"
   ]
  },
  {
   "cell_type": "markdown",
   "id": "8548993de949a242",
   "metadata": {
    "collapsed": false
   },
   "source": [
    "#### Perform BM25 and Vector Similarity Searches\n",
    "\n",
    "first, perform a BM25 search using the match query."
   ]
  },
  {
   "cell_type": "code",
   "execution_count": 14,
   "id": "4cc8b147ef147f06",
   "metadata": {
    "ExecuteTime": {
     "end_time": "2024-04-11T15:29:51.585418Z",
     "start_time": "2024-04-11T15:29:48.190681Z"
    },
    "collapsed": false
   },
   "outputs": [],
   "source": [
    "results = bm25_search(\"What is the mortality rate of COVID-19?\", k=100)"
   ]
  },
  {
   "cell_type": "code",
   "execution_count": 15,
   "id": "c2c54153b7684d93",
   "metadata": {
    "ExecuteTime": {
     "end_time": "2024-04-11T15:29:54.532943Z",
     "start_time": "2024-04-11T15:29:54.527831Z"
    },
    "collapsed": false
   },
   "outputs": [
    {
     "name": "stdout",
     "output_type": "stream",
     "text": [
      "Score: 26.324913, PMID: 32621066, Title: Analysis of Austrian COVID-19 deaths by age and sex.\n",
      "Score: 26.013273, PMID: 34783897, Title: Preterm birth, stillbirth and early neonatal mortality during the Danish COVID-19 lockdown.\n",
      "Score: 25.476734, PMID: 33776407, Title: Multiple sclerosis patients and COVID-19.\n",
      "Score: 25.37893, PMID: 35813262, Title: Measuring the Effect of COVID-19 Pandemic on Mortality: Review and Prospect - China, 2021.\n",
      "Score: 25.233519, PMID: 32865940, Title: COVID-19: Why Has the Mortality Rate Declined?\n",
      "Score: 24.946014, PMID: 32365212, Title: [Covid-19 - deaths and analysis].\n",
      "Score: 24.925226, PMID: 33218796, Title: Spatial inequalities of COVID-19 mortality rate in relation to socioeconomic and environmental factors across England.\n",
      "Score: 24.884295, PMID: 35482643, Title: COVID-19 mortality in the United States: It's been two Americas from the start.\n",
      "Score: 24.837067, PMID: 32678061, Title: Men and COVID-19: A Biopsychosocial Approach to Understanding Sex Differences in Mortality and Recommendations for Practice and Policy Interventions.\n",
      "Score: 24.779966, PMID: 36343310, Title: Racial And Ethnic Inequalities In COVID-19 Mortality Within Carceral Settings: An Analysis Of Texas Prisons.\n",
      "Score: 24.666018, PMID: 32504106, Title: [Increased risk of deep vein thrombosis in intensive care unit patients with CoViD-19 infections?-Preliminary data].\n",
      "Score: 24.40749, PMID: 36199983, Title: Does 'Data fudging' explain the autocratic advantage? Evidence from the gap between Official Covid-19 mortality and excess mortality.\n",
      "Score: 24.375858, PMID: 35077101, Title: [Association between Covid-19 mortality and atmospheric pollution in Mexican cities].\n",
      "Score: 24.349539, PMID: 35058532, Title: State social distancing restrictions and nursing home outcomes.\n",
      "Score: 24.306416, PMID: 32501382, Title: What orthopedic surgeons need to know about Covid-19 pandemic.\n",
      "Score: 24.187761, PMID: 33075535, Title: Africa's low COVID-19 mortality rate: A paradox?\n",
      "Score: 24.10879, PMID: 36060856, Title: Excess deaths during the COVID-19 pandemic in Alberta, Canada.\n",
      "Score: 24.030546, PMID: 34581999, Title: Changes in COVID-19-Associated Deaths During a Year Among Blacks and Hispanics Compared to Whites in the State of Connecticut.\n",
      "Score: 24.01647, PMID: 36142027, Title: COVID-19, Non-Communicable Diseases, and Behavioral Factors in the Peruvian Population ≥ 15 Years: An Ecological Study during the First and Second Year of the COVID-19 Pandemic.\n",
      "Score: 23.977262, PMID: 33728066, Title: Effect of COVID-19 on Mortality of Pregnant and Postpartum Women: A Systematic Review and Meta-Analysis.\n",
      "Score: 23.973434, PMID: 32709854, Title: Covid-19 mortality is negatively associated with test number and government effectiveness.\n",
      "Score: 23.84487, PMID: 32661937, Title: Pediatrician, watch out for corona-phobia.\n",
      "Score: 23.754244, PMID: 34218318, Title: COVID-19 in pediatric patients undergoing chronic dialysis and kidney transplantation.\n",
      "Score: 23.751411, PMID: 32756513, Title: COVID-19 Global Risk: Expectation vs. Reality.\n",
      "Score: 23.73906, PMID: 32992105, Title: Preparing for and responding to Covid-19's 'second hit'.\n",
      "Score: 23.738796, PMID: 34048201, Title: Impact of COVID-19 Pandemic in a Brazilian High-Volume Aortic Center.\n",
      "Score: 23.663988, PMID: 34400452, Title: Temporal trends of COVID-19 mortality and hospitalisation rates: an observational cohort study from the US Department of Veterans Affairs.\n",
      "Score: 23.659967, PMID: 35217534, Title: Contribution of the elevated thrombosis risk of males to the excess male mortality observed in COVID-19: an observational study.\n",
      "Score: 23.652725, PMID: 35930243, Title: The role of kidney injury biomarkers in COVID-19.\n",
      "Score: 23.644642, PMID: 35330387, Title: Characteristics of the Third COVID-19 Pandemic Wave with Special Focus on Socioeconomic Inequalities in Morbidity, Mortality and the Uptake of COVID-19 Vaccination in Hungary.\n",
      "Score: 23.502783, PMID: 34630651, Title: Extracorporeal membrane oxygenation in the management of critically ill patients with coronavirus disease 2019: A narrative review.\n",
      "Score: 23.470608, PMID: 32343650, Title: Excess Mortality Estimation During the COVID-19 Pandemic: Preliminary Data from Portugal.\n",
      "Score: 23.391472, PMID: 33292536, Title: All-cause mortality supports the COVID-19 mortality in Belgium and comparison with major fatal events of the last century.\n",
      "Score: 23.388765, PMID: 34308302, Title: Estimating the early impact of vaccination against COVID-19 on deaths among elderly people in Brazil: Analyses of routinely-collected data on vaccine coverage and mortality.\n",
      "Score: 23.369747, PMID: 34354682, Title: Causes and Consequences of COVID-19-Associated Bacterial Infections.\n",
      "Score: 23.368668, PMID: 36093278, Title: The sources of the Kuznets relationship between the COVID-19 mortality rate and economic performance.\n",
      "Score: 23.34332, PMID: 34534226, Title: COVID-19 mortality with regard to healthcare services availability, health risks, and socio-spatial factors at department level in France: A spatial cross-sectional analysis.\n",
      "Score: 23.311697, PMID: 35898347, Title: Geographic and Temporal Patterns in Covid-19 Mortality by Race and Ethnicity in the United States from March 2020 to February 2022.\n",
      "Score: 23.279709, PMID: 32831521, Title: Putative Natural History of CoViD-19.\n",
      "Score: 23.26163, PMID: 34240648, Title: The one-sided explanations of a multifactorial coronavirus disease.\n",
      "Score: 23.255978, PMID: 33860908, Title: How often and to what extent do admitted COVID-19 patients have signs of cardiac injury?\n",
      "Score: 23.243877, PMID: 32776139, Title: Osteopathic Considerations for the Pregnant Patient with COVID-19.\n",
      "Score: 23.24017, PMID: 32945643, Title: Sex hormones and COVID-19: tussle between the two.\n",
      "Score: 23.193726, PMID: 32982349, Title: COVID's Razor: RAS Imbalance, the Common Denominator Across Disparate, Unexpected Aspects of COVID-19.\n",
      "Score: 23.180195, PMID: 35737205, Title: Sex differences in the mortality rate for coronavirus disease 2019 compared to other causes of death: an analysis of population-wide data from 63 countries.\n",
      "Score: 23.161182, PMID: 32953124, Title: Socio-economic inequality in global incidence and mortality rates from coronavirus disease 2019: an ecological study.\n",
      "Score: 23.136011, PMID: 34318585, Title: One-year mortality and consequences of COVID-19 in cancer patients: A cohort study.\n",
      "Score: 23.110867, PMID: 34960692, Title: The Impact of COVID-19 on Mortality in Spain: Monitoring Excess Mortality (MoMo) and the Surveillance of Confirmed COVID-19 Deaths.\n",
      "Score: 23.061127, PMID: 34402152, Title: A global country-level analysis of the relationship between obesity and COVID-19 cases and mortality.\n",
      "Score: 23.05785, PMID: 35951587, Title: Association between median household income, state Medicaid expansion status, and COVID-19 outcomes across US counties.\n",
      "Score: 23.050909, PMID: 34154865, Title: Perioperative mortality and morbidity of hip fractures among COVID-19 infected and non-infected patients: A systematic review and meta-analysis.\n",
      "Score: 23.036907, PMID: 34772396, Title: Effect of altitude on COVID-19 mortality in Ecuador: an ecological study.\n",
      "Score: 22.996613, PMID: 35946619, Title: Social and territorial inequalities in the mortality of children and adolescents due to COVID-19 in Brazil.\n",
      "Score: 22.993288, PMID: 35908851, Title: Marburg virus disease: A deadly rare virus is coming.\n",
      "Score: 22.960596, PMID: 33350316, Title: The prevalence, mortality, and associated risk factors for developing COVID-19 in hip fracture patients: a systematic review and meta-analysis.\n",
      "Score: 22.942175, PMID: 34612774, Title: Mortality in hospitalized COVID-19 patients was associated with the COVID-19 admission rate during the first year of the pandemic in Sweden.\n",
      "Score: 22.86676, PMID: 36319938, Title: Centenarians born before 1919 are resistant to COVID-19.\n",
      "Score: 22.863209, PMID: 33163879, Title: A comparative analysis of the COVID-19 pandemic response: The case of Turkey.\n",
      "Score: 22.852364, PMID: 32941862, Title: Critically Ill Adults With Coronavirus Disease 2019 in New Orleans and Care With an Evidence-Based Protocol.\n",
      "Score: 22.83515, PMID: 32947506, Title: Systematic review and meta-analysis of the effectiveness and safety of hydroxychloroquine in treating COVID-19 patients.\n",
      "Score: 22.809055, PMID: 33690595, Title: International heterogeneity in coronavirus disease 2019 pediatric mortality rates.\n",
      "Score: 22.803581, PMID: 33412821, Title: Socioeconomic inequalities in overall and COVID-19 mortality during the first outbreak peak in Emilia-Romagna Region (Northern Italy).\n",
      "Score: 22.79761, PMID: 33591211, Title: The rate of COVID-19 and associated mortality after elective hip and knee arthroplasty prior to cessation of elective services in UK.\n",
      "Score: 22.794813, PMID: 33655277, Title: Sex differences in the mortality rate for coronavirus disease 2019 compared to other causes of death.\n",
      "Score: 22.784885, PMID: 34143810, Title: Association of the past epidemic of Mycobacterium tuberculosis with mortality and incidence of COVID-19.\n",
      "Score: 22.782915, PMID: 35811045, Title: Trends in Etiology-based Mortality From Chronic Liver Disease Before and During COVID-19 Pandemic in the United States.\n",
      "Score: 22.77812, PMID: 34236244, Title: Clinical characteristics, risk factors, and cardiac manifestations of cancer patients with COVID-19.\n",
      "Score: 22.765633, PMID: 33495884, Title: Worldwide inverse correlation between Bacille Calmette-Guérin (BCG) immunization and COVID-19 mortality.\n",
      "Score: 22.764214, PMID: 34857490, Title: Impact of diabetes mellitus on COVID-19 clinical symptoms and mortality: Jakarta's COVID-19 epidemiological registry.\n",
      "Score: 22.725569, PMID: 35757461, Title: Associations between nighttime light and COVID-19 incidence and mortality in the United States.\n",
      "Score: 22.719309, PMID: 33818679, Title: Sex Disparities in COVID-19 Mortality Vary Across US Racial Groups.\n",
      "Score: 22.710667, PMID: 33830986, Title: COVID-19 Incidence and Mortality Among American Indian/Alaska Native and White Persons - Montana, March 13-November 30, 2020.\n",
      "Score: 22.710562, PMID: 34698315, Title: Association between Obesity and COVID-19 Mortality in Peru: An Ecological Study.\n",
      "Score: 22.701323, PMID: 35360752, Title: HELLP Syndrome and COVID-19; association or accident: A case series.\n",
      "Score: 22.699673, PMID: 34164954, Title: Incidence and Mortality Associated with Cardiovascular Medication among Hypertensive COVID-19 Patients in South Korea.\n",
      "Score: 22.697275, PMID: 36189099, Title: Low Mortality of Orthopedic Trauma Patients With Asymptomatic COVID-19: A Level I Trauma Center Pandemic Experience.\n",
      "Score: 22.682953, PMID: 32980614, Title: A systematic review of COVID-19 and obstructive sleep apnoea.\n",
      "Score: 22.655434, PMID: 36125437, Title: Comparison of all renal replacement therapy modalities in terms of COVID-19 infection rate &amp; mortality in the COVID-19 pandemic and importance of home therapies.\n",
      "Score: 22.59405, PMID: 32865700, Title: Respiratory characteristics and related intraoperative ventilatory management for patients with COVID-19 pneumonia.\n",
      "Score: 22.58143, PMID: 33519136, Title: Hospital transmission rates of the SARS-CoV 2 disease amongst orthopaedic in-patients in a secondary care centre: A quantitative review.\n",
      "Score: 22.571785, PMID: 35411615, Title: Outcomes of Minority COVID-19 patients managed with ECMO: A single-center experience.\n",
      "Score: 22.562658, PMID: 33024235, Title: The age distribution of mortality from novel coronavirus disease (COVID-19) suggests no large difference of susceptibility by age.\n",
      "Score: 22.5612, PMID: 34884277, Title: The Impact of COVID-19 Pandemic on Management and Outcome in Patients with Heart Failure.\n",
      "Score: 22.557558, PMID: 33657587, Title: Lessons from COVID-19 mortality data across countries.\n",
      "Score: 22.556175, PMID: 32292261, Title: Biological and epidemiological trends in the prevalence and mortality due to outbreaks of novel coronavirus COVID-19.\n",
      "Score: 22.549688, PMID: 34780361, Title: Association between obesity and diabetes prevalence and COVID-19 mortality in Mexico: an ecological study.\n",
      "Score: 22.54769, PMID: 35422037, Title: Rapidly improving acute respiratory distress syndrome in COVID-19: a multi-centre observational study.\n",
      "Score: 22.540619, PMID: 33831280, Title: Distribution of COVID-19 cases and deaths in Europe during the first 12 peak weeks of outbreak.\n",
      "Score: 22.53608, PMID: 34816925, Title: The prognostic significance of erythrocyte sedimentation rate in COVID-19.\n",
      "Score: 22.532238, PMID: 35530744, Title: Incidence and predictors of mortality among COVID-19 patients admitted to treatment centers in North West Ethiopia; A retrospective cohort study, 2021.\n",
      "Score: 22.523144, PMID: 35014703, Title: COVID-19 infection and its consequences among surgical oncology patients: A systematic analysis, meta-analysis and meta-regression.\n",
      "Score: 22.519073, PMID: 33288965, Title: [Public healthcare expenditure and COVID-19 mortality in Spain and in Europe].\n",
      "Score: 22.519073, PMID: 34049840, Title: Public healthcare expenditure and COVID-19 mortality in Spain and in Europe.\n",
      "Score: 22.511044, PMID: 33556327, Title: Factors associated with the spatial heterogeneity of the first wave of COVID-19 in France: a nationwide geo-epidemiological study.\n",
      "Score: 22.510841, PMID: 34027674, Title: Mortality risk of surgically managing orthopaedic trauma during the COVID-19 pandemic.\n",
      "Score: 22.508713, PMID: 35340979, Title: The world trade network: country centrality and the COVID-19 pandemic.\n",
      "Score: 22.507309, PMID: 34488764, Title: Impact of long-term exposure to PM<sub>2.5</sub> and temperature on coronavirus disease mortality: observed trends in France.\n",
      "Score: 22.496813, PMID: 35260481, Title: Risk and protective factors for severe COVID-19 infection in a cohort of patients with sickle cell disease.\n",
      "Score: 22.496813, PMID: 35700866, Title: Geographical distribution of cystic fibrosis carriers as population genetic determinant of COVID-19 spread and fatality in 37 countries.\n",
      "Score: 22.489035, PMID: 33879694, Title: The therapeutic effect and safety of the drugs for COVID-19: A systematic review and meta-analysis.\n"
     ]
    }
   ],
   "source": [
    "# Print the results\n",
    "for hit in results['hits']['hits']:\n",
    "    print(f\"Score: {hit['_score']}, PMID: {hit['_source']['PMID']}, Title: {hit['_source']['title']}\")"
   ]
  },
  {
   "cell_type": "markdown",
   "id": "a381d7040c0a1d1c",
   "metadata": {
    "collapsed": false
   },
   "source": [
    "#### Vector Similarity Search\n",
    "now, perform a vector similarity search using the cosine similarity between the query vector and the embeddings in the indexed documents."
   ]
  },
  {
   "cell_type": "code",
   "execution_count": 30,
   "id": "c9b5f988888de099",
   "metadata": {
    "ExecuteTime": {
     "end_time": "2024-04-06T21:20:25.617032Z",
     "start_time": "2024-04-06T21:19:31.899009Z"
    },
    "collapsed": false
   },
   "outputs": [
    {
     "name": "stdout",
     "output_type": "stream",
     "text": [
      "Score: 1.9210962,  PMID: 1501243, Title: Epidermal growth factor receptor: elements of intracellular communication.\n",
      "Score: 1.9196633,  PMID: 2042633, Title: The Egr family of nuclear signal transducers.\n",
      "Score: 1.9190896,  PMID: 1633422, Title: Crossed signals: oncogenic transcription factors.\n",
      "Score: 1.9177192,  PMID: 2955833, Title: Phorbol esters as signal transducers and tumor promoters.\n",
      "Score: 1.9172626,  PMID: 2824532, Title: PDGF-like growth factors in autocrine stimulation of growth.\n",
      "Score: 1.9162145,  PMID: 1622545, Title: The regulation and function of p21ras in T cells.\n",
      "Score: 1.9161748,  PMID: 1329870, Title: The junction between cytokines and cell adhesion.\n",
      "Score: 1.9161192,  PMID: 1645965, Title: Overexpression of human TRK proto-oncogene into mouse cells using an inducible vector system.\n",
      "Score: 1.9159867,  PMID: 1675819, Title: The expanding family of guanylyl cyclases.\n",
      "Score: 1.9159176,  PMID: 1368709, Title: Analysing lymphokine-receptor interactions of IL-1 and IL-2 by recombinant-DNA technology.\n"
     ]
    }
   ],
   "source": [
    "# Führen Sie die Abfrage aus\n",
    "results = cosine_similarity(index_name, \"List signaling molecules (ligands) that interact with the receptor EGFR?\", k=10)\n",
    "\n",
    "for hit in results['hits']['hits']:\n",
    "    print(f\"Score: {hit['_score']},  PMID: {hit['_source']['PMID']}, Title: {hit['_source']['title']}\")"
   ]
  },
  {
   "cell_type": "markdown",
   "id": "4cea44d3127ce96",
   "metadata": {
    "collapsed": false
   },
   "source": [
    "#### k-NN Search\n",
    "perform a k-NN search using the k-NN search API."
   ]
  },
  {
   "cell_type": "code",
   "execution_count": 45,
   "id": "bfcd1d07b4fee44c",
   "metadata": {
    "ExecuteTime": {
     "end_time": "2024-04-06T21:35:04.707056Z",
     "start_time": "2024-04-06T21:34:40.128519Z"
    },
    "collapsed": false
   },
   "outputs": [
    {
     "name": "stdout",
     "output_type": "stream",
     "text": [
      "Score: 0.96054816,  PMID: 1501243, Title: Epidermal growth factor receptor: elements of intracellular communication.\n",
      "Score: 0.9598316,  PMID: 2042633, Title: The Egr family of nuclear signal transducers.\n",
      "Score: 0.9595448,  PMID: 1633422, Title: Crossed signals: oncogenic transcription factors.\n",
      "Score: 0.9588597,  PMID: 2955833, Title: Phorbol esters as signal transducers and tumor promoters.\n",
      "Score: 0.9586312,  PMID: 2824532, Title: PDGF-like growth factors in autocrine stimulation of growth.\n",
      "Score: 0.95810723,  PMID: 1622545, Title: The regulation and function of p21ras in T cells.\n",
      "Score: 0.9580873,  PMID: 1329870, Title: The junction between cytokines and cell adhesion.\n",
      "Score: 0.9579934,  PMID: 1675819, Title: The expanding family of guanylyl cyclases.\n",
      "Score: 0.9579588,  PMID: 1368709, Title: Analysing lymphokine-receptor interactions of IL-1 and IL-2 by recombinant-DNA technology.\n",
      "Score: 0.9578283,  PMID: 2103500, Title: Cellular and viral ligands that interact with the EGF receptor.\n"
     ]
    }
   ],
   "source": [
    "results = knn_search(index_name, \"List signaling molecules (ligands) that interact with the receptor EGFR?\", k=10)\n",
    "\n",
    "for hit in results['hits']['hits']:\n",
    "    print(f\"Score: {hit['_score']},  PMID: {hit['_source']['PMID']}, Title: {hit['_source']['title']}\")"
   ]
  },
  {
   "cell_type": "markdown",
   "id": "1846b6e75b5da818",
   "metadata": {
    "collapsed": false
   },
   "source": [
    "### ELSER - Elastic Search Retrieval \n",
    "\n",
    "ELSER is a sparse vector representation for semantic retrieval developed by Elastic. Instead of dense vector representations, ELSER uses sparse vectors to represent text data. "
   ]
  }
 ],
 "metadata": {
  "kernelspec": {
   "display_name": "Python 3",
   "language": "python",
   "name": "python3"
  },
  "language_info": {
   "codemirror_mode": {
    "name": "ipython",
    "version": 3
   },
   "file_extension": ".py",
   "mimetype": "text/x-python",
   "name": "python",
   "nbconvert_exporter": "python",
   "pygments_lexer": "ipython3",
   "version": "3.10.12"
  }
 },
 "nbformat": 4,
 "nbformat_minor": 5
}
