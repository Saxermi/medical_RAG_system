{
 "cells": [
  {
   "cell_type": "code",
   "execution_count": 8,
   "id": "initial_id",
   "metadata": {
    "collapsed": true,
    "ExecuteTime": {
     "end_time": "2024-04-11T15:24:33.998287Z",
     "start_time": "2024-04-11T15:24:33.902535Z"
    }
   },
   "outputs": [
    {
     "name": "stdout",
     "output_type": "stream",
     "text": [
      "{'name': '54bb3107153d', 'cluster_name': 'docker-cluster', 'cluster_uuid': 'tl0aceAXRDaQ4NbSC-Je7Q', 'version': {'number': '8.13.2', 'build_flavor': 'default', 'build_type': 'docker', 'build_hash': '16cc90cd2d08a3147ce02b07e50894bc060a4cbf', 'build_date': '2024-04-05T14:45:26.420424304Z', 'build_snapshot': False, 'lucene_version': '9.10.0', 'minimum_wire_compatibility_version': '7.17.0', 'minimum_index_compatibility_version': '7.0.0'}, 'tagline': 'You Know, for Search'}\n"
     ]
    }
   ],
   "source": [
    "from elasticsearch import Elasticsearch\n",
    "import urllib3\n",
    "import os\n",
    "\n",
    "\n",
    "elastic_password = os.getenv('ELASTIC_PASSWORD_SERVER2')\n",
    "\n",
    "es = Elasticsearch(\n",
    "    ['https://localhost:9200'],\n",
    "    basic_auth=('elastic', elastic_password),\n",
    "    verify_certs=False,\n",
    "    ca_certs=\"C:/Users/linus/http_ca.crt\",\n",
    "    request_timeout=60\n",
    ")\n",
    "\n",
    "index_name = \"pubmed_index\"\n",
    "\n",
    "urllib3.disable_warnings()\n",
    "\n",
    "print(es.info())"
   ]
  },
  {
   "cell_type": "code",
   "outputs": [
    {
     "data": {
      "text/plain": "ObjectApiResponse({'count': 1795307, '_shards': {'total': 1, 'successful': 1, 'skipped': 0, 'failed': 0}})"
     },
     "execution_count": 12,
     "metadata": {},
     "output_type": "execute_result"
    }
   ],
   "source": [
    "# checking number of documents in the index\n",
    "es.count(index=index_name)"
   ],
   "metadata": {
    "collapsed": false,
    "ExecuteTime": {
     "end_time": "2024-04-11T15:27:03.643225Z",
     "start_time": "2024-04-11T15:27:03.607945Z"
    }
   },
   "id": "68205f492c85d24b",
   "execution_count": 12
  },
  {
   "cell_type": "markdown",
   "source": [
    "### Define query functions for BM25 and Vector Similarity Search\n",
    "\n",
    "Define a function to perform a BM25 search using the match query."
   ],
   "metadata": {
    "collapsed": false
   },
   "id": "cb477e6f0b7178d4"
  },
  {
   "cell_type": "code",
   "outputs": [],
   "source": [
    "# Define a search query\n",
    "def bm25_search(query: str, k: int = 5):\n",
    "    query = {\n",
    "        \"size\": k,\n",
    "        \"query\": {\n",
    "            \"match\": {\n",
    "                \"content\": f\"{query}\"\n",
    "            }\n",
    "        },\n",
    "        \"_source\": [\"PMID\", \"title\"]\n",
    "    }\n",
    "    # Elasticsearch nutzt standardmässig das BM25-Modell, um die Relevanz der Dokumente zu berechnen\n",
    "    return es.search(index='pubmed_index', body=query)"
   ],
   "metadata": {
    "collapsed": false,
    "ExecuteTime": {
     "end_time": "2024-04-11T15:27:07.474197Z",
     "start_time": "2024-04-11T15:27:07.468939Z"
    }
   },
   "id": "f78167d428f06529",
   "execution_count": 13
  },
  {
   "cell_type": "markdown",
   "source": [
    "Initialize the text embedder and define a function to convert a query to a vector using the bioBERT embeddings."
   ],
   "metadata": {
    "collapsed": false
   },
   "id": "d079c4d6618d3b38"
  },
  {
   "cell_type": "code",
   "outputs": [],
   "source": [
    "from Embedding import TextEmbedder\n",
    "embedder = TextEmbedder()\n",
    "\n",
    "def query_to_vector(text, embedder):\n",
    "    embedding = embedder.embed(text)\n",
    "    return embedding"
   ],
   "metadata": {
    "collapsed": false,
    "ExecuteTime": {
     "end_time": "2024-04-11T15:27:23.549841Z",
     "start_time": "2024-04-11T15:27:14.558573Z"
    }
   },
   "id": "ed4ac4f757e7680d",
   "execution_count": 14
  },
  {
   "cell_type": "markdown",
   "source": [
    "Define a function to perform a vector similarity search using the cosine similarity between the query vector and the embeddings in the indexed documents."
   ],
   "metadata": {
    "collapsed": false
   },
   "id": "e6015236b12040cb"
  },
  {
   "cell_type": "code",
   "outputs": [],
   "source": [
    "def cosine_similarity(index, query: str, k: int = 5):\n",
    "    query_vector = query_to_vector(query, embedder)\n",
    "    \n",
    "    query = {\n",
    "        \"size\": k,  # Anzahl der zurückzugebenden Ergebnisse\n",
    "        \"query\": {\n",
    "            \"script_score\": {\n",
    "                \"query\": {\"match_all\": {}},\n",
    "                \"script\": {\n",
    "                    \"source\": \"cosineSimilarity(params.query_vector, 'embeddings') + 1.0\",\n",
    "                    # +1.0, um sicherzustellen, dass alle Werte positiv sind\n",
    "                    \"params\": {\"query_vector\": query_vector}\n",
    "                }\n",
    "            }\n",
    "        }\n",
    "    }\n",
    "    return es.search(index=index, body=query)"
   ],
   "metadata": {
    "collapsed": false,
    "ExecuteTime": {
     "end_time": "2024-04-10T11:14:40.480125Z",
     "start_time": "2024-04-10T11:14:40.474963Z"
    }
   },
   "id": "caccaaa64018caea",
   "execution_count": 4
  },
  {
   "cell_type": "raw",
   "source": [
    "trying to use the knn search instead of the cosine similarity search"
   ],
   "metadata": {
    "collapsed": false
   },
   "id": "6101062777191904"
  },
  {
   "cell_type": "code",
   "outputs": [],
   "source": [
    "def knn_search(index, query: str, k: int = 10):\n",
    "    # Wandeln Sie die Abfrage in einen Vektor um\n",
    "    query_vector = query_to_vector(query, embedder)\n",
    "    \n",
    "    # Konstruieren Sie die k-NN-Suche\n",
    "    knn_query = { \n",
    "        \"knn\": {\n",
    "            \"field\": \"embeddings\",  # Das Feld, das die Vektoren enthält\n",
    "            \"query_vector\": query_vector,\n",
    "            \"k\": k,\n",
    "            \"num_candidates\": 100 \n",
    "        }\n",
    "    }\n",
    "    \n",
    "    # Führen Sie die k-NN-Suche aus\n",
    "    return es.search(index=index, body=knn_query)"
   ],
   "metadata": {
    "collapsed": false,
    "ExecuteTime": {
     "end_time": "2024-04-10T11:14:41.556397Z",
     "start_time": "2024-04-10T11:14:41.551909Z"
    }
   },
   "id": "89ecbbd9451faf5f",
   "execution_count": 5
  },
  {
   "cell_type": "markdown",
   "source": [
    "#### Perform BM25 and Vector Similarity Searches\n",
    "\n",
    "first, perform a BM25 search using the match query."
   ],
   "metadata": {
    "collapsed": false
   },
   "id": "8548993de949a242"
  },
  {
   "cell_type": "code",
   "outputs": [],
   "source": [
    "results = bm25_search(\"is the Epstein-Bar virus deadly?\", k=100)"
   ],
   "metadata": {
    "collapsed": false,
    "ExecuteTime": {
     "end_time": "2024-04-11T15:29:51.585418Z",
     "start_time": "2024-04-11T15:29:48.190681Z"
    }
   },
   "id": "4cc8b147ef147f06",
   "execution_count": 21
  },
  {
   "cell_type": "code",
   "outputs": [
    {
     "name": "stdout",
     "output_type": "stream",
     "text": [
      "Score: 20.796297, PMID: 1389547, Title: [Acute viral hepatitis A and C: report of a case].\n",
      "Score: 19.720222, PMID: 78913, Title: EBV antigens in lymphocytes of patients with exudative tonsillitis, infectious mononucleosis and Hodgkin's disease.\n",
      "Score: 19.435518, PMID: 2075630, Title: An outbreak of acute hepatitis A infection in rural Saudi Arabia.\n",
      "Score: 18.543007, PMID: 1847985, Title: Detection of Epstein-Barr virus DNA in formalin-fixed paraffin-embedded tissue of nasopharyngeal carcinoma using polymerase chain reaction and in situ hybridization.\n",
      "Score: 18.529373, PMID: 2847613, Title: Epstein-Barr virus in the bone marrow of patients with aplastic anemia.\n",
      "Score: 18.523855, PMID: 3008616, Title: Chronic Epstein-Barr virus infection associated with fever and interstitial pneumonitis. Clinical and serologic features and response to antiviral chemotherapy.\n",
      "Score: 18.41818, PMID: 2541162, Title: Impaired late suppression of Epstein-Barr virus (EBV)-induced immunoglobulin synthesis: a common feature of autoimmune disease.\n",
      "Score: 18.353088, PMID: 1318000, Title: Localization of Epstein-Barr viral genomes in angiocentric immunoproliferative lesions.\n",
      "Score: 18.33394, PMID: 1655026, Title: Lack of evidence for involvement of Epstein-Barr virus in the development of the \"Quilty\" lesion of transplanted hearts: an in situ hybridization study.\n",
      "Score: 18.23863, PMID: 2159663, Title: Immunohistology of Epstein-Barr virus-associated antigens in B cell disorders from immunocompromised individuals.\n",
      "Score: 18.14373, PMID: 1650326, Title: Epstein-Barr virus and persistent graft dysfunction after liver transplantation.\n",
      "Score: 18.011562, PMID: 205877, Title: Transforming activity of Epstein-Barr virus obtained by superinfection of Raji cells.\n",
      "Score: 17.833803, PMID: 1540101, Title: The Surgical Infection Society's policy on human immunodeficiency virus and hepatitis B and C infection. The Ad Hoc Committee on Acquired Immunodeficiency Syndrome and Hepatitis.\n",
      "Score: 17.762276, PMID: 2829679, Title: Chronic fatigue syndrome: a working case definition.\n",
      "Score: 17.492107, PMID: 2163409, Title: Oral hairy leukoplakia.\n",
      "Score: 17.467985, PMID: 230116, Title: Guillain-Barré syndrome associated with Epstein-Barr virus in a cytomegalovirus-negative patient.\n",
      "Score: 17.467716, PMID: 3017188, Title: Primary central nervous system lymphoma related to Epstein-Barr virus in a patient with acquired immune deficiency syndrome.\n",
      "Score: 17.45393, PMID: 2545926, Title: Cytopathic effects induced by Epstein-Barr virus replication in epithelial nasopharyngeal carcinoma hybrid cells.\n",
      "Score: 17.444592, PMID: 2542858, Title: Hairy leukoplakia: an AIDS-associated opportunistic infection.\n",
      "Score: 17.421583, PMID: 197258, Title: Clonal transformation of adult human leukocytes by Epstein-Barr virus.\n",
      "Score: 17.391895, PMID: 230491, Title: Antibodies to Epstein-Barr virus-determined antigens in normal subjects and in patients with seropositive rheumatoid arthritis.\n",
      "Score: 17.38941, PMID: 3015629, Title: Demonstration of Epstein-Barr virus DNA in a previously healthy boy with fulminant hepatic failure.\n",
      "Score: 17.387312, PMID: 2991556, Title: Transformation by Epstein-Barr virus requires DNA sequences in the region of BamHI fragments Y and H.\n",
      "Score: 17.383785, PMID: 2839428, Title: Lymphocytes activated by the Epstein-Barr virus to produce immunoglobulin do not express CD23 or become immortalized.\n",
      "Score: 17.383785, PMID: 2165351, Title: Immunohistologic identification of Epstein-Barr virus-induced hepatitis reactivation after OKT-3 therapy following orthotopic liver transplant.\n",
      "Score: 17.366373, PMID: 2797527, Title: Clinicians and HIV infections: social policies and professional issues.\n",
      "Score: 17.356, PMID: 2420755, Title: Double immunoenzymatic staining for the simultaneous detection of Epstein-Barr virus induced antigens.\n",
      "Score: 17.325191, PMID: 2554773, Title: [Macrophage activation syndrome linked to Epstein-Barr virus].\n",
      "Score: 17.322514, PMID: 169772, Title: Epstein-Barr virus associated with episodes of recurrent tonsillitis.\n",
      "Score: 17.251125, PMID: 71245, Title: Continuous lymphoblastoid suspension cultures from cells of haematopoietic organs of baboons with malignant lymphoma. Report III: Immunological studies.\n",
      "Score: 17.249113, PMID: 93275, Title: [Epstein-Barr virus associated Burkitt's lymphoma in a French child (author's transl)].\n",
      "Score: 17.24431, PMID: 1344810, Title: Lymphoid interstitial pneumonia not associated with HIV infection: role of Epstein-Barr virus.\n",
      "Score: 17.191843, PMID: 187259, Title: Herpesviruses and cancer in man and subhuman primates.\n",
      "Score: 17.15622, PMID: 3004720, Title: Rescue of a biologically active Epstein-Barr virus from nonproducer cells.\n",
      "Score: 17.148245, PMID: 2833864, Title: Adenovirus type-2 in a patient with lethal hemorrhagic colonic ulcers and chronic active Epstein-Barr virus infection.\n",
      "Score: 17.13043, PMID: 3023690, Title: Sequence and transcription analysis of the human cytomegalovirus DNA polymerase gene.\n",
      "Score: 17.078663, PMID: 2562304, Title: [Evaluation of serological criteria for the diagnosis of infectious mononucleosis].\n",
      "Score: 17.076006, PMID: 3009879, Title: Epstein-Barr virus-specific DNA polymerase in virus-nonproducer Raji cells.\n",
      "Score: 17.066355, PMID: 1647336, Title: Relating homology between the Epstein-Barr virus BOLF1 molecule and HLA-DQw8 beta chain to recent onset type 1 (insulin-dependent) diabetes mellitus.\n",
      "Score: 17.053211, PMID: 180190, Title: In vitro stimulation of lymphocytes of donors seronegative for Epstein-Barr virus by preparations of inactivated Epstein-Barr virus.\n",
      "Score: 17.051668, PMID: 2986287, Title: Individual tumors of multifocal EB virus-induced malignant lymphomas in tamarins arise from different B-cell clones.\n",
      "Score: 17.03149, PMID: 210392, Title: Epidemiological evidence for causal relationship between Epstein-Barr virus and Burkitt's lymphoma from Ugandan prospective study.\n",
      "Score: 17.02652, PMID: 232190, Title: Identification of transcribed regions of Epstein-Barr virus DNA in Burkitt lymphoma-derived cells.\n",
      "Score: 17.011091, PMID: 2998311, Title: The expression of Ia-antigen on nasopharyngeal carcinomas xenografted into nude mice.\n",
      "Score: 17.00777, PMID: 176664, Title: Superinfection epithelial nasopharyngeal carcinoma cells with Epstein-Barr virus.\n",
      "Score: 16.990845, PMID: 2823753, Title: Mollaret's meningitis associated with acute Epstein-Barr virus mononucleosis.\n",
      "Score: 16.94922, PMID: 89100, Title: Differential inducibility of Epstein-Barr virus in cloned, non-producer Raji cells.\n",
      "Score: 16.837404, PMID: 1669491, Title: Viruses and cancer. Causal associations.\n",
      "Score: 16.832657, PMID: 2981344, Title: Constitutive expression of Epstein-Barr virus-encoded RNAs and nuclear antigen during latency and after induction of Epstein-Barr virus replication.\n",
      "Score: 16.831413, PMID: 2536874, Title: [Epstein-Barr virus infections. New pathogenic and clinical aspects].\n",
      "Score: 16.820808, PMID: 2173898, Title: Antibodies to Epstein-Barr virus in iridocorneal endothelial syndrome.\n",
      "Score: 16.801195, PMID: 1372145, Title: T-cell lymphoma and the virus-associated hemophagocytic syndrome.\n",
      "Score: 16.777628, PMID: 2828695, Title: Viral etiology of testicular tumors.\n",
      "Score: 16.76845, PMID: 2981351, Title: Epstein-Barr virus transformation of human B lymphocytes despite inhibition of viral polymerase.\n",
      "Score: 16.726974, PMID: 2544539, Title: Chronic infection with Epstein-Barr virus, Chlamydia and hepatitis A virus, terminating in cirrhosis and nasopharyngeal carcinoma.\n",
      "Score: 16.71049, PMID: 1665694, Title: Alice in Wonderland syndrome as a presenting symptom of EBV infection.\n",
      "Score: 16.70518, PMID: 1331148, Title: Generation of macaque B lymphoblastoid cell lines with simian Epstein-Barr-like viruses: transformation procedure, characterization of the cell lines and occurrence of simian foamy virus.\n",
      "Score: 16.687975, PMID: 2548088, Title: High-resolution footprints of the DNA-binding domain of Epstein-Barr virus nuclear antigen 1.\n",
      "Score: 16.684114, PMID: 2158753, Title: A prospective study of primary Epstein-Barr virus infections among university students in Hong Kong.\n",
      "Score: 16.680813, PMID: 190930, Title: Epstein-Barr virus and human malignancy.\n",
      "Score: 16.663706, PMID: 229261, Title: Immunochemical characterization of Epstein-Barr virus-associated early and late antigens in n-butyrate-treated P3HR-1 cells.\n",
      "Score: 16.66181, PMID: 173738, Title: Epidemiologic study of a leukocyte-transforming agent in a general population.\n",
      "Score: 16.66081, PMID: 2154620, Title: Epstein-Barr virus (EBV) antigens processed and presented by B cells, B blasts, and macrophages trigger T-cell-mediated inhibition of EBV-induced B-cell transformation.\n",
      "Score: 16.627302, PMID: 2536757, Title: Seroepidemiological study of infectious mononucleosis in older patients.\n",
      "Score: 16.617884, PMID: 1310382, Title: Heart allograft involvement with Epstein-Barr virus-associated posttransplant lymphoproliferative disorder.\n",
      "Score: 16.615412, PMID: 2981469, Title: Small noncleaved B cell Burkitt-like lymphoma with chromosome t(8;14) translocation and Epstein-Barr virus nuclear-associated antigen in a homosexual man with acquired immune deficiency syndrome.\n",
      "Score: 16.585157, PMID: 1326892, Title: Influence of Epstein-Barr virus genomes on patient survival in Hodgkin's disease.\n",
      "Score: 16.561457, PMID: 2836298, Title: Epstein-Barr virus infection and hepatic fibrin-ring granulomas.\n",
      "Score: 16.510054, PMID: 1283255, Title: [Demonstration of Epstein-Barr virus DNA and determination of immunoglobulin and T-cell receptor gene rearrangerments in diagnostic lymph node biopsies from patients with Hodgkin's disease].\n",
      "Score: 16.475246, PMID: 1310097, Title: Cutaneous angiocentric T-cell lymphoma associated with Epstein-Barr virus.\n",
      "Score: 16.395802, PMID: 230688, Title: Selective immunodeficiency and malignant lymphoma of the central nervous system. Possible relationship to the Epstein-Barr virus.\n",
      "Score: 16.39207, PMID: 2172960, Title: Primary brain lymphoma in the immunocompetent host: relation to Epstein-Barr virus.\n",
      "Score: 16.382061, PMID: 1326891, Title: Epstein-Barr virus-associated anaplastic large cell lymphoma in renal transplant patients.\n",
      "Score: 16.380701, PMID: 227922, Title: Epstein-Barr virus-specific serum immunoglobulin A as an acute-phase antibody in infectious mononucleosis.\n",
      "Score: 16.342955, PMID: 2839612, Title: Recombinant vaccinia virus expressing Epstein-Barr virus glycoprotein gp340 protects cottontop tamarins against EB virus-induced malignant lymphomas.\n",
      "Score: 16.33907, PMID: 1326013, Title: The rapid serological diagnosis of infectious mononucleosis.\n",
      "Score: 16.31596, PMID: 2987963, Title: Activation of expression of latent Epstein-Barr herpesvirus after gene transfer with a small cloned subfragment of heterogeneous viral DNA.\n",
      "Score: 16.305779, PMID: 2824806, Title: Polymorphic proteins encoded within BZLF1 of defective and standard Epstein-Barr viruses disrupt latency.\n",
      "Score: 16.304314, PMID: 1656755, Title: Epstein-Barr virus antibodies in multifocal choroiditis and panuveitis.\n",
      "Score: 16.2512, PMID: 2992226, Title: A 16-month-old boy with infectious mononucleosis, parotitis and Bell's palsy.\n",
      "Score: 16.235144, PMID: 166423, Title: Cellular cooperation in transformation by EB virus.\n",
      "Score: 16.225813, PMID: 1326893, Title: Primary Epstein-Barr virus infection with clonal T-cell lymphoproliferation.\n",
      "Score: 16.21256, PMID: 2554231, Title: EBV and HSV infections in a patient who had undergone bone marrow transplantation: oral manifestations and diagnosis by in situ nucleic acid hybridization.\n",
      "Score: 16.19079, PMID: 1325479, Title: Primary cerebral lymphoma: a study of 47 cases probed for Epstein-Barr virus genome.\n",
      "Score: 16.187462, PMID: 163004, Title: Primary Epstein-Barr-virus infections in acute neurologic diseases.\n",
      "Score: 16.10754, PMID: 220447, Title: Extraction of soluble antigens of Epstein-Barr virus, Herpesvirus salmirl, and Herpesvirus ateles with the use of glycine.\n",
      "Score: 16.10754, PMID: 232507, Title: Enzyme immunoassay for detection of antibody to Epstein-Barr virus-specific early antigen.\n",
      "Score: 16.105453, PMID: 2987786, Title: Sudden hearing loss following infectious mononucleosis: possible effect of altered immunoregulation.\n",
      "Score: 16.09052, PMID: 2550376, Title: Replication of latent Epstein-Barr virus genomes in normal and malignant lymphoid cells.\n",
      "Score: 16.090322, PMID: 2999431, Title: Construction and analysis of additional adenovirus substitution mutants confirm the complementation of VAI RNA function by two small RNAs encoded by Epstein-Barr virus.\n",
      "Score: 16.075436, PMID: 2169191, Title: Detection of human papillomavirus and Epstein-Barr virus DNA sequences in oral mucosa of HIV-infected patients by the polymerase chain reaction.\n",
      "Score: 15.992587, PMID: 1321861, Title: Detection of human herpesvirus 6 in tissues involved by sinus histiocytosis with massive lymphadenopathy (Rosai-Dorfman disease).\n",
      "Score: 15.990034, PMID: 3021036, Title: Non-Hodgkin's lymphoma after treatment of Hodgkin's disease: association with Epstein-Barr virus.\n",
      "Score: 15.988649, PMID: 1338620, Title: An adult case of severe chronic active Epstein-Barr virus infection syndrome.\n",
      "Score: 15.986179, PMID: 2990345, Title: Biosynthesis rates and content of thymosin beta 4 in cell lines.\n",
      "Score: 15.96606, PMID: 2986100, Title: Herpes virus infection prevalence in regular haemodialysis patients--a comparative evaluation of complement fixation, indirect immunofluorescence and Elisa tests.\n",
      "Score: 15.957423, PMID: 1253157, Title: In vivo and in vitro studies of immunotherapy of nasopharyngeal carcinoma with transfer factor.\n",
      "Score: 15.932458, PMID: 176465, Title: Proteins of Epstein-Barr Virus. II. Electrophoretic analysis of the polypeptides of the nucleocapsid and the glucosamine- and polysaccharide-containing components of enveloped virus.\n",
      "Score: 15.907248, PMID: 1850588, Title: Chronic active Epstein-Barr virus infection and virus-associated hemophagocytic syndrome.\n",
      "Score: 15.8927, PMID: 2542860, Title: Oral lesions mimicking hairy leukoplakia: a diagnostic dilemma.\n"
     ]
    }
   ],
   "source": [
    "# Print the results\n",
    "for hit in results['hits']['hits']:\n",
    "    print(f\"Score: {hit['_score']}, PMID: {hit['_source']['PMID']}, Title: {hit['_source']['title']}\")"
   ],
   "metadata": {
    "collapsed": false,
    "ExecuteTime": {
     "end_time": "2024-04-11T15:29:54.532943Z",
     "start_time": "2024-04-11T15:29:54.527831Z"
    }
   },
   "id": "c2c54153b7684d93",
   "execution_count": 22
  },
  {
   "cell_type": "markdown",
   "source": [
    "#### Vector Similarity Search\n",
    "now, perform a vector similarity search using the cosine similarity between the query vector and the embeddings in the indexed documents."
   ],
   "metadata": {
    "collapsed": false
   },
   "id": "a381d7040c0a1d1c"
  },
  {
   "cell_type": "code",
   "outputs": [
    {
     "name": "stdout",
     "output_type": "stream",
     "text": [
      "Score: 1.9210962,  PMID: 1501243, Title: Epidermal growth factor receptor: elements of intracellular communication.\n",
      "Score: 1.9196633,  PMID: 2042633, Title: The Egr family of nuclear signal transducers.\n",
      "Score: 1.9190896,  PMID: 1633422, Title: Crossed signals: oncogenic transcription factors.\n",
      "Score: 1.9177192,  PMID: 2955833, Title: Phorbol esters as signal transducers and tumor promoters.\n",
      "Score: 1.9172626,  PMID: 2824532, Title: PDGF-like growth factors in autocrine stimulation of growth.\n",
      "Score: 1.9162145,  PMID: 1622545, Title: The regulation and function of p21ras in T cells.\n",
      "Score: 1.9161748,  PMID: 1329870, Title: The junction between cytokines and cell adhesion.\n",
      "Score: 1.9161192,  PMID: 1645965, Title: Overexpression of human TRK proto-oncogene into mouse cells using an inducible vector system.\n",
      "Score: 1.9159867,  PMID: 1675819, Title: The expanding family of guanylyl cyclases.\n",
      "Score: 1.9159176,  PMID: 1368709, Title: Analysing lymphokine-receptor interactions of IL-1 and IL-2 by recombinant-DNA technology.\n"
     ]
    }
   ],
   "source": [
    "# Führen Sie die Abfrage aus\n",
    "results = cosine_similarity(index_name, \"List signaling molecules (ligands) that interact with the receptor EGFR?\", k=10)\n",
    "\n",
    "for hit in results['hits']['hits']:\n",
    "    print(f\"Score: {hit['_score']},  PMID: {hit['_source']['PMID']}, Title: {hit['_source']['title']}\")"
   ],
   "metadata": {
    "collapsed": false,
    "ExecuteTime": {
     "end_time": "2024-04-06T21:20:25.617032Z",
     "start_time": "2024-04-06T21:19:31.899009Z"
    }
   },
   "id": "c9b5f988888de099",
   "execution_count": 30
  },
  {
   "cell_type": "markdown",
   "source": [
    "#### k-NN Search\n",
    "perform a k-NN search using the k-NN search API."
   ],
   "metadata": {
    "collapsed": false
   },
   "id": "4cea44d3127ce96"
  },
  {
   "cell_type": "code",
   "outputs": [
    {
     "name": "stdout",
     "output_type": "stream",
     "text": [
      "Score: 0.96054816,  PMID: 1501243, Title: Epidermal growth factor receptor: elements of intracellular communication.\n",
      "Score: 0.9598316,  PMID: 2042633, Title: The Egr family of nuclear signal transducers.\n",
      "Score: 0.9595448,  PMID: 1633422, Title: Crossed signals: oncogenic transcription factors.\n",
      "Score: 0.9588597,  PMID: 2955833, Title: Phorbol esters as signal transducers and tumor promoters.\n",
      "Score: 0.9586312,  PMID: 2824532, Title: PDGF-like growth factors in autocrine stimulation of growth.\n",
      "Score: 0.95810723,  PMID: 1622545, Title: The regulation and function of p21ras in T cells.\n",
      "Score: 0.9580873,  PMID: 1329870, Title: The junction between cytokines and cell adhesion.\n",
      "Score: 0.9579934,  PMID: 1675819, Title: The expanding family of guanylyl cyclases.\n",
      "Score: 0.9579588,  PMID: 1368709, Title: Analysing lymphokine-receptor interactions of IL-1 and IL-2 by recombinant-DNA technology.\n",
      "Score: 0.9578283,  PMID: 2103500, Title: Cellular and viral ligands that interact with the EGF receptor.\n"
     ]
    }
   ],
   "source": [
    "results = knn_search(index_name, \"List signaling molecules (ligands) that interact with the receptor EGFR?\", k=10)\n",
    "\n",
    "for hit in results['hits']['hits']:\n",
    "    print(f\"Score: {hit['_score']},  PMID: {hit['_source']['PMID']}, Title: {hit['_source']['title']}\")"
   ],
   "metadata": {
    "collapsed": false,
    "ExecuteTime": {
     "end_time": "2024-04-06T21:35:04.707056Z",
     "start_time": "2024-04-06T21:34:40.128519Z"
    }
   },
   "id": "bfcd1d07b4fee44c",
   "execution_count": 45
  },
  {
   "cell_type": "markdown",
   "source": [
    "### ELSER - Elastic Search Retrieval \n",
    "\n",
    "ELSER is a sparse vector representation for semantic retrieval developed by Elastic. Instead of dense vector representations, ELSER uses sparse vectors to represent text data. "
   ],
   "metadata": {
    "collapsed": false
   },
   "id": "1846b6e75b5da818"
  }
 ],
 "metadata": {
  "kernelspec": {
   "display_name": "Python 3",
   "language": "python",
   "name": "python3"
  },
  "language_info": {
   "codemirror_mode": {
    "name": "ipython",
    "version": 2
   },
   "file_extension": ".py",
   "mimetype": "text/x-python",
   "name": "python",
   "nbconvert_exporter": "python",
   "pygments_lexer": "ipython2",
   "version": "2.7.6"
  }
 },
 "nbformat": 4,
 "nbformat_minor": 5
}
