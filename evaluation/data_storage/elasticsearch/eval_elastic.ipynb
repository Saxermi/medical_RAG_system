{
 "cells": [
  {
   "cell_type": "code",
   "execution_count": 2,
   "id": "initial_id",
   "metadata": {
    "ExecuteTime": {
     "end_time": "2024-04-11T15:24:33.998287Z",
     "start_time": "2024-04-11T15:24:33.902535Z"
    },
    "collapsed": true
   },
   "outputs": [
    {
     "name": "stdout",
     "output_type": "stream",
     "text": [
      "{'name': 'fcaf67a22c8d', 'cluster_name': 'docker-cluster', 'cluster_uuid': 'esEA-f3TRtS4IPgZCxnPrQ', 'version': {'number': '8.13.2', 'build_flavor': 'default', 'build_type': 'docker', 'build_hash': '16cc90cd2d08a3147ce02b07e50894bc060a4cbf', 'build_date': '2024-04-05T14:45:26.420424304Z', 'build_snapshot': False, 'lucene_version': '9.10.0', 'minimum_wire_compatibility_version': '7.17.0', 'minimum_index_compatibility_version': '7.0.0'}, 'tagline': 'You Know, for Search'}\n"
     ]
    }
   ],
   "source": [
    "from elasticsearch import Elasticsearch\n",
    "import urllib3\n",
    "import os\n",
    "\n",
    "\n",
    "elastic_password = os.getenv('ELASTIC_PASSWORD')\n",
    "\n",
    "es = Elasticsearch(\n",
    "    ['https://localhost:9200'],\n",
    "    basic_auth=('elastic', elastic_password),\n",
    "    verify_certs=True,\n",
    "    ca_certs=\"/home/ubuntu/.crts/http_ca.crt\",\n",
    "    request_timeout=60\n",
    ")\n",
    "\n",
    "index_name = \"pubmed_index\"\n",
    "\n",
    "urllib3.disable_warnings()\n",
    "\n",
    "print(es.info())"
   ]
  },
  {
   "cell_type": "code",
   "execution_count": 3,
   "id": "68205f492c85d24b",
   "metadata": {
    "ExecuteTime": {
     "end_time": "2024-04-11T15:27:03.643225Z",
     "start_time": "2024-04-11T15:27:03.607945Z"
    },
    "collapsed": false
   },
   "outputs": [
    {
     "data": {
      "text/plain": [
       "ObjectApiResponse({'count': 2406119, '_shards': {'total': 1, 'successful': 1, 'skipped': 0, 'failed': 0}})"
      ]
     },
     "execution_count": 3,
     "metadata": {},
     "output_type": "execute_result"
    }
   ],
   "source": [
    "# checking number of documents in the index\n",
    "es.count(index=index_name)"
   ]
  },
  {
   "cell_type": "markdown",
   "id": "cb477e6f0b7178d4",
   "metadata": {
    "collapsed": false
   },
   "source": [
    "### Define query functions for BM25 and Vector Similarity Search\n",
    "\n",
    "Define a function to perform a BM25 search using the match query."
   ]
  },
  {
   "cell_type": "code",
   "execution_count": 4,
   "id": "f78167d428f06529",
   "metadata": {
    "ExecuteTime": {
     "end_time": "2024-04-11T15:27:07.474197Z",
     "start_time": "2024-04-11T15:27:07.468939Z"
    },
    "collapsed": false
   },
   "outputs": [],
   "source": [
    "# Define a search query\n",
    "def bm25_search(query: str, k: int = 5):\n",
    "    query = {\n",
    "        \"size\": k,\n",
    "        \"query\": {\n",
    "            \"match\": {\n",
    "                \"content\": f\"{query}\"\n",
    "            }\n",
    "        },\n",
    "        \"_source\": [\"PMID\", \"title\"]\n",
    "    }\n",
    "    # Elasticsearch nutzt standardmässig das BM25-Modell, um die Relevanz der Dokumente zu berechnen\n",
    "    return es.search(index='pubmed_index', body=query)"
   ]
  },
  {
   "cell_type": "markdown",
   "id": "d079c4d6618d3b38",
   "metadata": {
    "collapsed": false
   },
   "source": [
    "Initialize the text embedder and define a function to convert a query to a vector using the bioBERT embeddings."
   ]
  },
  {
   "cell_type": "code",
   "execution_count": 14,
   "id": "ed4ac4f757e7680d",
   "metadata": {
    "ExecuteTime": {
     "end_time": "2024-04-11T15:27:23.549841Z",
     "start_time": "2024-04-11T15:27:14.558573Z"
    },
    "collapsed": false
   },
   "outputs": [],
   "source": [
    "from Embedding import TextEmbedder\n",
    "embedder = TextEmbedder()\n",
    "\n",
    "def query_to_vector(text, embedder):\n",
    "    embedding = embedder.embed(text)\n",
    "    return embedding"
   ]
  },
  {
   "cell_type": "markdown",
   "id": "e6015236b12040cb",
   "metadata": {
    "collapsed": false
   },
   "source": [
    "Define a function to perform a vector similarity search using the cosine similarity between the query vector and the embeddings in the indexed documents."
   ]
  },
  {
   "cell_type": "code",
   "execution_count": 4,
   "id": "caccaaa64018caea",
   "metadata": {
    "ExecuteTime": {
     "end_time": "2024-04-10T11:14:40.480125Z",
     "start_time": "2024-04-10T11:14:40.474963Z"
    },
    "collapsed": false
   },
   "outputs": [],
   "source": [
    "def cosine_similarity(index, query: str, k: int = 5):\n",
    "    query_vector = query_to_vector(query, embedder)\n",
    "    \n",
    "    query = {\n",
    "        \"size\": k,  # Anzahl der zurückzugebenden Ergebnisse\n",
    "        \"query\": {\n",
    "            \"script_score\": {\n",
    "                \"query\": {\"match_all\": {}},\n",
    "                \"script\": {\n",
    "                    \"source\": \"cosineSimilarity(params.query_vector, 'embeddings') + 1.0\",\n",
    "                    # +1.0, um sicherzustellen, dass alle Werte positiv sind\n",
    "                    \"params\": {\"query_vector\": query_vector}\n",
    "                }\n",
    "            }\n",
    "        }\n",
    "    }\n",
    "    return es.search(index=index, body=query)"
   ]
  },
  {
   "cell_type": "raw",
   "id": "6101062777191904",
   "metadata": {
    "collapsed": false
   },
   "source": [
    "trying to use the knn search instead of the cosine similarity search"
   ]
  },
  {
   "cell_type": "code",
   "execution_count": 5,
   "id": "89ecbbd9451faf5f",
   "metadata": {
    "ExecuteTime": {
     "end_time": "2024-04-10T11:14:41.556397Z",
     "start_time": "2024-04-10T11:14:41.551909Z"
    },
    "collapsed": false
   },
   "outputs": [],
   "source": [
    "def knn_search(index, query: str, k: int = 10):\n",
    "    # Wandeln Sie die Abfrage in einen Vektor um\n",
    "    query_vector = query_to_vector(query, embedder)\n",
    "    \n",
    "    # Konstruieren Sie die k-NN-Suche\n",
    "    knn_query = { \n",
    "        \"knn\": {\n",
    "            \"field\": \"embeddings\",  # Das Feld, das die Vektoren enthält\n",
    "            \"query_vector\": query_vector,\n",
    "            \"k\": k,\n",
    "            \"num_candidates\": 100 \n",
    "        }\n",
    "    }\n",
    "    \n",
    "    # Führen Sie die k-NN-Suche aus\n",
    "    return es.search(index=index, body=knn_query)"
   ]
  },
  {
   "cell_type": "markdown",
   "id": "8548993de949a242",
   "metadata": {
    "collapsed": false
   },
   "source": [
    "#### Perform BM25 and Vector Similarity Searches\n",
    "\n",
    "first, perform a BM25 search using the match query."
   ]
  },
  {
   "cell_type": "code",
   "execution_count": 7,
   "id": "4cc8b147ef147f06",
   "metadata": {
    "ExecuteTime": {
     "end_time": "2024-04-11T15:29:51.585418Z",
     "start_time": "2024-04-11T15:29:48.190681Z"
    },
    "collapsed": false
   },
   "outputs": [],
   "source": [
    "results = bm25_search(\"What is the recommended treatment for someone with stage II hypertension?\", k=100)"
   ]
  },
  {
   "cell_type": "code",
   "execution_count": 8,
   "id": "c2c54153b7684d93",
   "metadata": {
    "ExecuteTime": {
     "end_time": "2024-04-11T15:29:54.532943Z",
     "start_time": "2024-04-11T15:29:54.527831Z"
    },
    "collapsed": false
   },
   "outputs": [
    {
     "name": "stdout",
     "output_type": "stream",
     "text": [
      "Score: 23.910505, PMID: 2333612, Title: [The hemodynamic effects of a number of new hypotensive preparations].\n",
      "Score: 23.789188, PMID: 3464161, Title: Hypertension in middle-aged men. The effect of repeated screening and referral to community physicians on hypertension control.\n",
      "Score: 23.6202, PMID: 1345424, Title: [HIV infection in women. Psychological and somatic obstacle].\n",
      "Score: 23.217422, PMID: 2720262, Title: AIDS: social, legal, and ethical issues of the \"third epidemic\".\n",
      "Score: 22.683424, PMID: 3236329, Title: Antihypertensive efficacy of low dose torasemide in essential hypertension: a placebo-controlled study.\n",
      "Score: 22.62767, PMID: 2057894, Title: [Secondary medicinal prevention of uncomplicated hypertension in an outpatient clinic].\n",
      "Score: 22.453684, PMID: 2627973, Title: Abdominopelvic radiation for stage I-II ovarian cancer. The effect of grade on outcome.\n",
      "Score: 22.00333, PMID: 2210307, Title: [Treatment of primary cancer of the fallopian tube].\n",
      "Score: 21.94382, PMID: 1413580, Title: [A comparative analysis of the effect of low-intensity physical training on a bicycle ergometer, graded walking and drug therapy on the cardiovascular system of patients with stage-II hypertension].\n",
      "Score: 21.867287, PMID: 3841562, Title: [The role of radiotherapy in the treatment of Hodgkin's disease].\n",
      "Score: 21.837448, PMID: 2216450, Title: [Role of core decompression as treatment method for ischemic femur head necrosis].\n",
      "Score: 21.497162, PMID: 1792619, Title: [The comparative efficacy and prognosis of the long-term treatment with korinfar of men and women suffering from hypertension].\n",
      "Score: 21.4391, PMID: 1585137, Title: The HIV pandemic in Sweden: what do people really think about mandatory HIV testing?\n",
      "Score: 21.41619, PMID: 2022078, Title: Future directions for research into dietary and other lifestyle factors in hypertension.\n",
      "Score: 21.224623, PMID: 2747151, Title: [Use of crystepin in combination with obsidan in patients with diabetes mellitus with arterial hypertension].\n",
      "Score: 21.119947, PMID: 1481375, Title: [Indapamide in the treatment of hypertension in diabetes].\n",
      "Score: 21.021553, PMID: 2336820, Title: [The clinical efficacy of auricular electroacupuncture in treating hypertension patients].\n",
      "Score: 20.835352, PMID: 866791, Title: Surgical treatment of non-seminomatous germinal testes tumors.\n",
      "Score: 20.65615, PMID: 115571, Title: External irradiation in the management of stage II endometrial carcinoma.\n",
      "Score: 20.534437, PMID: 3464086, Title: Prolonged survival in patients with treatment-related leukemia.\n",
      "Score: 20.531015, PMID: 1663938, Title: The role of radiation therapy in the treatment of testicular germ cell tumors.\n",
      "Score: 20.446535, PMID: 341531, Title: [Treatment of hypertension with the preparation Tendor].\n",
      "Score: 20.372581, PMID: 2811212, Title: [Treatment of patients with hypertonic disease with plasmapheresis].\n",
      "Score: 20.35254, PMID: 3801277, Title: A suggested follow-up time for breast cancer patients.\n",
      "Score: 20.346958, PMID: 3962732, Title: Prognosis in treated hypertension.\n",
      "Score: 20.264263, PMID: 3876803, Title: Pregnancy and esophageal varices.\n",
      "Score: 20.243034, PMID: 1791711, Title: [Side effects of long-term drug therapy of patients with uncomplicated arterial hypertension in a polyclinic].\n",
      "Score: 20.233234, PMID: 593011, Title: [Surgical treatment of the mammary carcinoma according to stage (author's transl)].\n",
      "Score: 20.199263, PMID: 1209671, Title: [Comparison of the results of radio gold therapy, cobalt 60 teletherapy and chemotherapy in 330 ovarian neoplasms].\n",
      "Score: 20.165392, PMID: 2754386, Title: Discriminating between memories: evidence for children's spontaneous elaborations.\n",
      "Score: 20.038034, PMID: 2517718, Title: Haemodynamic effect of prazosin during hyperosmolar mannitol load in essential hypertension.\n",
      "Score: 20.036312, PMID: 288787, Title: Communication in patient management as seen in a patient with multiple sclerosis.\n",
      "Score: 20.019312, PMID: 2710951, Title: Radiation therapy of seminoma: 17-year experience at the Joint Center for Radiation Therapy.\n",
      "Score: 19.94715, PMID: 3516178, Title: The management of extranodal head and neck lymphomas.\n",
      "Score: 19.911861, PMID: 2629217, Title: [The treatment of hypertension patients by using graded physical training under hospital conditions].\n",
      "Score: 19.904188, PMID: 2822607, Title: Selective surgical resection in the management of small-cell carcinoma of the lung.\n",
      "Score: 19.591269, PMID: 2469899, Title: The hemodynamics of the aging cardiovascular system.\n",
      "Score: 19.5844, PMID: 3655919, Title: Conceptual models: an assessment framework.\n",
      "Score: 19.537489, PMID: 1801226, Title: [Plasmapheresis in the treatment of patients with hypertension].\n",
      "Score: 19.523554, PMID: 2645663, Title: Nutritional aspects of hypertension.\n",
      "Score: 19.513857, PMID: 752207, Title: Interrelations between plasma renin activity, aldosterone, and sympathetic nervous system activity in essential hypertension.\n",
      "Score: 19.507326, PMID: 2866856, Title: Significance of the measurement of urinary alanine aminopeptidase and N-acetyl-beta-D-glucosaminidase activity in evaluating patients with essential hypertension.\n",
      "Score: 19.484957, PMID: 4009972, Title: [Postoperative radiotherapy for carcinoma of the uterine cervix].\n",
      "Score: 19.451862, PMID: 986690, Title: Single agent chemotherapy (actinomycin D) in the treatment of metastatic testicular carcinoma.\n",
      "Score: 19.421022, PMID: 2165579, Title: [Plasma levels of beta-endorphin and ACTH and serum levels of cortisol in different stages of arterial hypertension before and after clonidine therapy].\n",
      "Score: 19.413502, PMID: 410261, Title: Bipedal lymphangiography in malignancies of the uterine corpus.\n",
      "Score: 19.401417, PMID: 3429837, Title: Portal hypertension in primary biliary cirrhosis. Relationship with histological features.\n",
      "Score: 19.363512, PMID: 425405, Title: [Treatment of the early stages of cancer of the lower lip].\n",
      "Score: 19.341072, PMID: 4053736, Title: Confusions between memories for performed and imagined actions: a developmental comparison.\n",
      "Score: 19.309174, PMID: 1888179, Title: [A combined therapy for maxillary cancer].\n",
      "Score: 19.293615, PMID: 690264, Title: Screening for hypertension: a rational approach.\n",
      "Score: 19.277786, PMID: 644591, Title: Whole body bone scintigram and stage classification of the patients with adenocarcinoma of lung.\n",
      "Score: 19.268608, PMID: 2169983, Title: [Plasma leucine enkephalin and beta-endorphin levels in patients with essential hypertension and the effects of captopril].\n",
      "Score: 19.255877, PMID: 2039316, Title: J. Maxwell Chamberlain Memorial Paper. Role of staging in prognosis and management of thymoma.\n",
      "Score: 19.236574, PMID: 2186218, Title: [Circadian changes in arterial blood pressure and hemodynamics and the morphofunctional state of the myocardium in patients with hypertension during long-term treatment with estulic].\n",
      "Score: 19.205772, PMID: 2090835, Title: Hypertension with co-existing renal disease.\n",
      "Score: 19.16574, PMID: 1826287, Title: [Acne inversa. Diagnosis and therapy].\n",
      "Score: 19.07613, PMID: 3072444, Title: [Use of foridon in the treatment of arterial hypertension and hypertension of the lesser circulation].\n",
      "Score: 19.048502, PMID: 1608213, Title: [The effect of the combined use of hemosorption and plasmapheresis on the blood rheological and hemodynamic indices of hypertension patients].\n",
      "Score: 19.031292, PMID: 2200195, Title: [Comparative evaluation of the effectiveness of radiotherapy, surgery and combined treatment of stage I-II laryngeal cancer (T1-2NoMo) based on the data of a cooperative randomized study].\n",
      "Score: 19.00683, PMID: 2409301, Title: Surgical treatment of patients with stages I and II nonseminomatous testicular cancer.\n",
      "Score: 18.956978, PMID: 413536, Title: Recent advances in general surgery.\n",
      "Score: 18.947453, PMID: 1092508, Title: Intertrochanteric osteotomy for degenerative hip disease. Indications.\n",
      "Score: 18.932379, PMID: 2408142, Title: [Antibiotic therapy of Lyme borreliosis].\n",
      "Score: 18.922428, PMID: 2000364, Title: Intensive management of type II diabetes.\n",
      "Score: 18.914305, PMID: 2213666, Title: You are what you read. The use of bibliotherapy to facilitate psychotherapy.\n",
      "Score: 18.901865, PMID: 2077398, Title: Adjuvant therapy for patients with colon and rectum cancer.\n",
      "Score: 18.895105, PMID: 2907213, Title: [Follow-up study of 48 athletes with stage I hypertension with and without pharmacotherapy].\n",
      "Score: 18.881472, PMID: 3885447, Title: The surgical approach to primary malignant melanoma.\n",
      "Score: 18.870155, PMID: 1036038, Title: [Effects of norepinephrine and phentolamine on acute intracranial hypertension].\n",
      "Score: 18.820412, PMID: 2814142, Title: Radiotherapy of carcinoma of the buccal mucosa.\n",
      "Score: 18.72963, PMID: 1592280, Title: The prognostic significance of surgical staging for carcinoma of the endometrium.\n",
      "Score: 18.713598, PMID: 2654818, Title: [Therapy problems of Lyme borreliosis].\n",
      "Score: 18.676847, PMID: 3383679, Title: Conceptual perspective taking: children's ability to distinguish what they know from what they see.\n",
      "Score: 18.651937, PMID: 2673790, Title: Primary adenocarcinoma of the fallopian tube.\n",
      "Score: 18.642605, PMID: 2579214, Title: VAB-6 as initial treatment of patients with advanced seminoma.\n",
      "Score: 18.62506, PMID: 3794555, Title: Variable meanings for the definition of disease.\n",
      "Score: 18.61169, PMID: 2285077, Title: Who is someone?\n",
      "Score: 18.605154, PMID: 1591089, Title: Factors influencing the risk of local recurrence in the breast.\n",
      "Score: 18.562098, PMID: 2067332, Title: [Evaluation of therapy effectiveness in patients with hypertension using graded physical load].\n",
      "Score: 18.560629, PMID: 2928414, Title: Commentary on Gracia et al.: diagnostic entity or dynamic processes?\n",
      "Score: 18.522554, PMID: 2767596, Title: [Effectiveness of etofibrate in arteriosclerosis obliterans. Pilot study in hyperlipidemic patients with arteriosclerosis obliterans].\n",
      "Score: 18.510584, PMID: 2533307, Title: Handicapped and able-bodied children's ideas of health.\n",
      "Score: 18.440992, PMID: 3629496, Title: [Prognostic factors in lymphosarcoma].\n",
      "Score: 18.40464, PMID: 2215099, Title: Activation of epileptogenic activities by etomidate in electrocorticoencephalography (ECoG) during operation for epilepsy.\n",
      "Score: 18.39956, PMID: 2697366, Title: [The three fundamental stages in the historical evolution of the surgical treatment of laryngeal cancer and the creators or authors of these stages].\n",
      "Score: 18.39632, PMID: 2145888, Title: [Ischemic heart disease in patients with renovascular hypertension: clinical picture, diagnosis and choice of a suitable method of treatment].\n",
      "Score: 18.336628, PMID: 2696255, Title: [Hypertension, the heart and physical activity (sports)].\n",
      "Score: 18.297941, PMID: 1398201, Title: [Radiotherapy of cancer of the endometrium. Analysis of 53 cases].\n",
      "Score: 18.277063, PMID: 2270376, Title: [Rational approach to peripheral arterial occlusive diseases].\n",
      "Score: 18.245338, PMID: 2680334, Title: [Diagnosis and treatment of epithelial cancer of the ovary. Apropos of 102 cases].\n",
      "Score: 18.23412, PMID: 2071866, Title: [Hysteroscopy: its value in the pretherapeutic evaluation of endometrial adenocarcinomas].\n",
      "Score: 18.224436, PMID: 1922122, Title: [Borrelia infections from a dermatological viewpoint].\n",
      "Score: 18.18867, PMID: 3297967, Title: Gastrointestinal lymphoma in Chinese: a retrospective analysis.\n",
      "Score: 18.176683, PMID: 3021066, Title: [Treatment of epithelial ovarian carcinoma with cisplatin and adriamycin: analysis of factors influencing prognosis in advanced cases].\n",
      "Score: 18.16748, PMID: 3171169, Title: Consequences of impaired arterial baroreflexes in essential hypertension: effects on pressor responses, plasma noradrenaline and blood pressure variability.\n",
      "Score: 18.160603, PMID: 3966965, Title: Male breast carcinoma--a review of 301 cases from the Christie Hospital &amp; Holt Radium Institute, Manchester.\n",
      "Score: 18.156567, PMID: 1937323, Title: [Diagnosis of Lyme neuroborreliosis. Detection of intrathecal antibody formation].\n",
      "Score: 18.09839, PMID: 2384832, Title: [Clinical study on laryngeal cancer].\n",
      "Score: 18.076052, PMID: 1292578, Title: Hypertension in the elderly.\n"
     ]
    }
   ],
   "source": [
    "# Print the results\n",
    "for hit in results['hits']['hits']:\n",
    "    print(f\"Score: {hit['_score']}, PMID: {hit['_source']['PMID']}, Title: {hit['_source']['title']}\")"
   ]
  },
  {
   "cell_type": "markdown",
   "id": "a381d7040c0a1d1c",
   "metadata": {
    "collapsed": false
   },
   "source": [
    "#### Vector Similarity Search\n",
    "now, perform a vector similarity search using the cosine similarity between the query vector and the embeddings in the indexed documents."
   ]
  },
  {
   "cell_type": "code",
   "execution_count": 30,
   "id": "c9b5f988888de099",
   "metadata": {
    "ExecuteTime": {
     "end_time": "2024-04-06T21:20:25.617032Z",
     "start_time": "2024-04-06T21:19:31.899009Z"
    },
    "collapsed": false
   },
   "outputs": [
    {
     "name": "stdout",
     "output_type": "stream",
     "text": [
      "Score: 1.9210962,  PMID: 1501243, Title: Epidermal growth factor receptor: elements of intracellular communication.\n",
      "Score: 1.9196633,  PMID: 2042633, Title: The Egr family of nuclear signal transducers.\n",
      "Score: 1.9190896,  PMID: 1633422, Title: Crossed signals: oncogenic transcription factors.\n",
      "Score: 1.9177192,  PMID: 2955833, Title: Phorbol esters as signal transducers and tumor promoters.\n",
      "Score: 1.9172626,  PMID: 2824532, Title: PDGF-like growth factors in autocrine stimulation of growth.\n",
      "Score: 1.9162145,  PMID: 1622545, Title: The regulation and function of p21ras in T cells.\n",
      "Score: 1.9161748,  PMID: 1329870, Title: The junction between cytokines and cell adhesion.\n",
      "Score: 1.9161192,  PMID: 1645965, Title: Overexpression of human TRK proto-oncogene into mouse cells using an inducible vector system.\n",
      "Score: 1.9159867,  PMID: 1675819, Title: The expanding family of guanylyl cyclases.\n",
      "Score: 1.9159176,  PMID: 1368709, Title: Analysing lymphokine-receptor interactions of IL-1 and IL-2 by recombinant-DNA technology.\n"
     ]
    }
   ],
   "source": [
    "# Führen Sie die Abfrage aus\n",
    "results = cosine_similarity(index_name, \"List signaling molecules (ligands) that interact with the receptor EGFR?\", k=10)\n",
    "\n",
    "for hit in results['hits']['hits']:\n",
    "    print(f\"Score: {hit['_score']},  PMID: {hit['_source']['PMID']}, Title: {hit['_source']['title']}\")"
   ]
  },
  {
   "cell_type": "markdown",
   "id": "4cea44d3127ce96",
   "metadata": {
    "collapsed": false
   },
   "source": [
    "#### k-NN Search\n",
    "perform a k-NN search using the k-NN search API."
   ]
  },
  {
   "cell_type": "code",
   "execution_count": 45,
   "id": "bfcd1d07b4fee44c",
   "metadata": {
    "ExecuteTime": {
     "end_time": "2024-04-06T21:35:04.707056Z",
     "start_time": "2024-04-06T21:34:40.128519Z"
    },
    "collapsed": false
   },
   "outputs": [
    {
     "name": "stdout",
     "output_type": "stream",
     "text": [
      "Score: 0.96054816,  PMID: 1501243, Title: Epidermal growth factor receptor: elements of intracellular communication.\n",
      "Score: 0.9598316,  PMID: 2042633, Title: The Egr family of nuclear signal transducers.\n",
      "Score: 0.9595448,  PMID: 1633422, Title: Crossed signals: oncogenic transcription factors.\n",
      "Score: 0.9588597,  PMID: 2955833, Title: Phorbol esters as signal transducers and tumor promoters.\n",
      "Score: 0.9586312,  PMID: 2824532, Title: PDGF-like growth factors in autocrine stimulation of growth.\n",
      "Score: 0.95810723,  PMID: 1622545, Title: The regulation and function of p21ras in T cells.\n",
      "Score: 0.9580873,  PMID: 1329870, Title: The junction between cytokines and cell adhesion.\n",
      "Score: 0.9579934,  PMID: 1675819, Title: The expanding family of guanylyl cyclases.\n",
      "Score: 0.9579588,  PMID: 1368709, Title: Analysing lymphokine-receptor interactions of IL-1 and IL-2 by recombinant-DNA technology.\n",
      "Score: 0.9578283,  PMID: 2103500, Title: Cellular and viral ligands that interact with the EGF receptor.\n"
     ]
    }
   ],
   "source": [
    "results = knn_search(index_name, \"List signaling molecules (ligands) that interact with the receptor EGFR?\", k=10)\n",
    "\n",
    "for hit in results['hits']['hits']:\n",
    "    print(f\"Score: {hit['_score']},  PMID: {hit['_source']['PMID']}, Title: {hit['_source']['title']}\")"
   ]
  },
  {
   "cell_type": "markdown",
   "id": "1846b6e75b5da818",
   "metadata": {
    "collapsed": false
   },
   "source": [
    "### ELSER - Elastic Search Retrieval \n",
    "\n",
    "ELSER is a sparse vector representation for semantic retrieval developed by Elastic. Instead of dense vector representations, ELSER uses sparse vectors to represent text data. "
   ]
  }
 ],
 "metadata": {
  "kernelspec": {
   "display_name": "Python 3",
   "language": "python",
   "name": "python3"
  },
  "language_info": {
   "codemirror_mode": {
    "name": "ipython",
    "version": 3
   },
   "file_extension": ".py",
   "mimetype": "text/x-python",
   "name": "python",
   "nbconvert_exporter": "python",
   "pygments_lexer": "ipython3",
   "version": "3.10.12"
  }
 },
 "nbformat": 4,
 "nbformat_minor": 5
}
