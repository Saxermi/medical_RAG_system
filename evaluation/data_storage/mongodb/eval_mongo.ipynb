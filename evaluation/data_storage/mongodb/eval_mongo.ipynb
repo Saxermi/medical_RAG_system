{
 "cells": [
  {
   "cell_type": "markdown",
   "source": [
    "### Evaluation of the TF-IDF ranking implemented in MongoDB for probabilistic full text search\n",
    "\n",
    "We configurated a mongodb instance in a docker container using 16GB of RAM and 4 cores and port forwarding to the host machine on port 27017. We indexed the 23.9m documents on the content field using the TF-IDF ranking."
   ],
   "metadata": {
    "collapsed": false
   },
   "id": "e99371764495f1bd"
  },
  {
   "cell_type": "markdown",
   "source": [],
   "metadata": {
    "collapsed": false
   },
   "id": "42bf126ed742dd07"
  },
  {
   "cell_type": "code",
   "outputs": [
    {
     "name": "stdout",
     "output_type": "stream",
     "text": [
      "Collections in der Datenbank: ['Docs', 'all_docs']\n"
     ]
    }
   ],
   "source": [
    "from pymongo import MongoClient\n",
    "import numpy as np\n",
    "from pathlib import Path\n",
    "import os\n",
    "import json\n",
    "from tqdm import tqdm\n",
    "\n",
    "# Connect to MongoDB\n",
    "client = MongoClient('localhost', 27017)\n",
    "db = client['PubMed']\n",
    "collection = db['Docs']\n",
    "\n",
    "collections = db.list_collection_names()\n",
    "print(\"Collections in der Datenbank:\", collections)"
   ],
   "metadata": {
    "collapsed": false,
    "ExecuteTime": {
     "end_time": "2024-04-11T14:33:26.784113Z",
     "start_time": "2024-04-11T14:33:26.044687Z"
    }
   },
   "id": "ef097ce096f81125",
   "execution_count": 1
  },
  {
   "cell_type": "markdown",
   "source": [
    "Now we define the search query and the number of results we want to retrieve. We only retrieve the PMIDs of the documents to compare the results with the relevant documents to the related queries by using the bioASQ dataset."
   ],
   "metadata": {
    "collapsed": false
   },
   "id": "715030c934a661f8"
  },
  {
   "cell_type": "markdown",
   "source": [
    "This funktion retrieves the PMIDs of the documents that contain the search query in the content field.\n",
    "\n",
    "This query only retrieves documents that contain the search query in the content field without any ranking. Thus, the results are not sorted by relevance."
   ],
   "metadata": {
    "collapsed": false
   },
   "id": "24e31789dfd838c2"
  },
  {
   "cell_type": "code",
   "outputs": [],
   "source": [
    "def search(query):\n",
    "    results = collection.find({\"$text\": {\"$search\": query}}).limit(100)\n",
    "    return results"
   ],
   "metadata": {
    "collapsed": false,
    "ExecuteTime": {
     "end_time": "2024-04-11T14:39:17.794498Z",
     "start_time": "2024-04-11T14:39:17.790223Z"
    }
   },
   "id": "87a03f7fa95bf5bd",
   "execution_count": 10
  },
  {
   "cell_type": "code",
   "outputs": [
    {
     "data": {
      "text/plain": "[{'_id': ObjectId('6617aff5fb3d2cdc7cd9b435'),\n  'id': 'pubmed23n0045_2126',\n  'title': 'Distribution of somatostatin-28 (1-12) in the cat brainstem: an immunocytochemical study.',\n  'content': 'We studied the distribution of somatostatin-28 (1-12)-immunoreactive fibers and cell bodies in the cat brainstem. A moderate density of cell bodies containing the peptide was observed in the ventral nucleus of the lateral lemniscus, accessory dorsal tegmental nucleus, retrofacial nucleus and in the lateral reticular nucleus, whereas a low density of such perikarya was found in the interpeduncular nucleus, nucleus incertus, nucleus sagulum, gigantocellular tegmental field, nucleus of the trapezoid body, nucleus praepositus hypoglosii, lateral and magnocellular tegmental fields, nucleus of the solitary tract, nucleus ambiguous and in the nucleus intercalatus. Moreover, a moderate density of somatostatin-28 (1-12)-immunoreactive processes was found in the dorsal nucleus of the raphe, dorsal tegmental nucleus, accessory dorsal tegmental nucleus, periaqueductal gray and in the marginal nucleus of the brachium conjunctivum. Finally, few immunoreactive fibers were visualized in the interpeduncular nucleus, cuneiform nucleus, locus coeruleus, nucleus incertus, superior and inferior central nuclei, nucleus sagulum, ventral nucleus of the lateral lemniscus, nucleus praepositus hypoglosii, medial vestibular nucleus, Kölliker-Fuse area, nucleus ambiguous, retrofacial nucleus, postpyramidal nucleus of the raphe, nucleus of the solitary tract, dorsal motor nucleus of the vagus, lateral reticular nucleus and laminar and alaminar spinal trigeminal nuclei.',\n  'contents': 'Distribution of somatostatin-28 (1-12) in the cat brainstem: an immunocytochemical study. We studied the distribution of somatostatin-28 (1-12)-immunoreactive fibers and cell bodies in the cat brainstem. A moderate density of cell bodies containing the peptide was observed in the ventral nucleus of the lateral lemniscus, accessory dorsal tegmental nucleus, retrofacial nucleus and in the lateral reticular nucleus, whereas a low density of such perikarya was found in the interpeduncular nucleus, nucleus incertus, nucleus sagulum, gigantocellular tegmental field, nucleus of the trapezoid body, nucleus praepositus hypoglosii, lateral and magnocellular tegmental fields, nucleus of the solitary tract, nucleus ambiguous and in the nucleus intercalatus. Moreover, a moderate density of somatostatin-28 (1-12)-immunoreactive processes was found in the dorsal nucleus of the raphe, dorsal tegmental nucleus, accessory dorsal tegmental nucleus, periaqueductal gray and in the marginal nucleus of the brachium conjunctivum. Finally, few immunoreactive fibers were visualized in the interpeduncular nucleus, cuneiform nucleus, locus coeruleus, nucleus incertus, superior and inferior central nuclei, nucleus sagulum, ventral nucleus of the lateral lemniscus, nucleus praepositus hypoglosii, medial vestibular nucleus, Kölliker-Fuse area, nucleus ambiguous, retrofacial nucleus, postpyramidal nucleus of the raphe, nucleus of the solitary tract, dorsal motor nucleus of the vagus, lateral reticular nucleus and laminar and alaminar spinal trigeminal nuclei.',\n  'PMID': 1346714},\n {'_id': ObjectId('6617b085fb3d2cdc7cf495f9'),\n  'id': 'pubmed23n0133_7446',\n  'title': 'Afferent and efferent connections of the medial preoptic area in the rat: a WGA-HRP study.',\n  'content': 'Afferent and efferent connections of the medial preoptic area including medial preoptic nucleus (MP) and periventricular area at the MP level were examined using WGA-HRP as a marker. Injections were performed by insertion of micropipette containing (1) small amount of HRP powder or (2) dryed HRP solution for 24 to 48 hr until the fixation or for 5 min respectively. Dorsal and ventral approaches of injection micropipettes were performed and the results were compared. Previously reported reciprocal connections with lateral septum, bed nucleus of the stria terminalis, medial amygdaloid nucleus, lateral hypothalamic nucleus, paraventricular hypothalamic nucleus, ventromedial hypothalamic nucleus, arcuate nucleus, supramammillary nucleus, central gray at the mesencephalon, raphe dorsalis, raphe medianus, and lateral parabrachial nucleus have been confirmed. In addition, we found reciprocal connections with septo-hypothalamic nucleus, amygdalo-hipocampal nucleus, subiculum, parafascicular thalamic nucleus, posterior thalamic nucleus at the caudo-ventral subdivision, median preoptic nucleus, lateral preoptic nucleus, anterior hypothalamic nucleus, periventricular area at the caudal hypothalamic level, dorsomedial hypothalamic nucleus, posterior hypothalamic nucleus, dorsal and ventral premammillary nucleus, lateral mammillary nucleus, peripeduncular nucleus, periventricular gray, ventral tegmental area, interpeduncular nucleus, nucleus raphe pontis, nucleus raphe magnus, pedunculo-pontine tegmental nucleus, gigantocellular reticular nucleus and solitary tract nucleus. The areas which had only efferent connections from MP were accumbens, caudate putamen, ventral pallidum, substantia innominata, lateral habenular nucleus, paratenial thalamic nucleus, paraventricular thalamic nucleus, mediodorsal thalamic nucleus, reuniens thalamic nucleus, median eminence, medial mammillary nucleus, subthalamic nucleus, pars compacta of substantia nigra, oculomotor nucleus, red nucleus, laterodorsal tegmental nucleus, reticular tegmental nucleus, cuneiform nucleus, nucleus locus coeruleus, and dorsal motor nucleus of vagus among which substantia innominata and median eminence were previously reported. Efferent connections to the nucleus of Darkschewitsch, interstitial nucleus of Cajal, dorsal tegmental nucleus, ventral tegmental nucleus, vestibular nuclei, nucleus raphe obsculus were very weak or abscent in the ventral approach while they were observed in dorsal approach. Previously reported afferent connections from dorsal tegmental nucleus, cuneiform nucleus, and nucleus locus ceruleus were not detected in this study.(ABSTRACT TRUNCATED AT 400 WORDS)',\n  'contents': 'Afferent and efferent connections of the medial preoptic area in the rat: a WGA-HRP study. Afferent and efferent connections of the medial preoptic area including medial preoptic nucleus (MP) and periventricular area at the MP level were examined using WGA-HRP as a marker. Injections were performed by insertion of micropipette containing (1) small amount of HRP powder or (2) dryed HRP solution for 24 to 48 hr until the fixation or for 5 min respectively. Dorsal and ventral approaches of injection micropipettes were performed and the results were compared. Previously reported reciprocal connections with lateral septum, bed nucleus of the stria terminalis, medial amygdaloid nucleus, lateral hypothalamic nucleus, paraventricular hypothalamic nucleus, ventromedial hypothalamic nucleus, arcuate nucleus, supramammillary nucleus, central gray at the mesencephalon, raphe dorsalis, raphe medianus, and lateral parabrachial nucleus have been confirmed. In addition, we found reciprocal connections with septo-hypothalamic nucleus, amygdalo-hipocampal nucleus, subiculum, parafascicular thalamic nucleus, posterior thalamic nucleus at the caudo-ventral subdivision, median preoptic nucleus, lateral preoptic nucleus, anterior hypothalamic nucleus, periventricular area at the caudal hypothalamic level, dorsomedial hypothalamic nucleus, posterior hypothalamic nucleus, dorsal and ventral premammillary nucleus, lateral mammillary nucleus, peripeduncular nucleus, periventricular gray, ventral tegmental area, interpeduncular nucleus, nucleus raphe pontis, nucleus raphe magnus, pedunculo-pontine tegmental nucleus, gigantocellular reticular nucleus and solitary tract nucleus. The areas which had only efferent connections from MP were accumbens, caudate putamen, ventral pallidum, substantia innominata, lateral habenular nucleus, paratenial thalamic nucleus, paraventricular thalamic nucleus, mediodorsal thalamic nucleus, reuniens thalamic nucleus, median eminence, medial mammillary nucleus, subthalamic nucleus, pars compacta of substantia nigra, oculomotor nucleus, red nucleus, laterodorsal tegmental nucleus, reticular tegmental nucleus, cuneiform nucleus, nucleus locus coeruleus, and dorsal motor nucleus of vagus among which substantia innominata and median eminence were previously reported. Efferent connections to the nucleus of Darkschewitsch, interstitial nucleus of Cajal, dorsal tegmental nucleus, ventral tegmental nucleus, vestibular nuclei, nucleus raphe obsculus were very weak or abscent in the ventral approach while they were observed in dorsal approach. Previously reported afferent connections from dorsal tegmental nucleus, cuneiform nucleus, and nucleus locus ceruleus were not detected in this study.(ABSTRACT TRUNCATED AT 400 WORDS)',\n  'PMID': 3995367},\n {'_id': ObjectId('6617b083fb3d2cdc7cf43ab3'),\n  'id': 'pubmed23n0132_4049',\n  'title': '[Afferent connections of the nucleus of the facial nerve in the cat detected using the technic of retrograde axonal transport of horseradish peroxidase].',\n  'content': 'Neuronal populations in the brainstem and spinal cord as sources of fibre pathways to the facial nucleus were studied in adult cats by means of microionophoretic injections of horseradish peroxidase into restricted zones of the facial nucleus. Projection from nucleus nervi hypoglossi, nucleus praepositus hypoglossi, nucleus raphe pallidus, nucleus intercalatus, medial nucleus of the solitary tract, dorsal motor nucleus of the vagus, neurons of genu of the facial nerve, ipsilateral red nucleus and reticular formation of the midbrain to the facial nucleus are found. Projections from a number of other brain structures to the facial nucleus are confirmed. A topographical map of distribution of the brainstem and spinal cord afferents in the facial nucleus is proposed.',\n  'contents': '[Afferent connections of the nucleus of the facial nerve in the cat detected using the technic of retrograde axonal transport of horseradish peroxidase]. Neuronal populations in the brainstem and spinal cord as sources of fibre pathways to the facial nucleus were studied in adult cats by means of microionophoretic injections of horseradish peroxidase into restricted zones of the facial nucleus. Projection from nucleus nervi hypoglossi, nucleus praepositus hypoglossi, nucleus raphe pallidus, nucleus intercalatus, medial nucleus of the solitary tract, dorsal motor nucleus of the vagus, neurons of genu of the facial nerve, ipsilateral red nucleus and reticular formation of the midbrain to the facial nucleus are found. Projections from a number of other brain structures to the facial nucleus are confirmed. A topographical map of distribution of the brainstem and spinal cord afferents in the facial nucleus is proposed.',\n  'PMID': 3960201},\n {'_id': ObjectId('6617b0bcfb3d2cdc7cfebd34'),\n  'id': 'pubmed23n0237_9745',\n  'title': 'Brainstem afferents to the thalamus in a lizard, Varanus exanthematicus.',\n  'content': 'HRP was injected into various thalamic nuclei in order to investigate the brainstem projections to the thalamus in the lizard Varanus exanthematicus. Nucleus dorsomedialis receives afferents from the septal area, nucleus entopeduncularis anterior, nucleus periventricularis hypothalami, area triangularis, nucleus raphes superior, nucleus reticularis inferior, and locus coeruleus. Nucleus dorsolateralis receives afferents from septal area, nucleus dorsomedialis, nucleus entopeduncularis anterior, nucleus periventricularis hypothalami, and the torus semicircularis. Nucleus rotundus receives an input from the tectum mesencephali, the pretectal area, and from the mesencephalic reticular formation. Nucleus intermedius dorsalis receives afferents from the dorsal column nuclei and nucleus periventricularis hypothalami. Nucleus ventrolateralis receives afferents from the dorsal column nuclei, the trigeminal complex, locus coeruleus, and the reticular formation. Nucleus ventromedialis also receives afferents from the trigeminal complex and the reticular formation. Afferents to the habenula have been demonstrated from the septal area, nucleus entopeduncularis anterior, triangular area, nucleus periventricularis hypothalami, nucleus interpeduncularis, nucleus raphes superior, locus coeruleus, nucleus isthmi, nucleus dorsalis motorius nervi vagi, and the mesencephalic tegmentum. The laminar part of the torus semicicularis projects to nucleus medialis.',\n  'contents': 'Brainstem afferents to the thalamus in a lizard, Varanus exanthematicus. HRP was injected into various thalamic nuclei in order to investigate the brainstem projections to the thalamus in the lizard Varanus exanthematicus. Nucleus dorsomedialis receives afferents from the septal area, nucleus entopeduncularis anterior, nucleus periventricularis hypothalami, area triangularis, nucleus raphes superior, nucleus reticularis inferior, and locus coeruleus. Nucleus dorsolateralis receives afferents from septal area, nucleus dorsomedialis, nucleus entopeduncularis anterior, nucleus periventricularis hypothalami, and the torus semicircularis. Nucleus rotundus receives an input from the tectum mesencephali, the pretectal area, and from the mesencephalic reticular formation. Nucleus intermedius dorsalis receives afferents from the dorsal column nuclei and nucleus periventricularis hypothalami. Nucleus ventrolateralis receives afferents from the dorsal column nuclei, the trigeminal complex, locus coeruleus, and the reticular formation. Nucleus ventromedialis also receives afferents from the trigeminal complex and the reticular formation. Afferents to the habenula have been demonstrated from the septal area, nucleus entopeduncularis anterior, triangular area, nucleus periventricularis hypothalami, nucleus interpeduncularis, nucleus raphes superior, locus coeruleus, nucleus isthmi, nucleus dorsalis motorius nervi vagi, and the mesencephalic tegmentum. The laminar part of the torus semicicularis projects to nucleus medialis.',\n  'PMID': 7130476},\n {'_id': ObjectId('6617b007fb3d2cdc7cde3763'),\n  'id': 'pubmed23n0058_6194',\n  'title': 'Comparative cytoarchitectonic analysis of some visual pretectal nuclei in teleosts.',\n  'content': 'The posterior pretectal nucleus, which in Osteoglossum receives second order visual input and projects to the inferior lobe of the hypothalamus, was identified and characterized in species from all major groups of non-neoteleost teleosts. The hypothesis that the posterior pretectal nucleus in these species is homologous to both the pars intermedius of the superficial pretectal nucleus and nucleus glomerulosus in acanthopterygians is supported by multiple similarities in relative position and cytoarchitecture. Nucleus corticalis, which receives retinal input and projects to the posterior pretectal nucleus (or to nucleus glomerulosus), was identified in species belonging to three of the four major teleost radiations. Both the posterior pretectal nucleus and nucleus corticalis are plesiomorphic for teleosts. The presence of glomeruli in the posterior pretectal nucleus and nucleus glomerulosus in esocids and acanthopterygians, respectively, and the presence of two nuclei, the pars intermedius and nucleus glomerulosus, in acanthopterygians, as opposed to one nucleus, the posterior pretectal nucleus, are apomorphies.',\n  'contents': 'Comparative cytoarchitectonic analysis of some visual pretectal nuclei in teleosts. The posterior pretectal nucleus, which in Osteoglossum receives second order visual input and projects to the inferior lobe of the hypothalamus, was identified and characterized in species from all major groups of non-neoteleost teleosts. The hypothesis that the posterior pretectal nucleus in these species is homologous to both the pars intermedius of the superficial pretectal nucleus and nucleus glomerulosus in acanthopterygians is supported by multiple similarities in relative position and cytoarchitecture. Nucleus corticalis, which receives retinal input and projects to the posterior pretectal nucleus (or to nucleus glomerulosus), was identified in species belonging to three of the four major teleost radiations. Both the posterior pretectal nucleus and nucleus corticalis are plesiomorphic for teleosts. The presence of glomeruli in the posterior pretectal nucleus and nucleus glomerulosus in esocids and acanthopterygians, respectively, and the presence of two nuclei, the pars intermedius and nucleus glomerulosus, in acanthopterygians, as opposed to one nucleus, the posterior pretectal nucleus, are apomorphies.',\n  'PMID': 1742601}]"
     },
     "execution_count": 14,
     "metadata": {},
     "output_type": "execute_result"
    }
   ],
   "source": [
    "pmid_liste = search(\"Is it possible to visualize subtahalamic nucleus by using transcranial ultrasound?\")\n",
    "\n",
    "list(pmid_liste)[:5]"
   ],
   "metadata": {
    "collapsed": false,
    "ExecuteTime": {
     "end_time": "2024-04-11T14:48:21.797401Z",
     "start_time": "2024-04-11T14:48:21.771026Z"
    }
   },
   "id": "885b4cd3f85a48b4",
   "execution_count": 14
  },
  {
   "cell_type": "markdown",
   "source": [
    "This funktion retrieves the PMIDs of the documents that contain the search query in the content field. The results are sorted by the TF-IDF ranking.\n",
    "\n",
    "It takes significantly longer to retrieve the results because the documents are sorted by the TF-IDF ranking."
   ],
   "metadata": {
    "collapsed": false
   },
   "id": "998b429c804633be"
  },
  {
   "cell_type": "code",
   "outputs": [],
   "source": [
    "def search_TF_IDF(query, k):\n",
    "    results = collection.find({\"$text\": {\"$search\": query}}, {\"_id\": 0, \"PMID\": 1, \"score\": {\"$meta\": \"textScore\"}}).sort([(\"score\", {\"$meta\": \"textScore\"})]).limit(k)\n",
    "    return results"
   ],
   "metadata": {
    "collapsed": false,
    "ExecuteTime": {
     "end_time": "2024-04-11T14:33:28.996003Z",
     "start_time": "2024-04-11T14:33:28.989219Z"
    }
   },
   "id": "2398467d2a980e74",
   "execution_count": 2
  },
  {
   "cell_type": "markdown",
   "source": [
    "MongoDB uses lazy evaluation. Thus, the query is not executed until the results are accessed. We access the results to measure the time it takes to retrieve the results."
   ],
   "metadata": {
    "collapsed": false
   },
   "id": "3a316c740cda85d"
  },
  {
   "cell_type": "code",
   "outputs": [],
   "source": [
    "pmid_liste = search_TF_IDF(\"Is it possible to visualize subtahalamic nucleus by using transcranial ultrasound?\", 10)"
   ],
   "metadata": {
    "collapsed": false,
    "ExecuteTime": {
     "end_time": "2024-04-11T14:33:31.255852Z",
     "start_time": "2024-04-11T14:33:31.249673Z"
    }
   },
   "id": "52bfc4116b88b82d",
   "execution_count": 3
  },
  {
   "cell_type": "markdown",
   "source": [
    "The results are retrieved as a cursor. We convert the cursor to a list to access the results. This takes a while because the results are sorted by the TF-IDF ranking."
   ],
   "metadata": {
    "collapsed": false
   },
   "id": "6a462e683a59117"
  },
  {
   "cell_type": "code",
   "outputs": [
    {
     "data": {
      "text/plain": "[{'PMID': 1627439, 'score': 3.31173513986014},\n {'PMID': 64478, 'score': 3.2818834459459465},\n {'PMID': 1705058, 'score': 3.2310779816513757},\n {'PMID': 6763082, 'score': 3.229017857142857},\n {'PMID': 2683312, 'score': 3.1279296875},\n {'PMID': 1650433, 'score': 3.095602766798419},\n {'PMID': 2473416, 'score': 3.095472440944882},\n {'PMID': 3473897, 'score': 3.07967032967033},\n {'PMID': 1519071, 'score': 3.0697115384615383},\n {'PMID': 3545257, 'score': 3.0483333333333333}]"
     },
     "execution_count": 4,
     "metadata": {},
     "output_type": "execute_result"
    }
   ],
   "source": [
    "pmid_liste = list(pmid_liste)\n",
    "pmid_liste"
   ],
   "metadata": {
    "collapsed": false,
    "ExecuteTime": {
     "end_time": "2024-04-11T14:33:59.618631Z",
     "start_time": "2024-04-11T14:33:33.265473Z"
    }
   },
   "id": "c84b73f819247fb5",
   "execution_count": 4
  },
  {
   "cell_type": "markdown",
   "source": [
    "25 seconds are needed to retrieve the results for the query. This time is impractical for a real-time search engine."
   ],
   "metadata": {
    "collapsed": false
   },
   "id": "74e53b14defc9b03"
  }
 ],
 "metadata": {
  "kernelspec": {
   "display_name": "Python 3",
   "language": "python",
   "name": "python3"
  },
  "language_info": {
   "codemirror_mode": {
    "name": "ipython",
    "version": 2
   },
   "file_extension": ".py",
   "mimetype": "text/x-python",
   "name": "python",
   "nbconvert_exporter": "python",
   "pygments_lexer": "ipython2",
   "version": "2.7.6"
  }
 },
 "nbformat": 4,
 "nbformat_minor": 5
}
