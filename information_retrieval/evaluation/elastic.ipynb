{
 "cells": [
  {
   "cell_type": "code",
   "outputs": [],
   "source": [
    "import json\n",
    "from elasticsearch import Elasticsearch, helpers\n",
    "import urllib3\n",
    "import os\n",
    "\n",
    "\n",
    "elastic_password = os.getenv('ELASTIC_PASSWORD_SERVER')\n",
    "\n",
    "es = Elasticsearch(\n",
    "    ['https://localhost:9200'],\n",
    "    basic_auth=('elastic', elastic_password),\n",
    "    verify_certs=False,\n",
    "    ca_certs=\"C:/Users/linus/http_ca.crt\"\n",
    ")\n",
    "\n",
    "urllib3.disable_warnings()"
   ],
   "metadata": {
    "collapsed": false,
    "ExecuteTime": {
     "end_time": "2024-04-06T20:56:12.028476Z",
     "start_time": "2024-04-06T20:56:11.995320Z"
    }
   },
   "id": "c730151aee91dee3",
   "execution_count": 7
  },
  {
   "cell_type": "code",
   "outputs": [
    {
     "data": {
      "text/plain": "ObjectApiResponse({'name': 'b3472380ffa2', 'cluster_name': 'docker-cluster', 'cluster_uuid': 'DQvmIapdSNS30vfmGkeR8w', 'version': {'number': '8.13.1', 'build_flavor': 'default', 'build_type': 'docker', 'build_hash': '9287f29bba5e270bd51d557b8daccb7d118ba247', 'build_date': '2024-03-29T10:05:29.787251984Z', 'build_snapshot': False, 'lucene_version': '9.10.0', 'minimum_wire_compatibility_version': '7.17.0', 'minimum_index_compatibility_version': '7.0.0'}, 'tagline': 'You Know, for Search'})"
     },
     "execution_count": 8,
     "metadata": {},
     "output_type": "execute_result"
    }
   ],
   "source": [
    "# Test the connection\n",
    "es.info()"
   ],
   "metadata": {
    "collapsed": false,
    "ExecuteTime": {
     "end_time": "2024-04-06T20:56:15.903778Z",
     "start_time": "2024-04-06T20:56:15.741059Z"
    }
   },
   "id": "9900f0eb7bdc320",
   "execution_count": 8
  },
  {
   "cell_type": "markdown",
   "source": [
    "### Indexing Documents with Embeddings into Elasticsearch for Vector Similarity Search"
   ],
   "metadata": {
    "collapsed": false
   },
   "id": "a2769980d775a70d"
  },
  {
   "cell_type": "markdown",
   "source": [
    "initialize the index with the appropriate mapping for the dense vector field."
   ],
   "metadata": {
    "collapsed": false
   },
   "id": "d35e8d0e15557047"
  },
  {
   "cell_type": "code",
   "outputs": [],
   "source": [
    "# drop the index if it already exists\n",
    "if es.indices.exists(index='pubmed_emb_index'):\n",
    "   es.indices.delete(index='pubmed_emb_index')"
   ],
   "metadata": {
    "collapsed": false
   },
   "id": "a4809b06942eaf91",
   "execution_count": 14
  },
  {
   "cell_type": "code",
   "outputs": [
    {
     "name": "stderr",
     "output_type": "stream",
     "text": [
      "C:\\Users\\linus\\anaconda3\\Lib\\site-packages\\urllib3\\connectionpool.py:1056: InsecureRequestWarning: Unverified HTTPS request is being made to host 'localhost'. Adding certificate verification is strongly advised. See: https://urllib3.readthedocs.io/en/1.26.x/advanced-usage.html#ssl-warnings\n",
      "  warnings.warn(\n",
      "C:\\Users\\linus\\anaconda3\\Lib\\site-packages\\urllib3\\connectionpool.py:1056: InsecureRequestWarning: Unverified HTTPS request is being made to host 'localhost'. Adding certificate verification is strongly advised. See: https://urllib3.readthedocs.io/en/1.26.x/advanced-usage.html#ssl-warnings\n",
      "  warnings.warn(\n"
     ]
    }
   ],
   "source": [
    "# Define the index name\n",
    "index_name = \"pubmed_emb_index\"\n",
    "\n",
    "# Check if the index already exists\n",
    "if not es.indices.exists(index=index_name):\n",
    "    # Define the mapping\n",
    "    mapping = {\n",
    "        \"mappings\": {\n",
    "            \"properties\": {\n",
    "                \"embeddings\": {\"type\": \"dense_vector\", \"dims\": 768}  # Adjust the dimension size as needed\n",
    "                # Add other field mappings as necessary\n",
    "            }\n",
    "        }\n",
    "    }\n",
    "    \n",
    "    # Create the index with the defined mapping\n",
    "    es.indices.create(index=index_name, body=mapping)"
   ],
   "metadata": {
    "collapsed": false
   },
   "id": "e950a01927be6bdd",
   "execution_count": 7
  },
  {
   "cell_type": "markdown",
   "source": [
    "load the JSONL files containing the PubMed documents, extract the embeddings, and index the documents into Elasticsearch."
   ],
   "metadata": {
    "collapsed": false
   },
   "id": "d299505c678d88c3"
  },
  {
   "cell_type": "code",
   "outputs": [
    {
     "name": "stderr",
     "output_type": "stream",
     "text": [
      " 63%|██████▎   | 63/100 [35:47<51:34, 83.63s/it]"
     ]
    },
    {
     "name": "stdout",
     "output_type": "stream",
     "text": [
      "An error occurred: Connection timed out\n"
     ]
    },
    {
     "name": "stderr",
     "output_type": "stream",
     "text": [
      "100%|██████████| 100/100 [48:28<00:00, 29.09s/it]\n"
     ]
    },
    {
     "ename": "ConnectionTimeout",
     "evalue": "Connection timed out",
     "output_type": "error",
     "traceback": [
      "\u001B[1;31m---------------------------------------------------------------------------\u001B[0m",
      "\u001B[1;31mConnectionTimeout\u001B[0m                         Traceback (most recent call last)",
      "Cell \u001B[1;32mIn[15], line 49\u001B[0m\n\u001B[0;32m     46\u001B[0m     \u001B[38;5;28mprint\u001B[39m(\u001B[38;5;124m'\u001B[39m\u001B[38;5;124mIndexing complete\u001B[39m\u001B[38;5;124m'\u001B[39m)\n\u001B[0;32m     48\u001B[0m \u001B[38;5;66;03m# Rufen Sie die Funktion auf, um die Dokumente zu indizieren\u001B[39;00m\n\u001B[1;32m---> 49\u001B[0m bulk_index_documents(source_directory, index_name)\n",
      "Cell \u001B[1;32mIn[15], line 44\u001B[0m, in \u001B[0;36mbulk_index_documents\u001B[1;34m(source_directory, index_name)\u001B[0m\n\u001B[0;32m     42\u001B[0m \u001B[38;5;66;03m# Indexieren Sie alle verbleibenden Dokumente\u001B[39;00m\n\u001B[0;32m     43\u001B[0m \u001B[38;5;28;01mif\u001B[39;00m actions:\n\u001B[1;32m---> 44\u001B[0m     helpers\u001B[38;5;241m.\u001B[39mbulk(es, actions)\n\u001B[0;32m     46\u001B[0m \u001B[38;5;28mprint\u001B[39m(\u001B[38;5;124m'\u001B[39m\u001B[38;5;124mIndexing complete\u001B[39m\u001B[38;5;124m'\u001B[39m)\n",
      "File \u001B[1;32m~\\anaconda3\\Lib\\site-packages\\elasticsearch\\helpers\\actions.py:521\u001B[0m, in \u001B[0;36mbulk\u001B[1;34m(client, actions, stats_only, ignore_status, *args, **kwargs)\u001B[0m\n\u001B[0;32m    519\u001B[0m \u001B[38;5;66;03m# make streaming_bulk yield successful results so we can count them\u001B[39;00m\n\u001B[0;32m    520\u001B[0m kwargs[\u001B[38;5;124m\"\u001B[39m\u001B[38;5;124myield_ok\u001B[39m\u001B[38;5;124m\"\u001B[39m] \u001B[38;5;241m=\u001B[39m \u001B[38;5;28;01mTrue\u001B[39;00m\n\u001B[1;32m--> 521\u001B[0m \u001B[38;5;28;01mfor\u001B[39;00m ok, item \u001B[38;5;129;01min\u001B[39;00m streaming_bulk(\n\u001B[0;32m    522\u001B[0m     client, actions, ignore_status\u001B[38;5;241m=\u001B[39mignore_status, \u001B[38;5;241m*\u001B[39margs, \u001B[38;5;241m*\u001B[39m\u001B[38;5;241m*\u001B[39mkwargs  \u001B[38;5;66;03m# type: ignore[misc]\u001B[39;00m\n\u001B[0;32m    523\u001B[0m ):\n\u001B[0;32m    524\u001B[0m     \u001B[38;5;66;03m# go through request-response pairs and detect failures\u001B[39;00m\n\u001B[0;32m    525\u001B[0m     \u001B[38;5;28;01mif\u001B[39;00m \u001B[38;5;129;01mnot\u001B[39;00m ok:\n\u001B[0;32m    526\u001B[0m         \u001B[38;5;28;01mif\u001B[39;00m \u001B[38;5;129;01mnot\u001B[39;00m stats_only:\n",
      "File \u001B[1;32m~\\anaconda3\\Lib\\site-packages\\elasticsearch\\helpers\\actions.py:436\u001B[0m, in \u001B[0;36mstreaming_bulk\u001B[1;34m(client, actions, chunk_size, max_chunk_bytes, raise_on_error, expand_action_callback, raise_on_exception, max_retries, initial_backoff, max_backoff, yield_ok, ignore_status, *args, **kwargs)\u001B[0m\n\u001B[0;32m    433\u001B[0m     time\u001B[38;5;241m.\u001B[39msleep(\u001B[38;5;28mmin\u001B[39m(max_backoff, initial_backoff \u001B[38;5;241m*\u001B[39m \u001B[38;5;241m2\u001B[39m \u001B[38;5;241m*\u001B[39m\u001B[38;5;241m*\u001B[39m (attempt \u001B[38;5;241m-\u001B[39m \u001B[38;5;241m1\u001B[39m)))\n\u001B[0;32m    435\u001B[0m \u001B[38;5;28;01mtry\u001B[39;00m:\n\u001B[1;32m--> 436\u001B[0m     \u001B[38;5;28;01mfor\u001B[39;00m data, (ok, info) \u001B[38;5;129;01min\u001B[39;00m \u001B[38;5;28mzip\u001B[39m(\n\u001B[0;32m    437\u001B[0m         bulk_data,\n\u001B[0;32m    438\u001B[0m         _process_bulk_chunk(\n\u001B[0;32m    439\u001B[0m             client,\n\u001B[0;32m    440\u001B[0m             bulk_actions,\n\u001B[0;32m    441\u001B[0m             bulk_data,\n\u001B[0;32m    442\u001B[0m             raise_on_exception,\n\u001B[0;32m    443\u001B[0m             raise_on_error,\n\u001B[0;32m    444\u001B[0m             ignore_status,\n\u001B[0;32m    445\u001B[0m             \u001B[38;5;241m*\u001B[39margs,\n\u001B[0;32m    446\u001B[0m             \u001B[38;5;241m*\u001B[39m\u001B[38;5;241m*\u001B[39mkwargs,\n\u001B[0;32m    447\u001B[0m         ),\n\u001B[0;32m    448\u001B[0m     ):\n\u001B[0;32m    449\u001B[0m         \u001B[38;5;28;01mif\u001B[39;00m \u001B[38;5;129;01mnot\u001B[39;00m ok:\n\u001B[0;32m    450\u001B[0m             action, info \u001B[38;5;241m=\u001B[39m info\u001B[38;5;241m.\u001B[39mpopitem()\n",
      "File \u001B[1;32m~\\anaconda3\\Lib\\site-packages\\elasticsearch\\helpers\\actions.py:339\u001B[0m, in \u001B[0;36m_process_bulk_chunk\u001B[1;34m(client, bulk_actions, bulk_data, raise_on_exception, raise_on_error, ignore_status, *args, **kwargs)\u001B[0m\n\u001B[0;32m    335\u001B[0m     ignore_status \u001B[38;5;241m=\u001B[39m (ignore_status,)\n\u001B[0;32m    337\u001B[0m \u001B[38;5;28;01mtry\u001B[39;00m:\n\u001B[0;32m    338\u001B[0m     \u001B[38;5;66;03m# send the actual request\u001B[39;00m\n\u001B[1;32m--> 339\u001B[0m     resp \u001B[38;5;241m=\u001B[39m client\u001B[38;5;241m.\u001B[39mbulk(\u001B[38;5;241m*\u001B[39margs, operations\u001B[38;5;241m=\u001B[39mbulk_actions, \u001B[38;5;241m*\u001B[39m\u001B[38;5;241m*\u001B[39mkwargs)  \u001B[38;5;66;03m# type: ignore[arg-type]\u001B[39;00m\n\u001B[0;32m    340\u001B[0m \u001B[38;5;28;01mexcept\u001B[39;00m ApiError \u001B[38;5;28;01mas\u001B[39;00m e:\n\u001B[0;32m    341\u001B[0m     gen \u001B[38;5;241m=\u001B[39m _process_bulk_chunk_error(\n\u001B[0;32m    342\u001B[0m         error\u001B[38;5;241m=\u001B[39me,\n\u001B[0;32m    343\u001B[0m         bulk_data\u001B[38;5;241m=\u001B[39mbulk_data,\n\u001B[1;32m   (...)\u001B[0m\n\u001B[0;32m    346\u001B[0m         raise_on_error\u001B[38;5;241m=\u001B[39mraise_on_error,\n\u001B[0;32m    347\u001B[0m     )\n",
      "File \u001B[1;32m~\\anaconda3\\Lib\\site-packages\\elasticsearch\\_sync\\client\\utils.py:446\u001B[0m, in \u001B[0;36m_rewrite_parameters.<locals>.wrapper.<locals>.wrapped\u001B[1;34m(*args, **kwargs)\u001B[0m\n\u001B[0;32m    443\u001B[0m         \u001B[38;5;28;01mexcept\u001B[39;00m \u001B[38;5;167;01mKeyError\u001B[39;00m:\n\u001B[0;32m    444\u001B[0m             \u001B[38;5;28;01mpass\u001B[39;00m\n\u001B[1;32m--> 446\u001B[0m \u001B[38;5;28;01mreturn\u001B[39;00m api(\u001B[38;5;241m*\u001B[39margs, \u001B[38;5;241m*\u001B[39m\u001B[38;5;241m*\u001B[39mkwargs)\n",
      "File \u001B[1;32m~\\anaconda3\\Lib\\site-packages\\elasticsearch\\_sync\\client\\__init__.py:714\u001B[0m, in \u001B[0;36mElasticsearch.bulk\u001B[1;34m(self, operations, body, index, error_trace, filter_path, human, pipeline, pretty, refresh, require_alias, routing, source, source_excludes, source_includes, timeout, wait_for_active_shards)\u001B[0m\n\u001B[0;32m    709\u001B[0m __body \u001B[38;5;241m=\u001B[39m operations \u001B[38;5;28;01mif\u001B[39;00m operations \u001B[38;5;129;01mis\u001B[39;00m \u001B[38;5;129;01mnot\u001B[39;00m \u001B[38;5;28;01mNone\u001B[39;00m \u001B[38;5;28;01melse\u001B[39;00m body\n\u001B[0;32m    710\u001B[0m __headers \u001B[38;5;241m=\u001B[39m {\n\u001B[0;32m    711\u001B[0m     \u001B[38;5;124m\"\u001B[39m\u001B[38;5;124maccept\u001B[39m\u001B[38;5;124m\"\u001B[39m: \u001B[38;5;124m\"\u001B[39m\u001B[38;5;124mapplication/json\u001B[39m\u001B[38;5;124m\"\u001B[39m,\n\u001B[0;32m    712\u001B[0m     \u001B[38;5;124m\"\u001B[39m\u001B[38;5;124mcontent-type\u001B[39m\u001B[38;5;124m\"\u001B[39m: \u001B[38;5;124m\"\u001B[39m\u001B[38;5;124mapplication/x-ndjson\u001B[39m\u001B[38;5;124m\"\u001B[39m,\n\u001B[0;32m    713\u001B[0m }\n\u001B[1;32m--> 714\u001B[0m \u001B[38;5;28;01mreturn\u001B[39;00m \u001B[38;5;28mself\u001B[39m\u001B[38;5;241m.\u001B[39mperform_request(  \u001B[38;5;66;03m# type: ignore[return-value]\u001B[39;00m\n\u001B[0;32m    715\u001B[0m     \u001B[38;5;124m\"\u001B[39m\u001B[38;5;124mPUT\u001B[39m\u001B[38;5;124m\"\u001B[39m,\n\u001B[0;32m    716\u001B[0m     __path,\n\u001B[0;32m    717\u001B[0m     params\u001B[38;5;241m=\u001B[39m__query,\n\u001B[0;32m    718\u001B[0m     headers\u001B[38;5;241m=\u001B[39m__headers,\n\u001B[0;32m    719\u001B[0m     body\u001B[38;5;241m=\u001B[39m__body,\n\u001B[0;32m    720\u001B[0m     endpoint_id\u001B[38;5;241m=\u001B[39m\u001B[38;5;124m\"\u001B[39m\u001B[38;5;124mbulk\u001B[39m\u001B[38;5;124m\"\u001B[39m,\n\u001B[0;32m    721\u001B[0m     path_parts\u001B[38;5;241m=\u001B[39m__path_parts,\n\u001B[0;32m    722\u001B[0m )\n",
      "File \u001B[1;32m~\\anaconda3\\Lib\\site-packages\\elasticsearch\\_sync\\client\\_base.py:271\u001B[0m, in \u001B[0;36mBaseClient.perform_request\u001B[1;34m(self, method, path, params, headers, body, endpoint_id, path_parts)\u001B[0m\n\u001B[0;32m    255\u001B[0m \u001B[38;5;28;01mdef\u001B[39;00m \u001B[38;5;21mperform_request\u001B[39m(\n\u001B[0;32m    256\u001B[0m     \u001B[38;5;28mself\u001B[39m,\n\u001B[0;32m    257\u001B[0m     method: \u001B[38;5;28mstr\u001B[39m,\n\u001B[1;32m   (...)\u001B[0m\n\u001B[0;32m    264\u001B[0m     path_parts: Optional[Mapping[\u001B[38;5;28mstr\u001B[39m, Any]] \u001B[38;5;241m=\u001B[39m \u001B[38;5;28;01mNone\u001B[39;00m,\n\u001B[0;32m    265\u001B[0m ) \u001B[38;5;241m-\u001B[39m\u001B[38;5;241m>\u001B[39m ApiResponse[Any]:\n\u001B[0;32m    266\u001B[0m     \u001B[38;5;28;01mwith\u001B[39;00m \u001B[38;5;28mself\u001B[39m\u001B[38;5;241m.\u001B[39m_otel\u001B[38;5;241m.\u001B[39mspan(\n\u001B[0;32m    267\u001B[0m         method,\n\u001B[0;32m    268\u001B[0m         endpoint_id\u001B[38;5;241m=\u001B[39mendpoint_id,\n\u001B[0;32m    269\u001B[0m         path_parts\u001B[38;5;241m=\u001B[39mpath_parts \u001B[38;5;129;01mor\u001B[39;00m {},\n\u001B[0;32m    270\u001B[0m     ) \u001B[38;5;28;01mas\u001B[39;00m otel_span:\n\u001B[1;32m--> 271\u001B[0m         response \u001B[38;5;241m=\u001B[39m \u001B[38;5;28mself\u001B[39m\u001B[38;5;241m.\u001B[39m_perform_request(\n\u001B[0;32m    272\u001B[0m             method,\n\u001B[0;32m    273\u001B[0m             path,\n\u001B[0;32m    274\u001B[0m             params\u001B[38;5;241m=\u001B[39mparams,\n\u001B[0;32m    275\u001B[0m             headers\u001B[38;5;241m=\u001B[39mheaders,\n\u001B[0;32m    276\u001B[0m             body\u001B[38;5;241m=\u001B[39mbody,\n\u001B[0;32m    277\u001B[0m             otel_span\u001B[38;5;241m=\u001B[39motel_span,\n\u001B[0;32m    278\u001B[0m         )\n\u001B[0;32m    279\u001B[0m         otel_span\u001B[38;5;241m.\u001B[39mset_elastic_cloud_metadata(response\u001B[38;5;241m.\u001B[39mmeta\u001B[38;5;241m.\u001B[39mheaders)\n\u001B[0;32m    280\u001B[0m         \u001B[38;5;28;01mreturn\u001B[39;00m response\n",
      "File \u001B[1;32m~\\anaconda3\\Lib\\site-packages\\elasticsearch\\_sync\\client\\_base.py:316\u001B[0m, in \u001B[0;36mBaseClient._perform_request\u001B[1;34m(self, method, path, params, headers, body, otel_span)\u001B[0m\n\u001B[0;32m    313\u001B[0m \u001B[38;5;28;01melse\u001B[39;00m:\n\u001B[0;32m    314\u001B[0m     target \u001B[38;5;241m=\u001B[39m path\n\u001B[1;32m--> 316\u001B[0m meta, resp_body \u001B[38;5;241m=\u001B[39m \u001B[38;5;28mself\u001B[39m\u001B[38;5;241m.\u001B[39mtransport\u001B[38;5;241m.\u001B[39mperform_request(\n\u001B[0;32m    317\u001B[0m     method,\n\u001B[0;32m    318\u001B[0m     target,\n\u001B[0;32m    319\u001B[0m     headers\u001B[38;5;241m=\u001B[39mrequest_headers,\n\u001B[0;32m    320\u001B[0m     body\u001B[38;5;241m=\u001B[39mbody,\n\u001B[0;32m    321\u001B[0m     request_timeout\u001B[38;5;241m=\u001B[39m\u001B[38;5;28mself\u001B[39m\u001B[38;5;241m.\u001B[39m_request_timeout,\n\u001B[0;32m    322\u001B[0m     max_retries\u001B[38;5;241m=\u001B[39m\u001B[38;5;28mself\u001B[39m\u001B[38;5;241m.\u001B[39m_max_retries,\n\u001B[0;32m    323\u001B[0m     retry_on_status\u001B[38;5;241m=\u001B[39m\u001B[38;5;28mself\u001B[39m\u001B[38;5;241m.\u001B[39m_retry_on_status,\n\u001B[0;32m    324\u001B[0m     retry_on_timeout\u001B[38;5;241m=\u001B[39m\u001B[38;5;28mself\u001B[39m\u001B[38;5;241m.\u001B[39m_retry_on_timeout,\n\u001B[0;32m    325\u001B[0m     client_meta\u001B[38;5;241m=\u001B[39m\u001B[38;5;28mself\u001B[39m\u001B[38;5;241m.\u001B[39m_client_meta,\n\u001B[0;32m    326\u001B[0m     otel_span\u001B[38;5;241m=\u001B[39motel_span,\n\u001B[0;32m    327\u001B[0m )\n\u001B[0;32m    329\u001B[0m \u001B[38;5;66;03m# HEAD with a 404 is returned as a normal response\u001B[39;00m\n\u001B[0;32m    330\u001B[0m \u001B[38;5;66;03m# since this is used as an 'exists' functionality.\u001B[39;00m\n\u001B[0;32m    331\u001B[0m \u001B[38;5;28;01mif\u001B[39;00m \u001B[38;5;129;01mnot\u001B[39;00m (method \u001B[38;5;241m==\u001B[39m \u001B[38;5;124m\"\u001B[39m\u001B[38;5;124mHEAD\u001B[39m\u001B[38;5;124m\"\u001B[39m \u001B[38;5;129;01mand\u001B[39;00m meta\u001B[38;5;241m.\u001B[39mstatus \u001B[38;5;241m==\u001B[39m \u001B[38;5;241m404\u001B[39m) \u001B[38;5;129;01mand\u001B[39;00m (\n\u001B[0;32m    332\u001B[0m     \u001B[38;5;129;01mnot\u001B[39;00m \u001B[38;5;241m200\u001B[39m \u001B[38;5;241m<\u001B[39m\u001B[38;5;241m=\u001B[39m meta\u001B[38;5;241m.\u001B[39mstatus \u001B[38;5;241m<\u001B[39m \u001B[38;5;241m299\u001B[39m\n\u001B[0;32m    333\u001B[0m     \u001B[38;5;129;01mand\u001B[39;00m (\n\u001B[1;32m   (...)\u001B[0m\n\u001B[0;32m    337\u001B[0m     )\n\u001B[0;32m    338\u001B[0m ):\n",
      "File \u001B[1;32m~\\anaconda3\\Lib\\site-packages\\elastic_transport\\_transport.py:342\u001B[0m, in \u001B[0;36mTransport.perform_request\u001B[1;34m(self, method, target, body, headers, max_retries, retry_on_status, retry_on_timeout, request_timeout, client_meta, otel_span)\u001B[0m\n\u001B[0;32m    340\u001B[0m \u001B[38;5;28;01mtry\u001B[39;00m:\n\u001B[0;32m    341\u001B[0m     otel_span\u001B[38;5;241m.\u001B[39mset_node_metadata(node\u001B[38;5;241m.\u001B[39mhost, node\u001B[38;5;241m.\u001B[39mport, node\u001B[38;5;241m.\u001B[39mbase_url, target)\n\u001B[1;32m--> 342\u001B[0m     resp \u001B[38;5;241m=\u001B[39m node\u001B[38;5;241m.\u001B[39mperform_request(\n\u001B[0;32m    343\u001B[0m         method,\n\u001B[0;32m    344\u001B[0m         target,\n\u001B[0;32m    345\u001B[0m         body\u001B[38;5;241m=\u001B[39mrequest_body,\n\u001B[0;32m    346\u001B[0m         headers\u001B[38;5;241m=\u001B[39mrequest_headers,\n\u001B[0;32m    347\u001B[0m         request_timeout\u001B[38;5;241m=\u001B[39mrequest_timeout,\n\u001B[0;32m    348\u001B[0m     )\n\u001B[0;32m    349\u001B[0m     _logger\u001B[38;5;241m.\u001B[39minfo(\n\u001B[0;32m    350\u001B[0m         \u001B[38;5;124m\"\u001B[39m\u001B[38;5;132;01m%s\u001B[39;00m\u001B[38;5;124m \u001B[39m\u001B[38;5;132;01m%s\u001B[39;00m\u001B[38;5;132;01m%s\u001B[39;00m\u001B[38;5;124m [status:\u001B[39m\u001B[38;5;132;01m%s\u001B[39;00m\u001B[38;5;124m duration:\u001B[39m\u001B[38;5;132;01m%.3f\u001B[39;00m\u001B[38;5;124ms]\u001B[39m\u001B[38;5;124m\"\u001B[39m\n\u001B[0;32m    351\u001B[0m         \u001B[38;5;241m%\u001B[39m (\n\u001B[1;32m   (...)\u001B[0m\n\u001B[0;32m    357\u001B[0m         )\n\u001B[0;32m    358\u001B[0m     )\n\u001B[0;32m    360\u001B[0m     \u001B[38;5;28;01mif\u001B[39;00m method \u001B[38;5;241m!=\u001B[39m \u001B[38;5;124m\"\u001B[39m\u001B[38;5;124mHEAD\u001B[39m\u001B[38;5;124m\"\u001B[39m:\n",
      "File \u001B[1;32m~\\anaconda3\\Lib\\site-packages\\elastic_transport\\_node\\_http_urllib3.py:202\u001B[0m, in \u001B[0;36mUrllib3HttpNode.perform_request\u001B[1;34m(self, method, target, body, headers, request_timeout)\u001B[0m\n\u001B[0;32m    194\u001B[0m         err \u001B[38;5;241m=\u001B[39m \u001B[38;5;167;01mConnectionError\u001B[39;00m(\u001B[38;5;28mstr\u001B[39m(e), errors\u001B[38;5;241m=\u001B[39m(e,))\n\u001B[0;32m    195\u001B[0m     \u001B[38;5;28mself\u001B[39m\u001B[38;5;241m.\u001B[39m_log_request(\n\u001B[0;32m    196\u001B[0m         method\u001B[38;5;241m=\u001B[39mmethod,\n\u001B[0;32m    197\u001B[0m         target\u001B[38;5;241m=\u001B[39mtarget,\n\u001B[1;32m   (...)\u001B[0m\n\u001B[0;32m    200\u001B[0m         exception\u001B[38;5;241m=\u001B[39merr,\n\u001B[0;32m    201\u001B[0m     )\n\u001B[1;32m--> 202\u001B[0m     \u001B[38;5;28;01mraise\u001B[39;00m err \u001B[38;5;28;01mfrom\u001B[39;00m \u001B[38;5;28;01mNone\u001B[39;00m\n\u001B[0;32m    204\u001B[0m meta \u001B[38;5;241m=\u001B[39m ApiResponseMeta(\n\u001B[0;32m    205\u001B[0m     node\u001B[38;5;241m=\u001B[39m\u001B[38;5;28mself\u001B[39m\u001B[38;5;241m.\u001B[39mconfig,\n\u001B[0;32m    206\u001B[0m     duration\u001B[38;5;241m=\u001B[39mduration,\n\u001B[1;32m   (...)\u001B[0m\n\u001B[0;32m    209\u001B[0m     headers\u001B[38;5;241m=\u001B[39mresponse_headers,\n\u001B[0;32m    210\u001B[0m )\n\u001B[0;32m    211\u001B[0m \u001B[38;5;28mself\u001B[39m\u001B[38;5;241m.\u001B[39m_log_request(\n\u001B[0;32m    212\u001B[0m     method\u001B[38;5;241m=\u001B[39mmethod,\n\u001B[0;32m    213\u001B[0m     target\u001B[38;5;241m=\u001B[39mtarget,\n\u001B[1;32m   (...)\u001B[0m\n\u001B[0;32m    217\u001B[0m     response\u001B[38;5;241m=\u001B[39mdata,\n\u001B[0;32m    218\u001B[0m )\n",
      "\u001B[1;31mConnectionTimeout\u001B[0m: Connection timed out"
     ]
    }
   ],
   "source": [
    "from pathlib import Path\n",
    "import os\n",
    "import json\n",
    "from tqdm import tqdm\n",
    "\n",
    "source_directory = Path('C:/Users/linus/big_data/pubmed/first100JSONLembedded/')\n",
    "\n",
    "index_name = \"pubmed_emb_index\"\n",
    "\n",
    "def bulk_index_documents(source_directory, index_name):\n",
    "    if not source_directory.exists():\n",
    "        print(\"The source directory does not exist.\")\n",
    "        return\n",
    "\n",
    "    actions = [] \n",
    "\n",
    "    for file_name in tqdm(os.listdir(source_directory)):\n",
    "        if file_name.endswith('.jsonl'):\n",
    "            source_file = source_directory / file_name\n",
    "            \n",
    "            with open(source_file, 'r') as json_file:\n",
    "                for line in json_file:\n",
    "                    try:\n",
    "                        doc = json.loads(line)\n",
    "                        action = {\n",
    "                            \"_index\": index_name,\n",
    "                            \"_source\": doc\n",
    "                        }\n",
    "                        actions.append(action)\n",
    "\n",
    "                        if len(actions) == 600: # Bulk 600 docs\n",
    "                            helpers.bulk(es, actions)\n",
    "                            actions = [] \n",
    "                    except json.JSONDecodeError as e:\n",
    "                        print(f\"Error decoding JSON: {e}\")\n",
    "                    except Exception as e:\n",
    "                        print(f\"An error occurred: {e}\")\n",
    "\n",
    "    if actions:\n",
    "        helpers.bulk(es, actions)\n",
    "\n",
    "    print('Indexing complete')\n",
    "\n",
    "bulk_index_documents(source_directory, index_name)"
   ],
   "metadata": {
    "collapsed": false
   },
   "id": "7a60983235cd1e2b",
   "execution_count": 15
  },
  {
   "cell_type": "code",
   "outputs": [
    {
     "name": "stdout",
     "output_type": "stream",
     "text": [
      "Index contains 100 JSONL Chunks with 1795307 documents.\n"
     ]
    }
   ],
   "source": [
    "count_result = es.count(index='pubmed_emb_index')\n",
    "\n",
    "# Print the count\n",
    "print(f\"Index contains 100 JSONL Chunks with {count_result['count']} documents.\")"
   ],
   "metadata": {
    "collapsed": false,
    "ExecuteTime": {
     "end_time": "2024-04-06T21:02:07.817164Z",
     "start_time": "2024-04-06T21:02:07.768706Z"
    }
   },
   "id": "30f73281bec8ed96",
   "execution_count": 9
  },
  {
   "cell_type": "code",
   "outputs": [
    {
     "name": "stdout",
     "output_type": "stream",
     "text": [
      "Die Grösse des Indexes ist 30.2 GB.\n"
     ]
    }
   ],
   "source": [
    "response = es.indices.stats(index='pubmed_emb_index')\n",
    "index_size = response['_all']['total']['store']['size_in_bytes']\n",
    "\n",
    "print(f\"Die Grösse des Indexes ist {round(index_size/1000000000, 2)} GB.\")"
   ],
   "metadata": {
    "collapsed": false,
    "ExecuteTime": {
     "end_time": "2024-04-06T21:02:12.749395Z",
     "start_time": "2024-04-06T21:02:12.668611Z"
    }
   },
   "id": "6980954f4300fb66",
   "execution_count": 10
  },
  {
   "cell_type": "markdown",
   "source": [],
   "metadata": {
    "collapsed": false
   },
   "id": "2b4b89dea2ad760a"
  },
  {
   "cell_type": "markdown",
   "source": [],
   "metadata": {
    "collapsed": false
   },
   "id": "74ff19354036d83e"
  },
  {
   "cell_type": "markdown",
   "source": [],
   "metadata": {
    "collapsed": false
   },
   "id": "cdbfcb84384f18e3"
  },
  {
   "cell_type": "markdown",
   "source": [],
   "metadata": {
    "collapsed": false
   },
   "id": "ee9caf6f0f31f667"
  },
  {
   "cell_type": "markdown",
   "source": [],
   "metadata": {
    "collapsed": false
   },
   "id": "77a8d3794968c862"
  }
 ],
 "metadata": {
  "kernelspec": {
   "display_name": "Python 3",
   "language": "python",
   "name": "python3"
  },
  "language_info": {
   "codemirror_mode": {
    "name": "ipython",
    "version": 2
   },
   "file_extension": ".py",
   "mimetype": "text/x-python",
   "name": "python",
   "nbconvert_exporter": "python",
   "pygments_lexer": "ipython2",
   "version": "2.7.6"
  }
 },
 "nbformat": 4,
 "nbformat_minor": 5
}
