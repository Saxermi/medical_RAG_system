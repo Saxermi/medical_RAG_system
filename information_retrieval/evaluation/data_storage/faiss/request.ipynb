{
 "cells": [
  {
   "cell_type": "code",
   "execution_count": 3,
   "metadata": {},
   "outputs": [
    {
     "name": "stdout",
     "output_type": "stream",
     "text": [
      "Status Code: 200\n",
      "Response: {'distances': [[330.46551513671875, 332.33978271484375, 332.3907165527344, 332.5196533203125, 332.6087951660156, 332.66607666015625, 332.676513671875, 332.694580078125, 332.9859313964844, 333.0805358886719]], 'indices': [[1133332, 1214388, 2019346, 670332, 2179104, 1133682, 1559199, 1506875, 1129233, 1210736]]}\n"
     ]
    }
   ],
   "source": [
    "import requests\n",
    "import numpy as np\n",
    "import json\n",
    "\n",
    "# URL des Flask-Endpoints\n",
    "url = 'http://localhost:5000/search'\n",
    "\n",
    "# Generiere einen zufälligen Vektor\n",
    "random_vector = np.random.rand(768).tolist()\n",
    "\n",
    "# Daten für die POST-Anfrage\n",
    "data = {\n",
    "    'queries': [random_vector]\n",
    "}\n",
    "\n",
    "# Senden der POST-Anfrage\n",
    "response = requests.post(url, headers={'Content-Type': 'application/json'}, data=json.dumps(data))\n",
    "\n",
    "# Ausgabe der Antwort\n",
    "print('Status Code:', response.status_code)\n",
    "print('Response:', response.json())"
   ]
  }
 ],
 "metadata": {
  "kernelspec": {
   "display_name": "Python 3",
   "language": "python",
   "name": "python3"
  },
  "language_info": {
   "codemirror_mode": {
    "name": "ipython",
    "version": 3
   },
   "file_extension": ".py",
   "mimetype": "text/x-python",
   "name": "python",
   "nbconvert_exporter": "python",
   "pygments_lexer": "ipython3",
   "version": "3.10.12"
  }
 },
 "nbformat": 4,
 "nbformat_minor": 2
}
