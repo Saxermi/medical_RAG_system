{
 "cells": [
  {
   "cell_type": "code",
   "execution_count": 1,
   "id": "initial_id",
   "metadata": {
    "collapsed": true,
    "ExecuteTime": {
     "end_time": "2024-04-06T21:09:12.011559Z",
     "start_time": "2024-04-06T21:09:10.017467Z"
    }
   },
   "outputs": [],
   "source": [
    "from pymongo import MongoClient\n",
    "from sklearn.neighbors import NearestNeighbors\n",
    "import numpy as np\n",
    "from pathlib import Path\n",
    "import os\n",
    "import json\n",
    "from tqdm import tqdm\n",
    "\n",
    "# Connect to MongoDB\n",
    "client = MongoClient('localhost', 27017)\n",
    "db = client['RAG']\n",
    "collection = db['PubMedEmbedded']"
   ]
  },
  {
   "cell_type": "markdown",
   "source": [
    "Load data into MongoDB"
   ],
   "metadata": {
    "collapsed": false
   },
   "id": "41bf4d903fe9fe87"
  },
  {
   "cell_type": "code",
   "outputs": [
    {
     "name": "stderr",
     "output_type": "stream",
     "text": [
      "100%|██████████| 100/100 [21:06<00:00, 12.66s/it]"
     ]
    },
    {
     "name": "stdout",
     "output_type": "stream",
     "text": [
      "Indexing complete\n"
     ]
    },
    {
     "name": "stderr",
     "output_type": "stream",
     "text": [
      "\n"
     ]
    }
   ],
   "source": [
    "# Define the path for the source directory\n",
    "source_directory = Path('C:/Users/linus/big_data/pubmed/first100JSONLembedded/')\n",
    "\n",
    "# Check if the source directory exists\n",
    "if not source_directory.exists():\n",
    "    print(\"The source directory does not exist.\")\n",
    "else:\n",
    "    # Iterate through each file in the source directory\n",
    "    for file_name in tqdm(os.listdir(source_directory)):\n",
    "        if file_name.endswith('.jsonl'):\n",
    "            source_file = source_directory / file_name\n",
    "            \n",
    "            # Create a list to store the documents\n",
    "            documents = []\n",
    "            \n",
    "            # Open and read the JSONL file containing the PubMed documents\n",
    "            with open(source_file, 'r') as json_file:\n",
    "                for line in json_file:\n",
    "                    data = json.loads(line)\n",
    "                    documents.append(data)\n",
    "                    \n",
    "                    if len(documents) == 1000: # Bulk loading 1000 docs\n",
    "                        collection.insert_many(documents)\n",
    "                        documents = []  # Clear the list after insertion\n",
    "\n",
    "            # Insert any remaining documents\n",
    "            if documents:\n",
    "                collection.insert_many(documents)\n",
    "\n",
    "print(\"Indexing complete\")"
   ],
   "metadata": {
    "collapsed": false,
    "ExecuteTime": {
     "end_time": "2024-04-03T17:11:48.134726Z",
     "start_time": "2024-04-03T16:50:41.744323Z"
    }
   },
   "id": "6bad61c2e39234fc",
   "execution_count": 30
  },
  {
   "cell_type": "markdown",
   "source": [
    "Creating text index on collection for full text search using TF-IDF Ranking"
   ],
   "metadata": {
    "collapsed": false
   },
   "id": "34668f04a12955ce"
  },
  {
   "cell_type": "code",
   "outputs": [
    {
     "name": "stdout",
     "output_type": "stream",
     "text": [
      "['_id_', 'content_text']\n"
     ]
    }
   ],
   "source": [
    "# create text index\n",
    "collection.create_index([('content', 'text')])\n",
    "print(list(collection.index_information()))"
   ],
   "metadata": {
    "collapsed": false,
    "ExecuteTime": {
     "end_time": "2024-04-03T19:42:16.825268Z",
     "start_time": "2024-04-03T19:27:45.836356Z"
    }
   },
   "id": "f7b267490e4d607d",
   "execution_count": 2
  },
  {
   "cell_type": "code",
   "outputs": [
    {
     "name": "stdout",
     "output_type": "stream",
     "text": [
      "Es gibt 1795307 Dokumente in der Sammlung.\n"
     ]
    }
   ],
   "source": [
    "#doc_count = collection.count_documents({})\n",
    "#print(f\"Es gibt {doc_count} Dokumente in der Sammlung.\")"
   ],
   "metadata": {
    "collapsed": false,
    "ExecuteTime": {
     "end_time": "2024-04-03T21:01:54.178137Z",
     "start_time": "2024-04-03T20:58:52.266115Z"
    }
   },
   "id": "2e0cce65d8c54828",
   "execution_count": 4
  },
  {
   "cell_type": "markdown",
   "source": [
    "### Full Text Search\n",
    "\n",
    "Creating query function for TF-IDF ranked results"
   ],
   "metadata": {
    "collapsed": false
   },
   "id": "6bed7c40f9100583"
  },
  {
   "cell_type": "code",
   "outputs": [],
   "source": [
    "def search_TF_IDF(query):\n",
    "    results = collection.find({\"$text\": {\"$search\": query}}).limit(100)\n",
    "    return results"
   ],
   "metadata": {
    "collapsed": false,
    "ExecuteTime": {
     "end_time": "2024-04-06T21:09:22.306469Z",
     "start_time": "2024-04-06T21:09:22.293015Z"
    }
   },
   "id": "4f534859060af802",
   "execution_count": 2
  },
  {
   "cell_type": "markdown",
   "source": [
    "### Hybrid Search\n",
    "\n",
    "Initializing Embedder to embedd query"
   ],
   "metadata": {
    "collapsed": false
   },
   "id": "cc38a36adf9ba79f"
  },
  {
   "cell_type": "code",
   "outputs": [],
   "source": [
    "from Embedding import TextEmbedder\n",
    "embedder = TextEmbedder()"
   ],
   "metadata": {
    "collapsed": false,
    "ExecuteTime": {
     "end_time": "2024-04-06T21:09:30.564644Z",
     "start_time": "2024-04-06T21:09:25.144664Z"
    }
   },
   "id": "e8f66c0a228dc184",
   "execution_count": 3
  },
  {
   "cell_type": "markdown",
   "source": [
    "Defining functions for hybrid search"
   ],
   "metadata": {
    "collapsed": false
   },
   "id": "9994dfb7e6105cdd"
  },
  {
   "cell_type": "code",
   "outputs": [],
   "source": [
    "def find_nearest_embeddings(query_embedding, embeddings, n=10):\n",
    "    # Initialisieren Sie NearestNeighbors\n",
    "    nearest_neighbors = NearestNeighbors(n_neighbors=n, algorithm='auto').fit(embeddings)\n",
    "    # Finden Sie die n nächsten Nachbarn des Suchtext-Embeddings\n",
    "    distances, indices = nearest_neighbors.kneighbors([query_embedding])\n",
    "    return indices[0], distances[0]\n",
    "\n",
    "def search_and_retrieve_embeddings(query, k):\n",
    "    # Textsuche durchführen und gleichzeitig die Embeddings abrufen\n",
    "    results = collection.find(\n",
    "        {\"$text\": {\"$search\": query}},\n",
    "        {'PMID': 1, 'embeddings': 1, '_id': 0}\n",
    "    ).limit(k)\n",
    "    \n",
    "    # Extrahieren Sie PMIDs und Embeddings aus den Ergebnissen\n",
    "    pmids = []\n",
    "    embeddings = []\n",
    "    for doc in results:\n",
    "        pmids.append(doc['PMID'])\n",
    "        embeddings.append(doc['embeddings'])\n",
    "\n",
    "    # Konvertieren Sie die Embeddings-Liste in ein NumPy-Array\n",
    "    embeddings_array = np.array(embeddings)\n",
    "\n",
    "    return pmids, embeddings_array"
   ],
   "metadata": {
    "collapsed": false,
    "ExecuteTime": {
     "end_time": "2024-04-06T21:09:35.773456Z",
     "start_time": "2024-04-06T21:09:35.765712Z"
    }
   },
   "id": "3c2993b6bcd72d18",
   "execution_count": 4
  },
  {
   "cell_type": "markdown",
   "source": [
    "conducting TF-IDF ranking"
   ],
   "metadata": {
    "collapsed": false
   },
   "id": "c8b640cc5e067a7c"
  },
  {
   "cell_type": "code",
   "outputs": [],
   "source": [
    "pmid_liste = search_TF_IDF(\"List signaling molecules (ligands) that interact with the receptor EGFR?\")"
   ],
   "metadata": {
    "collapsed": false,
    "ExecuteTime": {
     "end_time": "2024-04-06T21:09:59.994862Z",
     "start_time": "2024-04-06T21:09:59.991862Z"
    }
   },
   "id": "401103d3aa7bebcc",
   "execution_count": 5
  },
  {
   "cell_type": "markdown",
   "source": [
    "Hybrid search"
   ],
   "metadata": {
    "collapsed": false
   },
   "id": "b10eb05a5d245455"
  },
  {
   "cell_type": "code",
   "outputs": [
    {
     "name": "stdout",
     "output_type": "stream",
     "text": [
      "1: PMID = 2212053, Distanz = 6.397121366951664\n",
      "2: PMID = 1312153, Distanz = 6.632475605271574\n",
      "3: PMID = 2324400, Distanz = 6.636741492047409\n",
      "4: PMID = 1377727, Distanz = 6.655961150640634\n",
      "5: PMID = 2002128, Distanz = 6.695614806634344\n",
      "6: PMID = 2376212, Distanz = 6.723127154803946\n",
      "7: PMID = 2673976, Distanz = 6.73307600296995\n",
      "8: PMID = 2002220, Distanz = 6.7608914712881285\n",
      "9: PMID = 2002216, Distanz = 6.783224931817288\n",
      "10: PMID = 2034916, Distanz = 6.803948796184079\n"
     ]
    }
   ],
   "source": [
    "such_text = \"List signaling molecules (ligands) that interact with the receptor EGFR?\"\n",
    "\n",
    "# retrieving 1000 docs incl. embedding based on full text search\n",
    "pmids, embedding_matrix = search_and_retrieve_embeddings(such_text, 1000)\n",
    "\n",
    "# transform query into bioBERT embedding\n",
    "suchtext_embedding = embedder.embed(such_text)\n",
    "\n",
    "# find 10 nearest embeddings in small corpus (1000) using KNN\n",
    "indices, distances = find_nearest_embeddings(suchtext_embedding, embedding_matrix, 10)\n",
    "\n",
    "# show results\n",
    "for i, index in enumerate(indices):\n",
    "    print(f\"{i + 1}: PMID = {pmids[index]}, Distanz = {distances[i]}\")"
   ],
   "metadata": {
    "collapsed": false,
    "ExecuteTime": {
     "end_time": "2024-04-06T21:11:56.160334Z",
     "start_time": "2024-04-06T21:11:52.054311Z"
    }
   },
   "id": "5685d6276f1c2adc",
   "execution_count": 8
  }
 ],
 "metadata": {
  "kernelspec": {
   "display_name": "Python 3",
   "language": "python",
   "name": "python3"
  },
  "language_info": {
   "codemirror_mode": {
    "name": "ipython",
    "version": 2
   },
   "file_extension": ".py",
   "mimetype": "text/x-python",
   "name": "python",
   "nbconvert_exporter": "python",
   "pygments_lexer": "ipython2",
   "version": "2.7.6"
  }
 },
 "nbformat": 4,
 "nbformat_minor": 5
}
