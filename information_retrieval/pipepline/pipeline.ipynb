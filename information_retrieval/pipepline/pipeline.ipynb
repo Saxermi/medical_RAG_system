{
 "cells": [
  {
   "cell_type": "markdown",
   "metadata": {},
   "source": [
    "### Retrieval pipeline"
   ]
  },
  {
   "cell_type": "markdown",
   "metadata": {},
   "source": [
    "Importing relevant modules"
   ]
  },
  {
   "cell_type": "code",
   "execution_count": 2,
   "metadata": {},
   "outputs": [
    {
     "name": "stderr",
     "output_type": "stream",
     "text": [
      "/home/ubuntu/.local/lib/python3.10/site-packages/tqdm/auto.py:21: TqdmWarning: IProgress not found. Please update jupyter and ipywidgets. See https://ipywidgets.readthedocs.io/en/stable/user_install.html\n",
      "  from .autonotebook import tqdm as notebook_tqdm\n"
     ]
    }
   ],
   "source": [
    "from elasticsearch import Elasticsearch\n",
    "import urllib3\n",
    "import os\n",
    "import requests\n",
    "import numpy as np\n",
    "import json\n",
    "from Embedding import TextEmbedder"
   ]
  },
  {
   "cell_type": "markdown",
   "metadata": {},
   "source": [
    "Initializing embedder"
   ]
  },
  {
   "cell_type": "code",
   "execution_count": 3,
   "metadata": {},
   "outputs": [],
   "source": [
    "embedder = TextEmbedder()"
   ]
  },
  {
   "cell_type": "markdown",
   "metadata": {},
   "source": [
    "Initializing Elastic Search connection"
   ]
  },
  {
   "cell_type": "code",
   "execution_count": 4,
   "metadata": {},
   "outputs": [],
   "source": [
    "elastic_password = os.getenv('ELASTIC_PASSWORD')\n",
    "\n",
    "es = Elasticsearch(\n",
    "    ['https://localhost:9200'],\n",
    "    basic_auth=('elastic', elastic_password),\n",
    "    verify_certs=True,\n",
    "    ca_certs=\"/home/ubuntu/.crts/http_ca.crt\",\n",
    "    request_timeout=60\n",
    ")\n",
    "\n",
    "index_name = \"pubmed_index\""
   ]
  },
  {
   "cell_type": "code",
   "execution_count": 5,
   "metadata": {},
   "outputs": [],
   "source": [
    "# Define a search query\n",
    "def bm25_search(query: str, k: int = 10):\n",
    "    query = {\n",
    "        \"size\": k,\n",
    "        \"query\": {\n",
    "            \"match\": {\n",
    "                \"content\": f\"{query}\"\n",
    "            }\n",
    "        },\n",
    "        \"_source\": [\"PMID\", \"title\"]\n",
    "    }\n",
    "    # Elasticsearch nutzt standardmässig das BM25-Modell, um die Relevanz der Dokumente zu berechnen\n",
    "    return es.search(index='pubmed_index', body=query)"
   ]
  },
  {
   "cell_type": "code",
   "execution_count": 6,
   "metadata": {},
   "outputs": [],
   "source": [
    "def get_docs_via_PMIDs(PMIDs: list):\n",
    "    query = {\n",
    "        \"size\": len(PMIDs),\n",
    "        \"query\": {\n",
    "            \"terms\": {\n",
    "                \"PMID\": PMIDs\n",
    "            }\n",
    "        },\n",
    "        \"_source\": [\"PMID\", \"title\"]\n",
    "    }\n",
    "    \n",
    "    print(len(PMIDs))\n",
    "    print(len(es.search(index='pubmed_index', body=query).body['hits']['hits']))\n",
    "    return es.search(index='pubmed_index', body=query)"
   ]
  },
  {
   "cell_type": "code",
   "execution_count": 12,
   "metadata": {},
   "outputs": [],
   "source": [
    "def query_to_vector(text, embedder):\n",
    "    embedding = embedder.embed(text)\n",
    "    return embedding\n",
    "\n",
    "def query(query: str, k: int = 10, url='http://localhost:5000/search'):\n",
    "    vec = query_to_vector(query, embedder).tolist()  # Konvertiere das NumPy-Array in eine Liste\n",
    "    data = {\n",
    "        'queries': [vec],  # Stelle sicher, dass 'queries' eine Liste von Listen ist\n",
    "        'k': k\n",
    "    }\n",
    "    response = requests.post(url, headers={'Content-Type': 'application/json'}, data=json.dumps(data))\n",
    "\n",
    "    return response.json()"
   ]
  },
  {
   "cell_type": "code",
   "execution_count": 20,
   "metadata": {},
   "outputs": [],
   "source": [
    "response = query(\"Identify clinical trials investigating novel treatments for drug-resistant strains of tuberculosis.\", 10)"
   ]
  },
  {
   "cell_type": "code",
   "execution_count": 21,
   "metadata": {},
   "outputs": [
    {
     "name": "stdout",
     "output_type": "stream",
     "text": [
      "Distances: [17.478534698486328, 17.741710662841797, 18.024999618530273, 18.073043823242188, 18.258037567138672, 18.425647735595703, 18.439815521240234, 18.589141845703125, 18.631526947021484, 18.6602840423584]\n",
      "PMIDs: [3150951, 3079288, 1380906, 3299646, 1500394, 1677748, 1336770, 1454973, 1377169, 2162298]\n"
     ]
    }
   ],
   "source": [
    "PMIDs = response['indices'][0]\n",
    "distances = response['distances'][0]\n",
    "\n",
    "print(f\"Distances: {distances}\")\n",
    "print(f\"PMIDs: {PMIDs}\")"
   ]
  },
  {
   "cell_type": "code",
   "execution_count": 22,
   "metadata": {},
   "outputs": [
    {
     "name": "stdout",
     "output_type": "stream",
     "text": [
      "10\n",
      "10\n",
      "PMID: 1380906, Title: Development of effective drug combinations for the inhibition of multiply resistant mycobacteria, especially of the Mycobacterium avium complex.\n",
      "PMID: 1377169, Title: [A new, highly synergistic drug combination for the treatment of infections with multiresistant mycobacteria, especially the mycobacterium avium complex].\n",
      "PMID: 1500394, Title: Ovarian cancer. Experimental chemotherapy.\n",
      "PMID: 1454973, Title: The multidrug-resistant tuberculosis challenge to public health efforts to control tuberculosis.\n",
      "PMID: 3299646, Title: Resistance of bacteria to antibacterial agents: report of Task Force 2.\n",
      "PMID: 1336770, Title: Phase II study of iproplatin (CHIP) in patients with cisplatin-refractory germ cell tumors; the need for alternative strategies in the investigation of new agents in GCT.\n",
      "PMID: 3079288, Title: Mechanisms and clinical significance of multidrug resistance.\n",
      "PMID: 3150951, Title: In vitro activity of antimicrobial agents against mycobacteria.\n",
      "PMID: 2162298, Title: Resistance to quinolones in gram-negative microorganisms: mechanisms and prevention.\n",
      "PMID: 1677748, Title: Primary care intervention and management for adults with early HIV infection.\n"
     ]
    }
   ],
   "source": [
    "docs = get_docs_via_PMIDs(PMIDs)\n",
    "\n",
    "for doc in docs.body['hits']['hits']:\n",
    "    print(f\"PMID: {doc['_source']['PMID']}, Title: {doc['_source']['title']}\")"
   ]
  }
 ],
 "metadata": {
  "kernelspec": {
   "display_name": "Python 3",
   "language": "python",
   "name": "python3"
  },
  "language_info": {
   "codemirror_mode": {
    "name": "ipython",
    "version": 3
   },
   "file_extension": ".py",
   "mimetype": "text/x-python",
   "name": "python",
   "nbconvert_exporter": "python",
   "pygments_lexer": "ipython3",
   "version": "3.10.12"
  }
 },
 "nbformat": 4,
 "nbformat_minor": 2
}
