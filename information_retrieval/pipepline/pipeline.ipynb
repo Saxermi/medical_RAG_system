{
 "cells": [
  {
   "cell_type": "markdown",
   "metadata": {},
   "source": [
    "### Retrieval pipeline"
   ]
  },
  {
   "cell_type": "markdown",
   "metadata": {},
   "source": [
    "Importing relevant modules"
   ]
  },
  {
   "cell_type": "code",
   "execution_count": 3,
   "metadata": {},
   "outputs": [
    {
     "name": "stderr",
     "output_type": "stream",
     "text": [
      "/home/ubuntu/.local/lib/python3.10/site-packages/tqdm/auto.py:21: TqdmWarning: IProgress not found. Please update jupyter and ipywidgets. See https://ipywidgets.readthedocs.io/en/stable/user_install.html\n",
      "  from .autonotebook import tqdm as notebook_tqdm\n"
     ]
    }
   ],
   "source": [
    "from elasticsearch import Elasticsearch\n",
    "import urllib3\n",
    "import os\n",
    "import requests\n",
    "import numpy as np\n",
    "import json\n",
    "from Embedding import TextEmbedder"
   ]
  },
  {
   "cell_type": "markdown",
   "metadata": {},
   "source": [
    "Initializing embedder"
   ]
  },
  {
   "cell_type": "code",
   "execution_count": 5,
   "metadata": {},
   "outputs": [],
   "source": [
    "embedder = TextEmbedder()"
   ]
  },
  {
   "cell_type": "markdown",
   "metadata": {},
   "source": [
    "Initializing Elastic Search connection"
   ]
  },
  {
   "cell_type": "code",
   "execution_count": 6,
   "metadata": {},
   "outputs": [],
   "source": [
    "elastic_password = os.getenv('ELASTIC_PASSWORD')\n",
    "\n",
    "es = Elasticsearch(\n",
    "    ['https://localhost:9200'],\n",
    "    basic_auth=('elastic', elastic_password),\n",
    "    verify_certs=True,\n",
    "    ca_certs=\"/home/ubuntu/.crts/http_ca.crt\",\n",
    "    request_timeout=60\n",
    ")\n",
    "\n",
    "index_name = \"pubmed_index\""
   ]
  },
  {
   "cell_type": "code",
   "execution_count": 7,
   "metadata": {},
   "outputs": [],
   "source": [
    "# Define a search query\n",
    "def bm25_search(query: str, k: int = 5):\n",
    "    query = {\n",
    "        \"size\": k,\n",
    "        \"query\": {\n",
    "            \"match\": {\n",
    "                \"content\": f\"{query}\"\n",
    "            }\n",
    "        },\n",
    "        \"_source\": [\"PMID\", \"title\"]\n",
    "    }\n",
    "    # Elasticsearch nutzt standardmässig das BM25-Modell, um die Relevanz der Dokumente zu berechnen\n",
    "    return es.search(index='pubmed_index', body=query)"
   ]
  },
  {
   "cell_type": "code",
   "execution_count": 30,
   "metadata": {},
   "outputs": [],
   "source": [
    "def get_docs_via_PMIDs(PMIDs: list):\n",
    "    query = {\n",
    "        \"query\": {\n",
    "            \"terms\": {\n",
    "                \"PMID\": PMIDs\n",
    "            }\n",
    "        },\n",
    "        \"_source\": [\"PMID\", \"title\"]\n",
    "    }\n",
    "    return es.search(index='pubmed_index', body=query)"
   ]
  },
  {
   "cell_type": "code",
   "execution_count": 23,
   "metadata": {},
   "outputs": [],
   "source": [
    "def query_to_vector(text, embedder):\n",
    "    embedding = embedder.embed(text)\n",
    "    return embedding\n",
    "\n",
    "def query(query: str, k: int = 10, url='http://localhost:5000/search'):\n",
    "    vec = query_to_vector(query, embedder).tolist()  # Konvertiere das NumPy-Array in eine Liste\n",
    "    data = {\n",
    "        'queries': [vec],  # Stelle sicher, dass 'queries' eine Liste von Listen ist\n",
    "        'k': k\n",
    "    }\n",
    "    response = requests.post(url, headers={'Content-Type': 'application/json'}, data=json.dumps(data))\n",
    "\n",
    "    return response.json()"
   ]
  },
  {
   "cell_type": "code",
   "execution_count": 24,
   "metadata": {},
   "outputs": [],
   "source": [
    "response = query('What are the contraindications for the use of ACE inhibitors in cardiac patients?')"
   ]
  },
  {
   "cell_type": "code",
   "execution_count": 33,
   "metadata": {},
   "outputs": [
    {
     "name": "stdout",
     "output_type": "stream",
     "text": [
      "Distances: [15.21097183227539, 15.540654182434082, 15.747185707092285, 16.055830001831055, 16.268619537353516, 16.304288864135742, 16.509267807006836, 16.602100372314453, 16.609519958496094, 16.660133361816406]\n",
      "PMIDs: [259163, 2219955, 1936409, 1208974, 454949, 2225056, 1604362, 2213504, 1056585, 1029982]\n"
     ]
    }
   ],
   "source": [
    "PMIDs = response['indices'][0]\n",
    "distances = response['distances'][0]\n",
    "\n",
    "print(f\"Distances: {distances}\")\n",
    "print(f\"PMIDs: {PMIDs}\")"
   ]
  },
  {
   "cell_type": "code",
   "execution_count": 34,
   "metadata": {},
   "outputs": [
    {
     "name": "stdout",
     "output_type": "stream",
     "text": [
      "PMID: 1208974, Title: Comparison of changes in myocardial balances of lactate, glucose potassium, and inorganic phosphate during pacing-induced angina.\n",
      "PMID: 2219955, Title: Dissimilation of 2,4-dichlorophenoxyacetic acid by Azotobacter chroococcum.\n",
      "PMID: 2225056, Title: Temporary cardiac pacing using a new, steerable, balloon-tipped pacing catheter.\n",
      "PMID: 1936409, Title: The role of the sports team dentist.\n",
      "PMID: 1604362, Title: Methods for quality adjustment of life years.\n",
      "PMID: 454949, Title: Effects of delta 9-tetrahydrocannabinol, 2.4-dinitrophenol and pentolinium tartrate on behavioural thermoregulation in mice.\n"
     ]
    }
   ],
   "source": [
    "docs = get_docs_via_PMIDs(PMIDs)\n",
    "\n",
    "for doc in docs['hits']['hits']:\n",
    "    print(f\"PMID: {doc['_source']['PMID']}, Title: {doc['_source']['title']}\")"
   ]
  }
 ],
 "metadata": {
  "kernelspec": {
   "display_name": "Python 3",
   "language": "python",
   "name": "python3"
  },
  "language_info": {
   "codemirror_mode": {
    "name": "ipython",
    "version": 3
   },
   "file_extension": ".py",
   "mimetype": "text/x-python",
   "name": "python",
   "nbconvert_exporter": "python",
   "pygments_lexer": "ipython3",
   "version": "3.10.12"
  }
 },
 "nbformat": 4,
 "nbformat_minor": 2
}
