{
 "cells": [
  {
   "cell_type": "code",
   "execution_count": 1,
   "metadata": {},
   "outputs": [],
   "source": [
    "import json\n",
    "from elasticsearch import Elasticsearch\n",
    "import os\n",
    "from pathlib import Path\n",
    "from tqdm import tqdm"
   ]
  },
  {
   "cell_type": "code",
   "execution_count": 4,
   "metadata": {},
   "outputs": [
    {
     "data": {
      "text/plain": [
       "ObjectApiResponse({'name': 'e16354f42e49', 'cluster_name': 'docker-cluster', 'cluster_uuid': 'QRfx48-WQEmifPZNrtrbGw', 'version': {'number': '8.13.4', 'build_flavor': 'default', 'build_type': 'docker', 'build_hash': 'da95df118650b55a500dcc181889ac35c6d8da7c', 'build_date': '2024-05-06T22:04:45.107454559Z', 'build_snapshot': False, 'lucene_version': '9.10.0', 'minimum_wire_compatibility_version': '7.17.0', 'minimum_index_compatibility_version': '7.0.0'}, 'tagline': 'You Know, for Search'})"
      ]
     },
     "execution_count": 4,
     "metadata": {},
     "output_type": "execute_result"
    }
   ],
   "source": [
    "password = os.getenv(\"ELASTIC_PASSWORD\")\n",
    "password = \"B*WJBFKxDIuH9erC-V2d\"\n",
    "\n",
    "es = Elasticsearch(\n",
    "            ['https://localhost:9200'],\n",
    "            basic_auth=('elastic', password),\n",
    "            verify_certs=True,\n",
    "            ca_certs=\"/home/rag/.crt/http_ca.crt\",\n",
    "            request_timeout=60\n",
    "        )\n",
    "\n",
    "es.info()"
   ]
  },
  {
   "cell_type": "code",
   "execution_count": 4,
   "metadata": {},
   "outputs": [
    {
     "name": "stdout",
     "output_type": "stream",
     "text": [
      "pubmed_index\n"
     ]
    }
   ],
   "source": [
    "indices = es.cat.indices(format='json')\n",
    "\n",
    "# Print the indices\n",
    "for index in indices:\n",
    "    print(index['index'])\n",
    "\n",
    "index = \"pubmed_index\""
   ]
  },
  {
   "cell_type": "code",
   "execution_count": null,
   "metadata": {},
   "outputs": [],
   "source": [
    "import re\n",
    "\n",
    "source_directory = Path('/home/rag/data/chunk')\n",
    "\n",
    "# get file namens sorted by number\n",
    "\n",
    "files = sorted([f for f in source_directory.iterdir() if f.is_file()])\n",
    "\n",
    "files"
   ]
  },
  {
   "cell_type": "code",
   "execution_count": null,
   "metadata": {},
   "outputs": [],
   "source": [
    "# Define the index name\n",
    "index_name = \"pubmed_index_embedded\"\n",
    "\n",
    "# Delete the index if it exists\n",
    "if es.indices.exists(index=index_name):\n",
    "    es.indices.delete(index=index_name)\n",
    "\n",
    "# Check again if the index exists, and if not, create it\n",
    "if not es.indices.exists(index=index_name):\n",
    "    # Define the mapping\n",
    "    {\n",
    "  \"settings\": {\n",
    "    \"analysis\": {\n",
    "      \"analyzer\": {\n",
    "        \"custom_lemmatizer_analyzer\": {\n",
    "          \"type\": \"custom\",\n",
    "          \"tokenizer\": \"standard\",\n",
    "          \"filter\": [\"lowercase\", \"stopwords\", \"lemmatizer_filter\"]\n",
    "        }\n",
    "      },\n",
    "      \"filter\": {\n",
    "        \"lemmatizer_filter\": {\n",
    "          \"language\": \"English\"  # Specify the language for lemmatization\n",
    "        },\n",
    "        \"stopwords\": {\n",
    "          \"type\": \"stop\",\n",
    "          \"stopwords\": \"_english_\"  # the built-in English stop words list\n",
    "        }\n",
    "      }\n",
    "    }\n",
    "  },\n",
    "  \"mappings\": {\n",
    "    \"properties\": {\n",
    "      \"content\": {\n",
    "        \"type\": \"text\",\n",
    "        \"analyzer\": \"custom_lemmatizer_analyzer\"\n",
    "      }\n",
    "    }\n",
    "  }\n",
    "}\n",
    "\n",
    "\n",
    "\n",
    "# Create the index with the defined mapping\n",
    "es.indices.create(index=index_name, body=mapping)\n",
    "\n",
    "source_directory = Path('/home/rag/data/chunk')\n",
    "error_log_path = Path('./errors.jsonl')  # Pfad zur Fehlerprotokolldatei\n",
    "\n",
    "def bulk_index_documents(source_directory, index_name, error_log_path):\n",
    "    if not source_directory.exists():\n",
    "        print(\"The source directory does not exist.\")\n",
    "        return\n",
    "\n",
    "    actions = []  # List to store the documents to be indexed\n",
    "\n",
    "    # Open the error log file for writing\n",
    "    with error_log_path.open('w') as error_log:\n",
    "        # Iterate through each file in the source directory\n",
    "        num_files = 0\n",
    "        max_files = 300\n",
    "        for file_name in tqdm(list(os.listdir(source_directory))):\n",
    "            if file_name.endswith('.jsonl'):\n",
    "                source_file = source_directory / file_name\n",
    "                \n",
    "                # Open and read the JSONL file\n",
    "                with open(source_file, 'r') as json_file:\n",
    "                    for line in json_file:\n",
    "                        try:\n",
    "                            doc = json.loads(line)\n",
    "                            \n",
    "                            # Remove the \"embeddings\" field from the document\n",
    "                            #if \"embeddings\" in doc:\n",
    "                            #    del doc[\"embeddings\"]\n",
    "                            \n",
    "                            action = {\n",
    "                                \"_index\": index_name,\n",
    "                                \"_source\": doc\n",
    "                            }\n",
    "                            actions.append(action)\n",
    "\n",
    "                            if len(actions) == 200:  # Bulk indexing threshold\n",
    "                                helpers.bulk(es, actions)\n",
    "                                actions = []\n",
    "                        except json.JSONDecodeError as e:\n",
    "                            # Log the error\n",
    "                            error_log.write(f\"Error in file {file_name}: {e}\\n\")\n",
    "                            error_log.write(f\"{line}\\n\")\n",
    "                        except Exception as e:\n",
    "                            error_log.write(f\"Unexpected error in file {file_name}: {e}\\n\")\n",
    "                            error_log.write(f\"{line}\\n\")\n",
    "\n",
    "        # Index any remaining documents\n",
    "        if actions:\n",
    "            helpers.bulk(es, actions)\n",
    "\n",
    "    print('Indexing complete')\n",
    "\n",
    "# Call the function to index the documents\n",
    "bulk_index_documents(source_directory, index_name, error_log_path)\n",
    "\n",
    "# Count and print the number of documents in the index\n",
    "count_result = es.count(index=index_name)\n",
    "print(f\"Index contains {count_result['count']} documents.\")"
   ]
  }
 ],
 "metadata": {
  "kernelspec": {
   "display_name": "Python 3",
   "language": "python",
   "name": "python3"
  },
  "language_info": {
   "codemirror_mode": {
    "name": "ipython",
    "version": 3
   },
   "file_extension": ".py",
   "mimetype": "text/x-python",
   "name": "python",
   "nbconvert_exporter": "python",
   "pygments_lexer": "ipython3",
   "version": "3.10.12"
  }
 },
 "nbformat": 4,
 "nbformat_minor": 2
}
