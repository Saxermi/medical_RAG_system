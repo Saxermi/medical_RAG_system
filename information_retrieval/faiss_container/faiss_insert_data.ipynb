{
 "cells": [
  {
   "cell_type": "markdown",
   "metadata": {},
   "source": [
    "### Ingesting data into index"
   ]
  },
  {
   "cell_type": "code",
   "execution_count": 1,
   "metadata": {},
   "outputs": [],
   "source": [
    "import os\n",
    "import numpy as np\n",
    "import faiss\n",
    "import glob\n",
    "from tqdm import tqdm"
   ]
  },
  {
   "cell_type": "code",
   "execution_count": 3,
   "metadata": {},
   "outputs": [
    {
     "name": "stderr",
     "output_type": "stream",
     "text": [
      "Processing files: 10it [04:05, 24.59s/it]\n"
     ]
    },
    {
     "name": "stdout",
     "output_type": "stream",
     "text": [
      "Index successfully written to: faiss_indices/PM_index.index\n"
     ]
    }
   ],
   "source": [
    "# Directory setup\n",
    "embeddings_dir = \"embeddings\"\n",
    "index_directory = \"faiss_indices\"\n",
    "index_file = \"PM_index.index\"\n",
    "index_path = os.path.join(index_directory, index_file)\n",
    "\n",
    "# Ensure the index directory exists\n",
    "if not os.path.exists(index_directory):\n",
    "    os.makedirs(index_directory)\n",
    "\n",
    "# Dimensions of the embeddings\n",
    "d = 768  \n",
    "\n",
    "# Initialize the Faiss index (Flat L2-Index)\n",
    "index = faiss.IndexFlatL2(d)\n",
    "\n",
    "# Load file names of embeddings and IDs\n",
    "embeddings_files = sorted(glob.glob(os.path.join(embeddings_dir, 'embeddings_*.npy')))\n",
    "id_files = sorted(glob.glob(os.path.join(embeddings_dir, 'pubmed_ids_*.npy')))\n",
    "\n",
    "# Check if the number of embeddings and ID files match\n",
    "assert len(embeddings_files) == len(id_files), \"The number of embeddings and ID files must match\"\n",
    "\n",
    "# Iterate through the files and add them to the index\n",
    "for emb_file, id_file in tqdm(zip(embeddings_files, id_files), desc=\"Processing files\"):\n",
    "    # Load embeddings and IDs\n",
    "    embeddings = np.load(emb_file).astype('float32')\n",
    "    ids = np.load(id_file).astype('int64')\n",
    "\n",
    "    # Ensure the number of embeddings matches the number of IDs\n",
    "    assert embeddings.shape[0] == len(ids), \"The number of embeddings and IDs in the files must match\"\n",
    "\n",
    "    # Add to the index\n",
    "    index.add(embeddings)\n",
    "\n",
    "# Write the index to a file\n",
    "faiss.write_index(index, index_path)\n",
    "\n",
    "print(f\"Index successfully written to: {index_path}\")"
   ]
  },
  {
   "cell_type": "code",
   "execution_count": 4,
   "metadata": {},
   "outputs": [],
   "source": [
    "index = faiss.read_index('faiss_indices/PM_index.index')"
   ]
  },
  {
   "cell_type": "code",
   "execution_count": null,
   "metadata": {},
   "outputs": [],
   "source": [
    "k = 10  # Number of nearest neighbors\n",
    "\n",
    "query = np.random.rand(768).tolist()\n",
    "\n",
    "distances, indices = index.search(query, k)"
   ]
  },
  {
   "cell_type": "code",
   "execution_count": 1,
   "metadata": {},
   "outputs": [
    {
     "name": "stdout",
     "output_type": "stream",
     "text": [
      "Status Code: 200\n",
      "Response: {'distances': [[348.77490234375, 348.9889221191406, 349.5247497558594, 349.7203369140625, 349.90228271484375, 349.9190979003906, 350.23382568359375, 350.36578369140625, 350.47930908203125, 350.5979309082031]], 'indices': [[470115, 1932016, 473742, 469270, 1405245, 670332, 1715754, 2382674, 1707872, 2141577]]}\n"
     ]
    }
   ],
   "source": [
    "import requests\n",
    "import numpy as np\n",
    "import json\n",
    "\n",
    "# URL of the Flask endpoint\n",
    "url = 'http://localhost:5000/search'\n",
    "\n",
    "# Generate a random vector of length 768\n",
    "random_vector = np.random.rand(768).tolist()  # Convert numpy array directly to list\n",
    "\n",
    "# Data for the POST request\n",
    "data = {\n",
    "    'queries': [random_vector]  # Ensure this is a list of lists\n",
    "}\n",
    "\n",
    "# Convert data to JSON before sending as POST request\n",
    "json_data = json.dumps(data)\n",
    "\n",
    "# Send the POST request\n",
    "response = requests.post(url, headers={'Content-Type': 'application/json'}, data=json_data)\n",
    "\n",
    "# Output the response\n",
    "print('Status Code:', response.status_code)\n",
    "print('Response:', response.json())"
   ]
  }
 ],
 "metadata": {
  "kernelspec": {
   "display_name": "base",
   "language": "python",
   "name": "python3"
  },
  "language_info": {
   "codemirror_mode": {
    "name": "ipython",
    "version": 3
   },
   "file_extension": ".py",
   "mimetype": "text/x-python",
   "name": "python",
   "nbconvert_exporter": "python",
   "pygments_lexer": "ipython3",
   "version": "3.11.7"
  }
 },
 "nbformat": 4,
 "nbformat_minor": 2
}
