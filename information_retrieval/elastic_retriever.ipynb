{
 "cells": [
  {
   "cell_type": "code",
   "execution_count": 7,
   "id": "initial_id",
   "metadata": {
    "collapsed": true,
    "ExecuteTime": {
     "end_time": "2024-04-10T11:15:52.398785Z",
     "start_time": "2024-04-10T11:15:52.347946Z"
    }
   },
   "outputs": [
    {
     "name": "stderr",
     "output_type": "stream",
     "text": [
      "C:\\Users\\linus\\anaconda3\\Lib\\site-packages\\elasticsearch\\_sync\\client\\__init__.py:399: SecurityWarning: Connecting to 'https://localhost:9200' using TLS with verify_certs=False is insecure\n",
      "  _transport = transport_class(\n"
     ]
    }
   ],
   "source": [
    "from elasticsearch import Elasticsearch\n",
    "import urllib3\n",
    "import os\n",
    "\n",
    "\n",
    "elastic_password = os.getenv('ELASTIC_PASSWORD_SERVER')\n",
    "\n",
    "es = Elasticsearch(\n",
    "    ['https://localhost:9200'],\n",
    "    basic_auth=('elastic', elastic_password),\n",
    "    verify_certs=False,\n",
    "    ca_certs=\"C:/Users/linus/http_ca.crt\",\n",
    "    request_timeout=60\n",
    ")\n",
    "\n",
    "index_name = \"pubmed_emb_index\"\n",
    "\n",
    "urllib3.disable_warnings()"
   ]
  },
  {
   "cell_type": "markdown",
   "source": [
    "### Define query functions for BM25 and Vector Similarity Search\n",
    "\n",
    "Define a function to perform a BM25 search using the match query."
   ],
   "metadata": {
    "collapsed": false
   },
   "id": "cb477e6f0b7178d4"
  },
  {
   "cell_type": "code",
   "outputs": [],
   "source": [
    "# Define a search query\n",
    "def bm25_search(query: str, k: int = 5):\n",
    "    query = {\n",
    "        \"size\": k,\n",
    "        \"query\": {\n",
    "            \"match\": {\n",
    "                \"content\": f\"{query}\"\n",
    "            }\n",
    "        }\n",
    "    }\n",
    "    # Elasticsearch nutzt standardmässig das BM25-Modell, um die Relevanz der Dokumente zu berechnen\n",
    "    return es.search(index='pubmed_emb_index', body=query)"
   ],
   "metadata": {
    "collapsed": false,
    "ExecuteTime": {
     "end_time": "2024-04-10T11:14:28.265420Z",
     "start_time": "2024-04-10T11:14:28.261772Z"
    }
   },
   "id": "f78167d428f06529",
   "execution_count": 2
  },
  {
   "cell_type": "markdown",
   "source": [
    "Initialize the text embedder and define a function to convert a query to a vector using the bioBERT embeddings."
   ],
   "metadata": {
    "collapsed": false
   },
   "id": "d079c4d6618d3b38"
  },
  {
   "cell_type": "code",
   "outputs": [],
   "source": [
    "from Embedding import TextEmbedder\n",
    "embedder = TextEmbedder()\n",
    "\n",
    "def query_to_vector(text, embedder):\n",
    "    embedding = embedder.embed(text)\n",
    "    return embedding"
   ],
   "metadata": {
    "collapsed": false,
    "ExecuteTime": {
     "end_time": "2024-04-10T11:14:37.009679Z",
     "start_time": "2024-04-10T11:14:30.713586Z"
    }
   },
   "id": "ed4ac4f757e7680d",
   "execution_count": 3
  },
  {
   "cell_type": "markdown",
   "source": [
    "Define a function to perform a vector similarity search using the cosine similarity between the query vector and the embeddings in the indexed documents."
   ],
   "metadata": {
    "collapsed": false
   },
   "id": "e6015236b12040cb"
  },
  {
   "cell_type": "code",
   "outputs": [],
   "source": [
    "def cosine_similarity(index, query: str, k: int = 5):\n",
    "    query_vector = query_to_vector(query, embedder)\n",
    "    \n",
    "    query = {\n",
    "        \"size\": k,  # Anzahl der zurückzugebenden Ergebnisse\n",
    "        \"query\": {\n",
    "            \"script_score\": {\n",
    "                \"query\": {\"match_all\": {}},\n",
    "                \"script\": {\n",
    "                    \"source\": \"cosineSimilarity(params.query_vector, 'embeddings') + 1.0\",\n",
    "                    # +1.0, um sicherzustellen, dass alle Werte positiv sind\n",
    "                    \"params\": {\"query_vector\": query_vector}\n",
    "                }\n",
    "            }\n",
    "        }\n",
    "    }\n",
    "    return es.search(index=index, body=query)"
   ],
   "metadata": {
    "collapsed": false,
    "ExecuteTime": {
     "end_time": "2024-04-10T11:14:40.480125Z",
     "start_time": "2024-04-10T11:14:40.474963Z"
    }
   },
   "id": "caccaaa64018caea",
   "execution_count": 4
  },
  {
   "cell_type": "raw",
   "source": [
    "trying to use the knn search instead of the cosine similarity search"
   ],
   "metadata": {
    "collapsed": false
   },
   "id": "6101062777191904"
  },
  {
   "cell_type": "code",
   "outputs": [],
   "source": [
    "def knn_search(index, query: str, k: int = 10):\n",
    "    # Wandeln Sie die Abfrage in einen Vektor um\n",
    "    query_vector = query_to_vector(query, embedder)\n",
    "    \n",
    "    # Konstruieren Sie die k-NN-Suche\n",
    "    knn_query = { \n",
    "        \"knn\": {\n",
    "            \"field\": \"embeddings\",  # Das Feld, das die Vektoren enthält\n",
    "            \"query_vector\": query_vector,\n",
    "            \"k\": k,\n",
    "            \"num_candidates\": 100 \n",
    "        }\n",
    "    }\n",
    "    \n",
    "    # Führen Sie die k-NN-Suche aus\n",
    "    return es.search(index=index, body=knn_query)"
   ],
   "metadata": {
    "collapsed": false,
    "ExecuteTime": {
     "end_time": "2024-04-10T11:14:41.556397Z",
     "start_time": "2024-04-10T11:14:41.551909Z"
    }
   },
   "id": "89ecbbd9451faf5f",
   "execution_count": 5
  },
  {
   "cell_type": "markdown",
   "source": [
    "#### Perform BM25 and Vector Similarity Searches\n",
    "\n",
    "first, perform a BM25 search using the match query."
   ],
   "metadata": {
    "collapsed": false
   },
   "id": "8548993de949a242"
  },
  {
   "cell_type": "code",
   "outputs": [
    {
     "name": "stdout",
     "output_type": "stream",
     "text": [
      "Score: 31.087059, PMID: 1616323, Title: Increased incidence of urinary tract infection in patients with rheumatoid arthritis and secondary Sjögren's syndrome.\n",
      "Score: 28.920305, PMID: 493893, Title: Rheumatoid arthritis in a Norwegian community (Jondal). A study based on the local doctor's file.\n",
      "Score: 28.19183, PMID: 2956666, Title: Rheumatic complaints in Tokelau. II. A comparison of migrants in New Zealand and non-migrants. The Tokelau Island migrant study.\n",
      "Score: 27.625753, PMID: 1586243, Title: Influence of the severity of rheumatoid arthritis on sex differences in health assessment questionnaire scores.\n",
      "Score: 27.388124, PMID: 2921941, Title: Rheumatoid aortitis: a rarely recognized but clinically significant entity.\n",
      "Score: 27.234364, PMID: 2042011, Title: [Osteolytic forms of rheumatoid polyarthritis. Personal cases and review of the literature].\n",
      "Score: 27.168835, PMID: 1434881, Title: Conditions associated with carpal tunnel syndrome.\n",
      "Score: 27.030144, PMID: 2018026, Title: A preliminary study of excess risk of cardiovascular disease in the mothers of patients with rheumatoid arthritis.\n",
      "Score: 26.96608, PMID: 620214, Title: Scleritis and associated disease.\n",
      "Score: 26.95986, PMID: 1441932, Title: Craniomandibular disorders in rheumatoid arthritis, psoriatic arthritis, and ankylosing spondylitis. A clinical study.\n"
     ]
    }
   ],
   "source": [
    "# Perform a search\n",
    "results = bm25_search(\"Is Rheumatoid Arthritis more common in men or women?\", k=10)\n",
    "\n",
    "# Print the results\n",
    "for hit in results['hits']['hits']:\n",
    "    print(f\"Score: {hit['_score']}, PMID: {hit['_source']['PMID']}, Title: {hit['_source']['title']}\") "
   ],
   "metadata": {
    "collapsed": false,
    "ExecuteTime": {
     "end_time": "2024-04-10T11:31:20.193108Z",
     "start_time": "2024-04-10T11:31:18.410160Z"
    }
   },
   "id": "c2c54153b7684d93",
   "execution_count": 13
  },
  {
   "cell_type": "markdown",
   "source": [
    "#### Vector Similarity Search\n",
    "now, perform a vector similarity search using the cosine similarity between the query vector and the embeddings in the indexed documents."
   ],
   "metadata": {
    "collapsed": false
   },
   "id": "a381d7040c0a1d1c"
  },
  {
   "cell_type": "code",
   "outputs": [
    {
     "name": "stdout",
     "output_type": "stream",
     "text": [
      "Score: 1.9210962,  PMID: 1501243, Title: Epidermal growth factor receptor: elements of intracellular communication.\n",
      "Score: 1.9196633,  PMID: 2042633, Title: The Egr family of nuclear signal transducers.\n",
      "Score: 1.9190896,  PMID: 1633422, Title: Crossed signals: oncogenic transcription factors.\n",
      "Score: 1.9177192,  PMID: 2955833, Title: Phorbol esters as signal transducers and tumor promoters.\n",
      "Score: 1.9172626,  PMID: 2824532, Title: PDGF-like growth factors in autocrine stimulation of growth.\n",
      "Score: 1.9162145,  PMID: 1622545, Title: The regulation and function of p21ras in T cells.\n",
      "Score: 1.9161748,  PMID: 1329870, Title: The junction between cytokines and cell adhesion.\n",
      "Score: 1.9161192,  PMID: 1645965, Title: Overexpression of human TRK proto-oncogene into mouse cells using an inducible vector system.\n",
      "Score: 1.9159867,  PMID: 1675819, Title: The expanding family of guanylyl cyclases.\n",
      "Score: 1.9159176,  PMID: 1368709, Title: Analysing lymphokine-receptor interactions of IL-1 and IL-2 by recombinant-DNA technology.\n"
     ]
    }
   ],
   "source": [
    "# Führen Sie die Abfrage aus\n",
    "results = cosine_similarity(index_name, \"List signaling molecules (ligands) that interact with the receptor EGFR?\", k=10)\n",
    "\n",
    "for hit in results['hits']['hits']:\n",
    "    print(f\"Score: {hit['_score']},  PMID: {hit['_source']['PMID']}, Title: {hit['_source']['title']}\")"
   ],
   "metadata": {
    "collapsed": false,
    "ExecuteTime": {
     "end_time": "2024-04-06T21:20:25.617032Z",
     "start_time": "2024-04-06T21:19:31.899009Z"
    }
   },
   "id": "c9b5f988888de099",
   "execution_count": 30
  },
  {
   "cell_type": "markdown",
   "source": [
    "#### k-NN Search\n",
    "perform a k-NN search using the k-NN search API."
   ],
   "metadata": {
    "collapsed": false
   },
   "id": "4cea44d3127ce96"
  },
  {
   "cell_type": "code",
   "outputs": [
    {
     "name": "stdout",
     "output_type": "stream",
     "text": [
      "Score: 0.96054816,  PMID: 1501243, Title: Epidermal growth factor receptor: elements of intracellular communication.\n",
      "Score: 0.9598316,  PMID: 2042633, Title: The Egr family of nuclear signal transducers.\n",
      "Score: 0.9595448,  PMID: 1633422, Title: Crossed signals: oncogenic transcription factors.\n",
      "Score: 0.9588597,  PMID: 2955833, Title: Phorbol esters as signal transducers and tumor promoters.\n",
      "Score: 0.9586312,  PMID: 2824532, Title: PDGF-like growth factors in autocrine stimulation of growth.\n",
      "Score: 0.95810723,  PMID: 1622545, Title: The regulation and function of p21ras in T cells.\n",
      "Score: 0.9580873,  PMID: 1329870, Title: The junction between cytokines and cell adhesion.\n",
      "Score: 0.9579934,  PMID: 1675819, Title: The expanding family of guanylyl cyclases.\n",
      "Score: 0.9579588,  PMID: 1368709, Title: Analysing lymphokine-receptor interactions of IL-1 and IL-2 by recombinant-DNA technology.\n",
      "Score: 0.9578283,  PMID: 2103500, Title: Cellular and viral ligands that interact with the EGF receptor.\n"
     ]
    }
   ],
   "source": [
    "results = knn_search(index_name, \"List signaling molecules (ligands) that interact with the receptor EGFR?\", k=10)\n",
    "\n",
    "for hit in results['hits']['hits']:\n",
    "    print(f\"Score: {hit['_score']},  PMID: {hit['_source']['PMID']}, Title: {hit['_source']['title']}\")"
   ],
   "metadata": {
    "collapsed": false,
    "ExecuteTime": {
     "end_time": "2024-04-06T21:35:04.707056Z",
     "start_time": "2024-04-06T21:34:40.128519Z"
    }
   },
   "id": "bfcd1d07b4fee44c",
   "execution_count": 45
  },
  {
   "cell_type": "markdown",
   "source": [
    "### ELSER - Elastic Search Retrieval \n",
    "\n",
    "ELSER is a sparse vector representation for semantic retrieval developed by Elastic. Instead of dense vector representations, ELSER uses sparse vectors to represent text data. "
   ],
   "metadata": {
    "collapsed": false
   },
   "id": "1846b6e75b5da818"
  }
 ],
 "metadata": {
  "kernelspec": {
   "display_name": "Python 3",
   "language": "python",
   "name": "python3"
  },
  "language_info": {
   "codemirror_mode": {
    "name": "ipython",
    "version": 2
   },
   "file_extension": ".py",
   "mimetype": "text/x-python",
   "name": "python",
   "nbconvert_exporter": "python",
   "pygments_lexer": "ipython2",
   "version": "2.7.6"
  }
 },
 "nbformat": 4,
 "nbformat_minor": 5
}
