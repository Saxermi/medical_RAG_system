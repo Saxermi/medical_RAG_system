{
 "cells": [
  {
   "cell_type": "code",
   "execution_count": 1,
   "id": "5ea70828-38b9-48db-a7f4-ec9c644bfc2d",
   "metadata": {},
   "outputs": [],
   "source": [
    "import ray\n",
    "import torch\n",
    "import os\n",
    "import langchain_community\n",
    "from ray.data import ActorPoolStrategy\n",
    "from tqdm import tqdm\n",
    "import pandas as pd\n",
    "from ray.data import from_pandas\n",
    "from functools import partial\n",
    "import torch\n",
    "from functools import partial\n",
    "from bioBERT_encoder import bioBERTEncoder\n",
    "from medCPT_encoder import medCPTArticleEncoder"
   ]
  },
  {
   "cell_type": "code",
   "execution_count": 2,
   "id": "f380bee0-db3e-4c56-81b1-a827aca6d048",
   "metadata": {},
   "outputs": [
    {
     "name": "stdout",
     "output_type": "stream",
     "text": [
      "Using cuda.\n"
     ]
    }
   ],
   "source": [
    "device = torch.device(\"cuda\" if torch.cuda.is_available() else \"cpu\")\n",
    "print(f\"Using {device}.\")"
   ]
  },
  {
   "cell_type": "markdown",
   "id": "3c8bcc10-7ce7-4337-91b3-99795848b21c",
   "metadata": {},
   "source": [
    "### Initializing Ray"
   ]
  },
  {
   "cell_type": "code",
   "execution_count": 3,
   "id": "9bea217e-3ee8-4fe4-9c7a-511324db3215",
   "metadata": {},
   "outputs": [
    {
     "name": "stderr",
     "output_type": "stream",
     "text": [
      "2024-05-02 15:37:12,105\tINFO worker.py:1567 -- Connecting to existing Ray cluster at address: 10.10.2.206:6379...\n",
      "2024-05-02 15:37:12,116\tINFO worker.py:1743 -- Connected to Ray cluster. View the dashboard at \u001b[1m\u001b[32m127.0.0.1:8265 \u001b[39m\u001b[22m\n"
     ]
    }
   ],
   "source": [
    "runtime_env = {\n",
    "    \"pip\": [\n",
    "        \"langchain-text-splitters\",\n",
    "        \"langchain_community\", \n",
    "        \"sentence_transformers\"\n",
    "    ],\n",
    "}\n",
    "\n",
    "if not ray.is_initialized():\n",
    "    ray.init(runtime_env=runtime_env)\n",
    "else:\n",
    "    ray.shutdown()"
   ]
  },
  {
   "cell_type": "code",
   "execution_count": 4,
   "id": "3de246c8-44a7-4fc1-aeeb-86396be8588d",
   "metadata": {},
   "outputs": [
    {
     "name": "stdout",
     "output_type": "stream",
     "text": [
      "Verfügbare Ressourcen: {'CPU': 32.0, 'object_store_memory': 17714153471.0, 'memory': 40311046965.0, 'GPU': 4.0, 'accelerator_type:T4': 4.0, 'node:10.10.3.5': 1.0, 'node:10.10.3.72': 1.0, 'node:10.10.2.206': 1.0, 'node:__internal_head__': 1.0, 'node:10.10.2.65': 1.0}\n"
     ]
    }
   ],
   "source": [
    "available_resources = ray.available_resources()\n",
    "print(\"Verfügbare Ressourcen:\", available_resources)"
   ]
  },
  {
   "cell_type": "code",
   "execution_count": 5,
   "id": "d7f12da1-fb93-4f7e-a083-140b47c01c62",
   "metadata": {},
   "outputs": [
    {
     "data": {
      "text/plain": [
       "['data/pubmed/chunk/pubmed23n0046.jsonl',\n",
       " 'data/pubmed/chunk/pubmed23n0050.jsonl',\n",
       " 'data/pubmed/chunk/pubmed23n0003.jsonl',\n",
       " 'data/pubmed/chunk/pubmed23n0117.jsonl',\n",
       " 'data/pubmed/chunk/pubmed23n0068.jsonl']"
      ]
     },
     "execution_count": 5,
     "metadata": {},
     "output_type": "execute_result"
    }
   ],
   "source": [
    "directory_path = \"data/pubmed/chunk/\"\n",
    "file_names = os.listdir(directory_path)\n",
    "file_paths = [os.path.join(directory_path, file_name) for file_name in file_names]\n",
    "jsonl_file_paths = [file_path for file_path in file_paths if file_path.endswith('.jsonl')]\n",
    "\n",
    "jsonl_file_paths[:5]"
   ]
  },
  {
   "cell_type": "markdown",
   "id": "429f5635-5790-4ebe-aa5e-9d40c79c0a8c",
   "metadata": {},
   "source": [
    "### Using only head node for embedding.\n",
    "\n",
    "Initializing BioBERT Embedding Model"
   ]
  },
  {
   "cell_type": "code",
   "execution_count": 6,
   "id": "96e3ffe7-c78a-4d34-9e3c-de44a392fd32",
   "metadata": {},
   "outputs": [],
   "source": [
    "encoder = bioBERTEncoder()"
   ]
  },
  {
   "cell_type": "markdown",
   "id": "4298cec9-539d-4c9c-8de3-fdcd49bdde71",
   "metadata": {},
   "source": [
    "Iterating through every JSONL file adding the attribute \"embeddings\""
   ]
  },
  {
   "cell_type": "code",
   "execution_count": 10,
   "id": "a64c8a49-1e6e-45ae-87f2-526eee4715d2",
   "metadata": {},
   "outputs": [
    {
     "name": "stderr",
     "output_type": "stream",
     "text": [
      "100%|███████████████████████████████████████████████████████████████████████████████████████████████████████████████████████████████████████████████████████████████████████████████| 99/99 [13:00:29<00:00, 473.02s/it]"
     ]
    },
    {
     "name": "stdout",
     "output_type": "stream",
     "text": [
      "Alle Dateien wurden verarbeitet und gespeichert.\n"
     ]
    },
    {
     "name": "stderr",
     "output_type": "stream",
     "text": [
      "\n"
     ]
    }
   ],
   "source": [
    "import os\n",
    "import json\n",
    "from pathlib import Path\n",
    "\n",
    "# Definiere die Pfade für die Quell- und Zielverzeichnisse\n",
    "source_directory = Path('data/pubmed/chunk')\n",
    "target_directory = Path('data/pubmed/embedded')\n",
    "target_directory.mkdir(parents=True, exist_ok=True)\n",
    "\n",
    "# Iteriert durch jede Datei im Quellverzeichnis\n",
    "for file_name in tqdm(os.listdir(source_directory)):\n",
    "    if file_name.endswith('.jsonl'):\n",
    "        source_file = source_directory / file_name\n",
    "        target_file = target_directory / file_name\n",
    "\n",
    "        # Erstellt eine neue Datei im Zielverzeichnis\n",
    "        with open(target_file, 'w') as target:\n",
    "            with open(source_file, 'r') as source:\n",
    "                for line in source:\n",
    "                    # Jede Zeile ist ein JSON-Objekt\n",
    "                    item = json.loads(line)\n",
    "                    # Verarbeite das Item mit EmbedChunks\n",
    "                    embedded_item = encoder([item])[0]  # [0], weil embedder eine Liste zurückgibt\n",
    "                    # Schreibe das bearbeitete Objekt in die Zieldatei\n",
    "                    target.write(json.dumps(embedded_item) + '\\n')\n",
    "            #print(f\"{target_file} has been successfully written to data/pubmed/embedded\")\n",
    "                    \n",
    "print(\"Alle Dateien wurden verarbeitet und gespeichert.\")"
   ]
  },
  {
   "cell_type": "markdown",
   "id": "3b1a578e-e1ca-4204-8b4b-b26fc248e400",
   "metadata": {},
   "source": [
    "To improve performance we'll try to distribute the embedding process on the Ray cluster using 4 nodes with GPUs. With one node the embedding of 1.8 mio documents took 14 hours."
   ]
  },
  {
   "cell_type": "markdown",
   "id": "1b114122-6b49-4521-973f-e5ca45f6dc35",
   "metadata": {},
   "source": [
    "### MedCPT\n",
    "now encode with article encoder of MedCPT"
   ]
  },
  {
   "cell_type": "code",
   "execution_count": 5,
   "id": "e586b89d-c760-41cb-b542-1222b3b69483",
   "metadata": {},
   "outputs": [],
   "source": [
    "encoder = medCPTArticleEncoder()"
   ]
  },
  {
   "cell_type": "code",
   "execution_count": null,
   "id": "0c3fd8c4-f408-4eae-9ea4-e003e664ceb0",
   "metadata": {},
   "outputs": [],
   "source": [
    "import os\n",
    "import json\n",
    "from pathlib import Path\n",
    "\n",
    "# Definiere die Pfade für die Quell- und Zielverzeichnisse\n",
    "source_directory = Path('data/pubmed/chunk')\n",
    "target_directory = Path('data/pubmed/embedded_MedCPT')\n",
    "target_directory.mkdir(parents=True, exist_ok=True)\n",
    "\n",
    "# Iteriert durch jede Datei im Quellverzeichnis\n",
    "for file_name in tqdm(os.listdir(source_directory)):\n",
    "    if file_name.endswith('.jsonl'):\n",
    "        source_file = source_directory / file_name\n",
    "        target_file = target_directory / file_name\n",
    "\n",
    "        # Erstellt eine neue Datei im Zielverzeichnis\n",
    "        with open(target_file, 'w') as target:\n",
    "            with open(source_file, 'r') as source:\n",
    "                for line in source:\n",
    "                    # Jede Zeile ist ein JSON-Objekt\n",
    "                    item = json.loads(line)\n",
    "                    # Verarbeite das Item mit EmbedChunks\n",
    "                    embedded_item = encoder([item])[0]  # [0], weil embedder eine Liste zurückgibt\n",
    "                    # Schreibe das bearbeitete Objekt in die Zieldatei\n",
    "                    target.write(json.dumps(embedded_item) + '\\n')\n",
    "            #print(f\"{target_file} has been successfully written to data/pubmed/embedded\")\n",
    "                    \n",
    "print(\"Alle Dateien wurden verarbeitet und gespeichert.\")"
   ]
  }
 ],
 "metadata": {
  "kernelspec": {
   "display_name": "Python 3 (ipykernel)",
   "language": "python",
   "name": "python3"
  },
  "language_info": {
   "codemirror_mode": {
    "name": "ipython",
    "version": 3
   },
   "file_extension": ".py",
   "mimetype": "text/x-python",
   "name": "python",
   "nbconvert_exporter": "python",
   "pygments_lexer": "ipython3",
   "version": "3.9.18"
  }
 },
 "nbformat": 4,
 "nbformat_minor": 5
}
