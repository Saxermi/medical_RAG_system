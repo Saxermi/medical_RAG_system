{
 "cells": [
  {
   "cell_type": "markdown",
   "metadata": {},
   "source": [
    "### Retrieval pipeline"
   ]
  },
  {
   "cell_type": "markdown",
   "metadata": {},
   "source": [
    "Importing relevant modules"
   ]
  },
  {
   "cell_type": "code",
   "execution_count": 1,
   "metadata": {},
   "outputs": [
    {
     "name": "stderr",
     "output_type": "stream",
     "text": [
      "/home/ubuntu/.local/lib/python3.10/site-packages/tqdm/auto.py:21: TqdmWarning: IProgress not found. Please update jupyter and ipywidgets. See https://ipywidgets.readthedocs.io/en/stable/user_install.html\n",
      "  from .autonotebook import tqdm as notebook_tqdm\n"
     ]
    }
   ],
   "source": [
    "from elasticsearch import Elasticsearch\n",
    "import urllib3\n",
    "import os\n",
    "import requests\n",
    "import numpy as np\n",
    "import json\n",
    "from bioBERTencoder import TextEncooderBioBERT"
   ]
  },
  {
   "cell_type": "markdown",
   "metadata": {},
   "source": [
    "Initializing embedder"
   ]
  },
  {
   "cell_type": "code",
   "execution_count": 2,
   "metadata": {},
   "outputs": [],
   "source": [
    "embedder = TextEncooderBioBERT()"
   ]
  },
  {
   "cell_type": "markdown",
   "metadata": {},
   "source": [
    "Initializing Elastic Search connection"
   ]
  },
  {
   "cell_type": "code",
   "execution_count": 3,
   "metadata": {},
   "outputs": [],
   "source": [
    "elastic_password = os.getenv('ELASTIC_PASSWORD')\n",
    "\n",
    "es = Elasticsearch(\n",
    "    ['https://localhost:9200'],\n",
    "    basic_auth=('elastic', elastic_password),\n",
    "    verify_certs=True,\n",
    "    ca_certs=\"/home/ubuntu/.crts/http_ca.crt\",\n",
    "    request_timeout=60\n",
    ")"
   ]
  },
  {
   "cell_type": "code",
   "execution_count": 4,
   "metadata": {},
   "outputs": [],
   "source": [
    "# Define a search query\n",
    "def bm25_search(query: str, k: int = 10):\n",
    "    query = {\n",
    "        \"size\": k,\n",
    "        \"query\": {\n",
    "            \"match\": {\n",
    "                \"content\": f\"{query}\"\n",
    "            }\n",
    "        },\n",
    "        \"_source\": [\"PMID\", \"title\"]\n",
    "    }\n",
    "    # Elasticsearch nutzt standardmässig das BM25-Modell, um die Relevanz der Dokumente zu berechnen\n",
    "    return es.search(index='pubmed_index', body=query)"
   ]
  },
  {
   "cell_type": "code",
   "execution_count": 5,
   "metadata": {},
   "outputs": [
    {
     "data": {
      "text/plain": [
       "ObjectApiResponse({'took': 23, 'timed_out': False, '_shards': {'total': 1, 'successful': 1, 'skipped': 0, 'failed': 0}, 'hits': {'total': {'value': 10000, 'relation': 'gte'}, 'max_score': 29.15415, 'hits': [{'_index': 'pubmed_index', '_id': 'dr5K7I4BlUXX0v6gr52g', '_score': 29.15415, '_source': {'title': 'The epidemiologic patterns of drug-resistant Mycobacterium tuberculosis infections: a community-based study.', 'PMID': 2496635}}, {'_index': 'pubmed_index', '_id': 'bspj7I4BlUXX0v6gdi_p', '_score': 28.184868, '_source': {'title': '[Experimental and clinical study test of capreomycin].', 'PMID': 60080}}, {'_index': 'pubmed_index', '_id': 'rbU47I4BlUXX0v6gpBFb', '_score': 27.948555, '_source': {'title': 'Primary antituberculous drug resistance in Hawaii, 1957 to 1977.', 'PMID': 101107}}, {'_index': 'pubmed_index', '_id': 'rcZb7I4BlUXX0v6gbcdj', '_score': 27.639471, '_source': {'title': 'Failure of isoniazid prophylaxis after exposure to isoniazid-resistant tuberculosis.', 'PMID': 807140}}, {'_index': 'pubmed_index', '_id': 'E7U47I4BlUXX0v6gpRMG', '_score': 27.576754, '_source': {'title': 'Drug resistant tuberculosis in New Zealand.', 'PMID': 101915}}, {'_index': 'pubmed_index', '_id': 'YLlB7I4BlUXX0v6ga-cx', '_score': 27.116844, '_source': {'title': 'Evaluation of streptomycin and ethambutol concentrations for susceptibility testing of Mycobacterium tuberculosis by radiometric and conventional procedures.', 'PMID': 3084552}}, {'_index': 'pubmed_index', '_id': 'B75K7I4BlUXX0v6g1q5a', '_score': 27.094803, '_source': {'title': 'Bacteriological studies of tuberculosis in Sidamo Regional Hospital.', 'PMID': 2502390}}, {'_index': 'pubmed_index', '_id': 'vLlB7I4BlUXX0v6gkfx1', '_score': 26.860409, '_source': {'title': 'Primary drug-resistant tuberculosis in children. Emergence of primary drug-resistant strains of M. tuberculosis to rifampin.', 'PMID': 3092708}}, {'_index': 'pubmed_index', '_id': 'DLEw7I4BlUXX0v6gPSFE', '_score': 26.81697, '_source': {'title': 'Rifabutin (ansamycin LM 427): a new rifamycin-S derivative for the treatment of mycobacterial diseases.', 'PMID': 3037676}}, {'_index': 'pubmed_index', '_id': '97Q47I4BlUXX0v6gRMuW', '_score': 26.410606, '_source': {'title': 'Intralaboratory comparison of drug susceptibility testing of Mycobacterium tuberculosis by BACTEC and conventional methodology.', 'PMID': 3933805}}]}})"
      ]
     },
     "execution_count": 5,
     "metadata": {},
     "output_type": "execute_result"
    }
   ],
   "source": [
    "bm25_search(\"Identify clinical trials investigating novel treatments for drug-resistant strains of tuberculosis.\", 10)"
   ]
  },
  {
   "cell_type": "code",
   "execution_count": 6,
   "metadata": {},
   "outputs": [],
   "source": [
    "def get_docs_via_PMIDs(PMIDs: list):\n",
    "    query = {\n",
    "        \"size\": len(PMIDs),\n",
    "        \"query\": {\n",
    "            \"terms\": {\n",
    "                \"PMID\": PMIDs\n",
    "            }\n",
    "        },\n",
    "        \"_source\": [\"PMID\", \"title\", \"content\"]\n",
    "    }\n",
    "\n",
    "    return es.search(index='pubmed_index', body=query)"
   ]
  },
  {
   "cell_type": "code",
   "execution_count": 7,
   "metadata": {},
   "outputs": [],
   "source": [
    "def query_to_vector(text, embedder):\n",
    "    embedding = embedder.embed(text)\n",
    "    return embedding\n",
    "\n",
    "def query(query: str, k: int = 10, url='http://localhost:5000/search'):\n",
    "    vec = query_to_vector(query, embedder).tolist()  # Konvertiere das NumPy-Array in eine Liste\n",
    "    data = {\n",
    "        'queries': [vec],  # Stelle sicher, dass 'queries' eine Liste von Listen ist\n",
    "        'k': k\n",
    "    }\n",
    "    response = requests.post(url, headers={'Content-Type': 'application/json'}, data=json.dumps(data))\n",
    "\n",
    "    return response.json()"
   ]
  },
  {
   "cell_type": "code",
   "execution_count": 8,
   "metadata": {},
   "outputs": [],
   "source": [
    "response = query(\"Identify clinical trials investigating novel treatments for drug-resistant strains of tuberculosis.\", 10)"
   ]
  },
  {
   "cell_type": "code",
   "execution_count": 9,
   "metadata": {},
   "outputs": [
    {
     "name": "stdout",
     "output_type": "stream",
     "text": [
      "Distances: [17.478534698486328, 17.741710662841797, 18.024999618530273, 18.073043823242188, 18.258037567138672, 18.425647735595703, 18.439815521240234, 18.589141845703125, 18.631526947021484, 18.6602840423584]\n",
      "PMIDs: [3150951, 3079288, 1380906, 3299646, 1500394, 1677748, 1336770, 1454973, 1377169, 2162298]\n"
     ]
    }
   ],
   "source": [
    "PMIDs = response['PMIDs'][0]\n",
    "distances = response['distances'][0]\n",
    "\n",
    "print(f\"Distances: {distances}\")\n",
    "print(f\"PMIDs: {PMIDs}\")"
   ]
  },
  {
   "cell_type": "code",
   "execution_count": 10,
   "metadata": {},
   "outputs": [
    {
     "name": "stdout",
     "output_type": "stream",
     "text": [
      "PMID: 1380906, Title: Development of effective drug combinations for the inhibition of multiply resistant mycobacteria, especially of the Mycobacterium avium complex., Content: Rationally designed combinations of rifampicin (RAMP) and thiacetazone plus isonicotinic acid hydrazide and/or ethambutol are highly effective in the treatment of patients (including HIV-positive) infected with multiply resistant mycobacteria of the Mycobacterium avium complex (MAC). Clinical results are very promising. The high efficacy of these combinations is due to the synergistic potentiation of single-drug activities. As soon as rifabutin is marketed, it should replace RAMP in the combination treatment of patients with highly RAMP-resistant MAC bacteria.\n",
      "PMID: 1377169, Title: [A new, highly synergistic drug combination for the treatment of infections with multiresistant mycobacteria, especially the mycobacterium avium complex]., Content: Rationally designed combinations of rifampicin/thiacetazone plus isoniazid and/or ethambutol are highly effective in the treatment of patients (including HIV-pos.) infected with multiply resistant mycobacteria of the M. avium complex (MAC). Clinical results are very promising. The high efficacy of these combinations is due to the synergistic potentiation of single drug activities. As soon as rifabutin is marketed it should replace rifampicin in the combination treatment of patients with highly rifampicin-resistant MAC bacteria.\n",
      "PMID: 1500394, Title: Ovarian cancer. Experimental chemotherapy., Content: Ovarian cancer is a drug-sensitive disease, yet most patients still succumb after initial response. Experimental approaches to this disease include the discovery of new drugs, including taxol and ifosfamide; evaluation of candidate drugs such as tetraplatin and topotecan; and approaches to overcome intrinsic and/or acquired resistance. The latter has been addressed by increasing dose-intensity of currently available therapy, developing agents to abrogate dose-limiting toxicity, and by attempts to interfere with mechanisms of resistance.\n",
      "PMID: 1454973, Title: The multidrug-resistant tuberculosis challenge to public health efforts to control tuberculosis., Content: After years of steady decline, there has been an unprecedented resurgence of tuberculosis (TB) in the United States and outbreaks of multidrug-resistant tuberculosis (MDR-TB). The authors assess the nature, epidemiology, and implications of MDR-TB; provide suggestions for preventing drug resistance among patients with drug-susceptible TB; and offer recommendations for managing patients with MDR-TB. They outline the National Action Plan to Combat MDR-TB. Close collaboration among medical practitioners and staff members of TB control programs is needed to ensure the most effective management of patients with TB and their contacts. This collaboration is one of the most important steps for successful control of MDR-TB.\n",
      "PMID: 3299646, Title: Resistance of bacteria to antibacterial agents: report of Task Force 2., Content: The use of a growing number of antibacterial agents over the past half century has elicited a widespread deployment of genes for resistance to these agents in populations of bacteria throughout the world. Task Force 2 of the NIH Study on Antibiotic Use and Antibiotic Resistance Worldwide found that data on prevalence of resistance was fragmentary and underanalyzed but indicative of several trends. Resistance to older antibacterial agents appears to have stabilized overall, but shifts of resistance genes into new strains and species have continued to cause new clinical problems. Resistance to newer antibacterial agents has increased. Resistance is more prevalent in developing countries. Systematic surveillance of resistance integrated with understanding of its molecular basis is needed for control of resistance.\n",
      "PMID: 1336770, Title: Phase II study of iproplatin (CHIP) in patients with cisplatin-refractory germ cell tumors; the need for alternative strategies in the investigation of new agents in GCT., Content: Fifteen patients with advanced, cisplatin-refractory germ cell tumors (GCT) were treated with iproplatin (CHIP). No objective responses were noted in any of the patients treated. By restricting the entry criteria to heavily pre-treated patients, the identification of new active agents in phase II trials may be hindered. Alternative strategies for the investigation of new agents in patients with GCT should be considered, particularly when studying the efficacy and relative toxicity of platinum analogues.\n",
      "PMID: 3079288, Title: Mechanisms and clinical significance of multidrug resistance., Content: Tumor cells often become refractory to diverse drugs with different mechanisms of cytotoxic action. This paper reviews the current state of our knowledge of multidrug resistance, the limitations of present concepts to fully explain the diversity of the MDR phenotypes, and the clinical relevance of these studies derived largely from cell culture systems. The authors discuss the use of markers associated with the multi-drug resistance phenotype to identify potentially drug-resistant tumors and outline strategies that might be used to overcome the resistance phenomenon.\n",
      "PMID: 3150951, Title: In vitro activity of antimicrobial agents against mycobacteria., Content: The aims of this study were to investigate the possible effects of new antimicrobial agents, the conventional antituberculosis drugs and several combinations of these agents against 190 clinical isolates of Mycobacterium tuberculosis and 30 of M. avium.\n",
      "PMID: 2162298, Title: Resistance to quinolones in gram-negative microorganisms: mechanisms and prevention., Content: Bacterial resistance to quinolones is essentially the result of mutations on several genes involved in the synthesis of DNA-gyrase or in proteins of the cellular envelope. A single mutational event may lead to complete resistance to older quinolones, but clinical resistance to newer quinolones such as norfloxacin requires two or more mutations. Prevention of resistance to norfloxacin requires prevention of the strains carrying 'first mutations' (by a controlled use of older quinolones) and the early detection of such strains. If microbiologic and pharmacologic data are taken into account at the same time, the incidence of norfloxacin-resistant strains in urinary tract infections will remain insignificant.\n",
      "PMID: 1677748, Title: Primary care intervention and management for adults with early HIV infection., Content: Recent clinical drug trials have demonstrated that early intervention with zidovudine will delay disease progression in asymptomatic or minimally symptomatic HIV-infected individuals. These trials will encourage larger numbers of seropositive persons to seek access to primary care, overloading specialized clinics for AIDS and HIV care. The care of early HIV-infected individuals will need to be delivered by mainstream primary care providers. This article discusses the initiation and management of zidovudine, and chemoprophylaxis against Pneumocystis carinii pneumonia in early HIV infection.\n",
      "{'took': 8, 'timed_out': False, '_shards': {'total': 1, 'successful': 1, 'skipped': 0, 'failed': 0}, 'hits': {'total': {'value': 10, 'relation': 'eq'}, 'max_score': 1.0, 'hits': [{'_index': 'pubmed_index', '_id': 'ha4q7I4BlUXX0v6gmq5e', '_score': 1.0, '_source': {'title': 'Development of effective drug combinations for the inhibition of multiply resistant mycobacteria, especially of the Mycobacterium avium complex.', 'content': 'Rationally designed combinations of rifampicin (RAMP) and thiacetazone plus isonicotinic acid hydrazide and/or ethambutol are highly effective in the treatment of patients (including HIV-positive) infected with multiply resistant mycobacteria of the Mycobacterium avium complex (MAC). Clinical results are very promising. The high efficacy of these combinations is due to the synergistic potentiation of single-drug activities. As soon as rifabutin is marketed, it should replace RAMP in the combination treatment of patients with highly RAMP-resistant MAC bacteria.', 'PMID': 1380906}}, {'_index': 'pubmed_index', '_id': 'tK4q7I4BlUXX0v6gdKF1', '_score': 1.0, '_source': {'title': '[A new, highly synergistic drug combination for the treatment of infections with multiresistant mycobacteria, especially the mycobacterium avium complex].', 'content': 'Rationally designed combinations of rifampicin/thiacetazone plus isoniazid and/or ethambutol are highly effective in the treatment of patients (including HIV-pos.) infected with multiply resistant mycobacteria of the M. avium complex (MAC). Clinical results are very promising. The high efficacy of these combinations is due to the synergistic potentiation of single drug activities. As soon as rifabutin is marketed it should replace rifampicin in the combination treatment of patients with highly rifampicin-resistant MAC bacteria.', 'PMID': 1377169}}, {'_index': 'pubmed_index', '_id': 'wq8r7I4BlUXX0v6geQXw', '_score': 1.0, '_source': {'title': 'Ovarian cancer. Experimental chemotherapy.', 'content': 'Ovarian cancer is a drug-sensitive disease, yet most patients still succumb after initial response. Experimental approaches to this disease include the discovery of new drugs, including taxol and ifosfamide; evaluation of candidate drugs such as tetraplatin and topotecan; and approaches to overcome intrinsic and/or acquired resistance. The latter has been addressed by increasing dose-intensity of currently available therapy, developing agents to abrogate dose-limiting toxicity, and by attempts to interfere with mechanisms of resistance.', 'PMID': 1500394}}, {'_index': 'pubmed_index', '_id': 'ILU57I4BlUXX0v6gorp0', '_score': 1.0, '_source': {'title': 'The multidrug-resistant tuberculosis challenge to public health efforts to control tuberculosis.', 'content': 'After years of steady decline, there has been an unprecedented resurgence of tuberculosis (TB) in the United States and outbreaks of multidrug-resistant tuberculosis (MDR-TB). The authors assess the nature, epidemiology, and implications of MDR-TB; provide suggestions for preventing drug resistance among patients with drug-susceptible TB; and offer recommendations for managing patients with MDR-TB. They outline the National Action Plan to Combat MDR-TB. Close collaboration among medical practitioners and staff members of TB control programs is needed to ensure the most effective management of patients with TB and their contacts. This collaboration is one of the most important steps for successful control of MDR-TB.', 'PMID': 1454973}}, {'_index': 'pubmed_index', '_id': '7rg_7I4BlUXX0v6ggfyc', '_score': 1.0, '_source': {'title': 'Resistance of bacteria to antibacterial agents: report of Task Force 2.', 'content': 'The use of a growing number of antibacterial agents over the past half century has elicited a widespread deployment of genes for resistance to these agents in populations of bacteria throughout the world. Task Force 2 of the NIH Study on Antibiotic Use and Antibiotic Resistance Worldwide found that data on prevalence of resistance was fragmentary and underanalyzed but indicative of several trends. Resistance to older antibacterial agents appears to have stabilized overall, but shifts of resistance genes into new strains and species have continued to cause new clinical problems. Resistance to newer antibacterial agents has increased. Resistance is more prevalent in developing countries. Systematic surveillance of resistance integrated with understanding of its molecular basis is needed for control of resistance.', 'PMID': 3299646}}, {'_index': 'pubmed_index', '_id': 'E8NU7I4BlUXX0v6gORXw', '_score': 1.0, '_source': {'title': 'Phase II study of iproplatin (CHIP) in patients with cisplatin-refractory germ cell tumors; the need for alternative strategies in the investigation of new agents in GCT.', 'content': 'Fifteen patients with advanced, cisplatin-refractory germ cell tumors (GCT) were treated with iproplatin (CHIP). No objective responses were noted in any of the patients treated. By restricting the entry criteria to heavily pre-treated patients, the identification of new active agents in phase II trials may be hindered. Alternative strategies for the investigation of new agents in patients with GCT should be considered, particularly when studying the efficacy and relative toxicity of platinum analogues.', 'PMID': 1336770}}, {'_index': 'pubmed_index', '_id': 'B8Zb7I4BlUXX0v6gS7Gj', '_score': 1.0, '_source': {'title': 'Mechanisms and clinical significance of multidrug resistance.', 'content': 'Tumor cells often become refractory to diverse drugs with different mechanisms of cytotoxic action. This paper reviews the current state of our knowledge of multidrug resistance, the limitations of present concepts to fully explain the diversity of the MDR phenotypes, and the clinical relevance of these studies derived largely from cell culture systems. The authors discuss the use of markers associated with the multi-drug resistance phenotype to identify potentially drug-resistant tumors and outline strategies that might be used to overcome the resistance phenomenon.', 'PMID': 3079288}}, {'_index': 'pubmed_index', '_id': 'OMZZ7I4BlUXX0v6g_gp0', '_score': 1.0, '_source': {'title': 'In vitro activity of antimicrobial agents against mycobacteria.', 'content': 'The aims of this study were to investigate the possible effects of new antimicrobial agents, the conventional antituberculosis drugs and several combinations of these agents against 190 clinical isolates of Mycobacterium tuberculosis and 30 of M. avium.', 'PMID': 3150951}}, {'_index': 'pubmed_index', '_id': 'w9Fw7I4BlUXX0v6gOxsq', '_score': 1.0, '_source': {'title': 'Resistance to quinolones in gram-negative microorganisms: mechanisms and prevention.', 'content': \"Bacterial resistance to quinolones is essentially the result of mutations on several genes involved in the synthesis of DNA-gyrase or in proteins of the cellular envelope. A single mutational event may lead to complete resistance to older quinolones, but clinical resistance to newer quinolones such as norfloxacin requires two or more mutations. Prevention of resistance to norfloxacin requires prevention of the strains carrying 'first mutations' (by a controlled use of older quinolones) and the early detection of such strains. If microbiologic and pharmacologic data are taken into account at the same time, the incidence of norfloxacin-resistant strains in urinary tract infections will remain insignificant.\", 'PMID': 2162298}}, {'_index': 'pubmed_index', '_id': '79Fx7I4BlUXX0v6gZbxT', '_score': 1.0, '_source': {'title': 'Primary care intervention and management for adults with early HIV infection.', 'content': 'Recent clinical drug trials have demonstrated that early intervention with zidovudine will delay disease progression in asymptomatic or minimally symptomatic HIV-infected individuals. These trials will encourage larger numbers of seropositive persons to seek access to primary care, overloading specialized clinics for AIDS and HIV care. The care of early HIV-infected individuals will need to be delivered by mainstream primary care providers. This article discusses the initiation and management of zidovudine, and chemoprophylaxis against Pneumocystis carinii pneumonia in early HIV infection.', 'PMID': 1677748}}]}}\n"
     ]
    }
   ],
   "source": [
    "docs = get_docs_via_PMIDs(PMIDs)\n",
    "\n",
    "for doc in docs.body['hits']['hits']:\n",
    "    print(f\"PMID: {doc['_source']['PMID']}, Title: {doc['_source']['title']}, Content: {doc['_source']['content']}\")\n",
    "\n",
    "\n",
    "\n",
    "print(docs)"
   ]
  },
  {
   "cell_type": "markdown",
   "metadata": {},
   "source": [
    "Now testing implemented classes"
   ]
  },
  {
   "cell_type": "code",
   "execution_count": 11,
   "metadata": {},
   "outputs": [],
   "source": [
    "from semantic_search_bioBERT import bioBERTretriever\n",
    "retriever = bioBERTretriever()"
   ]
  },
  {
   "cell_type": "code",
   "execution_count": 12,
   "metadata": {},
   "outputs": [
    {
     "name": "stdout",
     "output_type": "stream",
     "text": [
      "{\n",
      "    \"doc1\": {\n",
      "        \"PMID\": 1380906,\n",
      "        \"title\": \"Development of effective drug combinations for the inhibition of multiply resistant mycobacteria, especially of the Mycobacterium avium complex.\",\n",
      "        \"content\": \"Rationally designed combinations of rifampicin (RAMP) and thiacetazone plus isonicotinic acid hydrazide and/or ethambutol are highly effective in the treatment of patients (including HIV-positive) infected with multiply resistant mycobacteria of the Mycobacterium avium complex (MAC). Clinical results are very promising. The high efficacy of these combinations is due to the synergistic potentiation of single-drug activities. As soon as rifabutin is marketed, it should replace RAMP in the combination treatment of patients with highly RAMP-resistant MAC bacteria.\"\n",
      "    },\n",
      "    \"doc2\": {\n",
      "        \"PMID\": 1377169,\n",
      "        \"title\": \"[A new, highly synergistic drug combination for the treatment of infections with multiresistant mycobacteria, especially the mycobacterium avium complex].\",\n",
      "        \"content\": \"Rationally designed combinations of rifampicin/thiacetazone plus isoniazid and/or ethambutol are highly effective in the treatment of patients (including HIV-pos.) infected with multiply resistant mycobacteria of the M. avium complex (MAC). Clinical results are very promising. The high efficacy of these combinations is due to the synergistic potentiation of single drug activities. As soon as rifabutin is marketed it should replace rifampicin in the combination treatment of patients with highly rifampicin-resistant MAC bacteria.\"\n",
      "    },\n",
      "    \"doc3\": {\n",
      "        \"PMID\": 1500394,\n",
      "        \"title\": \"Ovarian cancer. Experimental chemotherapy.\",\n",
      "        \"content\": \"Ovarian cancer is a drug-sensitive disease, yet most patients still succumb after initial response. Experimental approaches to this disease include the discovery of new drugs, including taxol and ifosfamide; evaluation of candidate drugs such as tetraplatin and topotecan; and approaches to overcome intrinsic and/or acquired resistance. The latter has been addressed by increasing dose-intensity of currently available therapy, developing agents to abrogate dose-limiting toxicity, and by attempts to interfere with mechanisms of resistance.\"\n",
      "    },\n",
      "    \"doc4\": {\n",
      "        \"PMID\": 1454973,\n",
      "        \"title\": \"The multidrug-resistant tuberculosis challenge to public health efforts to control tuberculosis.\",\n",
      "        \"content\": \"After years of steady decline, there has been an unprecedented resurgence of tuberculosis (TB) in the United States and outbreaks of multidrug-resistant tuberculosis (MDR-TB). The authors assess the nature, epidemiology, and implications of MDR-TB; provide suggestions for preventing drug resistance among patients with drug-susceptible TB; and offer recommendations for managing patients with MDR-TB. They outline the National Action Plan to Combat MDR-TB. Close collaboration among medical practitioners and staff members of TB control programs is needed to ensure the most effective management of patients with TB and their contacts. This collaboration is one of the most important steps for successful control of MDR-TB.\"\n",
      "    },\n",
      "    \"doc5\": {\n",
      "        \"PMID\": 3299646,\n",
      "        \"title\": \"Resistance of bacteria to antibacterial agents: report of Task Force 2.\",\n",
      "        \"content\": \"The use of a growing number of antibacterial agents over the past half century has elicited a widespread deployment of genes for resistance to these agents in populations of bacteria throughout the world. Task Force 2 of the NIH Study on Antibiotic Use and Antibiotic Resistance Worldwide found that data on prevalence of resistance was fragmentary and underanalyzed but indicative of several trends. Resistance to older antibacterial agents appears to have stabilized overall, but shifts of resistance genes into new strains and species have continued to cause new clinical problems. Resistance to newer antibacterial agents has increased. Resistance is more prevalent in developing countries. Systematic surveillance of resistance integrated with understanding of its molecular basis is needed for control of resistance.\"\n",
      "    },\n",
      "    \"doc6\": {\n",
      "        \"PMID\": 1336770,\n",
      "        \"title\": \"Phase II study of iproplatin (CHIP) in patients with cisplatin-refractory germ cell tumors; the need for alternative strategies in the investigation of new agents in GCT.\",\n",
      "        \"content\": \"Fifteen patients with advanced, cisplatin-refractory germ cell tumors (GCT) were treated with iproplatin (CHIP). No objective responses were noted in any of the patients treated. By restricting the entry criteria to heavily pre-treated patients, the identification of new active agents in phase II trials may be hindered. Alternative strategies for the investigation of new agents in patients with GCT should be considered, particularly when studying the efficacy and relative toxicity of platinum analogues.\"\n",
      "    },\n",
      "    \"doc7\": {\n",
      "        \"PMID\": 3079288,\n",
      "        \"title\": \"Mechanisms and clinical significance of multidrug resistance.\",\n",
      "        \"content\": \"Tumor cells often become refractory to diverse drugs with different mechanisms of cytotoxic action. This paper reviews the current state of our knowledge of multidrug resistance, the limitations of present concepts to fully explain the diversity of the MDR phenotypes, and the clinical relevance of these studies derived largely from cell culture systems. The authors discuss the use of markers associated with the multi-drug resistance phenotype to identify potentially drug-resistant tumors and outline strategies that might be used to overcome the resistance phenomenon.\"\n",
      "    },\n",
      "    \"doc8\": {\n",
      "        \"PMID\": 3150951,\n",
      "        \"title\": \"In vitro activity of antimicrobial agents against mycobacteria.\",\n",
      "        \"content\": \"The aims of this study were to investigate the possible effects of new antimicrobial agents, the conventional antituberculosis drugs and several combinations of these agents against 190 clinical isolates of Mycobacterium tuberculosis and 30 of M. avium.\"\n",
      "    },\n",
      "    \"doc9\": {\n",
      "        \"PMID\": 2162298,\n",
      "        \"title\": \"Resistance to quinolones in gram-negative microorganisms: mechanisms and prevention.\",\n",
      "        \"content\": \"Bacterial resistance to quinolones is essentially the result of mutations on several genes involved in the synthesis of DNA-gyrase or in proteins of the cellular envelope. A single mutational event may lead to complete resistance to older quinolones, but clinical resistance to newer quinolones such as norfloxacin requires two or more mutations. Prevention of resistance to norfloxacin requires prevention of the strains carrying 'first mutations' (by a controlled use of older quinolones) and the early detection of such strains. If microbiologic and pharmacologic data are taken into account at the same time, the incidence of norfloxacin-resistant strains in urinary tract infections will remain insignificant.\"\n",
      "    },\n",
      "    \"doc10\": {\n",
      "        \"PMID\": 1677748,\n",
      "        \"title\": \"Primary care intervention and management for adults with early HIV infection.\",\n",
      "        \"content\": \"Recent clinical drug trials have demonstrated that early intervention with zidovudine will delay disease progression in asymptomatic or minimally symptomatic HIV-infected individuals. These trials will encourage larger numbers of seropositive persons to seek access to primary care, overloading specialized clinics for AIDS and HIV care. The care of early HIV-infected individuals will need to be delivered by mainstream primary care providers. This article discusses the initiation and management of zidovudine, and chemoprophylaxis against Pneumocystis carinii pneumonia in early HIV infection.\"\n",
      "    }\n",
      "}\n"
     ]
    }
   ],
   "source": [
    "response = retriever.retrieve_docs(\"Identify clinical trials investigating novel treatments for drug-resistant strains of tuberculosis.\", 10)\n",
    "\n",
    "print(response)"
   ]
  },
  {
   "cell_type": "markdown",
   "metadata": {},
   "source": [
    "Now the BM25 retriever"
   ]
  },
  {
   "cell_type": "code",
   "execution_count": 13,
   "metadata": {},
   "outputs": [],
   "source": [
    "from BM25_search import BM25retriever\n",
    "\n",
    "retriever = BM25retriever()"
   ]
  },
  {
   "cell_type": "code",
   "execution_count": 22,
   "metadata": {},
   "outputs": [
    {
     "name": "stdout",
     "output_type": "stream",
     "text": [
      "{\n",
      "    \"doc1\": {\n",
      "        \"PMID\": 2496635,\n",
      "        \"title\": \"The epidemiologic patterns of drug-resistant Mycobacterium tuberculosis infections: a community-based study.\",\n",
      "        \"content\": \"A community-based study of tuberculosis in Santa Clara County, California was conducted in order to identify community-specific determinants of drug-resistant Mycobacterium tuberculosis infections. From January 1984 through December 1986, 517 verified cases of tuberculosis were reported from the county. Drug susceptibility test results to isoniazid, streptomycin, ethambutol, and rifampin were available for 256 of the 517 cases. The frequency of resistance of M. tuberculosis isolates to one or more drugs was 27% for all cases and 25% for those who had had no previous antituberculosis treatment. Isolates from Asian immigrants had the highest frequencies of resistance (33 to 45%), and the Southeast Asian immigrants had a drug-resistant tuberculosis case rate greater than 30/100,000 population per year. In patients who had cavitary lung disease and who had a previous history of tuberculosis, drug-resistant tuberculosis was 3.5 times as likely to occur than in persons who had neither of these characteristics (p less than 0.001). For such patients, the positive predictive value of isolating resistant M. tuberculosis approached 90%. We believe these community-based findings will guide clinical and public health interventions specifically appropriate for the community.\"\n",
      "    },\n",
      "    \"doc2\": {\n",
      "        \"PMID\": 60080,\n",
      "        \"title\": \"[Experimental and clinical study test of capreomycin].\",\n",
      "        \"content\": \"Data on the experimental and clinical study of capreomycin in the treatment of tuberculosis are presented. It was shown that capreomycin had low activity with respect to the sensitive strain of Mycobacterium tuberculosis H37 Rv in vitro and the respective infection caused by it in mice. The activity of capreomycin in vitro with respect to streptomycin resistant strains was the same as that with respect to the sensitive strains, while in vivo it increased 3 times. Capreomycin showed a tendency to decreasing its activity with respect to strains highely resistant to canamycin only in vitro. The effect of capreomycin on tuberculosis infection caused by strains resistant to different concentrations of canamycin was the same as that on tuberculosis infection caused by sensitive strains. Cross resistance between florimycin (viomycin) and capreomycin was shown. Clinical trails of capreomycin revealed its moderate therapeutic efficiency, relatively low toxicity and an allergenizing effect on the host. Transient ventibulopatia without pronounced signs of ototoxic action was observed. The nephrotoxic effect was moderate and transient. It was observed predominantly at the peak of the allergic reactions to the antitubercle drugs. The data obtained during the study allow recommendation of capreomycin use in clinics as reserve drug when the causative agent is not resistant to florimycin. The drug should be used under regular control of the blood picture, electrolyte metabolism, state of the kidneys, auditory and vestibular apparatus.\"\n",
      "    },\n",
      "    \"doc3\": {\n",
      "        \"PMID\": 101107,\n",
      "        \"title\": \"Primary antituberculous drug resistance in Hawaii, 1957 to 1977.\",\n",
      "        \"content\": \"A study of primary antituberculous drug resistance in Hawaii was conducted from 1957 to 1977 to determine the incidence of primary resistance with respect to time. A total of 1,869 initial cultures of Mycobacterium tuberculosis submitted to Leahi Hospital in Honolulu were screened to identify drug resistance. Of 256 patients who excreted resistant bacilli, only 55 had no history of previous antituberculous chemotherapy. The frequencies of primary drug resistance from July 1957 to July 1977 were as follows: streptomycin, 0.86 per cent; isoniazid, 1.2 per cent; para-aminosalicylic acid, 1.5 per cent. No strains were resistant to ethambutol or rifampin. A slight decrease in the incidence of drug resistance during a 20-year period was observed. This was especially significant because Hawaii's tuberculosis problem is principally confined to its foreighn-born population. Although no serious primary drug resistance problem was discovered, Hawaii possesses both the highest immigration rate and the highest incidence of tuberculosis in the United states. Therefore, there is a need for continued periodic monitoring of drug resistance in Hawaii.\"\n",
      "    },\n",
      "    \"doc4\": {\n",
      "        \"PMID\": 807140,\n",
      "        \"title\": \"Failure of isoniazid prophylaxis after exposure to isoniazid-resistant tuberculosis.\",\n",
      "        \"content\": \"We report the failure of isoniazid chemoprophylaxis to prevent the development of active pulmonary tuberculosis and tuberculin conversion in contacts of patients infected with isoniazid-resistant strains of Mycobacterium tuberculosis. Although failure of isoniazid chemoprophylaxis has been reported rarely in contracts of isoniazid-resistant tuberculosis, the cases reported here as well as previous observations by others suggest that isoniazid chemoprophylaxis for contracts of patients with isoniazid-resistant tuberculosis may not be effective and that other agents must be considered. Initial chemotherapy of active pulmonary tuberculosis in contacts of known drug-resistant patients should be based on drug susceptibility studies in the index case.\"\n",
      "    },\n",
      "    \"doc5\": {\n",
      "        \"PMID\": 101915,\n",
      "        \"title\": \"Drug resistant tuberculosis in New Zealand.\",\n",
      "        \"content\": \"Strains of M. tuberculosis resistant to one or more of the antituberculous drugs have not been common in New Zealand in the past. There is however, a high incidence of drug resistant tuberculosis in Western Samoa, 50 percent of cultures tested showing drug resistance and half of these are resistant to two or more drugs. A change from the usual initial treatment is suggested for Samoan patients with tuberculosis in New Zealand.\"\n",
      "    },\n",
      "    \"doc6\": {\n",
      "        \"PMID\": 3084552,\n",
      "        \"title\": \"Evaluation of streptomycin and ethambutol concentrations for susceptibility testing of Mycobacterium tuberculosis by radiometric and conventional procedures.\",\n",
      "        \"content\": \"Clinical isolates of Mycobacterium tuberculosis were used to compare various concentrations of streptomycin and ethambutol in the BACTEC 460 (Johnston Laboratories, Inc., Towson, Md.) radiometric method for drug susceptibility testing with those in the conventional method. Streptomycin used at 2.0 micrograms/ml for both methods showed a 0.99 agreement with susceptible strains and a 0.97 agreement with resistant strains. Ethambutol used at 2.5 micrograms/ml for the radiometric method showed 1.00 agreement with both susceptible and resistant strains when compared with ethambutol at 5.0 micrograms/ml for the conventional method.\"\n",
      "    },\n",
      "    \"doc7\": {\n",
      "        \"PMID\": 2502390,\n",
      "        \"title\": \"Bacteriological studies of tuberculosis in Sidamo Regional Hospital.\",\n",
      "        \"content\": \"All of the 104 strains isolated from tuberculosis patients in Sidamo Regional Hospital were identified as M. tuberculosis. Primary single drug resistance to isoniazid and streptomycin was represented by two strains in each case. Four strains showed double drug resistance to the same drugs. None were resistant to thiacetazone, rifampicin and ethambutol.\"\n",
      "    },\n",
      "    \"doc8\": {\n",
      "        \"PMID\": 3092708,\n",
      "        \"title\": \"Primary drug-resistant tuberculosis in children. Emergence of primary drug-resistant strains of M. tuberculosis to rifampin.\",\n",
      "        \"content\": \"A prospective study of primary drug-resistant strains of Mycobacterium tuberculosis among children was begun at the Kings County Hospital Medical Center of Brooklyn in 1961 and reported at 5 4-yr periods through 1980. The present report extends our observations of primary drug-resistant tuberculosis in children through 1984. The salient finding in the present report was the increase in primary drug resistance to rifampin, 3 of 19 strains resistant in the last period of study (1981 to 1984) as compared with 1 of 96 strains isolated in the previous 3 periods of study (1969 to 1980). This increase was significant (p less than 0.02) even though the number of strains isolated was small. There were continued low resistance rates to ethambutol and para-aminosalicylic acid and stable resistance rates for isoniazid and streptomycin.\"\n",
      "    },\n",
      "    \"doc9\": {\n",
      "        \"PMID\": 3037676,\n",
      "        \"title\": \"Rifabutin (ansamycin LM 427): a new rifamycin-S derivative for the treatment of mycobacterial diseases.\",\n",
      "        \"content\": \"Rifabutin (ansamycin LM 427), a semisynthetic spiropiperidyl derivative of rifamycin S, shows good in vitro activity against most mycobacterial species, including Mycobacterium avium complex. In animal models, the drug is more active against both Mycobacterium tuberculosis and Mycobacterium leprae than in rifampin, and studies indicate that rifabutin is active against some rifampin-resistant strains of both species. The drug has a long half-life (16 hr) in humans and a marked tissue tropism, with tissue levels five- to 10-fold higher than that in the serum. In animals rifabutin is no more toxic than rifampin. A large experience from the compassionate use of rifabutin for life-threatening mycobacterial infections in humans, most commonly disseminated M. avium complex disease in patients with AIDS, has also indicated relative drug safety. Although some data suggest that rifabutin is effective, firm conclusions about drug efficacy await results from controlled clinical trials.\"\n",
      "    },\n",
      "    \"doc10\": {\n",
      "        \"PMID\": 3933805,\n",
      "        \"title\": \"Intralaboratory comparison of drug susceptibility testing of Mycobacterium tuberculosis by BACTEC and conventional methodology.\",\n",
      "        \"content\": \"The BACTEC radiometric method of drug susceptibility testing of Mycobacterium tuberculosis is a reliable and rapid diagnostic tool in clinical mycobacteriology. However, large scale comparative studies have also shown that the level of agreement with standard methodology was less satisfactory with strains resistant to ethambutol and streptomycin than with strains resistant to rifampin and to isoniazid. Since disagreement with drug resistance strains is far more frequent than with drug susceptible strains, it was felt that only the comparison of a large number of resistant strains would be needed to further refine this new technique. The analysis of BACTEC-derived data for isoniazid and rifampin shows that the level of agreement with conventional methodology falls well within accepted limits. Statistical analysis of the radiometric versus conventional comparisons shows no significant differences between the two methods in the case of isoniazid, rifampin, and ethambutol (3 mg/L). Streptomycin and two other ethambutol concentrations tested showed lower levels of agreement and significant statistical differences with conventional methodology.\"\n",
      "    }\n",
      "}\n"
     ]
    }
   ],
   "source": [
    "response = retriever.retrieve_docs(\"Identify clinical trials investigating novel treatments for drug-resistant strains of tuberculosis.\", 10)\n",
    "\n",
    "# print first 3 results\n",
    "\n",
    "print(response)"
   ]
  },
  {
   "cell_type": "code",
   "execution_count": 15,
   "metadata": {},
   "outputs": [
    {
     "data": {
      "text/plain": [
       "'The clinical trials investigating novel treatments for drug-resistant strains of tuberculosis include studies on rational combinations of rifampicin/thiacetazone plus isoniazid and/or ethambutol, which have shown to be highly effective in treating patients infected with multiply resistant mycobacteria of the Mycobacterium avium complex. The results from these trials are very promising due to the synergistic potentiation of single-drug activities. Additionally, as soon as rifabutin is marketed, it is suggested to replace rifampicin in combination treatments for patients with highly rifampicin-resistant Mycobacterium avium complex bacteria.'"
      ]
     },
     "execution_count": 15,
     "metadata": {},
     "output_type": "execute_result"
    }
   ],
   "source": [
    "from RAG import RAG\n",
    "\n",
    "rag = RAG(retriever=1, question_type=1)\n",
    "\n",
    "rag.get_answer(\"Identify clinical trials investigating novel treatments for drug-resistant strains of tuberculosis.\")"
   ]
  }
 ],
 "metadata": {
  "kernelspec": {
   "display_name": "Python 3",
   "language": "python",
   "name": "python3"
  },
  "language_info": {
   "codemirror_mode": {
    "name": "ipython",
    "version": 3
   },
   "file_extension": ".py",
   "mimetype": "text/x-python",
   "name": "python",
   "nbconvert_exporter": "python",
   "pygments_lexer": "ipython3",
   "version": "3.10.12"
  }
 },
 "nbformat": 4,
 "nbformat_minor": 2
}
