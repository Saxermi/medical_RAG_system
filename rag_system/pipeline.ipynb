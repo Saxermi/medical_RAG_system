{
 "cells": [
  {
   "cell_type": "markdown",
   "metadata": {},
   "source": [
    "### Retrieval pipeline"
   ]
  },
  {
   "cell_type": "markdown",
   "metadata": {},
   "source": [
    "Importing relevant modules"
   ]
  },
  {
   "cell_type": "code",
   "execution_count": 1,
   "metadata": {},
   "outputs": [],
   "source": [
    "from elasticsearch import Elasticsearch\n",
    "import os\n",
    "import requests\n",
    "import json\n",
    "from bioBERT_encoder import BioBERTQueryEncooder\n",
    "from medCPT_encoder import MedCPTQueryEncoder"
   ]
  },
  {
   "cell_type": "markdown",
   "metadata": {},
   "source": [
    "Initializing query encoder"
   ]
  },
  {
   "cell_type": "code",
   "execution_count": 6,
   "metadata": {},
   "outputs": [],
   "source": [
    "bioBERT_encoder = BioBERTQueryEncooder()\n",
    "med_cpt_encoder = MedCPTQueryEncoder()"
   ]
  },
  {
   "cell_type": "markdown",
   "metadata": {},
   "source": [
    "Initializing Elastic Search connection"
   ]
  },
  {
   "cell_type": "code",
   "execution_count": 5,
   "metadata": {},
   "outputs": [
    {
     "data": {
      "text/plain": [
       "ObjectApiResponse({'name': 'e16354f42e49', 'cluster_name': 'docker-cluster', 'cluster_uuid': 'QRfx48-WQEmifPZNrtrbGw', 'version': {'number': '8.13.4', 'build_flavor': 'default', 'build_type': 'docker', 'build_hash': 'da95df118650b55a500dcc181889ac35c6d8da7c', 'build_date': '2024-05-06T22:04:45.107454559Z', 'build_snapshot': False, 'lucene_version': '9.10.0', 'minimum_wire_compatibility_version': '7.17.0', 'minimum_index_compatibility_version': '7.0.0'}, 'tagline': 'You Know, for Search'})"
      ]
     },
     "execution_count": 5,
     "metadata": {},
     "output_type": "execute_result"
    }
   ],
   "source": [
    "elastic_password = os.getenv('ELASTIC_PASSWORD')\n",
    "\n",
    "es = Elasticsearch(\n",
    "    ['https://localhost:9200'],\n",
    "    basic_auth=('elastic', elastic_password),\n",
    "    verify_certs=True,\n",
    "    ca_certs=\"/home/rag/.crt/http_ca.crt\",\n",
    "    request_timeout=60\n",
    ")\n",
    "\n",
    "es.info()"
   ]
  },
  {
   "cell_type": "code",
   "execution_count": 6,
   "metadata": {},
   "outputs": [],
   "source": [
    "# Define a search query\n",
    "def bm25_search(query: str, k: int = 10):\n",
    "    query = {\n",
    "        \"size\": k,\n",
    "        \"query\": {\n",
    "            \"match\": {\n",
    "                \"content\": f\"{query}\"\n",
    "            }\n",
    "        },\n",
    "        \"_source\": [\"PMID\", \"title\", \"embeddings\"]\n",
    "    }\n",
    "    # Elasticsearch nutzt standardmässig das BM25-Modell, um die Relevanz der Dokumente zu berechnen\n",
    "    return es.search(index='pubmed_index', body=query)"
   ]
  },
  {
   "cell_type": "code",
   "execution_count": 7,
   "metadata": {},
   "outputs": [
    {
     "data": {
      "text/plain": [
       "ObjectApiResponse({'took': 688, 'timed_out': False, '_shards': {'total': 1, 'successful': 1, 'skipped': 0, 'failed': 0}, 'hits': {'total': {'value': 10000, 'relation': 'gte'}, 'max_score': 41.127823, 'hits': [{'_index': 'pubmed_index', '_id': '_KJosI8BPBlFnwQS7Z0P', '_score': 41.127823, '_ignored': ['content.keyword', 'contents.keyword'], '_source': {'title': 'Drug development against tuberculosis: Past, present and future.', 'PMID': 28941848}}, {'_index': 'pubmed_index', '_id': '12M-sI8BPBlFnwQSiNQo', '_score': 38.054825, '_ignored': ['content.keyword', 'contents.keyword'], '_source': {'title': 'Nano-Drug Delivery Systems: Possible End to the Rising Threats of Tuberculosis.', 'PMID': 34974855}}, {'_index': 'pubmed_index', '_id': 'AhsOsI8BPBlFnwQSbCDr', '_score': 37.860977, '_ignored': ['content.keyword', 'contents.keyword'], '_source': {'title': 'Bottlenecks and opportunities in antibiotic discovery against Mycobacterium tuberculosis.', 'PMID': 35970040}}, {'_index': 'pubmed_index', '_id': 'C08wsI8BPBlFnwQS6z3C', '_score': 37.483532, '_ignored': ['content.keyword', 'contents.keyword'], '_source': {'title': 'New anti-tuberculosis drugs in clinical trials with novel mechanisms of action.', 'PMID': 18840542}}, {'_index': 'pubmed_index', '_id': '9k8xsI8BPBlFnwQSGohn', '_score': 37.402832, '_ignored': ['content.keyword', 'contents.keyword'], '_source': {'title': 'Alterations in molecular response of Mycobacterium tuberculosis against anti-tuberculosis drugs.', 'PMID': 35066765}}, {'_index': 'pubmed_index', '_id': 'TWlCsI8BPBlFnwQSaEe7', '_score': 37.0861, '_ignored': ['content.keyword', 'contents.keyword'], '_source': {'title': 'Potentiation of P2RX7 as a host-directed strategy for control of mycobacterial infection.', 'PMID': 30693866}}, {'_index': 'pubmed_index', '_id': 'z7p4sI8BPBlFnwQSxxy9', '_score': 36.994553, '_ignored': ['content.keyword', 'contents.keyword'], '_source': {'title': 'Antibacterial Activity of combinatorial treatments composed of transition-metal/antibiotics against Mycobacterium tuberculosis.', 'PMID': 30940878}}, {'_index': 'pubmed_index', '_id': 'pkcssI8BPBlFnwQSDXDQ', '_score': 36.810936, '_ignored': ['content.keyword', 'contents.keyword'], '_source': {'title': 'A review of antimycobacterial drugs in development.', 'PMID': 22625412}}, {'_index': 'pubmed_index', '_id': 'YtKIsI8BPBlFnwQSVBjQ', '_score': 36.75939, '_ignored': ['content.keyword', 'contents.keyword'], '_source': {'title': 'New anti-tuberculosis drugs with novel mechanisms of action.', 'PMID': 18691051}}, {'_index': 'pubmed_index', '_id': 'sHNJsI8BPBlFnwQSSDW0', '_score': 36.73461, '_ignored': ['content.keyword', 'contents.keyword'], '_source': {'title': 'Tuberculosis: progress and advances in development of new drugs, treatment regimens, and host-directed therapies.', 'PMID': 29580819}}]}})"
      ]
     },
     "execution_count": 7,
     "metadata": {},
     "output_type": "execute_result"
    }
   ],
   "source": [
    "bm25_search(\"Identify clinical trials investigating novel treatments for drug-resistant strains of tuberculosis.\", 10)"
   ]
  },
  {
   "cell_type": "code",
   "execution_count": 7,
   "metadata": {},
   "outputs": [],
   "source": [
    "def get_docs_via_PMIDs(PMIDs: list):\n",
    "    query = {\n",
    "        \"size\": len(PMIDs),\n",
    "        \"query\": {\n",
    "            \"terms\": {\n",
    "                \"PMID\": PMIDs\n",
    "            }\n",
    "        },\n",
    "        \"_source\": [\"PMID\", \"title\", \"content\"]\n",
    "    }\n",
    "\n",
    "    return es.search(index='pubmed_index', body=query)"
   ]
  },
  {
   "cell_type": "code",
   "execution_count": 5,
   "metadata": {},
   "outputs": [],
   "source": [
    "def query_to_vector(text, encoder):\n",
    "    embedding = encoder.encode(text)\n",
    "    return embedding[0]\n",
    "\n",
    "def query(query: str, encoder:object, k: int = 10, url='http://localhost:5000/search'):\n",
    "    vec = query_to_vector(query, encoder).tolist()  # Konvertiere das NumPy-Array in eine Liste\n",
    "    data = {\n",
    "        'queries': [vec],  # Stelle sicher, dass 'queries' eine Liste von Listen ist\n",
    "        'k': k\n",
    "    }\n",
    "    response = requests.post(url, headers={'Content-Type': 'application/json'}, data=json.dumps(data))\n",
    "\n",
    "    return response.json()"
   ]
  },
  {
   "cell_type": "code",
   "execution_count": 8,
   "metadata": {},
   "outputs": [
    {
     "name": "stdout",
     "output_type": "stream",
     "text": [
      "{'PMIDs': [[2517449, 1477244, 1322487, 3280912, 1640921, 3150951, 3685667, 3118492, 101915, 2699349]], 'distances': [[73.7181396484375, 73.8319091796875, 74.03831481933594, 74.13957214355469, 74.66549682617188, 75.01885223388672, 75.84512329101562, 75.998046875, 76.24203491210938, 76.6444091796875]]}\n"
     ]
    }
   ],
   "source": [
    "response = query(\"Identify clinical trials investigating novel treatments for drug-resistant strains of tuberculosis.\", med_cpt_encoder)\n",
    "print(response)"
   ]
  },
  {
   "cell_type": "code",
   "execution_count": 9,
   "metadata": {},
   "outputs": [
    {
     "name": "stdout",
     "output_type": "stream",
     "text": [
      "Distances: [73.7181396484375, 73.8319091796875, 74.03831481933594, 74.13957214355469, 74.66549682617188, 75.01885223388672, 75.84512329101562, 75.998046875, 76.24203491210938, 76.6444091796875]\n",
      "PMIDs: [2517449, 1477244, 1322487, 3280912, 1640921, 3150951, 3685667, 3118492, 101915, 2699349]\n"
     ]
    }
   ],
   "source": [
    "PMIDs = response['PMIDs'][0]\n",
    "distances = response['distances'][0]\n",
    "\n",
    "print(f\"Distances: {distances}\")\n",
    "print(f\"PMIDs: {PMIDs}\")"
   ]
  },
  {
   "cell_type": "code",
   "execution_count": 15,
   "metadata": {},
   "outputs": [],
   "source": [
    "docs = get_docs_via_PMIDs(PMIDs)"
   ]
  },
  {
   "cell_type": "markdown",
   "metadata": {},
   "source": [
    "Now testing implemented classes"
   ]
  },
  {
   "cell_type": "code",
   "execution_count": 7,
   "metadata": {},
   "outputs": [],
   "source": [
    "from bioBERT_retriever import BioBERTRetriever\n",
    "retriever = BioBERTRetriever()"
   ]
  },
  {
   "cell_type": "markdown",
   "metadata": {},
   "source": [
    "Retrieving 3 most relevant docs "
   ]
  },
  {
   "cell_type": "code",
   "execution_count": 8,
   "metadata": {},
   "outputs": [
    {
     "name": "stdout",
     "output_type": "stream",
     "text": [
      "{\n",
      "    \"doc1\": {\n",
      "        \"PMID\": 1380906,\n",
      "        \"title\": \"Development of effective drug combinations for the inhibition of multiply resistant mycobacteria, especially of the Mycobacterium avium complex.\",\n",
      "        \"content\": \"Rationally designed combinations of rifampicin (RAMP) and thiacetazone plus isonicotinic acid hydrazide and/or ethambutol are highly effective in the treatment of patients (including HIV-positive) infected with multiply resistant mycobacteria of the Mycobacterium avium complex (MAC). Clinical results are very promising. The high efficacy of these combinations is due to the synergistic potentiation of single-drug activities. As soon as rifabutin is marketed, it should replace RAMP in the combination treatment of patients with highly RAMP-resistant MAC bacteria.\"\n",
      "    },\n",
      "    \"doc2\": {\n",
      "        \"PMID\": 3079288,\n",
      "        \"title\": \"Mechanisms and clinical significance of multidrug resistance.\",\n",
      "        \"content\": \"Tumor cells often become refractory to diverse drugs with different mechanisms of cytotoxic action. This paper reviews the current state of our knowledge of multidrug resistance, the limitations of present concepts to fully explain the diversity of the MDR phenotypes, and the clinical relevance of these studies derived largely from cell culture systems. The authors discuss the use of markers associated with the multi-drug resistance phenotype to identify potentially drug-resistant tumors and outline strategies that might be used to overcome the resistance phenomenon.\"\n",
      "    },\n",
      "    \"doc3\": {\n",
      "        \"PMID\": 3150951,\n",
      "        \"title\": \"In vitro activity of antimicrobial agents against mycobacteria.\",\n",
      "        \"content\": \"The aims of this study were to investigate the possible effects of new antimicrobial agents, the conventional antituberculosis drugs and several combinations of these agents against 190 clinical isolates of Mycobacterium tuberculosis and 30 of M. avium.\"\n",
      "    }\n",
      "}\n"
     ]
    }
   ],
   "source": [
    "response = retriever.retrieve_docs(\"Identify clinical trials investigating novel treatments for drug-resistant strains of tuberculosis.\", 3)\n",
    "print(response)"
   ]
  },
  {
   "cell_type": "markdown",
   "metadata": {},
   "source": [
    "Now the BM25 retriever"
   ]
  },
  {
   "cell_type": "code",
   "execution_count": 1,
   "metadata": {},
   "outputs": [],
   "source": [
    "from bm25_retriever import BM25Retriever\n",
    "\n",
    "retriever = BM25Retriever()"
   ]
  },
  {
   "cell_type": "code",
   "execution_count": 2,
   "metadata": {},
   "outputs": [
    {
     "name": "stdout",
     "output_type": "stream",
     "text": [
      "{\n",
      "    \"doc1\": {\n",
      "        \"PMID\": 28941848,\n",
      "        \"title\": \"Drug development against tuberculosis: Past, present and future.\",\n",
      "        \"content\": \"Infection of Mycobacterium tuberculosis (MTB) was observed as early as 5000 years ago with evidence, which is a primeval enemy of the humanoid race. MTB is the pathogen which is responsible for causing the infectious disease tuberculosis; it remains a major cause of morbidity and mortality in poor low-income countries as well as in developing countries because of non-availability of reliable laboratory facilities. The current treatment for drug-resistant tuberculosis (TB) is lengthy, complex, and connected with severe harmful side effects and poor outcomes. The present cure against tuberculosis has substantial restrictions, in terms of their efficiency, side-effect outline, and complication of handling. Furthermore, the emergence of multi-drug resistant tuberculosis (MDR-TB) outbreaks during the 1990s and additionally in recent times the vast deadly strains of extensively drug-resistant tuberculosis (XDR-TB) and totally drug resistance tuberculosis (TDR-TB) is hampering efforts to control and manage tuberculosis (TB). As a result, novel methodologies for the treatment of multi-drug-resistant and extensive drug-resistant tuberculosis (TB) are severely desired. A number of new potential anti-tuberculosis drug candidates with novel modes of action have been entered in clinical trials in recent years. These agents are most likely to be effective against resistant strains. The treatment landscape is beginning to shift, with the recent approvals by Food and Drug Administration to the new TB drugs bedaquiline and delamanid. Also, the pipeline of potential new treatments has been fulfilled with several compounds in clinical trials or preclinical development with promising activities against sensitive and resistant MTB bacteria. An additional new chemical entity is also under development. The already existing drugs with their suggested mode of treatment as well as new probable anti-tuberculosis drug moieties which are at present in the pipeline has been summarized in this review.\",\n",
      "        \"score\": 41.127823\n",
      "    },\n",
      "    \"doc2\": {\n",
      "        \"PMID\": 34974855,\n",
      "        \"title\": \"Nano-Drug Delivery Systems: Possible End to the Rising Threats of Tuberculosis.\",\n",
      "        \"content\": \"Tuberculosis (TB) is still one of the deadliest disease across the globe caused by <iMycobacterium tuberculosis</i (<iMtb</i). <iMtb</i invades host macrophages and other immune cells, modifies their lysosome trafficking proteins, prevents phagolysosomes formation, and inhibits the TNF receptor-dependent apoptosis in macrophages and monocytes. Tuberculosis (TB) killed 1.4 million people worldwide in the year 2019. Despite the advancements in tuberculosis (TB) treatments, multidrugresistant tuberculosis (MDR-TB) remains a severe threat to human health. The complications are further compounded by the emergence of MDR/XDR strains and the failure of conventional drug regimens to eradicate the resistant bacterial strains. Thus, new therapeutic approaches aim to ensure cure without relapse, to prevent the occurrence of deaths and emergence of drug-resistant strains. In this context, this review article summarises the essential nanotechnology-related research outcomes in the treatment of tuberculosis (TB), including drug-susceptible and drug-resistant strains of <iMtb.</i The novel anti-tuberculosis drug delivery systems are also being detailed. This article highlights recent advances in tuberculosis (TB) treatments, including the use of novel drug delivery technologies such as solid lipid nanoparticles, liposomes, polymeric micelles, nano-suspensions, nano-emulsion, niosomes, liposomes, polymeric nanoparticles and microparticles for the delivery of anti-TB drugs and hence eradication and control of both drug-susceptible as well as drug-resistant strains of <iMtb.</i\",\n",
      "        \"score\": 38.054825\n",
      "    },\n",
      "    \"doc3\": {\n",
      "        \"PMID\": 35970040,\n",
      "        \"title\": \"Bottlenecks and opportunities in antibiotic discovery against Mycobacterium tuberculosis.\",\n",
      "        \"content\": \"Tuberculosis (TB) persists as a major global health issue and a leading cause of death by a single infectious agent. The global burden of TB is further exacerbated by the continuing emergence and dissemination of strains of Mycobacterium tuberculosis resistant to multiple antibiotics. The need for novel drugs that can be used to shorten the course for current TB drug regimens as well as combat the persistent threat of antibiotic resistance has never been greater. There have been significant advances in the discovery of de novo TB treatments, with the first TB-specific drugs in 45 years approved for use. However, there are still issues that restrict the pipeline of new antitubercular chemotherapies. The rate of failure of TB drug candidates in clinical trials remains high, while the validation of new TB drug targets and subsequent identification of novel inhibitors remains modest.\",\n",
      "        \"score\": 37.860977\n",
      "    }\n",
      "}\n"
     ]
    }
   ],
   "source": [
    "response = retriever.retrieve_docs(\"Identify clinical trials investigating novel treatments for drug-resistant strains of tuberculosis.\", 3)\n",
    "print(response)"
   ]
  },
  {
   "cell_type": "markdown",
   "metadata": {},
   "source": [
    "Now trying the medCPT retriever without reranking"
   ]
  },
  {
   "cell_type": "code",
   "execution_count": 1,
   "metadata": {},
   "outputs": [],
   "source": [
    "from medCPT_retriever import SemanticRetrieverMedCPT\n",
    "retriever = SemanticRetrieverMedCPT(rerank=False)"
   ]
  },
  {
   "cell_type": "code",
   "execution_count": 2,
   "metadata": {},
   "outputs": [
    {
     "name": "stdout",
     "output_type": "stream",
     "text": [
      "{\n",
      "    \"doc1\": {\n",
      "        \"PMID\": 3280912,\n",
      "        \"title\": \"Antituberculosis agents.\",\n",
      "        \"content\": \"Tuberculosis, once considered a problem solved, is now dramatically on the rise. New approaches to chemotherapy will hopefully help to control this again serious problem. This article reviews the current status of tuberculosis chemotherapy, including the management of drug-resistant cases.\"\n",
      "    },\n",
      "    \"doc2\": {\n",
      "        \"PMID\": 1640921,\n",
      "        \"title\": \"Management of persons exposed to multidrug-resistant tuberculosis.\",\n",
      "        \"content\": \"Recent outbreaks of multidrug-resistant tuberculosis (MDR-TB) have posed challenges for the management of exposed persons. This report offers suggestions for evaluating and managing persons (i.e., contacts) who have been exposed to patients with infectious MDR-TB (TB due to strains of Mycobacterium tuberculosis resistant to both isoniazid [INH] and rifampin [RIF]), provides background information on alternative preventive therapy regimens with drugs other than INH or RIF, and presents considerations relevant to making a decision to offer one of these alternative regimens.\"\n",
      "    },\n",
      "    \"doc3\": {\n",
      "        \"PMID\": 2517449,\n",
      "        \"title\": \"[Treatment of tuberculosis].\",\n",
      "        \"content\": \"Tuberculosis appears to be a diagnostic challenge and an important therapeutical problem in industrialized and in developing countries, where most infections occur. Besides several rifamycin derivatives, new molecules (fluorinated quinolones, macrolides, beta-lactam antibiotics) are being explored in the face of increasing bacterial-resistance with the aim of improving the efficacy and safety of anti-tuberculous drugs, shortening the period of treatment or allowing intermittent regimens. At present, in severe forms of the disease three or more of the available anti-tuberculous agents must be administered simultaneously for at least 3-4 months and two for the following 6-7 months. Nevertheless, a variety of highly effective 6 months regimens are currently used for the treatment of less severe tuberculosis.\"\n",
      "    },\n",
      "    \"doc4\": {\n",
      "        \"PMID\": 1322487,\n",
      "        \"title\": \"Meeting the challenge of multidrug-resistant tuberculosis: summary of a conference.\",\n",
      "        \"content\": \"On January 22-23, 1992, a conference on \\\"Meeting the Challenge of Multidrug-Resistant Tuberculosis\\\" (MDR-TB) was held at the Centers for Disease Control, with greater than 400 attendees. Plenary presentations summarized the nature and magnitude of the problem, and work groups were formed to address six issues: public health, epidemiology and surveillance, infection control and environment, laboratory diagnosis and research, therapy, and training and education. Participants concluded that existing tools for diagnosis, patient management, and infection control must be more thoroughly implemented and that research to develop new approaches to diagnosis and therapy is critically needed. Discussions at the conference provided information that has been used to develop the National Action Plan to Combat Multidrug-Resistant Tuberculosis.\"\n",
      "    },\n",
      "    \"doc5\": {\n",
      "        \"PMID\": 1477244,\n",
      "        \"title\": \"Evaluation of new anti-infective drugs for the treatment and prevention of tuberculosis. Infectious Diseases Society of America and the Food and Drug Administration.\",\n",
      "        \"content\": \"This guideline addresses the evaluation of new antimycobacterial drugs in the treatment and prevention (secondary prophylaxis) of infection by M. tuberculosis. Patients may be enrolled in clinical trials on the basis of clinical and/or microbiological criteria. A therapeutic regimen will likely include a combination of drugs; a randomized, active-control, comparative clinical trial is recommended. If appropriate samples can be obtained for culture during follow-up without placing the patient at unwarranted risk, the assessment of microbiological outcome is paramount. Prophylaxis will probably require a single drug, and a similar study design is preferred.\"\n",
      "    }\n",
      "}\n"
     ]
    }
   ],
   "source": [
    "response = retriever.retrieve_docs(\"Identify clinical trials investigating novel treatments for drug-resistant strains of tuberculosis.\", 5)\n",
    "print(response)"
   ]
  },
  {
   "cell_type": "markdown",
   "metadata": {},
   "source": [
    "Now with reranking using the medCPT cross encoder"
   ]
  },
  {
   "cell_type": "code",
   "execution_count": 1,
   "metadata": {},
   "outputs": [],
   "source": [
    "from medCPT_retriever import SemanticRetrieverMedCPT\n",
    "retriever = SemanticRetrieverMedCPT(rerank=True)"
   ]
  },
  {
   "cell_type": "code",
   "execution_count": 2,
   "metadata": {},
   "outputs": [
    {
     "name": "stdout",
     "output_type": "stream",
     "text": [
      "{\n",
      "    \"doc1\": {\n",
      "        \"PMID\": 1477244,\n",
      "        \"title\": \"Evaluation of new anti-infective drugs for the treatment and prevention of tuberculosis. Infectious Diseases Society of America and the Food and Drug Administration.\",\n",
      "        \"content\": \"This guideline addresses the evaluation of new antimycobacterial drugs in the treatment and prevention (secondary prophylaxis) of infection by M. tuberculosis. Patients may be enrolled in clinical trials on the basis of clinical and/or microbiological criteria. A therapeutic regimen will likely include a combination of drugs; a randomized, active-control, comparative clinical trial is recommended. If appropriate samples can be obtained for culture during follow-up without placing the patient at unwarranted risk, the assessment of microbiological outcome is paramount. Prophylaxis will probably require a single drug, and a similar study design is preferred.\",\n",
      "        \"score\": 6.256978511810303\n",
      "    },\n",
      "    \"doc2\": {\n",
      "        \"PMID\": 3280912,\n",
      "        \"title\": \"Antituberculosis agents.\",\n",
      "        \"content\": \"Tuberculosis, once considered a problem solved, is now dramatically on the rise. New approaches to chemotherapy will hopefully help to control this again serious problem. This article reviews the current status of tuberculosis chemotherapy, including the management of drug-resistant cases.\",\n",
      "        \"score\": -4.037928581237793\n",
      "    },\n",
      "    \"doc3\": {\n",
      "        \"PMID\": 2517449,\n",
      "        \"title\": \"[Treatment of tuberculosis].\",\n",
      "        \"content\": \"Tuberculosis appears to be a diagnostic challenge and an important therapeutical problem in industrialized and in developing countries, where most infections occur. Besides several rifamycin derivatives, new molecules (fluorinated quinolones, macrolides, beta-lactam antibiotics) are being explored in the face of increasing bacterial-resistance with the aim of improving the efficacy and safety of anti-tuberculous drugs, shortening the period of treatment or allowing intermittent regimens. At present, in severe forms of the disease three or more of the available anti-tuberculous agents must be administered simultaneously for at least 3-4 months and two for the following 6-7 months. Nevertheless, a variety of highly effective 6 months regimens are currently used for the treatment of less severe tuberculosis.\",\n",
      "        \"score\": -9.039165496826172\n",
      "    },\n",
      "    \"doc4\": {\n",
      "        \"PMID\": 1322487,\n",
      "        \"title\": \"Meeting the challenge of multidrug-resistant tuberculosis: summary of a conference.\",\n",
      "        \"content\": \"On January 22-23, 1992, a conference on \\\"Meeting the Challenge of Multidrug-Resistant Tuberculosis\\\" (MDR-TB) was held at the Centers for Disease Control, with greater than 400 attendees. Plenary presentations summarized the nature and magnitude of the problem, and work groups were formed to address six issues: public health, epidemiology and surveillance, infection control and environment, laboratory diagnosis and research, therapy, and training and education. Participants concluded that existing tools for diagnosis, patient management, and infection control must be more thoroughly implemented and that research to develop new approaches to diagnosis and therapy is critically needed. Discussions at the conference provided information that has been used to develop the National Action Plan to Combat Multidrug-Resistant Tuberculosis.\",\n",
      "        \"score\": -10.701553344726562\n",
      "    },\n",
      "    \"doc5\": {\n",
      "        \"PMID\": 1640921,\n",
      "        \"title\": \"Management of persons exposed to multidrug-resistant tuberculosis.\",\n",
      "        \"content\": \"Recent outbreaks of multidrug-resistant tuberculosis (MDR-TB) have posed challenges for the management of exposed persons. This report offers suggestions for evaluating and managing persons (i.e., contacts) who have been exposed to patients with infectious MDR-TB (TB due to strains of Mycobacterium tuberculosis resistant to both isoniazid [INH] and rifampin [RIF]), provides background information on alternative preventive therapy regimens with drugs other than INH or RIF, and presents considerations relevant to making a decision to offer one of these alternative regimens.\",\n",
      "        \"score\": -11.939983367919922\n",
      "    }\n",
      "}\n"
     ]
    }
   ],
   "source": [
    "response = retriever.retrieve_docs(\"Identify clinical trials investigating novel treatments for drug-resistant strains of tuberculosis.\", 5)\n",
    "print(response)"
   ]
  },
  {
   "cell_type": "code",
   "execution_count": 1,
   "metadata": {},
   "outputs": [],
   "source": [
    "from hybrid_retriever import HybridRetriever\n",
    "retriever = HybridRetriever()"
   ]
  },
  {
   "cell_type": "code",
   "execution_count": 4,
   "metadata": {},
   "outputs": [
    {
     "name": "stdout",
     "output_type": "stream",
     "text": [
      "{\n",
      "    \"doc1\": {\n",
      "        \"PMID\": 28004618,\n",
      "        \"title\": \"Organisation of services for managing ADHD.\",\n",
      "        \"content\": \"There is considerable variation in practice, both between and with different countries in the management of attention deficit hyperactivity disorder (ADHD). Whilst there is no one optimal model of service organisation there are general principles of care that can be introduced to reduce this variability. There are frequent debates and discussions about which professional group is best placed to manage ADHD at different points in the life cycle. Who delivers care is however less important than ensuring that training schemes provide adequate exposure, training and experience to both the core and non-core skills required to provide a comprehensive package of care. Most evidence-based guidelines recommend a multi-modal, multi-professional and multi-agency approach. Many also promote the use of both stepped care and shared care approaches for the management of ADHD. As most of those with ADHD continue to have ADHD-related problems into adulthood, it is important to consider how best to transition care into adulthood and think about who should deliver care to adults with ADHD. Young people with ADHD should generally be transferred to adult mental health services if they continue to have significant symptoms of ADHD or other coexisting conditions that require treatment. Unfortunately services for adults with ADHD remain relatively scarce across much of the world and some adult psychiatrists remain unsure of the diagnosis and uncertain about the appropriate use of ADHD medications in adults, but there is a strong case for increased services for adults. ADHD is on the one hand easy to treat; it is much more difficult to treat well. Although optimised care for ADHD requires routine measurement of outcomes, this often does not happen in routine clinical practice. Focusing on optimising symptoms and minimising adverse effects can significantly improve both short- and long-term outcomes.\",\n",
      "        \"score\": 15.660116195678711\n",
      "    },\n",
      "    \"doc2\": {\n",
      "        \"PMID\": 29173249,\n",
      "        \"title\": \"ADHD: Overdiagnosed and overtreated, or misdiagnosed and mistreated?\",\n",
      "        \"content\": \"In today's changing medical climate, physicians need to treat attention-deficit/hyperactivity disorder (ADHD) better and more cost-effectively. The authors review recommendations supported by recent research and offer simple practices that integrate medicine and behavioral health for patients with ADHD.\",\n",
      "        \"score\": 15.37614631652832\n",
      "    },\n",
      "    \"doc3\": {\n",
      "        \"PMID\": 31824658,\n",
      "        \"title\": \"Recent advances in understanding of attention deficit hyperactivity disorder (ADHD): how genetics are shaping our conceptualization of this disorder.\",\n",
      "        \"content\": \"Attention deficit hyperactivity disorder (ADHD) is a clinically defined disorder, and inattention and hyperactivity/impulsivity are its main symptom domains. The presentation, lifelong continuation and treatment response of ADHD symptoms, however, is highly heterogeneous. To better define, diagnose, treat and prevent ADHD, it is essential that we understand the biological processes underlying all of these elements. In this review, given the high heritability of ADHD, we discuss how and why genetics can foster such progress. We examine what genetics have taught us so far with regard to ADHD definition, classification, clinical presentation, diagnosis and treatment. Finally, we offer a prospect of what genetic studies on ADHD may bring in the future.\",\n",
      "        \"score\": 15.364371299743652\n",
      "    },\n",
      "    \"doc4\": {\n",
      "        \"PMID\": 12956551,\n",
      "        \"title\": \"Working with the family of a child with attention deficit hyperactivity disorder.\",\n",
      "        \"content\": \"Attention Deficit Hyperactivity Disorder (ADHD) is a common neurobehavioral problem in children that the medical practitioner is frequently asked to diagnose and treat. Equally as important as accurate diagnosis and treatment, however, is the ability to provide family members with clear and concise information that leads to an understanding of the disorder. This article presents a framework for answering family members' specific questions about ADHD and recommendations for ways to effectively share information with families regarding ADHD.\",\n",
      "        \"score\": 15.031416893005371\n",
      "    },\n",
      "    \"doc5\": {\n",
      "        \"PMID\": 24153094,\n",
      "        \"title\": \"Recognizing and treating ADHD in adults.\",\n",
      "        \"content\": \"Patients with attention deficit hyperactivity disorder (ADHD) commonly present in primary care settings. Because untreated adult ADHD can impair patients' quality of life, clinicians need to know how to recognize and treat this potentially lifelong disorder. \",\n",
      "        \"score\": 14.99327564239502\n",
      "    },\n",
      "    \"doc6\": {\n",
      "        \"PMID\": 16986450,\n",
      "        \"title\": \"Physician handling of prescription stimulants.\",\n",
      "        \"content\": \"Good medical practices can significantly reduce the possibility of diversion and misuse of the stimulants commonly prescribed to treat ADHD. While the problems of misuse and abuse are real, they should not become a barrier to appropriate use of these medicines, which are safe and effective for the large majority of patients with ADHD using them. With appropriate care, physicians treating patients with ADHD can be confident that their treatments are safe, not only for the patients they treat, but also for the communities in which they live.\",\n",
      "        \"score\": 14.747796058654785\n",
      "    },\n",
      "    \"doc7\": {\n",
      "        \"PMID\": 29344341,\n",
      "        \"title\": \"Treatment of adult ADHD: a clinical perspective.\",\n",
      "        \"content\": \"Adult attention deficit/hyperactivity disorder (ADHD) has moved from the blurred edge of clinical focus to clear recognition as a prevalent and significant disorder in its own right. It is a relatively common comorbidity which if identified and treated may open the door to better outcomes for hard-to-treat patients. Conversely, failure to identify and treat adult ADHD is linked to negative outcomes. The recognition of the importance of adult ADHD in a subset of our patients challenges us to overcome our anxiety about this diagnosis and prevent the societal marginalization of vulnerable patients. Adult ADHD responds well to integrated pharmacological and psychotherapeutic intervention. Its treatment responsiveness reduces disability and allows the comorbidity which is typically present to be addressed. Mastering this challenge can make the diagnosis and treatment of adult ADHD a rewarding experience.\",\n",
      "        \"score\": 14.724090576171875\n",
      "    },\n",
      "    \"doc8\": {\n",
      "        \"PMID\": 8628026,\n",
      "        \"title\": \"Primary-care approach to the diagnosis and management of attention-deficit hyperactivity disorder.\",\n",
      "        \"content\": \"Attention-deficit hyperactivity disorder (ADHD), a relatively common problem, affects 3 to 5% of school-age children. Physicians are often reluctant to treat children with ADHD, possibly because of the lack of a practical approach to the assessment. The medical model, with some modifications, is well suited for this purpose. Comprehensive treatment, including both medication and nonmedical intervention, should be coordinated by the primary-care provider. Logistic considerations are another barrier to effective treatment of ADHD. The physician must have a practical plan to provide high-quality care to children with ADHD. Primary-care physicians, who have detailed information about children and their families, are in an ideal position to treat patients with ADHD.\",\n",
      "        \"score\": 14.555706024169922\n",
      "    },\n",
      "    \"doc9\": {\n",
      "        \"PMID\": 21487953,\n",
      "        \"title\": \"ADHD: current and future therapeutics.\",\n",
      "        \"content\": \"The stimulants, amphetamine and methylphenidate, have long been the mainstay of attention-deficit hyperactivity disorder (ADHD) therapy. They are rapidly effective and are generally the first medications selected by physicians. In the development of alternative pharmacological approaches, drug candidates have been evaluated with a wide diversity of mechanisms. All of these developments have contributed real progress in the field, but there is still much room for improvement and unmet clinical need in ADHD pharmacotherapy. The availability of a wide range of compounds with a high degree of specificity for individual monoamines (dopamine and noradrenaline) and/or different pharmacological mechanisms has refined our understanding of the essential elements for optimum pharmacological effect in managing ADHD. In this chapter, we review the pharmacology of the different classes of drug used to treat ADHD and provide a neurochemical rationale, predominantly from the use of in vivo microdialysis experiments, to explain their relative efficacy and potential to elicit side effects. In addition, we will consider how predictions based on results from animal models translate into clinical outcomes. The treatment of ADHD is also described from the perspective of the physician. Finally, the new research development for drugs to treat ADHD is discussed.\",\n",
      "        \"score\": 14.435881614685059\n",
      "    },\n",
      "    \"doc10\": {\n",
      "        \"PMID\": 17178358,\n",
      "        \"title\": \"Attention-deficit hyperactivity disorder.\",\n",
      "        \"content\": \"Attention-deficit hyperactivity disorder (ADHD) is a challenging condition to diagnose and treat. For diagnosis, the clinician needs to establish the presence of ADHD on Diagnostic and Statistical Manual of Mental Disorders criteria requiring information from parents and teachers and considering both alternative diagnoses and co-occurring conditions. In the treatment of ADHD as a chronic illness, the clinician needs to educate the family about the condition and partner with them about treatment decisions. The 2 treatments with demonstrated efficacy for ADHD are medications (stimulant medications and a selective norepinephrine reuptake inhibiter) and behavior-modification programs.\",\n",
      "        \"score\": 14.381913185119629\n",
      "    }\n",
      "}\n"
     ]
    }
   ],
   "source": [
    "response = retriever.retrieve_docs(\"How to treat ADHD?\", top_n=10, k=100)\n",
    "print(response)"
   ]
  },
  {
   "cell_type": "markdown",
   "metadata": {},
   "source": [
    "### RAG system\n",
    "\n",
    "Now testing the combined RAG system using retriever number 1, semantic similarity search."
   ]
  },
  {
   "cell_type": "code",
   "execution_count": 11,
   "metadata": {},
   "outputs": [
    {
     "data": {
      "text/plain": [
       "'{\"response\": \"Treatment options for breast cancer include mastectomy, breast conservation treatment (excision of primary tumor plus radiation therapy), and primary systemic chemotherapy. Mastectomy was standard treatment in the past, but now breast conservation treatment is appropriate for the majority of women with stage I or II breast cancer. Primary systemic chemotherapy can be used for operable breast cancer to improve patient outcomes. Radiotherapy is also a successful way to treat localized metastatic or recurrent breast cancer.\", \"used_PMIDs\": [\"59936\", \"1925139\", \"1933219\"], \"retrieved_PMIDs\": [1445519, 2807944, 2306572, 1903883, 2207477, 2852332, 59936, 1925139, 1933219, 1612877], \"retrieval_time\": 1.0633940696716309, \"generation_time\": 3.061168909072876}'"
      ]
     },
     "execution_count": 11,
     "metadata": {},
     "output_type": "execute_result"
    }
   ],
   "source": [
    "from med_rag import MedRAG\n",
    "\n",
    "rag = MedRAG(retriever=1, question_type=1)\n",
    "\n",
    "rag.get_answer(\"What is the treatment for breast cancer?\")"
   ]
  },
  {
   "cell_type": "code",
   "execution_count": 10,
   "metadata": {},
   "outputs": [
    {
     "data": {
      "text/plain": [
       "'{\"response\": \"Wilson\\'s disease is inherited in an autosomal recessive mode.\", \"used_PMIDs\": [\"838566\"], \"retrieved_PMIDs\": [838566, 2292371, 1536160, 2724779, 2332582, 1248830, 2222683, 3255247, 1517772, 789146], \"retrieval_time\": 0.7482585906982422, \"generation_time\": 1.2844774723052979}'"
      ]
     },
     "execution_count": 10,
     "metadata": {},
     "output_type": "execute_result"
    }
   ],
   "source": [
    "from med_rag import MedRAG\n",
    "\n",
    "rag = MedRAG(retriever=2, question_type=1)\n",
    "\n",
    "rag.get_answer(\"What is the mode of inheritance of Wilson's disease?\")"
   ]
  },
  {
   "cell_type": "code",
   "execution_count": 2,
   "metadata": {},
   "outputs": [
    {
     "name": "stdout",
     "output_type": "stream",
     "text": [
      "None\n"
     ]
    }
   ],
   "source": [
    "import os\n",
    "\n",
    "print(os.getenv('OPENAI_API_KEY'))"
   ]
  },
  {
   "cell_type": "code",
   "execution_count": 1,
   "metadata": {},
   "outputs": [
    {
     "data": {
      "text/plain": [
       "'{\"response\": \"Wilson\\'s disease is inherited in an autosomal recessive mode. This means that an individual must inherit two copies of the mutated gene (one from each parent) to develop the disease.\", \"used_PMIDs\": [\"26817129\", \"6109943\"], \"retrieved_PMIDs\": [26817129, 6109943, 838566, 2724779, 6620327, 16810973, 20662462, 8186659, 11254776, 23518715], \"retrieval_time\": 1.5806100368499756, \"generation_time\": 1.6769413948059082}'"
      ]
     },
     "execution_count": 1,
     "metadata": {},
     "output_type": "execute_result"
    }
   ],
   "source": [
    "from med_rag import MedRAG\n",
    "\n",
    "rag = MedRAG(retriever=3, question_type=1)\n",
    "\n",
    "rag.get_answer(\"What is the mode of inheritance of Wilson's disease?\")"
   ]
  },
  {
   "cell_type": "code",
   "execution_count": 2,
   "metadata": {},
   "outputs": [
    {
     "data": {
      "text/plain": [
       "'{\"response\": \"yes\", \"used_PMIDs\": [\"24535059\", \"12711673\", \"2103444\", \"26382736\", \"17881586\", \"2691247\", \"17961216\", \"2010914\"], \"retrieved_PMIDs\": [24535059, 12711673, 2103444, 21930924, 26382736, 17881586, 2207158, 2691247, 17961216, 2010914], \"retrieval_time\": 0.371307373046875, \"generation_time\": 1.5111398696899414}'"
      ]
     },
     "execution_count": 2,
     "metadata": {},
     "output_type": "execute_result"
    }
   ],
   "source": [
    "from med_rag import MedRAG\n",
    "\n",
    "rag = MedRAG(retriever=3, question_type=2)\n",
    "\n",
    "rag.get_answer(\"Is stop codon bypass possible?\")"
   ]
  },
  {
   "cell_type": "code",
   "execution_count": 34,
   "metadata": {},
   "outputs": [
    {
     "data": {
      "text/plain": [
       "'{\"response\": \"Stop codon bypass is possible through ribosomal frameshifting at hungry codons, allowing for readthrough of stop codons and continuation of translation in a shifted reading frame.\", \"used_PMIDs\": [3199440, 1515416, 1731076, 3477671, 1779848], \"retrieved_PMIDs\": [3199440, 1515416, 1731076, 2253710, 1628840, 1689389, 2439408, 3477671, 1779848, 1814364]}'"
      ]
     },
     "execution_count": 34,
     "metadata": {},
     "output_type": "execute_result"
    }
   ],
   "source": [
    "from med_rag import MedRAG\n",
    "\n",
    "rag = MedRAG(retriever=4, question_type=1)\n",
    "\n",
    "rag.get_answer(\"Is stop codon bypass possible?\")"
   ]
  },
  {
   "cell_type": "code",
   "execution_count": 1,
   "metadata": {},
   "outputs": [],
   "source": [
    "from med_rag import MedRAG\n",
    "\n",
    "rag = MedRAG(retriever=4, question_type=2)"
   ]
  },
  {
   "cell_type": "code",
   "execution_count": 2,
   "metadata": {},
   "outputs": [
    {
     "data": {
      "text/plain": [
       "'{\"response\": \"yes\", \"used_PMIDs\": [\"1814364\", \"1731076\", \"1628840\", \"1689389\", \"3199440\"], \"retrieved_PMIDs\": [1814364, 1731076, 1628840, 2439408, 1689389, 2253710, 1779848, 3199440, 1515416, 3477671], \"retrieval_time\": 3.8009798526763916, \"generation_time\": 1.5287399291992188}'"
      ]
     },
     "execution_count": 2,
     "metadata": {},
     "output_type": "execute_result"
    }
   ],
   "source": [
    "rag.get_answer(\"Is stop codon bypass possible?\")"
   ]
  }
 ],
 "metadata": {
  "kernelspec": {
   "display_name": "Python 3",
   "language": "python",
   "name": "python3"
  },
  "language_info": {
   "codemirror_mode": {
    "name": "ipython",
    "version": 3
   },
   "file_extension": ".py",
   "mimetype": "text/x-python",
   "name": "python",
   "nbconvert_exporter": "python",
   "pygments_lexer": "ipython3",
   "version": "3.10.12"
  }
 },
 "nbformat": 4,
 "nbformat_minor": 2
}
