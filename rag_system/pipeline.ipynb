{
 "cells": [
  {
   "cell_type": "markdown",
   "metadata": {},
   "source": [
    "### Retrieval pipeline"
   ]
  },
  {
   "cell_type": "markdown",
   "metadata": {},
   "source": [
    "Importing relevant modules"
   ]
  },
  {
   "cell_type": "code",
   "execution_count": 2,
   "metadata": {},
   "outputs": [],
   "source": [
    "from elasticsearch import Elasticsearch\n",
    "import urllib3\n",
    "import os\n",
    "import requests\n",
    "import numpy as np\n",
    "import json\n",
    "from bioBERTencoder import TextEncooderBioBERT"
   ]
  },
  {
   "cell_type": "markdown",
   "metadata": {},
   "source": [
    "Initializing embedder"
   ]
  },
  {
   "cell_type": "code",
   "execution_count": 3,
   "metadata": {},
   "outputs": [],
   "source": [
    "embedder = TextEncooderBioBERT()"
   ]
  },
  {
   "cell_type": "markdown",
   "metadata": {},
   "source": [
    "Initializing Elastic Search connection"
   ]
  },
  {
   "cell_type": "code",
   "execution_count": 4,
   "metadata": {},
   "outputs": [],
   "source": [
    "elastic_password = os.getenv('ELASTIC_PASSWORD')\n",
    "\n",
    "es = Elasticsearch(\n",
    "    ['https://localhost:9200'],\n",
    "    basic_auth=('elastic', elastic_password),\n",
    "    verify_certs=True,\n",
    "    ca_certs=\"/home/ubuntu/.crts/http_ca.crt\",\n",
    "    request_timeout=60\n",
    ")"
   ]
  },
  {
   "cell_type": "code",
   "execution_count": 5,
   "metadata": {},
   "outputs": [],
   "source": [
    "# Define a search query\n",
    "def bm25_search(query: str, k: int = 10):\n",
    "    query = {\n",
    "        \"size\": k,\n",
    "        \"query\": {\n",
    "            \"match\": {\n",
    "                \"content\": f\"{query}\"\n",
    "            }\n",
    "        },\n",
    "        \"_source\": [\"PMID\", \"title\"]\n",
    "    }\n",
    "    # Elasticsearch nutzt standardmässig das BM25-Modell, um die Relevanz der Dokumente zu berechnen\n",
    "    return es.search(index='pubmed_index', body=query)"
   ]
  },
  {
   "cell_type": "code",
   "execution_count": 6,
   "metadata": {},
   "outputs": [
    {
     "data": {
      "text/plain": [
       "ObjectApiResponse({'took': 2575, 'timed_out': False, '_shards': {'total': 1, 'successful': 1, 'skipped': 0, 'failed': 0}, 'hits': {'total': {'value': 10000, 'relation': 'gte'}, 'max_score': 29.15415, 'hits': [{'_index': 'pubmed_index', '_id': 'dr5K7I4BlUXX0v6gr52g', '_score': 29.15415, '_source': {'title': 'The epidemiologic patterns of drug-resistant Mycobacterium tuberculosis infections: a community-based study.', 'PMID': 2496635}}, {'_index': 'pubmed_index', '_id': 'bspj7I4BlUXX0v6gdi_p', '_score': 28.184868, '_source': {'title': '[Experimental and clinical study test of capreomycin].', 'PMID': 60080}}, {'_index': 'pubmed_index', '_id': 'rbU47I4BlUXX0v6gpBFb', '_score': 27.948555, '_source': {'title': 'Primary antituberculous drug resistance in Hawaii, 1957 to 1977.', 'PMID': 101107}}, {'_index': 'pubmed_index', '_id': 'rcZb7I4BlUXX0v6gbcdj', '_score': 27.639471, '_source': {'title': 'Failure of isoniazid prophylaxis after exposure to isoniazid-resistant tuberculosis.', 'PMID': 807140}}, {'_index': 'pubmed_index', '_id': 'E7U47I4BlUXX0v6gpRMG', '_score': 27.576754, '_source': {'title': 'Drug resistant tuberculosis in New Zealand.', 'PMID': 101915}}, {'_index': 'pubmed_index', '_id': 'YLlB7I4BlUXX0v6ga-cx', '_score': 27.116844, '_source': {'title': 'Evaluation of streptomycin and ethambutol concentrations for susceptibility testing of Mycobacterium tuberculosis by radiometric and conventional procedures.', 'PMID': 3084552}}, {'_index': 'pubmed_index', '_id': 'B75K7I4BlUXX0v6g1q5a', '_score': 27.094803, '_source': {'title': 'Bacteriological studies of tuberculosis in Sidamo Regional Hospital.', 'PMID': 2502390}}, {'_index': 'pubmed_index', '_id': 'vLlB7I4BlUXX0v6gkfx1', '_score': 26.860409, '_source': {'title': 'Primary drug-resistant tuberculosis in children. Emergence of primary drug-resistant strains of M. tuberculosis to rifampin.', 'PMID': 3092708}}, {'_index': 'pubmed_index', '_id': 'DLEw7I4BlUXX0v6gPSFE', '_score': 26.81697, '_source': {'title': 'Rifabutin (ansamycin LM 427): a new rifamycin-S derivative for the treatment of mycobacterial diseases.', 'PMID': 3037676}}, {'_index': 'pubmed_index', '_id': '97Q47I4BlUXX0v6gRMuW', '_score': 26.410606, '_source': {'title': 'Intralaboratory comparison of drug susceptibility testing of Mycobacterium tuberculosis by BACTEC and conventional methodology.', 'PMID': 3933805}}]}})"
      ]
     },
     "execution_count": 6,
     "metadata": {},
     "output_type": "execute_result"
    }
   ],
   "source": [
    "bm25_search(\"Identify clinical trials investigating novel treatments for drug-resistant strains of tuberculosis.\", 10)"
   ]
  },
  {
   "cell_type": "code",
   "execution_count": 7,
   "metadata": {},
   "outputs": [],
   "source": [
    "def get_docs_via_PMIDs(PMIDs: list):\n",
    "    query = {\n",
    "        \"size\": len(PMIDs),\n",
    "        \"query\": {\n",
    "            \"terms\": {\n",
    "                \"PMID\": PMIDs\n",
    "            }\n",
    "        },\n",
    "        \"_source\": [\"PMID\", \"title\", \"content\"]\n",
    "    }\n",
    "\n",
    "    return es.search(index='pubmed_index', body=query)"
   ]
  },
  {
   "cell_type": "code",
   "execution_count": 8,
   "metadata": {},
   "outputs": [],
   "source": [
    "def query_to_vector(text, embedder):\n",
    "    embedding = embedder.embed(text)\n",
    "    return embedding\n",
    "\n",
    "def query(query: str, k: int = 10, url='http://localhost:5000/search'):\n",
    "    vec = query_to_vector(query, embedder).tolist()  # Konvertiere das NumPy-Array in eine Liste\n",
    "    data = {\n",
    "        'queries': [vec],  # Stelle sicher, dass 'queries' eine Liste von Listen ist\n",
    "        'k': k\n",
    "    }\n",
    "    response = requests.post(url, headers={'Content-Type': 'application/json'}, data=json.dumps(data))\n",
    "\n",
    "    return response.json()"
   ]
  },
  {
   "cell_type": "code",
   "execution_count": 10,
   "metadata": {},
   "outputs": [],
   "source": [
    "response = query(\"Identify clinical trials investigating novel treatments for drug-resistant strains of tuberculosis.\", 10)"
   ]
  },
  {
   "cell_type": "code",
   "execution_count": 10,
   "metadata": {},
   "outputs": [
    {
     "name": "stdout",
     "output_type": "stream",
     "text": [
      "Distances: [17.478534698486328, 17.741710662841797, 18.024999618530273, 18.073043823242188, 18.258037567138672, 18.425647735595703, 18.439815521240234, 18.589141845703125, 18.631526947021484, 18.6602840423584]\n",
      "PMIDs: [3150951, 3079288, 1380906, 3299646, 1500394, 1677748, 1336770, 1454973, 1377169, 2162298]\n"
     ]
    }
   ],
   "source": [
    "PMIDs = response['PMIDs'][0]\n",
    "distances = response['distances'][0]\n",
    "\n",
    "print(f\"Distances: {distances}\")\n",
    "print(f\"PMIDs: {PMIDs}\")"
   ]
  },
  {
   "cell_type": "code",
   "execution_count": 15,
   "metadata": {},
   "outputs": [],
   "source": [
    "docs = get_docs_via_PMIDs(PMIDs)"
   ]
  },
  {
   "cell_type": "markdown",
   "metadata": {},
   "source": [
    "Now testing implemented classes"
   ]
  },
  {
   "cell_type": "code",
   "execution_count": 17,
   "metadata": {},
   "outputs": [],
   "source": [
    "from semantic_search_bioBERT import bioBERTretriever\n",
    "retriever = bioBERTretriever()"
   ]
  },
  {
   "cell_type": "markdown",
   "metadata": {},
   "source": [
    "Retrieving 3 most relevant docs "
   ]
  },
  {
   "cell_type": "code",
   "execution_count": 32,
   "metadata": {},
   "outputs": [
    {
     "name": "stdout",
     "output_type": "stream",
     "text": [
      "{\n",
      "    \"doc1\": {\n",
      "        \"PMID\": 1380906,\n",
      "        \"title\": \"Development of effective drug combinations for the inhibition of multiply resistant mycobacteria, especially of the Mycobacterium avium complex.\",\n",
      "        \"content\": \"Rationally designed combinations of rifampicin (RAMP) and thiacetazone plus isonicotinic acid hydrazide and/or ethambutol are highly effective in the treatment of patients (including HIV-positive) infected with multiply resistant mycobacteria of the Mycobacterium avium complex (MAC). Clinical results are very promising. The high efficacy of these combinations is due to the synergistic potentiation of single-drug activities. As soon as rifabutin is marketed, it should replace RAMP in the combination treatment of patients with highly RAMP-resistant MAC bacteria.\"\n",
      "    },\n",
      "    \"doc2\": {\n",
      "        \"PMID\": 3079288,\n",
      "        \"title\": \"Mechanisms and clinical significance of multidrug resistance.\",\n",
      "        \"content\": \"Tumor cells often become refractory to diverse drugs with different mechanisms of cytotoxic action. This paper reviews the current state of our knowledge of multidrug resistance, the limitations of present concepts to fully explain the diversity of the MDR phenotypes, and the clinical relevance of these studies derived largely from cell culture systems. The authors discuss the use of markers associated with the multi-drug resistance phenotype to identify potentially drug-resistant tumors and outline strategies that might be used to overcome the resistance phenomenon.\"\n",
      "    },\n",
      "    \"doc3\": {\n",
      "        \"PMID\": 3150951,\n",
      "        \"title\": \"In vitro activity of antimicrobial agents against mycobacteria.\",\n",
      "        \"content\": \"The aims of this study were to investigate the possible effects of new antimicrobial agents, the conventional antituberculosis drugs and several combinations of these agents against 190 clinical isolates of Mycobacterium tuberculosis and 30 of M. avium.\"\n",
      "    }\n",
      "}\n"
     ]
    }
   ],
   "source": [
    "response = retriever.retrieve_docs(\"Identify clinical trials investigating novel treatments for drug-resistant strains of tuberculosis.\", 3)\n",
    "print(response)"
   ]
  },
  {
   "cell_type": "markdown",
   "metadata": {},
   "source": [
    "Now the BM25 retriever"
   ]
  },
  {
   "cell_type": "code",
   "execution_count": 33,
   "metadata": {},
   "outputs": [],
   "source": [
    "from BM25_search import BM25retriever\n",
    "\n",
    "retriever = BM25retriever()"
   ]
  },
  {
   "cell_type": "code",
   "execution_count": 35,
   "metadata": {},
   "outputs": [
    {
     "name": "stdout",
     "output_type": "stream",
     "text": [
      "{\n",
      "    \"doc1\": {\n",
      "        \"PMID\": 2496635,\n",
      "        \"title\": \"The epidemiologic patterns of drug-resistant Mycobacterium tuberculosis infections: a community-based study.\",\n",
      "        \"content\": \"A community-based study of tuberculosis in Santa Clara County, California was conducted in order to identify community-specific determinants of drug-resistant Mycobacterium tuberculosis infections. From January 1984 through December 1986, 517 verified cases of tuberculosis were reported from the county. Drug susceptibility test results to isoniazid, streptomycin, ethambutol, and rifampin were available for 256 of the 517 cases. The frequency of resistance of M. tuberculosis isolates to one or more drugs was 27% for all cases and 25% for those who had had no previous antituberculosis treatment. Isolates from Asian immigrants had the highest frequencies of resistance (33 to 45%), and the Southeast Asian immigrants had a drug-resistant tuberculosis case rate greater than 30/100,000 population per year. In patients who had cavitary lung disease and who had a previous history of tuberculosis, drug-resistant tuberculosis was 3.5 times as likely to occur than in persons who had neither of these characteristics (p less than 0.001). For such patients, the positive predictive value of isolating resistant M. tuberculosis approached 90%. We believe these community-based findings will guide clinical and public health interventions specifically appropriate for the community.\"\n",
      "    },\n",
      "    \"doc2\": {\n",
      "        \"PMID\": 60080,\n",
      "        \"title\": \"[Experimental and clinical study test of capreomycin].\",\n",
      "        \"content\": \"Data on the experimental and clinical study of capreomycin in the treatment of tuberculosis are presented. It was shown that capreomycin had low activity with respect to the sensitive strain of Mycobacterium tuberculosis H37 Rv in vitro and the respective infection caused by it in mice. The activity of capreomycin in vitro with respect to streptomycin resistant strains was the same as that with respect to the sensitive strains, while in vivo it increased 3 times. Capreomycin showed a tendency to decreasing its activity with respect to strains highely resistant to canamycin only in vitro. The effect of capreomycin on tuberculosis infection caused by strains resistant to different concentrations of canamycin was the same as that on tuberculosis infection caused by sensitive strains. Cross resistance between florimycin (viomycin) and capreomycin was shown. Clinical trails of capreomycin revealed its moderate therapeutic efficiency, relatively low toxicity and an allergenizing effect on the host. Transient ventibulopatia without pronounced signs of ototoxic action was observed. The nephrotoxic effect was moderate and transient. It was observed predominantly at the peak of the allergic reactions to the antitubercle drugs. The data obtained during the study allow recommendation of capreomycin use in clinics as reserve drug when the causative agent is not resistant to florimycin. The drug should be used under regular control of the blood picture, electrolyte metabolism, state of the kidneys, auditory and vestibular apparatus.\"\n",
      "    },\n",
      "    \"doc3\": {\n",
      "        \"PMID\": 101107,\n",
      "        \"title\": \"Primary antituberculous drug resistance in Hawaii, 1957 to 1977.\",\n",
      "        \"content\": \"A study of primary antituberculous drug resistance in Hawaii was conducted from 1957 to 1977 to determine the incidence of primary resistance with respect to time. A total of 1,869 initial cultures of Mycobacterium tuberculosis submitted to Leahi Hospital in Honolulu were screened to identify drug resistance. Of 256 patients who excreted resistant bacilli, only 55 had no history of previous antituberculous chemotherapy. The frequencies of primary drug resistance from July 1957 to July 1977 were as follows: streptomycin, 0.86 per cent; isoniazid, 1.2 per cent; para-aminosalicylic acid, 1.5 per cent. No strains were resistant to ethambutol or rifampin. A slight decrease in the incidence of drug resistance during a 20-year period was observed. This was especially significant because Hawaii's tuberculosis problem is principally confined to its foreighn-born population. Although no serious primary drug resistance problem was discovered, Hawaii possesses both the highest immigration rate and the highest incidence of tuberculosis in the United states. Therefore, there is a need for continued periodic monitoring of drug resistance in Hawaii.\"\n",
      "    }\n",
      "}\n"
     ]
    }
   ],
   "source": [
    "response = retriever.retrieve_docs(\"Identify clinical trials investigating novel treatments for drug-resistant strains of tuberculosis.\", 3)\n",
    "print(response)"
   ]
  },
  {
   "cell_type": "markdown",
   "metadata": {},
   "source": [
    "Now testing the combined RAG system using retriever number 1, semantic similarity search."
   ]
  },
  {
   "cell_type": "code",
   "execution_count": 1,
   "metadata": {},
   "outputs": [
    {
     "data": {
      "text/plain": [
       "'{\"response\": [{\"trial_title\": \"Development of effective drug combinations for the inhibition of multiply resistant mycobacteria, especially of the Mycobacterium avium complex\", \"trial_status\": \"Clinical results are very promising\", \"PMID\": 1380906}, {\"trial_title\": \"A new, highly synergistic drug combination for the treatment of infections with multiresistant mycobacteria, especially the mycobacterium avium complex\", \"trial_status\": \"Clinical results are very promising\", \"PMID\": 1377169}], \"used_PMIDs\": [1380906, 1377169], \"PMIDs\": [1380906, 1377169, 1500394, 1454973, 3299646, 1336770, 3079288, 3150951, 2162298, 1677748]}'"
      ]
     },
     "execution_count": 1,
     "metadata": {},
     "output_type": "execute_result"
    }
   ],
   "source": [
    "from RAG import RAG\n",
    "\n",
    "rag = RAG(retriever=1, question_type=1)\n",
    "\n",
    "rag.get_answer(\"Identify clinical trials investigating novel treatments for drug-resistant strains of tuberculosis.\")"
   ]
  }
 ],
 "metadata": {
  "kernelspec": {
   "display_name": "Python 3",
   "language": "python",
   "name": "python3"
  },
  "language_info": {
   "codemirror_mode": {
    "name": "ipython",
    "version": 3
   },
   "file_extension": ".py",
   "mimetype": "text/x-python",
   "name": "python",
   "nbconvert_exporter": "python",
   "pygments_lexer": "ipython3",
   "version": "3.10.12"
  }
 },
 "nbformat": 4,
 "nbformat_minor": 2
}
