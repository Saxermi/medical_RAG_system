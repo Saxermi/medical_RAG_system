{
 "cells": [
  {
   "cell_type": "code",
   "execution_count": null,
   "id": "initial_id",
   "metadata": {
    "collapsed": true
   },
   "outputs": [],
   "source": [
    "import pandas as pd\n",
    "\n",
    "data = pd.read_csv('data/corpus.csv')\n",
    "data.head()"
   ]
  },
  {
   "cell_type": "code",
   "outputs": [],
   "source": [
    "del data['_id']\n",
    "del data['id']\n",
    "\n"
   ],
   "metadata": {
    "collapsed": false
   },
   "id": "6f9fd38f31fa05d4",
   "execution_count": null
  },
  {
   "cell_type": "code",
   "outputs": [],
   "source": [
    "data_new = data[['title', 'overview','source',  'url', 'clean_text', 'raw_text']]\n",
    "\n",
    "\n",
    "data_new\n",
    "# save to csv\n",
    "#data_new.to_csv('data/corpus_clean.csv', index=False)"
   ],
   "metadata": {
    "collapsed": false
   },
   "id": "4236bd88aed6e6c7",
   "execution_count": null
  },
  {
   "cell_type": "code",
   "outputs": [
    {
     "data": {
      "text/plain": "      title overview   source                                        url  \\\n0       NaN      NaN      cco                                        NaN   \n1       NaN      NaN      cco                                        NaN   \n2       NaN      NaN      cco                                        NaN   \n3       NaN      NaN      cco                                        NaN   \n4       NaN      NaN      cco                                        NaN   \n...     ...      ...      ...                                        ...   \n37965   ZP4      NaN  wikidoc      https://www.wikidoc.org/index.php/ZP4   \n37966    pH      NaN  wikidoc  https://www.wikidoc.org/index.php/Neutral   \n37967    Rb      NaN  wikidoc       https://www.wikidoc.org/index.php/Rb   \n37968    SB      NaN  wikidoc       https://www.wikidoc.org/index.php/SB   \n37969    WD      NaN  wikidoc       https://www.wikidoc.org/index.php/WD   \n\n                                              clean_text  \\\n0      # QUESTIONS Diagnosis/Staging\\nWhat benefit to...   \n1      # GUIDELINE OBJECTIVES\\nTo update clinical gui...   \n2      # GUIDELINE OBJECTIVES\\nTo make recommendation...   \n3      Evidence-Based Series 4-5 is CURRENT as of Nov...   \n4      # GUIDELINE OBJECTIVES\\nTo make recommendation...   \n...                                                  ...   \n37965  ZP4\\nZona pellucida sperm-binding protein 4, Z...   \n37966  pH\\n- Acid-base extraction\\n- Acid-base reacti...   \n37967  Rb\\nRB or Rb may stand for:\\n- the chemical el...   \n37968  SB\\n\\n# Curators\\nAnyone should feel free to a...   \n37969  WD\\nWhat are you looking for?\\n- Warty dyskera...   \n\n                                                raw_text  \n0      # QUESTIONS Diagnosis/Staging\\nWhat benefit to...  \n1      This report is copyrighted by Ontario Health (...  \n2      This report is copyrighted by Cancer Care Onta...  \n3      Evidence-Based Series 4-5 is CURRENT as of Nov...  \n4      # GUIDELINE OBJECTIVES\\nTo make recommendation...  \n...                                                  ...  \n37965  ZP4\\n\\nZona pellucida sperm-binding protein 4,...  \n37966  pH\\n\\nEditor-In-Chief: C. Michael Gibson, M.S....  \n37967  Rb\\n\\nRB or Rb may stand for:\\n- the chemical ...  \n37968  SB\\n\\n# Curators\\nAnyone should feel free to a...  \n37969  WD\\n\\nEditor-In-Chief: C. Michael Gibson, M.S....  \n\n[37970 rows x 6 columns]",
      "text/html": "<div>\n<style scoped>\n    .dataframe tbody tr th:only-of-type {\n        vertical-align: middle;\n    }\n\n    .dataframe tbody tr th {\n        vertical-align: top;\n    }\n\n    .dataframe thead th {\n        text-align: right;\n    }\n</style>\n<table border=\"1\" class=\"dataframe\">\n  <thead>\n    <tr style=\"text-align: right;\">\n      <th></th>\n      <th>title</th>\n      <th>overview</th>\n      <th>source</th>\n      <th>url</th>\n      <th>clean_text</th>\n      <th>raw_text</th>\n    </tr>\n  </thead>\n  <tbody>\n    <tr>\n      <th>0</th>\n      <td>NaN</td>\n      <td>NaN</td>\n      <td>cco</td>\n      <td>NaN</td>\n      <td># QUESTIONS Diagnosis/Staging\\nWhat benefit to...</td>\n      <td># QUESTIONS Diagnosis/Staging\\nWhat benefit to...</td>\n    </tr>\n    <tr>\n      <th>1</th>\n      <td>NaN</td>\n      <td>NaN</td>\n      <td>cco</td>\n      <td>NaN</td>\n      <td># GUIDELINE OBJECTIVES\\nTo update clinical gui...</td>\n      <td>This report is copyrighted by Ontario Health (...</td>\n    </tr>\n    <tr>\n      <th>2</th>\n      <td>NaN</td>\n      <td>NaN</td>\n      <td>cco</td>\n      <td>NaN</td>\n      <td># GUIDELINE OBJECTIVES\\nTo make recommendation...</td>\n      <td>This report is copyrighted by Cancer Care Onta...</td>\n    </tr>\n    <tr>\n      <th>3</th>\n      <td>NaN</td>\n      <td>NaN</td>\n      <td>cco</td>\n      <td>NaN</td>\n      <td>Evidence-Based Series 4-5 is CURRENT as of Nov...</td>\n      <td>Evidence-Based Series 4-5 is CURRENT as of Nov...</td>\n    </tr>\n    <tr>\n      <th>4</th>\n      <td>NaN</td>\n      <td>NaN</td>\n      <td>cco</td>\n      <td>NaN</td>\n      <td># GUIDELINE OBJECTIVES\\nTo make recommendation...</td>\n      <td># GUIDELINE OBJECTIVES\\nTo make recommendation...</td>\n    </tr>\n    <tr>\n      <th>...</th>\n      <td>...</td>\n      <td>...</td>\n      <td>...</td>\n      <td>...</td>\n      <td>...</td>\n      <td>...</td>\n    </tr>\n    <tr>\n      <th>37965</th>\n      <td>ZP4</td>\n      <td>NaN</td>\n      <td>wikidoc</td>\n      <td>https://www.wikidoc.org/index.php/ZP4</td>\n      <td>ZP4\\nZona pellucida sperm-binding protein 4, Z...</td>\n      <td>ZP4\\n\\nZona pellucida sperm-binding protein 4,...</td>\n    </tr>\n    <tr>\n      <th>37966</th>\n      <td>pH</td>\n      <td>NaN</td>\n      <td>wikidoc</td>\n      <td>https://www.wikidoc.org/index.php/Neutral</td>\n      <td>pH\\n- Acid-base extraction\\n- Acid-base reacti...</td>\n      <td>pH\\n\\nEditor-In-Chief: C. Michael Gibson, M.S....</td>\n    </tr>\n    <tr>\n      <th>37967</th>\n      <td>Rb</td>\n      <td>NaN</td>\n      <td>wikidoc</td>\n      <td>https://www.wikidoc.org/index.php/Rb</td>\n      <td>Rb\\nRB or Rb may stand for:\\n- the chemical el...</td>\n      <td>Rb\\n\\nRB or Rb may stand for:\\n- the chemical ...</td>\n    </tr>\n    <tr>\n      <th>37968</th>\n      <td>SB</td>\n      <td>NaN</td>\n      <td>wikidoc</td>\n      <td>https://www.wikidoc.org/index.php/SB</td>\n      <td>SB\\n\\n# Curators\\nAnyone should feel free to a...</td>\n      <td>SB\\n\\n# Curators\\nAnyone should feel free to a...</td>\n    </tr>\n    <tr>\n      <th>37969</th>\n      <td>WD</td>\n      <td>NaN</td>\n      <td>wikidoc</td>\n      <td>https://www.wikidoc.org/index.php/WD</td>\n      <td>WD\\nWhat are you looking for?\\n- Warty dyskera...</td>\n      <td>WD\\n\\nEditor-In-Chief: C. Michael Gibson, M.S....</td>\n    </tr>\n  </tbody>\n</table>\n<p>37970 rows × 6 columns</p>\n</div>"
     },
     "execution_count": 9,
     "metadata": {},
     "output_type": "execute_result"
    }
   ],
   "source": [
    "pd.read_csv('data/corpus_clean.csv', sep=\",\")"
   ],
   "metadata": {
    "collapsed": false,
    "ExecuteTime": {
     "end_time": "2024-03-10T02:00:10.347380Z",
     "start_time": "2024-03-10T01:59:58.607311Z"
    }
   },
   "id": "1333cf17eac40c95",
   "execution_count": 9
  },
  {
   "cell_type": "code",
   "outputs": [
    {
     "data": {
      "text/plain": "'Linus ist der geilste!!'"
     },
     "execution_count": 1,
     "metadata": {},
     "output_type": "execute_result"
    }
   ],
   "source": [
    "# hallo linus ist schön\n",
    "\n",
    "def sage_die_wahrheit(name):\n",
    "    \"\"\"\n",
    "    Diese Funktion sagt die Wahrheit!!!\n",
    "    :param name: \n",
    "    :return: \n",
    "    \"\"\"\n",
    "    return f\"{name} ist der geilste!!\"\n",
    "\n",
    "sage_die_wahrheit(\"Linus\")"
   ],
   "metadata": {
    "collapsed": false,
    "ExecuteTime": {
     "end_time": "2024-03-10T14:10:18.966858Z",
     "start_time": "2024-03-10T14:10:18.953928Z"
    }
   },
   "id": "10808056fd385b97",
   "execution_count": 1
  },
  {
   "cell_type": "code",
   "outputs": [],
   "source": [
    "sage_die_wahrheit()"
   ],
   "metadata": {
    "collapsed": false
   },
   "id": "5d2b6d197ddb7924"
  }
 ],
 "metadata": {
  "kernelspec": {
   "display_name": "Python 3",
   "language": "python",
   "name": "python3"
  },
  "language_info": {
   "codemirror_mode": {
    "name": "ipython",
    "version": 2
   },
   "file_extension": ".py",
   "mimetype": "text/x-python",
   "name": "python",
   "nbconvert_exporter": "python",
   "pygments_lexer": "ipython2",
   "version": "2.7.6"
  }
 },
 "nbformat": 4,
 "nbformat_minor": 5
}
