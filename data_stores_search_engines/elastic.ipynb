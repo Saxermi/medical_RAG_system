{
 "cells": [
  {
   "cell_type": "code",
   "outputs": [
    {
     "name": "stderr",
     "output_type": "stream",
     "text": [
      "C:\\Users\\linus\\anaconda3\\Lib\\site-packages\\elasticsearch\\_sync\\client\\__init__.py:399: SecurityWarning: Connecting to 'https://localhost:9200' using TLS with verify_certs=False is insecure\n",
      "  _transport = transport_class(\n"
     ]
    }
   ],
   "source": [
    "import json\n",
    "from elasticsearch import Elasticsearch, helpers\n",
    "import urllib3\n",
    "import os\n",
    "\n",
    "\n",
    "elstic_password = os.getenv('ELASTIC_PASSWORD')\n",
    "\n",
    "es = Elasticsearch(\n",
    "    ['https://localhost:9200'],\n",
    "    basic_auth=('elastic', elstic_password),\n",
    "    verify_certs=False\n",
    ")\n",
    "\n",
    "urllib3.disable_warnings()"
   ],
   "metadata": {
    "collapsed": false,
    "ExecuteTime": {
     "end_time": "2024-04-03T16:11:05.663899Z",
     "start_time": "2024-04-03T16:11:04.680435Z"
    }
   },
   "id": "c730151aee91dee3",
   "execution_count": 1
  },
  {
   "cell_type": "markdown",
   "source": [
    "### Indexing Documents into Elasticsearch"
   ],
   "metadata": {
    "collapsed": false
   },
   "id": "10fce807d038bfdc"
  },
  {
   "cell_type": "markdown",
   "source": [
    "### Indexing Documents with Embeddings into Elasticsearch for Vector Similarity Search"
   ],
   "metadata": {
    "collapsed": false
   },
   "id": "a2769980d775a70d"
  },
  {
   "cell_type": "markdown",
   "source": [
    "initialize the index with the appropriate mapping for the dense vector field."
   ],
   "metadata": {
    "collapsed": false
   },
   "id": "d35e8d0e15557047"
  },
  {
   "cell_type": "code",
   "outputs": [],
   "source": [
    "# drop the index if it already exists\n",
    "# if es.indices.exists(index='pubmed_emb_index'):\n",
    "#    es.indices.delete(index='pubmed_emb_index')"
   ],
   "metadata": {
    "collapsed": false,
    "ExecuteTime": {
     "end_time": "2024-04-03T16:19:37.599375Z",
     "start_time": "2024-04-03T16:19:37.220892Z"
    }
   },
   "id": "a4809b06942eaf91",
   "execution_count": 5
  },
  {
   "cell_type": "code",
   "outputs": [],
   "source": [
    "# Define the index name\n",
    "index_name = \"pubmed_emb_index\"\n",
    "\n",
    "# Check if the index already exists\n",
    "if not es.indices.exists(index=index_name):\n",
    "    # Define the mapping\n",
    "    mapping = {\n",
    "        \"mappings\": {\n",
    "            \"properties\": {\n",
    "                \"embeddings\": {\"type\": \"dense_vector\", \"dims\": 768}  # Adjust the dimension size as needed\n",
    "                # Add other field mappings as necessary\n",
    "            }\n",
    "        }\n",
    "    }\n",
    "    \n",
    "    # Create the index with the defined mapping\n",
    "    es.indices.create(index=index_name, body=mapping)"
   ],
   "metadata": {
    "collapsed": false,
    "ExecuteTime": {
     "end_time": "2024-04-03T16:19:39.366146Z",
     "start_time": "2024-04-03T16:19:38.812582Z"
    }
   },
   "id": "e950a01927be6bdd",
   "execution_count": 6
  },
  {
   "cell_type": "markdown",
   "source": [
    "load the JSONL files containing the PubMed documents, extract the embeddings, and index the documents into Elasticsearch."
   ],
   "metadata": {
    "collapsed": false
   },
   "id": "d299505c678d88c3"
  },
  {
   "cell_type": "code",
   "outputs": [
    {
     "name": "stderr",
     "output_type": "stream",
     "text": [
      "100%|██████████| 50/50 [31:25<00:00, 37.71s/it]\n"
     ]
    },
    {
     "name": "stdout",
     "output_type": "stream",
     "text": [
      "Indexing complete\n"
     ]
    }
   ],
   "source": [
    "from pathlib import Path\n",
    "import os\n",
    "import json\n",
    "from tqdm import tqdm\n",
    "\n",
    "# Definieren Sie den Pfad zum Quellverzeichnis\n",
    "source_directory = Path('C:/Users/linus/big_data/pubmed/chunk_embedded/')\n",
    "\n",
    "index_name = \"pubmed_emb_index\"\n",
    "\n",
    "def bulk_index_documents(source_directory, index_name):\n",
    "    if not source_directory.exists():\n",
    "        print(\"The source directory does not exist.\")\n",
    "        return\n",
    "\n",
    "    actions = []  # Eine Liste, um die zu indexierenden Dokumente zu speichern\n",
    "\n",
    "    # Iterieren durch jede Datei im Quellverzeichnis\n",
    "    for file_name in tqdm(os.listdir(source_directory)):\n",
    "        if file_name.endswith('.jsonl'):\n",
    "            source_file = source_directory / file_name\n",
    "            \n",
    "            # Öffnen und Lesen der JSONL-Datei, die die PubMed-Dokumente enthält\n",
    "            with open(source_file, 'r') as json_file:\n",
    "                for line in json_file:\n",
    "                    try:\n",
    "                        doc = json.loads(line)\n",
    "                        action = {\n",
    "                            \"_index\": index_name,\n",
    "                            \"_source\": doc\n",
    "                        }\n",
    "                        actions.append(action)\n",
    "\n",
    "                        # Wenn die Anzahl der gesammelten Dokumente 200 erreicht, führen Sie die Bulk-Operation aus\n",
    "                        if len(actions) == 400:\n",
    "                            helpers.bulk(es, actions)\n",
    "                            actions = []  # Zurücksetzen der Aktionen für den nächsten Batch\n",
    "                    except json.JSONDecodeError as e:\n",
    "                        print(f\"Error decoding JSON: {e}\")\n",
    "                    except Exception as e:\n",
    "                        print(f\"An error occurred: {e}\")\n",
    "\n",
    "    # Indexieren Sie alle verbleibenden Dokumente\n",
    "    if actions:\n",
    "        helpers.bulk(es, actions)\n",
    "\n",
    "    print('Indexing complete')\n",
    "\n",
    "# Rufen Sie die Funktion auf, um die Dokumente zu indizieren\n",
    "bulk_index_documents(source_directory, index_name)"
   ],
   "metadata": {
    "collapsed": false,
    "ExecuteTime": {
     "end_time": "2024-04-03T17:06:11.446449Z",
     "start_time": "2024-04-03T16:34:43.000210Z"
    }
   },
   "id": "7a60983235cd1e2b",
   "execution_count": 7
  },
  {
   "cell_type": "code",
   "outputs": [
    {
     "name": "stdout",
     "output_type": "stream",
     "text": [
      "Index contains 50 JSONL Chunks with 709071 documents.\n"
     ]
    }
   ],
   "source": [
    "count_result = es.count(index='pubmed_emb_index')\n",
    "\n",
    "# Print the count\n",
    "print(f\"Index contains 50 JSONL Chunks with {count_result['count']} documents.\")"
   ],
   "metadata": {
    "collapsed": false,
    "ExecuteTime": {
     "end_time": "2024-04-03T17:06:17.869464Z",
     "start_time": "2024-04-03T17:06:14.398720Z"
    }
   },
   "id": "30f73281bec8ed96",
   "execution_count": 8
  },
  {
   "cell_type": "code",
   "outputs": [
    {
     "name": "stdout",
     "output_type": "stream",
     "text": [
      "Die Größe des Indexes ist 20.13 GB.\n"
     ]
    }
   ],
   "source": [
    "response = es.indices.stats(index='pubmed_emb_index')\n",
    "index_size = response['_all']['total']['store']['size_in_bytes']\n",
    "\n",
    "print(f\"Die Größe des Indexes ist {round(index_size/1000000000, 2)} GB.\")"
   ],
   "metadata": {
    "collapsed": false,
    "ExecuteTime": {
     "end_time": "2024-04-03T17:07:39.776655Z",
     "start_time": "2024-04-03T17:07:38.598354Z"
    }
   },
   "id": "6980954f4300fb66",
   "execution_count": 11
  },
  {
   "cell_type": "markdown",
   "source": [
    "### Define query functions for BM25 and Vector Similarity Search"
   ],
   "metadata": {
    "collapsed": false
   },
   "id": "2b4b89dea2ad760a"
  },
  {
   "cell_type": "markdown",
   "source": [
    "Define a function to perform a BM25 search using the match query."
   ],
   "metadata": {
    "collapsed": false
   },
   "id": "74ff19354036d83e"
  },
  {
   "cell_type": "code",
   "outputs": [],
   "source": [
    "# Define a search query\n",
    "def bm25_search(query: str, k: int = 5):\n",
    "    query = {\n",
    "        \"size\": k,\n",
    "        \"query\": {\n",
    "            \"match\": {\n",
    "                \"content\": f\"{query}\"\n",
    "            }\n",
    "        }\n",
    "    }\n",
    "    # Elasticsearch nutzt standardmässig das BM25-Modell, um die Relevanz der Dokumente zu berechnen\n",
    "    return es.search(index='pubmed_index', body=query)"
   ],
   "metadata": {
    "collapsed": false,
    "ExecuteTime": {
     "end_time": "2024-04-03T17:07:50.548190Z",
     "start_time": "2024-04-03T17:07:50.542457Z"
    }
   },
   "id": "a8b7d1839dd7516e",
   "execution_count": 12
  },
  {
   "cell_type": "markdown",
   "source": [
    "Initialize the text embedder and define a function to convert a query to a vector using the bioBERT embeddings."
   ],
   "metadata": {
    "collapsed": false
   },
   "id": "cdbfcb84384f18e3"
  },
  {
   "cell_type": "code",
   "outputs": [],
   "source": [
    "from Embedding import TextEmbedder\n",
    "embedder = TextEmbedder()"
   ],
   "metadata": {
    "collapsed": false,
    "ExecuteTime": {
     "end_time": "2024-04-03T17:08:05.414004Z",
     "start_time": "2024-04-03T17:07:52.747745Z"
    }
   },
   "id": "80056f1d5cc203c7",
   "execution_count": 13
  },
  {
   "cell_type": "markdown",
   "source": [
    "Define a function to perform a vector similarity search using the cosine similarity between the query vector and the embeddings in the indexed documents."
   ],
   "metadata": {
    "collapsed": false
   },
   "id": "ee9caf6f0f31f667"
  },
  {
   "cell_type": "code",
   "outputs": [],
   "source": [
    "def query_to_vector(text, embedder):\n",
    "    embedding = embedder.embed(text)\n",
    "    return embedding\n",
    "\n",
    "\n",
    "def cosine_similarity(index, query: str, k: int = 5):\n",
    "    query_vector = query_to_vector(query, embedder)\n",
    "    \n",
    "    query = {\n",
    "        \"size\": k,  # Anzahl der zurückzugebenden Ergebnisse\n",
    "        \"query\": {\n",
    "            \"script_score\": {\n",
    "                \"query\": {\"match_all\": {}},  # Sie können dies durch eine spezifischere Abfrage ersetzen\n",
    "                \"script\": {\n",
    "                    \"source\": \"cosineSimilarity(params.query_vector, 'embeddings') + 1.0\",\n",
    "                    # +1.0, um sicherzustellen, dass alle Werte positiv sind\n",
    "                    \"params\": {\"query_vector\": query_vector}\n",
    "                }\n",
    "            }\n",
    "        }\n",
    "    }\n",
    "    # Elasticsearch nutzt standardmässig das BM25-Modell, um die Relevanz der Dokumente zu berechnen\n",
    "    return es.search(index=index, body=query)"
   ],
   "metadata": {
    "collapsed": false,
    "ExecuteTime": {
     "end_time": "2024-04-03T17:09:28.804814Z",
     "start_time": "2024-04-03T17:09:28.796765Z"
    }
   },
   "id": "4289e94287d7f612",
   "execution_count": 14
  },
  {
   "cell_type": "markdown",
   "source": [
    "#### Perform BM25 and Vector Similarity Searches\n",
    "\n",
    "first, perform a BM25 search using the match query."
   ],
   "metadata": {
    "collapsed": false
   },
   "id": "77a8d3794968c862"
  },
  {
   "cell_type": "code",
   "outputs": [
    {
     "name": "stdout",
     "output_type": "stream",
     "text": [
      "Score: 25.100676, PMID: 286303, Title: Molecules in mammalian brain that interact with the colchicine site on tubulin.\n",
      "Score: 17.860699, PMID: 83828, Title: Interaction of phenolsulphonphthalein dyes with rabbit plasma and rabbit serum albumin.\n",
      "Score: 17.588778, PMID: 33989, Title: Regulation of adenylate cyclase of neuroblastoma x glioma hybrid cells by alpha-adrenergic receptors. I. Inhibition of adenylate cyclase mediated by alpha receptors.\n",
      "Score: 16.900421, PMID: 277503, Title: Effect of perceived control on stress reduction in adult dental patients.\n",
      "Score: 16.361063, PMID: 278976, Title: Functional consequences of ligand-dependent conformational changes in trypsin-solubilized and in membrane particle constrained-acetylcholinesterase.\n",
      "Score: 16.233095, PMID: 95173, Title: A theoretical model for adhesion between cells mediated by multivalent ligands.\n",
      "Score: 15.64755, PMID: 74731, Title: Corticotropin-like peptides in central nerves and in endocrine cells of gut and pancreas.\n",
      "Score: 15.407414, PMID: 213175, Title: Ligand binding studies in the mouse olfactory bulb: identification and characterization of a L-[3H]carnosine binding site.\n",
      "Score: 15.32152, PMID: 184097, Title: Species-specific aggregation factor in sponges. VI. Aggregation receptor from the cell surface.\n",
      "Score: 15.284029, PMID: 219298, Title: Photolabile and paramagnetic reagents for the investigation of transmembrane signaling events.\n"
     ]
    }
   ],
   "source": [
    "# Perform a search\n",
    "results = bm25_search(\"List signaling molecules (ligands) that interact with the receptor EGFR?\", k=10)\n",
    "\n",
    "# Print the results\n",
    "for hit in results['hits']['hits']:\n",
    "    print(f\"Score: {hit['_score']}, PMID: {hit['_source']['PMID']}, Title: {hit['_source']['title']}\") "
   ],
   "metadata": {
    "collapsed": false,
    "ExecuteTime": {
     "end_time": "2024-04-03T17:11:47.547732Z",
     "start_time": "2024-04-03T17:11:45.526893Z"
    }
   },
   "id": "c0fb79a6987ade47",
   "execution_count": 17
  },
  {
   "cell_type": "markdown",
   "source": [
    "#### Vector Similarity Search\n",
    "now, perform a vector similarity search using the cosine similarity between the query vector and the embeddings in the indexed documents."
   ],
   "metadata": {
    "collapsed": false
   },
   "id": "9a62e36cc0abb119"
  },
  {
   "cell_type": "code",
   "outputs": [
    {
     "name": "stdout",
     "output_type": "stream",
     "text": [
      "Score: 1.9210962,  PMID: 1501243, Title: Epidermal growth factor receptor: elements of intracellular communication.\n",
      "Score: 1.9161748,  PMID: 1329870, Title: The junction between cytokines and cell adhesion.\n",
      "Score: 1.9159176,  PMID: 1368709, Title: Analysing lymphokine-receptor interactions of IL-1 and IL-2 by recombinant-DNA technology.\n",
      "Score: 1.9153762,  PMID: 1283879, Title: The role of integrin adhesion receptors in gingival wound healing.\n",
      "Score: 1.9147724,  PMID: 1476596, Title: Candidate natural killer cell receptors.\n",
      "Score: 1.914465,  PMID: 1356015, Title: The role of erbB-2 and its ligands in growth control of malignant breast epithelium.\n",
      "Score: 1.9139742,  PMID: 1421421, Title: Can the insulin-like growth factors regulate breast cancer growth?\n",
      "Score: 1.9132408,  PMID: 233264, Title: Hormonal regulation of peptide receptors and target cell responses.\n",
      "Score: 1.9123619,  PMID: 1374612, Title: The mechanism of action of cyclosporin A and FK506.\n",
      "Score: 1.911896,  PMID: 1462099, Title: Growth factors and bladder cancer: clinical implications of the interactions between growth factors and their urothelial receptors.\n"
     ]
    }
   ],
   "source": [
    "# Define the index name\n",
    "index_name = \"pubmed_emb_index\"\n",
    "\n",
    "# Führen Sie die Abfrage aus\n",
    "results = cosine_similarity(index_name, \"List signaling molecules (ligands) that interact with the receptor EGFR?\", k=10)\n",
    "\n",
    "for hit in results['hits']['hits']:\n",
    "    print(f\"Score: {hit['_score']},  PMID: {hit['_source']['PMID']}, Title: {hit['_source']['title']}\")"
   ],
   "metadata": {
    "collapsed": false,
    "ExecuteTime": {
     "end_time": "2024-04-03T17:12:05.789206Z",
     "start_time": "2024-04-03T17:12:02.555367Z"
    }
   },
   "id": "ba4255f7153a989e",
   "execution_count": 18
  }
 ],
 "metadata": {
  "kernelspec": {
   "display_name": "Python 3",
   "language": "python",
   "name": "python3"
  },
  "language_info": {
   "codemirror_mode": {
    "name": "ipython",
    "version": 2
   },
   "file_extension": ".py",
   "mimetype": "text/x-python",
   "name": "python",
   "nbconvert_exporter": "python",
   "pygments_lexer": "ipython2",
   "version": "2.7.6"
  }
 },
 "nbformat": 4,
 "nbformat_minor": 5
}
