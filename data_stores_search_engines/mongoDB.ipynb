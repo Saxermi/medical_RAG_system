{
 "cells": [
  {
   "cell_type": "code",
   "execution_count": 1,
   "id": "initial_id",
   "metadata": {
    "collapsed": true,
    "ExecuteTime": {
     "end_time": "2024-04-03T08:50:13.436932Z",
     "start_time": "2024-04-03T08:50:12.160210Z"
    }
   },
   "outputs": [],
   "source": [
    "from pymongo import MongoClient\n",
    "import json\n",
    "from tqdm import tqdm"
   ]
  },
  {
   "cell_type": "markdown",
   "source": [
    "Load data into MongoDB"
   ],
   "metadata": {
    "collapsed": false
   },
   "id": "41bf4d903fe9fe87"
  },
  {
   "cell_type": "code",
   "outputs": [
    {
     "name": "stderr",
     "output_type": "stream",
     "text": [
      "100%|██████████| 100/100 [21:06<00:00, 12.66s/it]"
     ]
    },
    {
     "name": "stdout",
     "output_type": "stream",
     "text": [
      "Indexing complete\n"
     ]
    },
    {
     "name": "stderr",
     "output_type": "stream",
     "text": [
      "\n"
     ]
    }
   ],
   "source": [
    "from pymongo import MongoClient\n",
    "from pathlib import Path\n",
    "import os\n",
    "import json\n",
    "from tqdm import tqdm\n",
    "\n",
    "# Connect to MongoDB\n",
    "client = MongoClient('localhost', 27017)\n",
    "db = client['RAG']\n",
    "collection = db['PubMedEmbedded']\n",
    "\n",
    "# Define the path for the source directory\n",
    "source_directory = Path('C:/Users/linus/big_data/pubmed/first100JSONLembedded/')\n",
    "\n",
    "# Check if the source directory exists\n",
    "if not source_directory.exists():\n",
    "    print(\"The source directory does not exist.\")\n",
    "else:\n",
    "    # Iterate through each file in the source directory\n",
    "    for file_name in tqdm(os.listdir(source_directory)):\n",
    "        if file_name.endswith('.jsonl'):\n",
    "            source_file = source_directory / file_name\n",
    "            \n",
    "            # Create a list to store the documents\n",
    "            documents = []\n",
    "            \n",
    "            # Open and read the JSONL file containing the PubMed documents\n",
    "            with open(source_file, 'r') as json_file:\n",
    "                for line in json_file:\n",
    "                    data = json.loads(line)\n",
    "                    documents.append(data)\n",
    "                    \n",
    "                    if len(documents) == 1000: # Bulk loading 1000 docs\n",
    "                        collection.insert_many(documents)\n",
    "                        documents = []  # Clear the list after insertion\n",
    "\n",
    "            # Insert any remaining documents\n",
    "            if documents:\n",
    "                collection.insert_many(documents)\n",
    "\n",
    "print(\"Indexing complete\")"
   ],
   "metadata": {
    "collapsed": false,
    "ExecuteTime": {
     "end_time": "2024-04-03T17:11:48.134726Z",
     "start_time": "2024-04-03T16:50:41.744323Z"
    }
   },
   "id": "6bad61c2e39234fc",
   "execution_count": 30
  },
  {
   "cell_type": "code",
   "outputs": [
    {
     "name": "stdout",
     "output_type": "stream",
     "text": [
      "Es gibt 1795307 Dokumente in der Sammlung.\n"
     ]
    }
   ],
   "source": [
    "doc_count = collection.count_documents({})\n",
    "print(f\"Es gibt {doc_count} Dokumente in der Sammlung.\")"
   ],
   "metadata": {
    "collapsed": false,
    "ExecuteTime": {
     "end_time": "2024-04-03T17:17:13.634318Z",
     "start_time": "2024-04-03T17:16:11.919099Z"
    }
   },
   "id": "2e0cce65d8c54828",
   "execution_count": 31
  },
  {
   "cell_type": "code",
   "outputs": [
    {
     "ename": "OperationFailure",
     "evalue": "text index required for $text query, full error: {'ok': 0.0, 'errmsg': 'text index required for $text query', 'code': 27, 'codeName': 'IndexNotFound'}",
     "output_type": "error",
     "traceback": [
      "\u001B[1;31m---------------------------------------------------------------------------\u001B[0m",
      "\u001B[1;31mOperationFailure\u001B[0m                          Traceback (most recent call last)",
      "Cell \u001B[1;32mIn[33], line 18\u001B[0m\n\u001B[0;32m     15\u001B[0m     \u001B[38;5;28;01mreturn\u001B[39;00m results\n\u001B[0;32m     17\u001B[0m pmid_liste \u001B[38;5;241m=\u001B[39m search_TF_IDF(\u001B[38;5;124m\"\u001B[39m\u001B[38;5;124mList signaling molecules (ligands) that interact with the receptor EGFR?\u001B[39m\u001B[38;5;124m\"\u001B[39m)\n\u001B[1;32m---> 18\u001B[0m \u001B[38;5;28;01mfor\u001B[39;00m i \u001B[38;5;129;01min\u001B[39;00m pmid_liste:\n\u001B[0;32m     19\u001B[0m     \u001B[38;5;28mprint\u001B[39m(i[\u001B[38;5;124m'\u001B[39m\u001B[38;5;124mPMID\u001B[39m\u001B[38;5;124m'\u001B[39m])\n",
      "File \u001B[1;32m~\\anaconda3\\Lib\\site-packages\\pymongo\\cursor.py:1264\u001B[0m, in \u001B[0;36mCursor.next\u001B[1;34m(self)\u001B[0m\n\u001B[0;32m   1262\u001B[0m \u001B[38;5;28;01mif\u001B[39;00m \u001B[38;5;28mself\u001B[39m\u001B[38;5;241m.\u001B[39m__empty:\n\u001B[0;32m   1263\u001B[0m     \u001B[38;5;28;01mraise\u001B[39;00m \u001B[38;5;167;01mStopIteration\u001B[39;00m\n\u001B[1;32m-> 1264\u001B[0m \u001B[38;5;28;01mif\u001B[39;00m \u001B[38;5;28mlen\u001B[39m(\u001B[38;5;28mself\u001B[39m\u001B[38;5;241m.\u001B[39m__data) \u001B[38;5;129;01mor\u001B[39;00m \u001B[38;5;28mself\u001B[39m\u001B[38;5;241m.\u001B[39m_refresh():\n\u001B[0;32m   1265\u001B[0m     \u001B[38;5;28;01mreturn\u001B[39;00m \u001B[38;5;28mself\u001B[39m\u001B[38;5;241m.\u001B[39m__data\u001B[38;5;241m.\u001B[39mpopleft()\n\u001B[0;32m   1266\u001B[0m \u001B[38;5;28;01melse\u001B[39;00m:\n",
      "File \u001B[1;32m~\\anaconda3\\Lib\\site-packages\\pymongo\\cursor.py:1181\u001B[0m, in \u001B[0;36mCursor._refresh\u001B[1;34m(self)\u001B[0m\n\u001B[0;32m   1159\u001B[0m         \u001B[38;5;28;01mraise\u001B[39;00m InvalidOperation(\n\u001B[0;32m   1160\u001B[0m             \u001B[38;5;124m\"\u001B[39m\u001B[38;5;124mPassing a \u001B[39m\u001B[38;5;124m'\u001B[39m\u001B[38;5;124mhint\u001B[39m\u001B[38;5;124m'\u001B[39m\u001B[38;5;124m is required when using the min/max query\u001B[39m\u001B[38;5;124m\"\u001B[39m\n\u001B[0;32m   1161\u001B[0m             \u001B[38;5;124m\"\u001B[39m\u001B[38;5;124m option to ensure the query utilizes the correct index\u001B[39m\u001B[38;5;124m\"\u001B[39m\n\u001B[0;32m   1162\u001B[0m         )\n\u001B[0;32m   1163\u001B[0m     q \u001B[38;5;241m=\u001B[39m \u001B[38;5;28mself\u001B[39m\u001B[38;5;241m.\u001B[39m_query_class(\n\u001B[0;32m   1164\u001B[0m         \u001B[38;5;28mself\u001B[39m\u001B[38;5;241m.\u001B[39m__query_flags,\n\u001B[0;32m   1165\u001B[0m         \u001B[38;5;28mself\u001B[39m\u001B[38;5;241m.\u001B[39m__collection\u001B[38;5;241m.\u001B[39mdatabase\u001B[38;5;241m.\u001B[39mname,\n\u001B[1;32m   (...)\u001B[0m\n\u001B[0;32m   1179\u001B[0m         \u001B[38;5;28mself\u001B[39m\u001B[38;5;241m.\u001B[39m__exhaust,\n\u001B[0;32m   1180\u001B[0m     )\n\u001B[1;32m-> 1181\u001B[0m     \u001B[38;5;28mself\u001B[39m\u001B[38;5;241m.\u001B[39m__send_message(q)\n\u001B[0;32m   1182\u001B[0m \u001B[38;5;28;01melif\u001B[39;00m \u001B[38;5;28mself\u001B[39m\u001B[38;5;241m.\u001B[39m__id:  \u001B[38;5;66;03m# Get More\u001B[39;00m\n\u001B[0;32m   1183\u001B[0m     \u001B[38;5;28;01mif\u001B[39;00m \u001B[38;5;28mself\u001B[39m\u001B[38;5;241m.\u001B[39m__limit:\n",
      "File \u001B[1;32m~\\anaconda3\\Lib\\site-packages\\pymongo\\cursor.py:1060\u001B[0m, in \u001B[0;36mCursor.__send_message\u001B[1;34m(self, operation)\u001B[0m\n\u001B[0;32m   1057\u001B[0m     \u001B[38;5;28;01mraise\u001B[39;00m InvalidOperation(\u001B[38;5;124m\"\u001B[39m\u001B[38;5;124mexhaust cursors do not support auto encryption\u001B[39m\u001B[38;5;124m\"\u001B[39m)\n\u001B[0;32m   1059\u001B[0m \u001B[38;5;28;01mtry\u001B[39;00m:\n\u001B[1;32m-> 1060\u001B[0m     response \u001B[38;5;241m=\u001B[39m client\u001B[38;5;241m.\u001B[39m_run_operation(\n\u001B[0;32m   1061\u001B[0m         operation, \u001B[38;5;28mself\u001B[39m\u001B[38;5;241m.\u001B[39m_unpack_response, address\u001B[38;5;241m=\u001B[39m\u001B[38;5;28mself\u001B[39m\u001B[38;5;241m.\u001B[39m__address\n\u001B[0;32m   1062\u001B[0m     )\n\u001B[0;32m   1063\u001B[0m \u001B[38;5;28;01mexcept\u001B[39;00m OperationFailure \u001B[38;5;28;01mas\u001B[39;00m exc:\n\u001B[0;32m   1064\u001B[0m     \u001B[38;5;28;01mif\u001B[39;00m exc\u001B[38;5;241m.\u001B[39mcode \u001B[38;5;129;01min\u001B[39;00m _CURSOR_CLOSED_ERRORS \u001B[38;5;129;01mor\u001B[39;00m \u001B[38;5;28mself\u001B[39m\u001B[38;5;241m.\u001B[39m__exhaust:\n\u001B[0;32m   1065\u001B[0m         \u001B[38;5;66;03m# Don't send killCursors because the cursor is already closed.\u001B[39;00m\n",
      "File \u001B[1;32m~\\anaconda3\\Lib\\site-packages\\pymongo\\_csot.py:107\u001B[0m, in \u001B[0;36mapply.<locals>.csot_wrapper\u001B[1;34m(self, *args, **kwargs)\u001B[0m\n\u001B[0;32m    105\u001B[0m         \u001B[38;5;28;01mwith\u001B[39;00m _TimeoutContext(timeout):\n\u001B[0;32m    106\u001B[0m             \u001B[38;5;28;01mreturn\u001B[39;00m func(\u001B[38;5;28mself\u001B[39m, \u001B[38;5;241m*\u001B[39margs, \u001B[38;5;241m*\u001B[39m\u001B[38;5;241m*\u001B[39mkwargs)\n\u001B[1;32m--> 107\u001B[0m \u001B[38;5;28;01mreturn\u001B[39;00m func(\u001B[38;5;28mself\u001B[39m, \u001B[38;5;241m*\u001B[39margs, \u001B[38;5;241m*\u001B[39m\u001B[38;5;241m*\u001B[39mkwargs)\n",
      "File \u001B[1;32m~\\anaconda3\\Lib\\site-packages\\pymongo\\mongo_client.py:1394\u001B[0m, in \u001B[0;36mMongoClient._run_operation\u001B[1;34m(self, operation, unpack_res, address)\u001B[0m\n\u001B[0;32m   1389\u001B[0m     operation\u001B[38;5;241m.\u001B[39mreset()  \u001B[38;5;66;03m# Reset op in case of retry.\u001B[39;00m\n\u001B[0;32m   1390\u001B[0m     \u001B[38;5;28;01mreturn\u001B[39;00m server\u001B[38;5;241m.\u001B[39mrun_operation(\n\u001B[0;32m   1391\u001B[0m         conn, operation, read_preference, \u001B[38;5;28mself\u001B[39m\u001B[38;5;241m.\u001B[39m_event_listeners, unpack_res\n\u001B[0;32m   1392\u001B[0m     )\n\u001B[1;32m-> 1394\u001B[0m \u001B[38;5;28;01mreturn\u001B[39;00m \u001B[38;5;28mself\u001B[39m\u001B[38;5;241m.\u001B[39m_retryable_read(\n\u001B[0;32m   1395\u001B[0m     _cmd,\n\u001B[0;32m   1396\u001B[0m     operation\u001B[38;5;241m.\u001B[39mread_preference,\n\u001B[0;32m   1397\u001B[0m     operation\u001B[38;5;241m.\u001B[39msession,\n\u001B[0;32m   1398\u001B[0m     address\u001B[38;5;241m=\u001B[39maddress,\n\u001B[0;32m   1399\u001B[0m     retryable\u001B[38;5;241m=\u001B[39m\u001B[38;5;28misinstance\u001B[39m(operation, message\u001B[38;5;241m.\u001B[39m_Query),\n\u001B[0;32m   1400\u001B[0m )\n",
      "File \u001B[1;32m~\\anaconda3\\Lib\\site-packages\\pymongo\\mongo_client.py:1492\u001B[0m, in \u001B[0;36mMongoClient._retryable_read\u001B[1;34m(self, func, read_pref, session, address, retryable)\u001B[0m\n\u001B[0;32m   1487\u001B[0m \u001B[38;5;66;03m# Ensure that the client supports retrying on reads and there is no session in\u001B[39;00m\n\u001B[0;32m   1488\u001B[0m \u001B[38;5;66;03m# transaction, otherwise, we will not support retry behavior for this call.\u001B[39;00m\n\u001B[0;32m   1489\u001B[0m retryable \u001B[38;5;241m=\u001B[39m \u001B[38;5;28mbool\u001B[39m(\n\u001B[0;32m   1490\u001B[0m     retryable \u001B[38;5;129;01mand\u001B[39;00m \u001B[38;5;28mself\u001B[39m\u001B[38;5;241m.\u001B[39moptions\u001B[38;5;241m.\u001B[39mretry_reads \u001B[38;5;129;01mand\u001B[39;00m \u001B[38;5;129;01mnot\u001B[39;00m (session \u001B[38;5;129;01mand\u001B[39;00m session\u001B[38;5;241m.\u001B[39min_transaction)\n\u001B[0;32m   1491\u001B[0m )\n\u001B[1;32m-> 1492\u001B[0m \u001B[38;5;28;01mreturn\u001B[39;00m \u001B[38;5;28mself\u001B[39m\u001B[38;5;241m.\u001B[39m_retry_internal(\n\u001B[0;32m   1493\u001B[0m     func,\n\u001B[0;32m   1494\u001B[0m     session,\n\u001B[0;32m   1495\u001B[0m     \u001B[38;5;28;01mNone\u001B[39;00m,\n\u001B[0;32m   1496\u001B[0m     is_read\u001B[38;5;241m=\u001B[39m\u001B[38;5;28;01mTrue\u001B[39;00m,\n\u001B[0;32m   1497\u001B[0m     address\u001B[38;5;241m=\u001B[39maddress,\n\u001B[0;32m   1498\u001B[0m     read_pref\u001B[38;5;241m=\u001B[39mread_pref,\n\u001B[0;32m   1499\u001B[0m     retryable\u001B[38;5;241m=\u001B[39mretryable,\n\u001B[0;32m   1500\u001B[0m )\n",
      "File \u001B[1;32m~\\anaconda3\\Lib\\site-packages\\pymongo\\_csot.py:107\u001B[0m, in \u001B[0;36mapply.<locals>.csot_wrapper\u001B[1;34m(self, *args, **kwargs)\u001B[0m\n\u001B[0;32m    105\u001B[0m         \u001B[38;5;28;01mwith\u001B[39;00m _TimeoutContext(timeout):\n\u001B[0;32m    106\u001B[0m             \u001B[38;5;28;01mreturn\u001B[39;00m func(\u001B[38;5;28mself\u001B[39m, \u001B[38;5;241m*\u001B[39margs, \u001B[38;5;241m*\u001B[39m\u001B[38;5;241m*\u001B[39mkwargs)\n\u001B[1;32m--> 107\u001B[0m \u001B[38;5;28;01mreturn\u001B[39;00m func(\u001B[38;5;28mself\u001B[39m, \u001B[38;5;241m*\u001B[39margs, \u001B[38;5;241m*\u001B[39m\u001B[38;5;241m*\u001B[39mkwargs)\n",
      "File \u001B[1;32m~\\anaconda3\\Lib\\site-packages\\pymongo\\mongo_client.py:1462\u001B[0m, in \u001B[0;36mMongoClient._retry_internal\u001B[1;34m(self, func, session, bulk, is_read, address, read_pref, retryable)\u001B[0m\n\u001B[0;32m   1428\u001B[0m \u001B[38;5;129m@_csot\u001B[39m\u001B[38;5;241m.\u001B[39mapply\n\u001B[0;32m   1429\u001B[0m \u001B[38;5;28;01mdef\u001B[39;00m \u001B[38;5;21m_retry_internal\u001B[39m(\n\u001B[0;32m   1430\u001B[0m     \u001B[38;5;28mself\u001B[39m,\n\u001B[1;32m   (...)\u001B[0m\n\u001B[0;32m   1437\u001B[0m     retryable: \u001B[38;5;28mbool\u001B[39m \u001B[38;5;241m=\u001B[39m \u001B[38;5;28;01mFalse\u001B[39;00m,\n\u001B[0;32m   1438\u001B[0m ) \u001B[38;5;241m-\u001B[39m\u001B[38;5;241m>\u001B[39m T:\n\u001B[0;32m   1439\u001B[0m \u001B[38;5;250m    \u001B[39m\u001B[38;5;124;03m\"\"\"Internal retryable helper for all client transactions.\u001B[39;00m\n\u001B[0;32m   1440\u001B[0m \n\u001B[0;32m   1441\u001B[0m \u001B[38;5;124;03m    :Parameters:\u001B[39;00m\n\u001B[1;32m   (...)\u001B[0m\n\u001B[0;32m   1451\u001B[0m \u001B[38;5;124;03m      Output of the calling func()\u001B[39;00m\n\u001B[0;32m   1452\u001B[0m \u001B[38;5;124;03m    \"\"\"\u001B[39;00m\n\u001B[0;32m   1453\u001B[0m     \u001B[38;5;28;01mreturn\u001B[39;00m _ClientConnectionRetryable(\n\u001B[0;32m   1454\u001B[0m         mongo_client\u001B[38;5;241m=\u001B[39m\u001B[38;5;28mself\u001B[39m,\n\u001B[0;32m   1455\u001B[0m         func\u001B[38;5;241m=\u001B[39mfunc,\n\u001B[0;32m   1456\u001B[0m         bulk\u001B[38;5;241m=\u001B[39mbulk,\n\u001B[0;32m   1457\u001B[0m         is_read\u001B[38;5;241m=\u001B[39mis_read,\n\u001B[0;32m   1458\u001B[0m         session\u001B[38;5;241m=\u001B[39msession,\n\u001B[0;32m   1459\u001B[0m         read_pref\u001B[38;5;241m=\u001B[39mread_pref,\n\u001B[0;32m   1460\u001B[0m         address\u001B[38;5;241m=\u001B[39maddress,\n\u001B[0;32m   1461\u001B[0m         retryable\u001B[38;5;241m=\u001B[39mretryable,\n\u001B[1;32m-> 1462\u001B[0m     )\u001B[38;5;241m.\u001B[39mrun()\n",
      "File \u001B[1;32m~\\anaconda3\\Lib\\site-packages\\pymongo\\mongo_client.py:2315\u001B[0m, in \u001B[0;36m_ClientConnectionRetryable.run\u001B[1;34m(self)\u001B[0m\n\u001B[0;32m   2313\u001B[0m \u001B[38;5;28mself\u001B[39m\u001B[38;5;241m.\u001B[39m_check_last_error(check_csot\u001B[38;5;241m=\u001B[39m\u001B[38;5;28;01mTrue\u001B[39;00m)\n\u001B[0;32m   2314\u001B[0m \u001B[38;5;28;01mtry\u001B[39;00m:\n\u001B[1;32m-> 2315\u001B[0m     \u001B[38;5;28;01mreturn\u001B[39;00m \u001B[38;5;28mself\u001B[39m\u001B[38;5;241m.\u001B[39m_read() \u001B[38;5;28;01mif\u001B[39;00m \u001B[38;5;28mself\u001B[39m\u001B[38;5;241m.\u001B[39m_is_read \u001B[38;5;28;01melse\u001B[39;00m \u001B[38;5;28mself\u001B[39m\u001B[38;5;241m.\u001B[39m_write()\n\u001B[0;32m   2316\u001B[0m \u001B[38;5;28;01mexcept\u001B[39;00m ServerSelectionTimeoutError:\n\u001B[0;32m   2317\u001B[0m     \u001B[38;5;66;03m# The application may think the write was never attempted\u001B[39;00m\n\u001B[0;32m   2318\u001B[0m     \u001B[38;5;66;03m# if we raise ServerSelectionTimeoutError on the retry\u001B[39;00m\n\u001B[0;32m   2319\u001B[0m     \u001B[38;5;66;03m# attempt. Raise the original exception instead.\u001B[39;00m\n\u001B[0;32m   2320\u001B[0m     \u001B[38;5;28mself\u001B[39m\u001B[38;5;241m.\u001B[39m_check_last_error()\n",
      "File \u001B[1;32m~\\anaconda3\\Lib\\site-packages\\pymongo\\mongo_client.py:2445\u001B[0m, in \u001B[0;36m_ClientConnectionRetryable._read\u001B[1;34m(self)\u001B[0m\n\u001B[0;32m   2443\u001B[0m \u001B[38;5;28;01mif\u001B[39;00m \u001B[38;5;28mself\u001B[39m\u001B[38;5;241m.\u001B[39m_retrying \u001B[38;5;129;01mand\u001B[39;00m \u001B[38;5;129;01mnot\u001B[39;00m \u001B[38;5;28mself\u001B[39m\u001B[38;5;241m.\u001B[39m_retryable:\n\u001B[0;32m   2444\u001B[0m     \u001B[38;5;28mself\u001B[39m\u001B[38;5;241m.\u001B[39m_check_last_error()\n\u001B[1;32m-> 2445\u001B[0m \u001B[38;5;28;01mreturn\u001B[39;00m \u001B[38;5;28mself\u001B[39m\u001B[38;5;241m.\u001B[39m_func(\u001B[38;5;28mself\u001B[39m\u001B[38;5;241m.\u001B[39m_session, \u001B[38;5;28mself\u001B[39m\u001B[38;5;241m.\u001B[39m_server, conn, read_pref)\n",
      "File \u001B[1;32m~\\anaconda3\\Lib\\site-packages\\pymongo\\mongo_client.py:1390\u001B[0m, in \u001B[0;36mMongoClient._run_operation.<locals>._cmd\u001B[1;34m(_session, server, conn, read_preference)\u001B[0m\n\u001B[0;32m   1383\u001B[0m \u001B[38;5;28;01mdef\u001B[39;00m \u001B[38;5;21m_cmd\u001B[39m(\n\u001B[0;32m   1384\u001B[0m     _session: Optional[ClientSession],\n\u001B[0;32m   1385\u001B[0m     server: Server,\n\u001B[0;32m   1386\u001B[0m     conn: Connection,\n\u001B[0;32m   1387\u001B[0m     read_preference: _ServerMode,\n\u001B[0;32m   1388\u001B[0m ) \u001B[38;5;241m-\u001B[39m\u001B[38;5;241m>\u001B[39m Response:\n\u001B[0;32m   1389\u001B[0m     operation\u001B[38;5;241m.\u001B[39mreset()  \u001B[38;5;66;03m# Reset op in case of retry.\u001B[39;00m\n\u001B[1;32m-> 1390\u001B[0m     \u001B[38;5;28;01mreturn\u001B[39;00m server\u001B[38;5;241m.\u001B[39mrun_operation(\n\u001B[0;32m   1391\u001B[0m         conn, operation, read_preference, \u001B[38;5;28mself\u001B[39m\u001B[38;5;241m.\u001B[39m_event_listeners, unpack_res\n\u001B[0;32m   1392\u001B[0m     )\n",
      "File \u001B[1;32m~\\anaconda3\\Lib\\site-packages\\pymongo\\helpers.py:322\u001B[0m, in \u001B[0;36m_handle_reauth.<locals>.inner\u001B[1;34m(*args, **kwargs)\u001B[0m\n\u001B[0;32m    319\u001B[0m \u001B[38;5;28;01mfrom\u001B[39;00m \u001B[38;5;21;01mpymongo\u001B[39;00m\u001B[38;5;21;01m.\u001B[39;00m\u001B[38;5;21;01mpool\u001B[39;00m \u001B[38;5;28;01mimport\u001B[39;00m Connection\n\u001B[0;32m    321\u001B[0m \u001B[38;5;28;01mtry\u001B[39;00m:\n\u001B[1;32m--> 322\u001B[0m     \u001B[38;5;28;01mreturn\u001B[39;00m func(\u001B[38;5;241m*\u001B[39margs, \u001B[38;5;241m*\u001B[39m\u001B[38;5;241m*\u001B[39mkwargs)\n\u001B[0;32m    323\u001B[0m \u001B[38;5;28;01mexcept\u001B[39;00m OperationFailure \u001B[38;5;28;01mas\u001B[39;00m exc:\n\u001B[0;32m    324\u001B[0m     \u001B[38;5;28;01mif\u001B[39;00m no_reauth:\n",
      "File \u001B[1;32m~\\anaconda3\\Lib\\site-packages\\pymongo\\server.py:167\u001B[0m, in \u001B[0;36mServer.run_operation\u001B[1;34m(self, conn, operation, read_preference, listeners, unpack_res)\u001B[0m\n\u001B[0;32m    165\u001B[0m         first \u001B[38;5;241m=\u001B[39m docs[\u001B[38;5;241m0\u001B[39m]\n\u001B[0;32m    166\u001B[0m         operation\u001B[38;5;241m.\u001B[39mclient\u001B[38;5;241m.\u001B[39m_process_response(first, operation\u001B[38;5;241m.\u001B[39msession)\n\u001B[1;32m--> 167\u001B[0m         _check_command_response(first, conn\u001B[38;5;241m.\u001B[39mmax_wire_version)\n\u001B[0;32m    168\u001B[0m \u001B[38;5;28;01mexcept\u001B[39;00m \u001B[38;5;167;01mException\u001B[39;00m \u001B[38;5;28;01mas\u001B[39;00m exc:\n\u001B[0;32m    169\u001B[0m     \u001B[38;5;28;01mif\u001B[39;00m publish:\n",
      "File \u001B[1;32m~\\anaconda3\\Lib\\site-packages\\pymongo\\helpers.py:230\u001B[0m, in \u001B[0;36m_check_command_response\u001B[1;34m(response, max_wire_version, allowable_errors, parse_write_concern_error)\u001B[0m\n\u001B[0;32m    227\u001B[0m \u001B[38;5;28;01melif\u001B[39;00m code \u001B[38;5;241m==\u001B[39m \u001B[38;5;241m43\u001B[39m:\n\u001B[0;32m    228\u001B[0m     \u001B[38;5;28;01mraise\u001B[39;00m CursorNotFound(errmsg, code, response, max_wire_version)\n\u001B[1;32m--> 230\u001B[0m \u001B[38;5;28;01mraise\u001B[39;00m OperationFailure(errmsg, code, response, max_wire_version)\n",
      "\u001B[1;31mOperationFailure\u001B[0m: text index required for $text query, full error: {'ok': 0.0, 'errmsg': 'text index required for $text query', 'code': 27, 'codeName': 'IndexNotFound'}"
     ]
    }
   ],
   "source": [
    "from pathlib import Path\n",
    "import os\n",
    "import json\n",
    "\n",
    "# Connect to MongoDB\n",
    "client = MongoClient('localhost', 27017)\n",
    "db = client['RAG']\n",
    "collection = db['PubMedEmbedded']\n",
    "# Define the path for the source directory\n",
    "source_directory = Path('C:/Users/linus/big_data/pubmed/test_chunk_embedded/')\n",
    "\n",
    "\n",
    "def search_TF_IDF(query):\n",
    "    results = collection.find({\"$text\": {\"$search\": query}}).limit(100)\n",
    "    return results\n",
    "\n",
    "pmid_liste = search_TF_IDF(\"List signaling molecules (ligands) that interact with the receptor EGFR?\")\n",
    "for i in pmid_liste:\n",
    "    print(i['PMID'])"
   ],
   "metadata": {
    "collapsed": false,
    "ExecuteTime": {
     "end_time": "2024-04-03T17:30:10.319343Z",
     "start_time": "2024-04-03T17:30:10.150282Z"
    }
   },
   "id": "73a75e119e1e6281",
   "execution_count": 33
  },
  {
   "cell_type": "code",
   "outputs": [],
   "source": [
    "from Embedding import TextEmbedder\n",
    "embedder = TextEmbedder()"
   ],
   "metadata": {
    "collapsed": false,
    "ExecuteTime": {
     "end_time": "2024-04-03T08:50:27.026777Z",
     "start_time": "2024-04-03T08:50:16.979785Z"
    }
   },
   "id": "e8f66c0a228dc184",
   "execution_count": 2
  },
  {
   "cell_type": "code",
   "outputs": [
    {
     "name": "stdout",
     "output_type": "stream",
     "text": [
      "1: PMID = 219769, Distanz = 4.967927935519385\n",
      "2: PMID = 1813, Distanz = 4.968760284334843\n",
      "3: PMID = 233131, Distanz = 4.979666667735479\n",
      "4: PMID = 200939, Distanz = 4.981703585378111\n",
      "5: PMID = 168935, Distanz = 4.984101335649784\n",
      "6: PMID = 268625, Distanz = 4.987606585279695\n",
      "7: PMID = 189643, Distanz = 5.0054406655705765\n",
      "8: PMID = 200712, Distanz = 5.01118222034559\n",
      "9: PMID = 95806, Distanz = 5.036777312349309\n",
      "10: PMID = 175945, Distanz = 5.0384221205776685\n"
     ]
    }
   ],
   "source": [
    "from sklearn.neighbors import NearestNeighbors\n",
    "import numpy as np\n",
    "\n",
    "collection = db['PubMedEmbedded']\n",
    "\n",
    "def find_nearest_embeddings(query_embedding, embeddings, n=10):\n",
    "    # Initialisieren Sie NearestNeighbors\n",
    "    nearest_neighbors = NearestNeighbors(n_neighbors=n, algorithm='auto').fit(embeddings)\n",
    "    # Finden Sie die n nächsten Nachbarn des Suchtext-Embeddings\n",
    "    distances, indices = nearest_neighbors.kneighbors([query_embedding])\n",
    "    return indices[0], distances[0]\n",
    "\n",
    "def search_and_retrieve_embeddings(query):\n",
    "    # Textsuche durchführen und gleichzeitig die Embeddings abrufen\n",
    "    results = collection.find(\n",
    "        {\"$text\": {\"$search\": query}},\n",
    "        {'PMID': 1, 'embeddings': 1, '_id': 0}\n",
    "    ).limit(1000)\n",
    "    \n",
    "    # Extrahieren Sie PMIDs und Embeddings aus den Ergebnissen\n",
    "    pmids = []\n",
    "    embeddings = []\n",
    "    for doc in results:\n",
    "        pmids.append(doc['PMID'])\n",
    "        embeddings.append(doc['embeddings'])\n",
    "\n",
    "    # Konvertieren Sie die Embeddings-Liste in ein NumPy-Array\n",
    "    embeddings_array = np.array(embeddings)\n",
    "\n",
    "    return pmids, embeddings_array\n",
    "\n",
    "# Suchtext-Embedding generieren\n",
    "such_text = \"List signaling molecules (ligands) that interact with the receptor EGFR?\"\n",
    "pmids, embedding_matrix = search_and_retrieve_embeddings(such_text)\n",
    "suchtext_embedding = embedder.embed(such_text)\n",
    "\n",
    "# Finde die nächsten 10 Embeddings\n",
    "indices, distances = find_nearest_embeddings(suchtext_embedding, embedding_matrix)\n",
    "\n",
    "# Ergebnisse anzeigen\n",
    "for i, index in enumerate(indices):\n",
    "    print(f\"{i + 1}: PMID = {pmids[index]}, Distanz = {distances[i]}\")"
   ],
   "metadata": {
    "collapsed": false,
    "ExecuteTime": {
     "end_time": "2024-04-03T09:22:39.310073Z",
     "start_time": "2024-04-03T09:22:38.584570Z"
    }
   },
   "id": "6b443e3ee25a219c",
   "execution_count": 28
  },
  {
   "cell_type": "code",
   "outputs": [],
   "source": [
    "# save all PMIDs in list\n",
    "\n"
   ],
   "metadata": {
    "collapsed": false
   },
   "id": "24a1d5151683fddb"
  }
 ],
 "metadata": {
  "kernelspec": {
   "display_name": "Python 3",
   "language": "python",
   "name": "python3"
  },
  "language_info": {
   "codemirror_mode": {
    "name": "ipython",
    "version": 2
   },
   "file_extension": ".py",
   "mimetype": "text/x-python",
   "name": "python",
   "nbconvert_exporter": "python",
   "pygments_lexer": "ipython2",
   "version": "2.7.6"
  }
 },
 "nbformat": 4,
 "nbformat_minor": 5
}
